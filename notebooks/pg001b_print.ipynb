{
 "cells": [
  {
   "cell_type": "markdown",
   "id": "d768f51d-e3b2-48d2-a092-7605567fd7df",
   "metadata": {
    "tags": []
   },
   "source": [
    "<span style=\"color:lightgreen; font-size:30px\">**PG001 - Fundamentos de Python**</span>\n",
    "***\n",
    "<span style=\"color:gold; font-size:30px\">**¿Cómo mostrar un resultado en Python?**</span>\n",
    "***\n",
    "\n",
    "<span style=\"font-size:20px\"> **Autor: Kevin Alexander Gómez** </span>\n",
    "\n",
    "<span style=\"font-size:16px\"> **Contacto: kevinalexandr19@gmail.com | [Linkedin](https://www.linkedin.com/in/kevin-alexander-g%C3%B3mez-2b0263111/) | [Github](https://github.com/kevinalexandr19)** </span>\n",
    "***"
   ]
  },
  {
   "cell_type": "markdown",
   "id": "7bb619c1-337f-411e-9dee-db4cbbb1e7f7",
   "metadata": {
    "tags": []
   },
   "source": [
    "Bienvenido al curso PG001 - Fundamentos de Python!!!\n",
    "\n",
    "Vamos a revisar las bases de la programación en el lenguaje Python a través de <span style=\"color:gold\">ejemplos en Geología</span>.\\\n",
    "Es necesario que tengas un conocimiento previo en geología general, matemática y estadística.\n",
    "\n",
    "<span style=\"color:lightgreen\"> Este notebook es parte del proyecto [**Python para Geólogos**](https://github.com/kevinalexandr19/manual-python-geologia), y ha sido creado con la finalidad de facilitar el aprendizaje en Python para estudiantes y profesionales en el campo de la Geología. </span>\n",
    "\n",
    "En el siguiente índice, encontrarás los temas que componen este notebook:"
   ]
  },
  {
   "cell_type": "markdown",
   "id": "a4bb99d0-7948-405e-8649-692012191280",
   "metadata": {
    "tags": []
   },
   "source": [
    "<span style=\"font-size:20px\"> **Índice** </span>\n",
    "***\n",
    "- [La función print](#parte-1)\n",
    "- [¿Qué es un f-string?](#parte-2)\n",
    "- [La función input](#parte-3)\n",
    "- [En conclusión...](#parte-4)\n",
    "\n",
    "***"
   ]
  },
  {
   "cell_type": "markdown",
   "id": "8254769f-146c-4da7-b9f5-54dcd0842a36",
   "metadata": {},
   "source": [
    "Antes de empezar tu camino en programación geológica...\\\n",
    "Recuerda que puedes ejecutar un bloque de código usando `Shift` + `Enter`:"
   ]
  },
  {
   "cell_type": "code",
   "execution_count": null,
   "id": "2471912d-637e-4b4b-8966-76ae823dd027",
   "metadata": {},
   "outputs": [],
   "source": [
    "2 + 2"
   ]
  },
  {
   "cell_type": "markdown",
   "id": "2f2c6096-727a-4238-b68c-e6e3377f1ecf",
   "metadata": {},
   "source": [
    "Si por error haces doble clic sobre un bloque de texto (como el que estás leyendo ahora mismo), puedes arreglarlo usando también `Shift` + `Enter`.\n",
    "***"
   ]
  },
  {
   "cell_type": "markdown",
   "id": "fb7ffcfd-6a90-402f-a983-074253760377",
   "metadata": {},
   "source": [
    "<a id=\"parte-1\"></a>"
   ]
  },
  {
   "cell_type": "markdown",
   "id": "9c22cd61-277f-467c-9c2e-5a778736168a",
   "metadata": {
    "tags": []
   },
   "source": [
    "### <span style=\"color:lightgreen\">**La función `print`**</span>\n",
    "***\n",
    "\n",
    "Si bien al ejecutar un bloque de código solemos obtener un resultado, a veces es necesario mostrar más de uno.\\\n",
    "Para solucionar esto tenemos la función `print`, que nos ayuda a mostrar un resultado dentro de Python.\n",
    "\n",
    "***\n",
    "**Ejemplo: Producción en mina** \\\n",
    "Una mina de cobre produjo durante 4 semanas las siguientes toneladas de concentrado: 910, 825, 1070, 940.\\\n",
    "Podemos calcular el total producido en un mes sumando las 4 cantidades y asignar el resultado a la variable `total`:"
   ]
  },
  {
   "cell_type": "code",
   "execution_count": null,
   "id": "20374988-5786-472b-b35c-16ec44889b54",
   "metadata": {},
   "outputs": [],
   "source": [
    "total = 910 + 825 + 1070 + 940\n",
    "print(total)"
   ]
  },
  {
   "cell_type": "markdown",
   "id": "d23f352a-0f64-4f79-b105-95b70205c0be",
   "metadata": {},
   "source": [
    "También podemos calcular el promedio de concentrado producido por la mina cada semana y asignarlo a una variable llamada `promedio`:"
   ]
  },
  {
   "cell_type": "code",
   "execution_count": null,
   "id": "d937fe5c-b3f6-4239-be78-81096e3d355a",
   "metadata": {},
   "outputs": [],
   "source": [
    "promedio = total / 4\n",
    "print(promedio)"
   ]
  },
  {
   "cell_type": "markdown",
   "id": "af87a783-c19f-44b6-a039-3176c9c12f6c",
   "metadata": {},
   "source": [
    "Para calcular la ganancia producida por la mina, debemos tener en cuenta que el precio de concentrado por tonelada es de 5 dólares y el costo de operación en ese mes fue de 10 000 dólares. También usaremos la siguiente fórmula: \n",
    "\n",
    "<center> $\\Large ganancia = total_{concentrado} \\times precio_{concentrado} - costo_{operacion}$ </center>\n",
    "\n",
    "\\\n",
    "Asignaremos el precio de concentrado a la variable `precio_concentrado` y el costo de operación a la variable `costo_operacion`:"
   ]
  },
  {
   "cell_type": "code",
   "execution_count": null,
   "id": "110592a0-3d9b-4465-840e-69a1b85a60b6",
   "metadata": {},
   "outputs": [],
   "source": [
    "precio_concentrado = 5\n",
    "costo_operacion = 10000"
   ]
  },
  {
   "cell_type": "code",
   "execution_count": null,
   "id": "36e1b5b1-60d2-408d-b465-02e0049a5979",
   "metadata": {},
   "outputs": [],
   "source": [
    "ganancia = total * precio_concentrado - costo_operacion\n",
    "print(ganancia)"
   ]
  },
  {
   "cell_type": "markdown",
   "id": "bc974f18-7311-4b12-be6b-29dc4cc4ec90",
   "metadata": {},
   "source": [
    "También podemos calcular la varianza de la producción usando la siguiente fórmula:\n",
    "\n",
    "<center> $\\Large s^{2} = \\frac{\\sum (x - \\bar{x})^{2}}{n - 1}$ </center>\n",
    "\n",
    "Donde:\n",
    "\n",
    "> $s^{2}$ : varianza\\\n",
    "> $\\bar{x}$ : promedio\\\n",
    "> $x$ : dato\\\n",
    "> $n$ : número de datos\n",
    "\n",
    "Empezaremos asignado a `n` la cantidad de semanas para una producción de 910, 825, 1070 y 940 toneladas:"
   ]
  },
  {
   "cell_type": "code",
   "execution_count": null,
   "id": "3b438af3-79b9-44e3-b17c-224ada2455ca",
   "metadata": {},
   "outputs": [],
   "source": [
    "n = 4"
   ]
  },
  {
   "cell_type": "markdown",
   "id": "7e8bce78-993f-496a-93eb-a13ddcf7f47e",
   "metadata": {},
   "source": [
    "También calcularemos la diferencia entre la producción obtenida cada semana y el promedio semanal, y lo elevaremos al cuadrado:"
   ]
  },
  {
   "cell_type": "code",
   "execution_count": null,
   "id": "c98193e6-1b8d-4843-89eb-0a235f3178ab",
   "metadata": {},
   "outputs": [],
   "source": [
    "x1 = (910 - promedio) ** 2\n",
    "x2 = (825 - promedio) ** 2\n",
    "x3 = (1070 - promedio) ** 2\n",
    "x4 = (940 - promedio) ** 2"
   ]
  },
  {
   "cell_type": "markdown",
   "id": "3f8c97a7-eede-406b-92a7-8745368a2126",
   "metadata": {},
   "source": [
    "Ahora sumaremos todas estas cantidades:"
   ]
  },
  {
   "cell_type": "code",
   "execution_count": null,
   "id": "7648b630-1911-402d-b147-09b5bb74df1b",
   "metadata": {},
   "outputs": [],
   "source": [
    "sumatoria = x1 + x2 + x3 + x4"
   ]
  },
  {
   "cell_type": "markdown",
   "id": "d39f0824-ac95-44a5-aee5-4e9480cac9ba",
   "metadata": {},
   "source": [
    "Y finalmente, calcularemos la varianza:"
   ]
  },
  {
   "cell_type": "code",
   "execution_count": null,
   "id": "5aadb99b-b15b-4b41-8cc9-af072c79fade",
   "metadata": {},
   "outputs": [],
   "source": [
    "varianza = sumatoria / (n - 1)\n",
    "print(varianza)"
   ]
  },
  {
   "cell_type": "markdown",
   "id": "d632e694-898a-4e9a-843c-5ea010190fbe",
   "metadata": {},
   "source": [
    "Si queremos calcular la desviación estándar (raíz cuadrada de la varianza), podemos asignarla a una variable llamada `sigma`:"
   ]
  },
  {
   "cell_type": "code",
   "execution_count": null,
   "id": "5309a600-7fbf-4f9d-993a-4531f654cf93",
   "metadata": {},
   "outputs": [],
   "source": [
    "sigma = varianza ** 0.5\n",
    "print(sigma)"
   ]
  },
  {
   "cell_type": "markdown",
   "id": "0ed3b1d6-2173-448d-88c1-e3d6a10d1107",
   "metadata": {},
   "source": [
    "***\n",
    "**Pregunta: Si tengo dos variables `a` y `b` que valen 3 y 5, ¿cómo podemos intercambiar el valor de ambas variables usando una sola línea de código?** \\\n",
    "Respuesta: usando una expresión de tipo `a, b = b, a`:"
   ]
  },
  {
   "cell_type": "code",
   "execution_count": null,
   "id": "2b7507c2-06f9-479c-967a-bb51013eeabb",
   "metadata": {},
   "outputs": [],
   "source": [
    "a, b = 3, 5\n",
    "print(a)\n",
    "print(b)"
   ]
  },
  {
   "cell_type": "code",
   "execution_count": null,
   "id": "004eedce-95ca-43f7-892f-42a741fe1c38",
   "metadata": {},
   "outputs": [],
   "source": [
    "a, b = b, a\n",
    "print(a)\n",
    "print(b)"
   ]
  },
  {
   "cell_type": "markdown",
   "id": "3cc7622b-2f4f-496a-a33a-5b6e2ed48e40",
   "metadata": {},
   "source": [
    "***\n",
    "\n",
    "<span style=\"color:#43c6ac\">Podemos concatenar strings para crear una frase y usar `print` para observar el resultado.</span>\n",
    "\n",
    "**Ejemplo: Muestreo de rocas** \\\n",
    "Durante una campaña de exploración, se tomaron 25, 35, 21 y 57 muestras en las 4 áreas de interés.\\\n",
    "Calcularemos el total de muestras recogidas y usaremos un string para representar este resultado.\\\n",
    "Para generar el string, concatenaremos una frase y el número total de muestras transformado a string:"
   ]
  },
  {
   "cell_type": "code",
   "execution_count": null,
   "id": "ac752813-6b42-4a9c-8602-32005bf38d09",
   "metadata": {},
   "outputs": [],
   "source": [
    "frase = \"Número total de muestras recogidas: \" + str(25 + 35 + 21 + 57)\n",
    "print(frase)"
   ]
  },
  {
   "cell_type": "markdown",
   "id": "1635dddd-bd3b-4b19-a1f8-6d82067e3e6b",
   "metadata": {},
   "source": [
    "***\n",
    "**Pregunta: ¿Será necesario concatenar strings cada vez que querramos mostrar un resultado en forma de texto?** \\\n",
    "La respuesta es No, Python permite el uso de f-strings que facilitan la escritura de este tipo de resultados.\n",
    "\n",
    "<span style=\"color:#43c6ac\">Podemos usar f-strings para mostrar resultados de forma dinámica.</span>\n",
    "\n",
    "***"
   ]
  },
  {
   "cell_type": "markdown",
   "id": "d6ffb972-9a0e-45e5-9c0c-94a78f9fd905",
   "metadata": {},
   "source": [
    "<a id=\"parte-2\"></a>"
   ]
  },
  {
   "cell_type": "markdown",
   "id": "be927b93-b090-4d28-8daf-5caadca69d57",
   "metadata": {},
   "source": [
    "### <span style=\"color:lightgreen\">**¿Qué es un f-string?**</span>\n",
    "***\n",
    "\n",
    "Los <span style=\"color:gold\">f-strings</span> son una forma avanzada de formatear cadenas de texto en Python.\\\n",
    "Nos permiten insertar variables y expresiones directamente en una cadena de texto utilizando llaves y el prefijo `f`.\n",
    "\n",
    "La sintaxis básica de un f-string es la siguiente:\n",
    "\n",
    "```python\n",
    "f\"texto {variable} más texto\"\n",
    "```\n",
    "\n",
    "<span style=\"color:#43c6ac\">De esta forma, nos dejamos de preocupar por concatenar strings a través de sumas y transformaciones con la función `str`.\\\n",
    "La ventaja principal, es que generamos un código más legible y de manera eficiente.</span>"
   ]
  },
  {
   "cell_type": "markdown",
   "id": "f30213ef-f358-42eb-952c-ab85c6ea2633",
   "metadata": {},
   "source": [
    "***\n",
    "**Ejemplo: Cálculo del RQD** \\\n",
    "Vamos a calcular el RQD en un tramo de testigos y mostraremos el resultado a través un f-string (en porcentaje y 2 decimales de precisión).\\\n",
    "La longitud de cada fragmento de testigo (en cm) es: $8, 12, 15, 9, 25, 19, 11, 4$.\\\n",
    "Empezaremos dividiendo la suma de las longitudes de los fragmentos mayores a 10 cm entre la longitud total."
   ]
  },
  {
   "cell_type": "code",
   "execution_count": null,
   "id": "ab2ba356-ecae-43fa-a2c1-cb2f8fe512df",
   "metadata": {},
   "outputs": [],
   "source": [
    "rqd = (12 + 15 + 25 + 19 + 11) / (8 + 12 + 15 + 9 + 25 + 19 + 11 + 4)\n",
    "print(f\"RQD: {rqd}\")"
   ]
  },
  {
   "cell_type": "markdown",
   "id": "9fe87cdc-d32b-4950-b6ac-6725a8e592b4",
   "metadata": {},
   "source": [
    "Para modificar el formato de este resultado, usaremos la siguiente expresión:\\\n",
    "`f\"texto: {variable:.2%}\"`\\\n",
    "Este f-string transformará el valor numérico en un valor de porcentaje con 2 decimales de precisión."
   ]
  },
  {
   "cell_type": "code",
   "execution_count": null,
   "id": "b5bdec11-3738-48a2-9b5f-dadd303b17f4",
   "metadata": {},
   "outputs": [],
   "source": [
    "print(f\"RQD: {rqd:.2%}\")"
   ]
  },
  {
   "cell_type": "markdown",
   "id": "d45945fd-b626-4055-b7e7-3d517d57d4c8",
   "metadata": {},
   "source": [
    "***\n",
    "**Pregunta: ¿Se puede redondear un número sin hacer uso de f-strings?** \\\n",
    "Respuesta: Sí, para esto usamos la función `round`:"
   ]
  },
  {
   "cell_type": "code",
   "execution_count": null,
   "id": "99fa45fa-9438-4039-b0bf-1ed12c6e11bd",
   "metadata": {},
   "outputs": [],
   "source": [
    "round(3.14)"
   ]
  },
  {
   "cell_type": "markdown",
   "id": "d0cd9dc9-afb2-4529-90f2-ebafb210e599",
   "metadata": {
    "tags": []
   },
   "source": [
    "Podemos indicar el número de decimales de precisión después del valor que vamos a redondear:"
   ]
  },
  {
   "cell_type": "code",
   "execution_count": null,
   "id": "a42f213d-dbec-49ce-ac18-cc608cd7a79f",
   "metadata": {},
   "outputs": [],
   "source": [
    "round(1.11111, 3)"
   ]
  },
  {
   "cell_type": "markdown",
   "id": "0d36a3f9-7faf-4cf1-8dd7-954d4f0d5ed2",
   "metadata": {},
   "source": [
    "***\n",
    "**Ejemplo: Uso de f-strings en frases** \\\n",
    "Podemos convertir frases a f-string, y tomar como variables el nombre de una roca y su textura.\\\n",
    "Las variables que usaremos serán `nombre`, `textura` y crearemos un f-string llamado `frase`:"
   ]
  },
  {
   "cell_type": "code",
   "execution_count": null,
   "id": "f48ce597-bfda-43d2-9d3a-60c2fd91ac38",
   "metadata": {},
   "outputs": [],
   "source": [
    "nombre = \"granito\"\n",
    "textura = \"faneritica\"\n",
    "frase = f\"El {nombre} es una roca de textura {textura} compuesta principalmente por cuarzo y feldespatos.\"\n",
    "\n",
    "print(frase)"
   ]
  },
  {
   "cell_type": "markdown",
   "id": "ba681e96-dad0-40ff-9b88-e9ce65059d2c",
   "metadata": {},
   "source": [
    "***\n",
    "**Ejemplo: f-string de coordenadas** \\\n",
    "Podemos crear una frase con información sobre una ubicación geográfica:"
   ]
  },
  {
   "cell_type": "code",
   "execution_count": null,
   "id": "385038e7-aa75-48b9-b942-252cd560d60c",
   "metadata": {},
   "outputs": [],
   "source": [
    "latitud = -33.4489\n",
    "longitud = -70.6693\n",
    "print(f\"La ubicación es ({latitud}, {longitud}).\")"
   ]
  },
  {
   "cell_type": "markdown",
   "id": "2e484bd2-87a0-4d55-b7eb-0299fc97779f",
   "metadata": {},
   "source": [
    "***\n",
    "**Ejemplo: Tonelaje de una veta** \\\n",
    "Podemos crear una frase mostrando el tonelaje de una veta, tomando como variables de entrada el volumen y su densidad:"
   ]
  },
  {
   "cell_type": "code",
   "execution_count": null,
   "id": "62917a83-7fba-4192-b61d-bde83a2c760b",
   "metadata": {},
   "outputs": [],
   "source": [
    "volumen = 1000 # m3\n",
    "densidad = 2.8 # t/m3\n",
    "\n",
    "print(f\"El tonelaje de la veta es de {volumen * densidad:.0f} toneladas.\")"
   ]
  },
  {
   "cell_type": "markdown",
   "id": "8fd07f39-b29c-442b-ae2e-1a3e9a103e19",
   "metadata": {},
   "source": [
    "***"
   ]
  },
  {
   "cell_type": "markdown",
   "id": "fdba8c1d-b25e-4888-9081-41ffcba31e61",
   "metadata": {},
   "source": [
    "<a id=\"parte-3\"></a>"
   ]
  },
  {
   "cell_type": "markdown",
   "id": "98836868-47e7-469e-b555-a6031e4fccae",
   "metadata": {
    "tags": []
   },
   "source": [
    "### <span style=\"color:lightgreen\">**La función `input`**</span>\n",
    "***\n",
    "\n",
    "Antes de terminar este capítulo, vamos a revisar un breve ejemplo de la función `input`.\\\n",
    "Esta función permite al usuario ingresar datos desde el teclado.\\\n",
    "<span style=\"color:#43c6ac\">La función devuelve los datos ingresados como una cadena de texto en string.</span>\n",
    "\n",
    "La sintaxis básica de la función input es la siguiente:\n",
    "\n",
    "```python\n",
    "variable = input(\"Mensaje al usuario: \")\n",
    "```\n",
    "\n",
    "<span style=\"color:#43c6ac\">Es importante tener en cuenta que los datos ingresados por el usuario deben ser validados y convertidos al tipo de dato correcto antes de ser utilizados en cálculos o análisis.</span>"
   ]
  },
  {
   "cell_type": "markdown",
   "id": "52332039-77d2-411b-95a4-45f2e532da48",
   "metadata": {},
   "source": [
    "***\n",
    "**Ejemplo: Input de nombre** \\\n",
    "Podemos usar la función `input` para solicitar que el usuario ingrese su nombre y reciba un saludo:"
   ]
  },
  {
   "cell_type": "code",
   "execution_count": null,
   "id": "597d7808-f106-442c-ad47-d3ba79c4016b",
   "metadata": {},
   "outputs": [],
   "source": [
    "nombre = input(\"Por favor escribe tu nombre: \")\n",
    "print(f\"Hola {nombre}!!!\")"
   ]
  },
  {
   "cell_type": "markdown",
   "id": "2d45e82f-5055-4bea-aa63-2e7be0d828a3",
   "metadata": {},
   "source": [
    "***\n",
    "**Ejemplo: Input de nombre de roca** \\\n",
    "Podemos usar la función `input` para solicitar que el usuario ingrese el nombre de una roca.\\\n",
    "Asignaremos el resultado a la variable `roca` lo mostraremos con `print`:"
   ]
  },
  {
   "cell_type": "code",
   "execution_count": null,
   "id": "76a6c451-5b1d-4f71-b0e6-4adb600f309f",
   "metadata": {},
   "outputs": [],
   "source": [
    "roca = input(\"Ingrese el nombre de una roca: \")\n",
    "print(roca)"
   ]
  },
  {
   "cell_type": "markdown",
   "id": "127d75a4-6e75-4ed4-919c-356b4d969c2c",
   "metadata": {},
   "source": [
    "***\n",
    "**Ejemplo: Profundidad de un pozo** \\\n",
    "Podemos solicitar al usuario que ingrese un número entero que represente la profundidad de un pozo:"
   ]
  },
  {
   "cell_type": "code",
   "execution_count": null,
   "id": "b324ed7c-df32-4bc7-ac91-8a14f97bc3b8",
   "metadata": {},
   "outputs": [],
   "source": [
    "profundidad = int(input(\"Ingrese la profundidad del pozo en metros: \"))\n",
    "print(f\"La profundidad es de {profundidad} metros.\")"
   ]
  },
  {
   "cell_type": "markdown",
   "id": "182f2eea-d6ee-4e6b-a53c-226efa607a72",
   "metadata": {},
   "source": [
    "***"
   ]
  },
  {
   "cell_type": "markdown",
   "id": "5f619b65-fc10-4f10-8fa7-f972a5ecb1ba",
   "metadata": {},
   "source": [
    "<a id=\"parte-4\"></a>"
   ]
  },
  {
   "cell_type": "markdown",
   "id": "5eec1f18-b5b6-491d-9425-3b850ebd01f4",
   "metadata": {
    "tags": []
   },
   "source": [
    "### <span style=\"color:lightgreen\">**En conclusión...**</span>\n",
    "***\n",
    "\n",
    "*La forma más efectiva de mostrar un resultado en Python es a través de la función print.*\n",
    "\n",
    "*Si a esto le sumamos a esto el uso de los f-strings, tendremos una herramienta poderosa para generar resultados en forma de texto legible, además de generar un código que sea más fácil de entender.*\n",
    "\n",
    "<span style=\"color:#43c6ac\">*En el análisis de datos, es común mostrar resultados por cada paso que damos (puntos de control).\\\n",
    "    Por tanto, el uso de print y los f-strings tendrán una gran utilidad para las diferentes actividades digitales que realicemos como geólogos.* </span>\n",
    "\n",
    "***"
   ]
  }
 ],
 "metadata": {
  "kernelspec": {
   "display_name": "Python 3 (ipykernel)",
   "language": "python",
   "name": "python3"
  },
  "language_info": {
   "codemirror_mode": {
    "name": "ipython",
    "version": 3
   },
   "file_extension": ".py",
   "mimetype": "text/x-python",
   "name": "python",
   "nbconvert_exporter": "python",
   "pygments_lexer": "ipython3",
   "version": "3.11.5"
  }
 },
 "nbformat": 4,
 "nbformat_minor": 5
}
