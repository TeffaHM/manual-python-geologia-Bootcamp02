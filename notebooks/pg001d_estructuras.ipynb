{
 "cells": [
  {
   "cell_type": "markdown",
   "id": "d768f51d-e3b2-48d2-a092-7605567fd7df",
   "metadata": {
    "tags": []
   },
   "source": [
    "<span style=\"color:lightgreen; font-size:30px\">**PG001 - Fundamentos de Python**</span>\n",
    "***\n",
    "<span style=\"color:gold; font-size:30px\">**Estructuras de datos**</span>\n",
    "***\n",
    "\n",
    "<span style=\"font-size:20px\"> **Autor: Kevin Alexander Gómez** </span>\n",
    "\n",
    "<span style=\"font-size:16px\"> **Contacto: kevinalexandr19@gmail.com | [Linkedin](https://www.linkedin.com/in/kevin-alexander-g%C3%B3mez-2b0263111/) | [Github](https://github.com/kevinalexandr19)** </span>\n",
    "***"
   ]
  },
  {
   "cell_type": "markdown",
   "id": "7bb619c1-337f-411e-9dee-db4cbbb1e7f7",
   "metadata": {
    "tags": []
   },
   "source": [
    "Bienvenido al curso PG001 - Fundamentos de Python!!!\n",
    "\n",
    "Vamos a revisar las bases de la programación en el lenguaje Python a través de <span style=\"color:gold\">ejemplos en Geología</span>.\\\n",
    "Es necesario que tengas un conocimiento previo en geología general, matemática y estadística.\n",
    "\n",
    "<span style=\"color:lightgreen\"> Este notebook es parte del proyecto [**Python para Geólogos**](https://github.com/kevinalexandr19/manual-python-geologia), y ha sido creado con la finalidad de facilitar el aprendizaje en Python para estudiantes y profesionales en el campo de la Geología. </span>\n",
    "\n",
    "En el siguiente índice, encontrarás los temas que componen este notebook:"
   ]
  },
  {
   "cell_type": "markdown",
   "id": "a4bb99d0-7948-405e-8649-692012191280",
   "metadata": {
    "tags": []
   },
   "source": [
    "<span style=\"font-size:20px\"> **Índice** </span>\n",
    "***\n",
    "- [¿Por qué debemos aprender a usar estructuras de datos?](#parte-1)\n",
    "- [Listas, tuplas y conjuntos](#parte-2)\n",
    "- [Indexing y Slicing](#parte-3)\n",
    "- [Diccionarios](#parte-4)\n",
    "- [En conclusión...](#parte-5)\n",
    "***"
   ]
  },
  {
   "cell_type": "markdown",
   "id": "5c9aa8f3-426b-4a81-8657-9b55a6d6f755",
   "metadata": {},
   "source": [
    "Antes de empezar tu camino en programación geológica...\\\n",
    "Recuerda que puedes ejecutar un bloque de código usando `Shift` + `Enter`:"
   ]
  },
  {
   "cell_type": "code",
   "execution_count": null,
   "id": "33152757-2d42-4be5-bed0-42404155d03f",
   "metadata": {},
   "outputs": [],
   "source": [
    "2 + 2"
   ]
  },
  {
   "cell_type": "markdown",
   "id": "096b6480-f4f3-4a29-b667-ee3e735877fb",
   "metadata": {},
   "source": [
    "Si por error haces doble clic sobre un bloque de texto (como el que estás leyendo ahora mismo), puedes arreglarlo usando también `Shift` + `Enter`.\n",
    "***"
   ]
  },
  {
   "cell_type": "markdown",
   "id": "fb7ffcfd-6a90-402f-a983-074253760377",
   "metadata": {},
   "source": [
    "<a id=\"parte-1\"></a>"
   ]
  },
  {
   "cell_type": "markdown",
   "id": "9c22cd61-277f-467c-9c2e-5a778736168a",
   "metadata": {
    "tags": []
   },
   "source": [
    "### <span style=\"color:lightgreen\">**¿Por qué debemos aprender a usar estructuras de datos?**</span>\n",
    "***\n",
    "\n",
    "Aprender a usar estructuras de datos en Python es importante por varias razones.\n",
    "\n",
    "Primero, las estructuras de datos son fundamentales en la programación, ya que permiten almacenar, organizar y acceder a grandes cantidades de datos de manera eficiente.\\\n",
    "Al elegir la estructura de datos correcta, podemos mejorar significativamente la eficiencia y el rendimiento de nuestro código.\n",
    "\n",
    "En segundo lugar, las estructuras de datos son importantes en Python para la geología, ya que los geólogos a menudo manejan grandes cantidades de datos geoespaciales, como datos de sensores remotos, modelos geológicos, información sobre terremotos y volcanes, etc.\n",
    "\n",
    "<span style=\"color:#43c6ac\">Si empleamos las estructuras de datos adecuadas, lograremos procesar y analizar datos de manera más eficiente, lo que puede llevar a descubrimientos y conclusiones más precisas y significativas.</span>\n",
    "\n",
    "Las principales estructuras de datos usados en Python son: <span style=\"color:gold\">listas, tuplas, diccionarios y conjuntos</span>."
   ]
  },
  {
   "cell_type": "markdown",
   "id": "d6ffb972-9a0e-45e5-9c0c-94a78f9fd905",
   "metadata": {},
   "source": [
    "<a id=\"parte-2\"></a>"
   ]
  },
  {
   "cell_type": "markdown",
   "id": "6e10ba7c-793b-4806-9d39-320301435632",
   "metadata": {
    "tags": []
   },
   "source": [
    "### <span style=\"color:lightgreen\">**Listas, tuplas y conjuntos**</span>\n",
    "***\n",
    "\n",
    "Las <span style=\"color:gold\">listas</span> son uno de los tipos de datos más útiles en Python para la manipulación de datos en Geología y en cualquier otra ciencia que involucre grandes conjuntos de datos.\n",
    "\n",
    "Una lista es una **colección ordenada de elementos**, donde cada elemento puede ser de cualquier tipo de datos, incluyendo números, cadenas de texto, listas, diccionarios, entre otros.\\\n",
    "<span style=\"color:#43c6ac\">Las listas se pueden crear utilizando corchetes `[]` y separando los elementos con comas.</span>\n",
    "\n",
    "En Geología, las listas son útiles para almacenar datos como coordenadas geográficas, mediciones de propiedades físicas y químicas de rocas y minerales, y registros de eventos geológicos.\\\n",
    "Además, las listas se pueden utilizar para realizar operaciones matemáticas y estadísticas en conjuntos de datos geológicos.\n",
    "\n",
    "Existe una gran cantidad de funciones y métodos incorporados para manipular listas, como agregar o eliminar elementos, ordenar y buscar elementos, y realizar operaciones en cada elemento de una lista"
   ]
  },
  {
   "cell_type": "markdown",
   "id": "c03a2048-321d-49db-8ca3-fdc24f7288fe",
   "metadata": {},
   "source": [
    "***\n",
    "**Ejemplo: Colección de minerales** \\\n",
    "Supongamos que tenemos una colección con los siguientes minerales: pirita, cuarzo, galena y calcopirita.\\\n",
    "Podemos representar esta lista en Python de la siguiente manera:"
   ]
  },
  {
   "cell_type": "code",
   "execution_count": null,
   "id": "e3cf7cb6-3ddf-4c05-9579-71d10c8f23fb",
   "metadata": {},
   "outputs": [],
   "source": [
    "minerales = [\"pirita\", \"cuarzo\", \"galena\", \"calcopirita\"]\n",
    "print(minerales)"
   ]
  },
  {
   "cell_type": "markdown",
   "id": "5728c692-d2fe-4e34-b91d-b313141db562",
   "metadata": {},
   "source": [
    "Si a la colección le agregamos el mineral esfalerita, podemos usar el método `append` para añadir dicho elemento a la lista:"
   ]
  },
  {
   "cell_type": "code",
   "execution_count": null,
   "id": "5d897557-3425-46e0-8732-2f31933c37d5",
   "metadata": {},
   "outputs": [],
   "source": [
    "minerales.append(\"esfalerita\")\n",
    "print(minerales)"
   ]
  },
  {
   "cell_type": "markdown",
   "id": "7e0c0542-81ce-4061-a4f7-82046fcc7159",
   "metadata": {},
   "source": [
    "> Si volvemos a ejecutar otra vez el bloque anterior, la lista tendrá dos veces el elemento \"esfalerita\"."
   ]
  },
  {
   "cell_type": "code",
   "execution_count": null,
   "id": "91c044da-20de-436b-9656-cc6402ef97e4",
   "metadata": {},
   "outputs": [],
   "source": [
    "minerales.append(\"esfalerita\")\n",
    "print(minerales)"
   ]
  },
  {
   "cell_type": "markdown",
   "id": "eef7d59f-9c4c-4e81-8a29-b1fee7021418",
   "metadata": {},
   "source": [
    "Para eliminar un elemento de la lista, podemos usar el método `remove`:\n",
    "> Este método remueve el primer elemento dentro de la lista que contenga el término señalado."
   ]
  },
  {
   "cell_type": "code",
   "execution_count": null,
   "id": "796ef114-a73e-4d42-8436-2a4d7b3ee9e5",
   "metadata": {},
   "outputs": [],
   "source": [
    "minerales.remove(\"esfalerita\")\n",
    "print(minerales)"
   ]
  },
  {
   "cell_type": "markdown",
   "id": "bdaf5b10-ec94-413e-9917-6c1f6858d279",
   "metadata": {},
   "source": [
    "Si queremos agregar dos minerales nuevos a la colección: acantita y muscovita, podemos usar el método `extend`:"
   ]
  },
  {
   "cell_type": "code",
   "execution_count": null,
   "id": "ec4d1ff3-9adc-4c00-b942-4f00d164f5b5",
   "metadata": {},
   "outputs": [],
   "source": [
    "minerales.extend([\"acantita\", \"muscovita\"])\n",
    "print(minerales)"
   ]
  },
  {
   "cell_type": "markdown",
   "id": "233d03c4-e205-4b90-9767-659d43de4260",
   "metadata": {},
   "source": [
    "Por último, si quiero saber cuantos minerales tiene la colección en total, usamos la función `len`:\n",
    "> La función `len` se utiliza para calcular el total de elementos en cualquier tipo de estructura."
   ]
  },
  {
   "cell_type": "code",
   "execution_count": null,
   "id": "6c3720fe-0273-416b-8edf-64ea18af640e",
   "metadata": {},
   "outputs": [],
   "source": [
    "len(minerales)"
   ]
  },
  {
   "cell_type": "markdown",
   "id": "0109ecee-c3c2-4739-983d-41331f0edf2b",
   "metadata": {},
   "source": [
    "***\n",
    "**Pregunta: ¿Podemos evaluar si un elemento pertenece a una lista?** \\\n",
    "Respuesta: Sí, evaluaremos si un mineral se encuentra dentro de una lista de minerales usando la palabra reservada `in`:"
   ]
  },
  {
   "cell_type": "code",
   "execution_count": null,
   "id": "917e007d-aea4-469d-adf3-0a89662a8d4b",
   "metadata": {},
   "outputs": [],
   "source": [
    "minerales = [\"pirita\", \"cuarzo\", \"galena\"]\n",
    "\n",
    "\"cuarzo\" in minerales"
   ]
  },
  {
   "cell_type": "markdown",
   "id": "6ea1946e-f51f-4bb7-bc10-42f1a3aa0ccd",
   "metadata": {},
   "source": [
    "De igual forma, podemos evaluar si un caracter específico pertenece a un string:"
   ]
  },
  {
   "cell_type": "code",
   "execution_count": null,
   "id": "80ff0609-b31a-4154-9895-555842e3e92a",
   "metadata": {},
   "outputs": [],
   "source": [
    "\"presente\" in \"El presente es la clave del pasado\""
   ]
  },
  {
   "cell_type": "markdown",
   "id": "704d0e33-ac28-4ed7-b1d4-15e9f7876470",
   "metadata": {},
   "source": [
    "También podemos evaluar la cantidad de caracteres que contiene un string:"
   ]
  },
  {
   "cell_type": "code",
   "execution_count": null,
   "id": "9767d9f0-908a-4777-9d10-ad0a1dfe566f",
   "metadata": {},
   "outputs": [],
   "source": [
    "len(\"El presente es la clave del pasado\")"
   ]
  },
  {
   "cell_type": "markdown",
   "id": "5e9af3f9-deb9-46a8-9d19-7ae4dce9899c",
   "metadata": {},
   "source": [
    "***\n",
    "**Ejemplo: Datos geoquímicos** \\\n",
    "Tenemos la siguiente lista con concentraciones de Au en ppm:"
   ]
  },
  {
   "cell_type": "code",
   "execution_count": null,
   "id": "04789a19-804e-45eb-9423-03d68920451d",
   "metadata": {},
   "outputs": [],
   "source": [
    "au_ppm = [10.1, 2.0, 0.4, 11.7, 6.3, 1.3, 0.1, 2.6, 8.1, 7.0]"
   ]
  },
  {
   "cell_type": "markdown",
   "id": "8b7206bd-dd03-4d4b-b8e3-fbe76a3e9149",
   "metadata": {},
   "source": [
    "Vamos a calcular el promedio de las concentraciones dividiendo la suma de los elementos entre la cantidad total.\n",
    "\n",
    "Para calcular la suma de todos los elementos, usaremos la función `sum`:"
   ]
  },
  {
   "cell_type": "code",
   "execution_count": null,
   "id": "cac20f8b-dc4b-4df9-babc-369377eb7560",
   "metadata": {},
   "outputs": [],
   "source": [
    "suma = sum(au_ppm)\n",
    "print(suma)"
   ]
  },
  {
   "cell_type": "markdown",
   "id": "36bc6980-311f-465a-bad8-108f53b84d40",
   "metadata": {},
   "source": [
    "Ahora lo dividiremos entre el total de elementos (calculado con la función `len`) para obtener el promedio:"
   ]
  },
  {
   "cell_type": "code",
   "execution_count": null,
   "id": "3974e3f2-68e4-487c-b463-b3195cac2440",
   "metadata": {},
   "outputs": [],
   "source": [
    "promedio = suma / len(au_ppm)\n",
    "print(f\"El promedio de concentración de Au es {promedio} ppm\")"
   ]
  },
  {
   "cell_type": "markdown",
   "id": "69058eeb-0c77-412d-8053-232c6c545db3",
   "metadata": {},
   "source": [
    "También podemos mostrar el valor mínimo y máximo de concentración de Au en la lista usando las funciones `min` y `max` respectivamente:"
   ]
  },
  {
   "cell_type": "code",
   "execution_count": null,
   "id": "6870b548-5471-4fdb-ba5a-8c1ec16eb4ba",
   "metadata": {},
   "outputs": [],
   "source": [
    "print(f\"El valor mínimo de concentración de Au en la lista es de {min(au_ppm)} ppm\")\n",
    "print(f\"El valor máximo de concentración de Au en la lista es de {max(au_ppm)} ppm\")"
   ]
  },
  {
   "cell_type": "markdown",
   "id": "1f28afde-eec8-4ea8-b518-405a41186fc5",
   "metadata": {},
   "source": [
    "También podemos ordenar los elementos en la lista de menor a mayor y viceversa, usando la función `sorted`:"
   ]
  },
  {
   "cell_type": "code",
   "execution_count": null,
   "id": "092c7c1d-a3d4-47f1-9815-025363da26ce",
   "metadata": {},
   "outputs": [],
   "source": [
    "sorted(au_ppm)"
   ]
  },
  {
   "cell_type": "markdown",
   "id": "07a49842-fffc-4e29-bb0b-e57f175d5da3",
   "metadata": {},
   "source": [
    "Para ordenarlos al revés (de mayor a menor), agregaremos el parámetro `reverse=True`:"
   ]
  },
  {
   "cell_type": "code",
   "execution_count": null,
   "id": "8fc5672f-be2b-4c3c-a54a-3f047472a93b",
   "metadata": {},
   "outputs": [],
   "source": [
    "sorted(au_ppm, reverse=True)"
   ]
  },
  {
   "cell_type": "markdown",
   "id": "5db9980f-4787-4490-a482-05abc0566349",
   "metadata": {},
   "source": [
    "***\n",
    "**Pregunta: ¿Una lista puede tener elementos repetidos?** \\\n",
    "Respuesta: Sí, y podemos usar el método `count` para contar el número de elementos repetidos:"
   ]
  },
  {
   "cell_type": "code",
   "execution_count": null,
   "id": "ede02936-3a42-4eed-86a0-6e4b41520328",
   "metadata": {},
   "outputs": [],
   "source": [
    "rocas = [\"diorita\", \"granito\", \"diorita\", \"granodiorita\", \"diorita\", \"granito\", \"basalto\"]\n",
    "\n",
    "rocas.count(\"diorita\")"
   ]
  },
  {
   "cell_type": "markdown",
   "id": "9a068265-2042-4bef-a58b-82f4237606fb",
   "metadata": {},
   "source": [
    "***\n",
    "\n",
    "Las <span style=\"color:gold\">tuplas</span> se utilizan para almacenar colecciones ordenadas e inmutables de elementos.\n",
    "\n",
    "En Geología, las tuplas pueden ser útiles para almacenar datos geográficos que no cambian, como coordenadas geográficas, fechas y nombres de regiones geológicas.\n",
    "\n",
    "<span style=\"color:#43c6ac\">Las tuplas se pueden crear utilizando paréntesis `()` y separando los elementos con comas.</span>\n",
    "\n",
    "Al ser inmutables, las tuplas no se pueden modificar una vez son creadas.\\\n",
    "Esto los hace seguros para su uso en aplicaciones donde la integridad de los datos es importante.\n",
    "\n",
    "> Nota: Podemos usar algunas funciones como `len`, `sum`, `min`, `max`, etc. en las tuplas."
   ]
  },
  {
   "cell_type": "markdown",
   "id": "13fc7f36-32ee-42c3-9d62-eafd2ca4eaf3",
   "metadata": {},
   "source": [
    "***\n",
    "**Ejemplo: Coordenadas geográficas** \\\n",
    "Las tuplas se pueden utilizar para almacenar las coordenadas geográficas de un lugar específico.\\\n",
    "Por ejemplo, una tupla de dos elementos se puede usar para almacenar la latitud y longitud de un lugar en grados decimales:"
   ]
  },
  {
   "cell_type": "code",
   "execution_count": null,
   "id": "e91eb86e-0579-42be-b60c-d13b2eea2d3f",
   "metadata": {},
   "outputs": [],
   "source": [
    "coordenadas = (32.715, -117.161)\n",
    "print(coordenadas)"
   ]
  },
  {
   "cell_type": "markdown",
   "id": "81d4f0ab-4011-46ef-bdad-e8487a14e3ad",
   "metadata": {},
   "source": [
    "***\n",
    "**Ejemplo: Fechas geológicas** \\\n",
    "Las tuplas también se pueden utilizar para almacenar fechas geológicas.\\\n",
    "Por ejemplo, una tupla de tres elementos se puede usar para almacenar la edad, el período y la época de un evento geológico:"
   ]
  },
  {
   "cell_type": "code",
   "execution_count": null,
   "id": "33fb389b-ec7a-4c96-b657-9350497a6020",
   "metadata": {},
   "outputs": [],
   "source": [
    "fecha_geologica = (145, \"Jurásico\", \"Oxfordiense\")\n",
    "print(fecha_geologica)"
   ]
  },
  {
   "cell_type": "markdown",
   "id": "d6a447b0-cf8c-49ec-a280-3f77e158be08",
   "metadata": {},
   "source": [
    "***\n",
    "Los <span style=\"color:gold\">conjuntos</span> son estructuras de datos utilizadas para almacenar colecciones de elementos únicos e inmutables.\n",
    "\n",
    "Por ejemplo, podemos crear un conjunto a partir de una lista con minerales repetidos:"
   ]
  },
  {
   "cell_type": "code",
   "execution_count": null,
   "id": "f359e19e-3aa9-4946-a6dd-ef47258ab28b",
   "metadata": {},
   "outputs": [],
   "source": [
    "minerales = set([\"pirita\", \"cuarzo\", \"galena\", \"cuarzo\", \"calcopirita\", \"cuarzo\", \"pirita\"])"
   ]
  },
  {
   "cell_type": "markdown",
   "id": "a28f38c9-afc5-4d6a-ae34-0642d9527638",
   "metadata": {},
   "source": [
    "Notaremos que el conjunto solamente almacenó los elementos únicos:"
   ]
  },
  {
   "cell_type": "code",
   "execution_count": null,
   "id": "0f9b52f0-8b51-4051-9332-c5d75279f018",
   "metadata": {},
   "outputs": [],
   "source": [
    "print(minerales)"
   ]
  },
  {
   "cell_type": "markdown",
   "id": "11b8491d-525d-40b2-b07d-10acd45bc547",
   "metadata": {},
   "source": [
    "***\n",
    "**Ejemplo: Ensambles minerales** \\\n",
    "Tenemos dos diferentes ensambles de alteración mineral, podemos realizar operaciones de conjuntos como la unión o intersección para averiguar que minerales hay en total o en común:"
   ]
  },
  {
   "cell_type": "code",
   "execution_count": null,
   "id": "20ace41b-97a9-4d77-8b4a-20dc823607f9",
   "metadata": {},
   "outputs": [],
   "source": [
    "ensamble_A = {\"cuarzo\", \"pirita\", \"epídota\", \"cloritas\", \"calcita\", \"sericita\"}\n",
    "ensamble_B = {\"cuarzo\", \"cloritas\", \"feldespato\", \"biotita\", \"pirita\", \"sericita\"}"
   ]
  },
  {
   "cell_type": "code",
   "execution_count": null,
   "id": "fb91f37f-9174-488c-98ac-8d268600d7b5",
   "metadata": {},
   "outputs": [],
   "source": [
    "# Minerales en total para ambos ensambles\n",
    "print(ensamble_A.union(ensamble_B))"
   ]
  },
  {
   "cell_type": "code",
   "execution_count": null,
   "id": "8f1f6da7-9a95-45b0-8489-57f951e15e81",
   "metadata": {},
   "outputs": [],
   "source": [
    "# Minerales en común en ambos ensambles\n",
    "print(ensamble_A.intersection(ensamble_B))"
   ]
  },
  {
   "cell_type": "markdown",
   "id": "219ce96b-fbc7-4623-b1a6-9ada3ab76731",
   "metadata": {},
   "source": [
    "También podemos usar los operadores `|` para la unión, `&` para la intersección, `-` para la diferencia y `^` para la diferencia simétrica:"
   ]
  },
  {
   "cell_type": "code",
   "execution_count": null,
   "id": "991d6155-847a-4298-93b6-34568d8df89a",
   "metadata": {},
   "outputs": [],
   "source": [
    "# Unión\n",
    "print(ensamble_A | ensamble_B)"
   ]
  },
  {
   "cell_type": "code",
   "execution_count": null,
   "id": "ccdb0f75-5593-450c-888b-d4f5df9f3d06",
   "metadata": {},
   "outputs": [],
   "source": [
    "# Intersección\n",
    "print(ensamble_A & ensamble_B)"
   ]
  },
  {
   "cell_type": "code",
   "execution_count": null,
   "id": "af4dbcf7-49a8-42c4-97d9-bc7997609f10",
   "metadata": {},
   "outputs": [],
   "source": [
    "# Diferencia entre A y B\n",
    "print(ensamble_A - ensamble_B)"
   ]
  },
  {
   "cell_type": "code",
   "execution_count": null,
   "id": "eb44a84b-925c-4261-823d-f82cd7e81feb",
   "metadata": {},
   "outputs": [],
   "source": [
    "# Diferencia entre B y A\n",
    "print(ensamble_B - ensamble_A)"
   ]
  },
  {
   "cell_type": "code",
   "execution_count": null,
   "id": "ce468440-3ff1-4543-9a0e-71d1f79ea15a",
   "metadata": {},
   "outputs": [],
   "source": [
    "# Diferencia simétrica\n",
    "print(ensamble_A ^ ensamble_B)"
   ]
  },
  {
   "cell_type": "markdown",
   "id": "bd6e0a18-1d6b-49aa-9444-5064df89b932",
   "metadata": {},
   "source": [
    "***"
   ]
  },
  {
   "cell_type": "markdown",
   "id": "d30ba0eb-0070-4aa7-b55a-062897bc081c",
   "metadata": {},
   "source": [
    "<a id=\"parte-3\"></a>"
   ]
  },
  {
   "cell_type": "markdown",
   "id": "8c29e23d-720f-4bcd-96ab-399773caaee9",
   "metadata": {},
   "source": [
    "### <span style=\"color:lightgreen\">**Indexing y Slicing**</span>\n",
    "***\n",
    "\n",
    "**¿Podemos seleccionar elementos específicos dentro de una lista?** \\\n",
    "La respuesta es sí, para esto usamos dos técnicas conocida en inglés como <span style=\"color:gold\">indexing</span> y <span style=\"color:gold\">slicing</span>:\n",
    "\n",
    "Estas técnicas consisten en extraer una sección de una secuencia (como una lista, una cadena o una tupla) utilizando un conjunto de índices específicos.\\\n",
    "Cuando se extrae un solo elemento estamos haciendo **indexing** y cuando son varios elementos estamos haciendo **slicing**.\\\n",
    "Los índices se utilizan para seleccionar un subconjunto de elementos de la secuencia, y se pueden utilizar para extraer una porción de la secuencia de varias formas.\n",
    "\n",
    "Para hacer \"slicing\", debemos utilizar el operador de corchetes `[]` y dos puntos `:`.\\\n",
    "El operador de corchetes se utiliza para acceder a un elemento individual de la secuencia, mientras que el uso del operador de corchetes con dos puntos indica que se está realizando un \"slicing\".\n",
    "\n",
    "```python\n",
    "secuencia[(índice inicial) : (índice final) : (número de pasos entre posición)]\n",
    "```\n",
    "\n",
    "El operador de corchetes con dos puntos, usado en slicing, puede recibir hasta tres valores: índice inicial, índice final (sin incluir este elemento) y el número de índices a saltar en cada paso.\n",
    "\n",
    "El índice inicial determina el primer elemento de la sección, mientras que el índice final señala la posición inmediatamente posterior al último elemento que se desea incluir. El tercer valor, también llamado paso, define el intervalo de selección entre los elementos, es decir, cuántos elementos se omitirán en la secuencia antes de seleccionar el siguiente.\n",
    "\n",
    "<span style=\"color:#43c6ac\">Es importante tener en cuenta que el elemento cuya posición corresponde al índice final no entrará en la secuencia resultante.</span>"
   ]
  },
  {
   "cell_type": "markdown",
   "id": "901fe51e-61fa-49f5-a58b-d078cf97ba83",
   "metadata": {},
   "source": [
    "***\n",
    "**Ejemplo: Selección de minerales** \\\n",
    "Supongamos que tenemos una colección de minerales: cuarzo, pirita, galena, esfalerita, muscovita y feldespato."
   ]
  },
  {
   "cell_type": "code",
   "execution_count": null,
   "id": "7d7724f7-176e-41a0-9a50-9d72c916021c",
   "metadata": {},
   "outputs": [],
   "source": [
    "minerales = [\"cuarzo\", \"pirita\", \"galena\", \"esfalerita\", \"muscovita\", \"feldespato\"]"
   ]
  },
  {
   "cell_type": "markdown",
   "id": "297e89f4-643f-4987-afb5-75c2f77404ec",
   "metadata": {},
   "source": [
    "Podemos seleccionar uno o varios elementos de la lista de la siguiente forma:\n",
    "> El orden numérico de los índices en una secuencia empieza desde el cero (0, 1, 2, 3, ...) y en sentido inverso, empieza desde -1."
   ]
  },
  {
   "cell_type": "code",
   "execution_count": null,
   "id": "5fc16a1a-658a-4bd0-9932-348bf35e048c",
   "metadata": {},
   "outputs": [],
   "source": [
    "# Primer elemento: cuarzo\n",
    "minerales[0]"
   ]
  },
  {
   "cell_type": "code",
   "execution_count": null,
   "id": "acc2b40b-d260-498a-98e7-abf652585077",
   "metadata": {},
   "outputs": [],
   "source": [
    "# Segundo elemento: pirita\n",
    "minerales[1]"
   ]
  },
  {
   "cell_type": "code",
   "execution_count": null,
   "id": "dd9f3df0-c5c5-4502-9341-706cb5381ac8",
   "metadata": {},
   "outputs": [],
   "source": [
    "# Último elemento: feldespato\n",
    "minerales[-1]"
   ]
  },
  {
   "cell_type": "code",
   "execution_count": null,
   "id": "9fb9a4c4-126b-4a5b-a507-3c4fe9dbc92b",
   "metadata": {},
   "outputs": [],
   "source": [
    "# Del segundo al cuarto elemento: pirita, galena y esfalerita\n",
    "minerales[1:4]"
   ]
  },
  {
   "cell_type": "code",
   "execution_count": null,
   "id": "b5f8e326-e397-479e-b24c-3e48bc6df338",
   "metadata": {},
   "outputs": [],
   "source": [
    "# Del antepenúltimo al último elemento: esfalerita, muscovita, muscovita\n",
    "minerales[-3:]"
   ]
  },
  {
   "cell_type": "code",
   "execution_count": null,
   "id": "c4eafdea-6bee-46b4-8962-c44a34af3f20",
   "metadata": {},
   "outputs": [],
   "source": [
    "# Elementos seleccionados de 2 en 2: cuarzo, galena, muscovita\n",
    "minerales[::2]"
   ]
  },
  {
   "cell_type": "markdown",
   "id": "3a6aefcb-6ba8-4f85-96ab-38e099814019",
   "metadata": {},
   "source": [
    "Podemos invertir el orden de la lista de la siguiente forma:"
   ]
  },
  {
   "cell_type": "code",
   "execution_count": null,
   "id": "4f328b95-c14e-4c8b-8dfb-46f14b2201d1",
   "metadata": {},
   "outputs": [],
   "source": [
    "# Elementos del último al primero: feldespato, muscovita, esfalerita, galena, pirita, cuarzo\n",
    "print(minerales)\n",
    "print(minerales[::-1])"
   ]
  },
  {
   "cell_type": "markdown",
   "id": "268e8e65-b574-48cd-85fd-38af2e457c03",
   "metadata": {},
   "source": [
    "Podemos hacer slicing de la nueva lista seleccionada agregando otro par de corchetes `[]` y los índices a usar:"
   ]
  },
  {
   "cell_type": "code",
   "execution_count": null,
   "id": "371fd688-0a7c-475a-9932-5329db569676",
   "metadata": {},
   "outputs": [],
   "source": [
    "# Del segundo al cuarto elemento, en sentido inverso: muscovita, esfalerita, galena, pirita\n",
    "minerales[1:4][::-1]"
   ]
  },
  {
   "cell_type": "markdown",
   "id": "c9753d81-5f32-4de5-aec9-99d0340f1799",
   "metadata": {},
   "source": [
    "***"
   ]
  },
  {
   "cell_type": "markdown",
   "id": "510be53c-af4d-48f8-99a1-ac261f44a856",
   "metadata": {},
   "source": [
    "<a id=\"parte-4\"></a>"
   ]
  },
  {
   "cell_type": "markdown",
   "id": "8591f885-c163-4e5c-848f-80d9515ba4a9",
   "metadata": {},
   "source": [
    "### <span style=\"color:lightgreen\">**Diccionarios**</span>\n",
    "***\n",
    "\n",
    "Los <span style=\"color:gold\">diccionarios</span> nos permiten almacenar y acceder a datos de una manera eficiente y flexible.\n",
    "\n",
    "\n",
    "<span style=\"color:#43c6ac\">En geología, los diccionarios pueden ser muy útiles para almacenar información sobre muestras de roca, yacimientos, fósiles, etc.</span>\n",
    "\n",
    "Un diccionario se define con llaves `{}` y pares clave-valor separados por dos puntos `:`.\\\n",
    "Cada par clave-valor representa un elemento del diccionario, donde la clave es un identificador único que se utiliza para acceder al valor correspondiente."
   ]
  },
  {
   "cell_type": "markdown",
   "id": "0212fc74-06b5-4784-b28e-f1dffde6c9d7",
   "metadata": {},
   "source": [
    "***\n",
    "**Ejemplo: Muestra de roca** \\\n",
    "El siguiente diccionario contiene información acerca de una muestra de roca:"
   ]
  },
  {
   "cell_type": "code",
   "execution_count": null,
   "id": "b7e1b08d-8ab1-491e-b851-04a9b74983c0",
   "metadata": {},
   "outputs": [],
   "source": [
    "muestra = {\"id\": 1234, \"tipo\": \"sedimentaria\", \"edad\": 300, \"localidad\": \"Cerro Negro\"}\n",
    "print(muestra)"
   ]
  },
  {
   "cell_type": "markdown",
   "id": "558318f9-2d5c-4f43-80d6-adf7b654e55d",
   "metadata": {},
   "source": [
    "El diccionario `muestra` contiene 4 llaves: `id`, `tipo`, `edad` y `localidad`, con sus respectivos valores asociados.\\\n",
    "Si queremos saber la edad de la muestra, usaremos corchetes `[]` y el nombre de la llave para extraer dicho valor:"
   ]
  },
  {
   "cell_type": "code",
   "execution_count": null,
   "id": "3f4bd2f5-05bc-4622-bbc2-8942c0fd2cf0",
   "metadata": {},
   "outputs": [],
   "source": [
    "muestra[\"edad\"]"
   ]
  },
  {
   "cell_type": "markdown",
   "id": "a9cf238e-2f30-4bc5-87cc-53b7a0927102",
   "metadata": {},
   "source": [
    "Este código mostrará la edad asociada a la clave `edad` en el diccionario `muestra`.\n",
    "\n",
    "<span style=\"color:#43c6ac\">Los diccionarios también pueden ser utilizados para almacenar información más compleja, como listas o diccionarios anidados.</span>\n",
    "\n",
    "Por ejemplo, podemos modificar el diccionario anterior para incluir una lista de minerales presentes en la muestra:"
   ]
  },
  {
   "cell_type": "code",
   "execution_count": null,
   "id": "b5109a8e-e7c4-4bc4-98ae-2d592a51d72f",
   "metadata": {},
   "outputs": [],
   "source": [
    "muestra = {\"id\": 1234, \"tipo\": \"sedimentaria\", \"edad\": 300, \"localidad\": \"Cerro Negro\", \n",
    "           \"minerales\": [\"cuarzo\", \"feldespato\", \"mica\"]}\n",
    "print(muestra)"
   ]
  },
  {
   "cell_type": "markdown",
   "id": "42737a51-acd3-4ffb-9b4d-1891ca31b8dc",
   "metadata": {},
   "source": [
    "En este caso, `minerales` es la clave y la lista de tres minerales es el valor correspondiente.\\\n",
    "Podemos acceder a los elementos de la lista utilizando la clave `minerales`, de la siguiente manera:"
   ]
  },
  {
   "cell_type": "code",
   "execution_count": null,
   "id": "a945166a-3cca-4542-97e7-bf65de80d1a7",
   "metadata": {
    "tags": []
   },
   "outputs": [],
   "source": [
    "muestra[\"minerales\"]"
   ]
  },
  {
   "cell_type": "code",
   "execution_count": null,
   "id": "bd41b96b-e8bb-4046-b0d5-44f25449ea5a",
   "metadata": {},
   "outputs": [],
   "source": [
    "# El primer mineral de la muestra\n",
    "muestra[\"minerales\"][0]"
   ]
  },
  {
   "cell_type": "markdown",
   "id": "b13453bb-6703-4c60-8cc5-6a992be68fee",
   "metadata": {},
   "source": [
    "***\n",
    "**Ejemplo: Mineralogía de una roca** \\\n",
    "Crearemos un diccionario que contenga la composición mineralógica de una muestra:"
   ]
  },
  {
   "cell_type": "code",
   "execution_count": null,
   "id": "82c6548c-94e5-4e64-8a81-28bac7078790",
   "metadata": {},
   "outputs": [],
   "source": [
    "muestra = {\"cuarzo\": 35, \"feldespato\": 20, \"plagioclasas\": 30, \"micas\": 10}\n",
    "print(muestra)"
   ]
  },
  {
   "cell_type": "markdown",
   "id": "94d94e32-f2ae-43cd-bad5-630c8573c0f1",
   "metadata": {},
   "source": [
    "Como podemos ver, cada elemento de la muestra está compuesto por una **clave** (nombre del mineral) y un **valor** (porcentaje en la muestra).\\\n",
    "Podemos seleccionar el porcentaje de un mineral de la siguiente forma:"
   ]
  },
  {
   "cell_type": "code",
   "execution_count": null,
   "id": "35b630a7-871f-447e-9f57-dd74bb47a572",
   "metadata": {},
   "outputs": [],
   "source": [
    "muestra[\"cuarzo\"]"
   ]
  },
  {
   "cell_type": "markdown",
   "id": "cb1a7d8d-2a5f-4322-bca3-e3fc66ae2dc2",
   "metadata": {},
   "source": [
    "Y también podemos modificar el valor del porcentaje:"
   ]
  },
  {
   "cell_type": "code",
   "execution_count": null,
   "id": "0b325450-cdfc-4e74-b689-c7542f24cc3b",
   "metadata": {},
   "outputs": [],
   "source": [
    "print(muestra)\n",
    "muestra[\"cuarzo\"] = 40\n",
    "print(muestra)"
   ]
  },
  {
   "cell_type": "markdown",
   "id": "ab1ba994-5279-42e5-9f4f-51ca363e4dff",
   "metadata": {},
   "source": [
    "Podemos obtener el porcentaje de un mineral incluso si no ha sido indicado previamente (por ejemplo, pirita).\\\n",
    "Para esto, usaremos el método `get` e incluiremos un valor de porcentaje por defecto:"
   ]
  },
  {
   "cell_type": "code",
   "execution_count": null,
   "id": "cb5a3ddc-8e59-4652-86c2-68400819a638",
   "metadata": {},
   "outputs": [],
   "source": [
    "muestra.get(\"pirita\", 0)"
   ]
  },
  {
   "cell_type": "markdown",
   "id": "221bfbc8-ecd2-448e-abbe-88551788d8cb",
   "metadata": {},
   "source": [
    "Ahora, crearemos un nuevo elemento en el diccionario:"
   ]
  },
  {
   "cell_type": "code",
   "execution_count": null,
   "id": "daa7122c-d114-45fe-922b-987b1dc15861",
   "metadata": {},
   "outputs": [],
   "source": [
    "print(muestra)\n",
    "muestra[\"pirita\"] = 0\n",
    "print(muestra)"
   ]
  },
  {
   "cell_type": "markdown",
   "id": "8192d201-4933-41e9-96a9-f9254a3710a7",
   "metadata": {},
   "source": [
    "Puedo extraer las claves del diccionario con el método `keys`:"
   ]
  },
  {
   "cell_type": "code",
   "execution_count": null,
   "id": "4c8d9732-6001-405f-906b-8c1ae2e6c4bc",
   "metadata": {},
   "outputs": [],
   "source": [
    "print(muestra.keys())"
   ]
  },
  {
   "cell_type": "markdown",
   "id": "36398853-8e58-4d0d-bbe5-29ff8a2e518e",
   "metadata": {},
   "source": [
    "Y los valores con `values`:"
   ]
  },
  {
   "cell_type": "code",
   "execution_count": null,
   "id": "8c1c9fb6-cebd-4967-b71c-6922fe3b8f66",
   "metadata": {},
   "outputs": [],
   "source": [
    "print(muestra.values())"
   ]
  },
  {
   "cell_type": "markdown",
   "id": "f1dbf0f3-3bfc-48f3-9e6c-29c1523e2f26",
   "metadata": {},
   "source": [
    "También podemos extraer las claves y valores agrupados en una secuencia de tuplas con `items`:"
   ]
  },
  {
   "cell_type": "code",
   "execution_count": null,
   "id": "2720be4b-f498-48fb-8acd-0e9ea08c5732",
   "metadata": {},
   "outputs": [],
   "source": [
    "print(muestra.items())"
   ]
  },
  {
   "cell_type": "markdown",
   "id": "785b9ab6-3133-4859-a2c0-d46127940718",
   "metadata": {},
   "source": [
    "Para transformar este resultado a una lista, podemos usar la función `list`:"
   ]
  },
  {
   "cell_type": "code",
   "execution_count": null,
   "id": "fc062530-78f5-46a4-b20f-07f4bc0e06ad",
   "metadata": {},
   "outputs": [],
   "source": [
    "list(muestra.keys())"
   ]
  },
  {
   "cell_type": "markdown",
   "id": "ea9459b2-112d-4640-95e2-6c1b14aaf9da",
   "metadata": {},
   "source": [
    "***\n",
    "**Ejemplo: F-strings en Muestra de roca** \\\n",
    "Crearemos un diccionario para almacenar información sobre una muestra de roca:"
   ]
  },
  {
   "cell_type": "code",
   "execution_count": null,
   "id": "7f8f76b3-02c4-4a6f-aff9-39f988604213",
   "metadata": {},
   "outputs": [],
   "source": [
    "roca = {\"nombre\": \"Granito\", \n",
    "        \"textura\": \"Fina a media\",\n",
    "        \"color\": \"Blanco, rosa, gris\", \n",
    "        \"composición\": [\"Cuarzo\", \"Feldespato\", \"Mica\"], \n",
    "        \"edad\": \"Proterozoico\", \n",
    "        \"yacimiento\": \"Sierra de Nevada\"}\n",
    "print(roca)"
   ]
  },
  {
   "cell_type": "markdown",
   "id": "406c6138-1c55-4abf-9116-94887168653e",
   "metadata": {},
   "source": [
    "Y usaremos f-strings para mostrar información de la muestra como su color y edad:"
   ]
  },
  {
   "cell_type": "code",
   "execution_count": null,
   "id": "aa9b4f9a-6d9f-421c-9c31-e2d76870094f",
   "metadata": {},
   "outputs": [],
   "source": [
    "nombre = roca[\"nombre\"]\n",
    "color = roca[\"color\"]\n",
    "edad = roca[\"edad\"]\n",
    "\n",
    "print(f\"El color de la muestra de {nombre} es {color}\")\n",
    "print(f\"La edad de la muestra de {nombre} es {edad}\")"
   ]
  },
  {
   "cell_type": "markdown",
   "id": "5a5102a5-6dcb-4a0f-acc0-d676edfa3c71",
   "metadata": {},
   "source": [
    "Para evitar errores de interpretación en Python, es preferible usar comillas diferentes a las del f-string cuando se extraiga un elemento de un diccionario:"
   ]
  },
  {
   "cell_type": "code",
   "execution_count": null,
   "id": "a369f8d0-f3fe-4f66-8341-dc79384d1e88",
   "metadata": {},
   "outputs": [],
   "source": [
    "print(f\"El color de la muestra de {roca['nombre']} es {roca['color']}\")"
   ]
  },
  {
   "cell_type": "markdown",
   "id": "1f3908b9-f560-479e-b54c-123389e6204c",
   "metadata": {},
   "source": [
    "***\n",
    "**Ejemplo: Estimación de reservas minerales** \\\n",
    "Supongamos que tenemos un diccionario con información de yacimientos minerales de cobre:"
   ]
  },
  {
   "cell_type": "code",
   "execution_count": null,
   "id": "85ffb2ca-790b-4183-a548-79eca917cc5c",
   "metadata": {},
   "outputs": [],
   "source": [
    "yacimientos = {\"yacimiento A\": {\"mineral\": \"cobre\", \"reservas\": 100000, \"ubicación\": \"Chile\"},\n",
    "               \"yacimiento B\": {\"mineral\": \"cobre y plata\", \"reservas\": 50000, \"ubicación\": \"Perú\"},\n",
    "               \"yacimiento C\": {\"mineral\": \"cobre y oro\", \"reservas\": 20000, \"ubicación\": \"Ecuador\"}}\n",
    "print(yacimientos)"
   ]
  },
  {
   "cell_type": "markdown",
   "id": "6ba60969-f622-401d-a39a-fc8e959cc726",
   "metadata": {},
   "source": [
    "En este diccionario, las claves son los nombres de los yacimientos, y los valores son diccionarios anidados que contienen información sobre el tipo de mineral encontrado, las reservas estimadas y la ubicación del yacimiento.\n",
    "\n",
    "Podemos calcular las reservas totales sumando las reservas de cada uno de los tres yacimientos:"
   ]
  },
  {
   "cell_type": "code",
   "execution_count": null,
   "id": "aaff82b5-64c5-4395-8e32-079b9406f6a0",
   "metadata": {},
   "outputs": [],
   "source": [
    "reservaA = yacimientos[\"yacimiento A\"][\"reservas\"]\n",
    "reservaB = yacimientos[\"yacimiento B\"][\"reservas\"]\n",
    "reservaC = yacimientos[\"yacimiento C\"][\"reservas\"]\n",
    "\n",
    "reservas = reservaA + reservaB + reservaC\n",
    "print(f\"Las reservas totales de los yacimientos de Cu son de {reservas:,} tn.\")"
   ]
  },
  {
   "cell_type": "markdown",
   "id": "1ab5e033-aade-484d-b8f8-263bc3cd708b",
   "metadata": {},
   "source": [
    "***"
   ]
  },
  {
   "cell_type": "markdown",
   "id": "5f619b65-fc10-4f10-8fa7-f972a5ecb1ba",
   "metadata": {},
   "source": [
    "<a id=\"parte-5\"></a>"
   ]
  },
  {
   "cell_type": "markdown",
   "id": "5eec1f18-b5b6-491d-9425-3b850ebd01f4",
   "metadata": {
    "tags": []
   },
   "source": [
    "### <span style=\"color:lightgreen\">**En conclusión...**</span>\n",
    "***\n",
    "\n",
    "*Las listas, tuplas, diccionarios y conjuntos son herramientas muy útiles para almacenar y acceder a información en Python.*\n",
    "- *Las listas son modificables, lo que significa que se pueden agregar, eliminar y actualizar elementos en la lista.*\n",
    "- *Las tuplas son similares a las listas, pero a diferencia de estas, son inmutables, lo que significa que no se pueden modificar después de su creación.*\n",
    "- *Los diccionarios son útiles para almacenar datos estructurados en pares de clave-valor.*\n",
    "- *Los conjuntos almacenan valores únicos y se pueden operar de acuerdo a la teoría de conjuntos.*\n",
    "\n",
    "<span style=\"color:#43c6ac\">*En Geología, las estructuras de datos pueden ser utilizadas para almacenar y manipular información sobre muestras de roca, yacimientos, fósiles, entre otros.*</span>\n",
    "    \n",
    "<span style=\"color:#43c6ac\">*Cada estructura de datos tiene sus propias ventajas y desventajas, y la elección dependerá del tipo de datos y el propósito de la aplicación.\\\n",
    "    La comprensión y la habilidad de trabajar con estas estructuras pueden mejorar significativamente la eficiencia y la capacidad de análisis en la investigación geológica.* </span>\n",
    "\n",
    "***"
   ]
  }
 ],
 "metadata": {
  "kernelspec": {
   "display_name": "Python 3 (ipykernel)",
   "language": "python",
   "name": "python3"
  },
  "language_info": {
   "codemirror_mode": {
    "name": "ipython",
    "version": 3
   },
   "file_extension": ".py",
   "mimetype": "text/x-python",
   "name": "python",
   "nbconvert_exporter": "python",
   "pygments_lexer": "ipython3",
   "version": "3.11.5"
  }
 },
 "nbformat": 4,
 "nbformat_minor": 5
}
