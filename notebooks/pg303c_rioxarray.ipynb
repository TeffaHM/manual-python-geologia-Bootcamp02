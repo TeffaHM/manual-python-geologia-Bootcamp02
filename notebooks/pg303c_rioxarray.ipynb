{
 "cells": [
  {
   "cell_type": "markdown",
   "id": "eea5bd17-44f9-4d26-9bf0-08827b35bbea",
   "metadata": {
    "tags": []
   },
   "source": [
    "<span style=\"color:lightgreen; font-size:30px\">**PG303 - Análisis geoespacial**</span>\n",
    "***\n",
    "<span style=\"color:gold; font-size:30px\">**Rioxarray**</span>\n",
    "***\n",
    "\n",
    "<span style=\"font-size:20px\"> **Autor: Kevin Alexander Gómez** </span>\n",
    "\n",
    "<span style=\"font-size:16px\"> **Contacto: kevinalexandr19@gmail.com | [Linkedin](https://www.linkedin.com/in/kevin-alexander-g%C3%B3mez-2b0263111/) | [Github](https://github.com/kevinalexandr19)** </span>\n",
    "\n",
    "***"
   ]
  },
  {
   "cell_type": "markdown",
   "id": "fc537806-ab7d-499c-b5ba-616e5640e65f",
   "metadata": {
    "tags": []
   },
   "source": [
    "Bienvenido al curso PG303 - Análisis geoespacial!!!\n",
    "\n",
    "Vamos a revisar aplicaciones de <span style=\"color:gold\">análisis geoespacial</span> usando código en Python.\\\n",
    "Es necesario que tengas un conocimiento previo en programación con Python, estadística y sistemas de información geográfica.\n",
    "\n",
    "<span style=\"color:lightgreen\"> Este notebook es parte del proyecto [**Python para Geólogos**](https://github.com/kevinalexandr19/manual-python-geologia), y ha sido creado con la finalidad de facilitar el aprendizaje en Python para estudiantes y profesionales en el campo de la Geología. </span>\n",
    "\n",
    "En el siguiente índice, encontrarás los temas que componen este notebook:"
   ]
  },
  {
   "cell_type": "markdown",
   "id": "4a1b5dbb-ff90-4a1a-b92a-6bd4adbc4d8b",
   "metadata": {
    "tags": []
   },
   "source": [
    "## **Índice**\n",
    "***\n",
    "- [¿Qué es Rioxarray?](#parte-1)\n",
    "- [Abriendo un raster en Python](#parte-2)\n",
    "- [Estadística descriptiva de un raster](#parte-3)\n",
    "- [Convirtiendo una imagen raster a DataFrame](#parte-4)\n",
    "\n",
    "***"
   ]
  },
  {
   "cell_type": "markdown",
   "id": "578f7af6-a8f7-4ef9-913c-7698db3e840b",
   "metadata": {},
   "source": [
    "Antes de empezar tu camino en programación geológica...\\\n",
    "Recuerda que puedes ejecutar un bloque de código usando `Shift` + `Enter`:"
   ]
  },
  {
   "cell_type": "code",
   "execution_count": null,
   "id": "e3fe06b9-f5f0-44c1-89ee-ef859c841887",
   "metadata": {},
   "outputs": [],
   "source": [
    "2 + 2"
   ]
  },
  {
   "cell_type": "markdown",
   "id": "f447cf06-93bd-4463-a12e-df782175331a",
   "metadata": {},
   "source": [
    "Si por error haces doble clic sobre un bloque de texto (como el que estás leyendo ahora mismo), puedes arreglarlo usando también `Shift` + `Enter`."
   ]
  },
  {
   "cell_type": "markdown",
   "id": "1a11fbe2-168c-4adc-a75d-80d60a24241c",
   "metadata": {},
   "source": [
    "***"
   ]
  },
  {
   "cell_type": "markdown",
   "id": "699ecf3c-8f2b-4206-a3cb-691267c1447b",
   "metadata": {},
   "source": [
    "<a id=\"parte-1\"></a>"
   ]
  },
  {
   "cell_type": "markdown",
   "id": "63d741d7-1806-496d-a4e9-6a2fbdfe5c5f",
   "metadata": {
    "tags": []
   },
   "source": [
    "### <span style=\"color:lightgreen\">**¿Qué es Rioxarray?**</span>\n",
    "***\n",
    "\n",
    "<span style=\"color:gold\">Rioxarray</span> es una librería de Python utilizada en el análisis de datos geoespaciales.\\\n",
    "Basándose en la librería <span style=\"color:gold\">xarray</span>, proporciona una estructura de datos etiquetada y multidimensional llamada `DataArray`. \n",
    "\n",
    "Rioxarray extiende las capacidades de xarray al agregar funcionalidades específicas para trabajar con datos geoespaciales, como la capacidad de leer y escribir archivos raster en diferentes formatos, realizar operaciones espaciales como recortar y re-muestrear datos, y calcular índices y estadísticas comunes utilizadas en el análisis geoespacial.\n",
    "\n",
    "<span style=\"color:#43c6ac\">Está librería ha sido diseñada para simplificar el análisis y la manipulación de datos geoespaciales multidimensionales, como imágenes satelitales, datos de sensores remotos y conjuntos de datos climáticos.</span>\n",
    "\n",
    "Algunas de las características clave de rioxarray incluyen también la compatibilidad con una amplia gama de formatos de archivo geoespaciales, la capacidad de reproyectar y transformar datos espaciales, el soporte para operaciones algebraicas y lógicas en datos georreferenciados, y la integración con otras bibliotecas de análisis de datos populares, como NumPy y Pandas."
   ]
  },
  {
   "cell_type": "markdown",
   "id": "1033d848-0b10-4aa5-8e43-5390b4a50207",
   "metadata": {},
   "source": [
    "<img src=\"resources/xarray_graph.png\" style=\"background-color:white\" width=90%>\n",
    "\n",
    "***"
   ]
  },
  {
   "cell_type": "markdown",
   "id": "13c2157d-4f7e-4130-ae12-9d5a21b6dbc5",
   "metadata": {},
   "source": [
    "<a id=\"parte-2\"></a>"
   ]
  },
  {
   "cell_type": "markdown",
   "id": "04a910f8-2e30-4028-b0f4-ee394ddbe838",
   "metadata": {},
   "source": [
    "### <span style=\"color:lightgreen\">**Abriendo un raster en Python**</span>\n",
    "***\n",
    "\n",
    "Para abrir un raster dentro de Python usando rioxarray, empezaremos importando las librerías necesarias:"
   ]
  },
  {
   "cell_type": "code",
   "execution_count": null,
   "id": "5273532d-2343-4034-b929-f39a143f512f",
   "metadata": {
    "tags": []
   },
   "outputs": [],
   "source": [
    "import rioxarray as riox"
   ]
  },
  {
   "cell_type": "markdown",
   "id": "dddd0b0d-7b3d-46df-8454-94ef972b2e0a",
   "metadata": {},
   "source": [
    "Ahora, colocaremos la ruta de nuestro raster y usaremos la función `open_rasterio` para abrirlo:\n",
    "> Usaremos el raster llamado `peru_60.tiff`, que contiene un modelo digital de elevación del Perú en baja resolución (60 arco-segundos)."
   ]
  },
  {
   "cell_type": "code",
   "execution_count": null,
   "id": "5302e9a4-c987-4ba8-81ee-89c770d8bb02",
   "metadata": {
    "tags": []
   },
   "outputs": [],
   "source": [
    "# Ruta del archivo raster\n",
    "ruta = \"files/peru_60.tiff\"\n",
    "\n",
    "# Abrir el raster utilizando rioxarray\n",
    "raster = riox.open_rasterio(ruta)\n",
    "\n",
    "# Mostrar información del raster\n",
    "print(raster)"
   ]
  },
  {
   "cell_type": "markdown",
   "id": "975308d2-44cb-4164-a940-d3c031f40a22",
   "metadata": {},
   "source": [
    "Podemos leer algunas de las características principales de este raster como:\n",
    "- La cantidad de bandas o canales: 1 para la elevación (en una imagen a color el RGB presenta de 3 a 4 bandas)\n",
    "- La extensión del raster en píxeles: 1110 de ancho x 840 de largo\n",
    "- La cantidad total de píxeles: 932400\n",
    "- Las coordenadas de los píxeles en el espacio, que se encuentran en coordenadas geográficas (WGS84)\n",
    "- Y las estadísticas de los valores de elevación, como la altura máxima (5427) y mínima (-4779) registradas con esta resolución"
   ]
  },
  {
   "cell_type": "markdown",
   "id": "70034ec7-9056-4d23-bb50-249e511effc5",
   "metadata": {},
   "source": [
    "Ahora, seleccionaremos la matriz con los valores de elevación, para esto usaremos el atributo `values` y como solo tenemos una banda, colocaremos el primer índice de posición 0 para seleccionar esta matriz:"
   ]
  },
  {
   "cell_type": "code",
   "execution_count": null,
   "id": "45f8ee92-ba21-4224-8381-3a1375832705",
   "metadata": {
    "tags": []
   },
   "outputs": [],
   "source": [
    "# Acceder a los datos del raster (banda 0)\n",
    "raster.values[0]"
   ]
  },
  {
   "cell_type": "markdown",
   "id": "1b7e3ab2-9bab-4e41-8053-ddf550d27870",
   "metadata": {},
   "source": [
    "Usando el atributo `coords`, podemos mirar el contenido de las coordenadas espaciales del raster:"
   ]
  },
  {
   "cell_type": "code",
   "execution_count": null,
   "id": "141031c4-6552-49fd-9c32-9a2c6c86f032",
   "metadata": {
    "tags": []
   },
   "outputs": [],
   "source": [
    "raster.coords"
   ]
  },
  {
   "cell_type": "markdown",
   "id": "70c41ea2-bf60-4f1e-a066-0ca57592b716",
   "metadata": {
    "tags": []
   },
   "source": [
    "Podemos obtener el sistema de coordenadas del raster usando el atributo `rio.crs`:"
   ]
  },
  {
   "cell_type": "code",
   "execution_count": null,
   "id": "235d002a-97de-4eea-942f-3b1f9d539cbe",
   "metadata": {
    "tags": []
   },
   "outputs": [],
   "source": [
    "raster.rio.crs"
   ]
  },
  {
   "cell_type": "markdown",
   "id": "0b276e92-60ad-42ce-b016-b8f69c34626c",
   "metadata": {},
   "source": [
    "Este código `EPSG:4326` representa el sistema de coordenadas geográfico WGS84, que usa unidades de grados sexagesimales.\n",
    "***"
   ]
  },
  {
   "cell_type": "markdown",
   "id": "c2e450f2-e274-4ee6-93a6-c49431b0d459",
   "metadata": {},
   "source": [
    "<a id=\"parte-3\"></a>"
   ]
  },
  {
   "cell_type": "markdown",
   "id": "04192be5-5b63-4cbd-a548-5e92585269d4",
   "metadata": {},
   "source": [
    "### <span style=\"color:lightgreen\">**Estadística descriptiva de un raster**</span>\n",
    "***\n",
    "\n",
    "Usando la matriz de valores de elevación, crearemos algunos gráficos para describir su contenido.\n",
    "\n",
    "Empezaremos mostrando nuevamente los valores de elevación y los almacenaremos en la variable `DEM`:"
   ]
  },
  {
   "cell_type": "code",
   "execution_count": null,
   "id": "8018996f-876f-444d-952d-1c6d62abcb04",
   "metadata": {
    "tags": []
   },
   "outputs": [],
   "source": [
    "DEM = raster.values[0]\n",
    "DEM"
   ]
  },
  {
   "cell_type": "markdown",
   "id": "459ecc79-1bd7-46dd-a8d9-c80e1b6ae870",
   "metadata": {},
   "source": [
    "Ahora, graficaremos un histograma del valor de elevación: "
   ]
  },
  {
   "cell_type": "code",
   "execution_count": null,
   "id": "8465383d-c0ee-4507-8748-1341d577290d",
   "metadata": {
    "tags": []
   },
   "outputs": [],
   "source": [
    "import numpy as np\n",
    "import matplotlib.pyplot as plt"
   ]
  },
  {
   "cell_type": "code",
   "execution_count": null,
   "id": "92b85e25-02af-49a0-8c4b-2b1593d5c58c",
   "metadata": {
    "tags": []
   },
   "outputs": [],
   "source": [
    "# Figura principal\n",
    "fig, ax = plt.subplots(figsize=(10, 5))\n",
    "\n",
    "# Histograma\n",
    "ax.hist(DEM.flatten(), edgecolor=\"black\", color=\"lightgreen\", bins=100, alpha=0.8)\n",
    "\n",
    "# Texto\n",
    "ax.set_title(\"Histograma de elevación\", fontsize=18)\n",
    "ax.set_xlabel(\"Elevación (m)\", fontsize=15)\n",
    "ax.set_ylabel(\"Frecuencia\", fontsize=15)\n",
    "\n",
    "# Grilla\n",
    "ax.grid(lw=1)\n",
    "ax.set_axisbelow(True)\n",
    "\n",
    "plt.show()"
   ]
  },
  {
   "cell_type": "markdown",
   "id": "a7a04063-8881-4b7a-ac7b-f519a330c4cd",
   "metadata": {},
   "source": [
    "Notamos 3 modas en el histograma:\n",
    "- La primera moda tiene un nivel de elevación cercano a los -5000 metros, que corresponde al fondo marino.\n",
    "- La segunda moda tiene un nivel de elevación cercano a los 100 metros, que corresponde a la altura cerca del nivel del mar.\n",
    "- Por último, la tercera moda tiene un nivel de elevación cercano a los 4000 metros, y puede corresponder a la cordillera de los Andes.\n",
    "\n",
    "Para verificar esto, visualizaremos el raster con la función `imshow` de Matplotlib:"
   ]
  },
  {
   "cell_type": "code",
   "execution_count": null,
   "id": "26424df4-1dae-42f1-aafc-a20a2ac9b25d",
   "metadata": {
    "tags": []
   },
   "outputs": [],
   "source": [
    "# Figura principal\n",
    "fig, ax = plt.subplots(figsize=(9, 6))\n",
    "\n",
    "# Imagen\n",
    "ax.imshow(DEM, cmap=\"terrain\")\n",
    "\n",
    "# Texto\n",
    "ax.set_title(\"Modelo digital de elevación\", fontsize=15)\n",
    "\n",
    "# Esconder los ejes\n",
    "fig.set_facecolor(\"white\")\n",
    "ax.set_xticks([])\n",
    "ax.set_xticklabels([])\n",
    "ax.set_yticks([])\n",
    "ax.set_yticklabels([])\n",
    "\n",
    "plt.show()"
   ]
  },
  {
   "cell_type": "markdown",
   "id": "baa63c30-d62e-4079-bd10-8eebf96800f8",
   "metadata": {},
   "source": [
    "La imagen revela la distribución geoespacial de elevaciones en el Perú, los valores oscuros pertenecen al fondo marino y los colores claros a las zonas de la superficie continental.\n",
    "\n",
    "- Nótese una línea curva que va desde la esquina superior izquierda hacia la esquina inferior derecha de la imagen, esta línea oscura gruesa marca la zona conocida como Fosa Perú - Chile.\n",
    "- Las zonas con una tonalidad blanquecina corresponden a la cordillera de los Andes, mientras que las regiones con una tonalidad más grisácea hacia el Este de la cordillera corresponde a la selva del Amazonas.\n",
    "- Algunos valores de elevación cercanos al nivel del mar pero negativos corresponden a lo que se conoce como la plataforma continental, ubicado frente a la costa.\n"
   ]
  },
  {
   "cell_type": "markdown",
   "id": "12b38bf8-ed2a-4dc1-b2ce-8a30b6c7303e",
   "metadata": {},
   "source": [
    "En este ejemplo, no es posible distinguir la línea de costa en el modelo de elevación, por lo tanto, usaremos un filtro que seleccione las áreas con una elevación positiva:"
   ]
  },
  {
   "cell_type": "code",
   "execution_count": null,
   "id": "9450505c-91a1-4c94-8d66-38d0688e6d05",
   "metadata": {
    "tags": []
   },
   "outputs": [],
   "source": [
    "# Figura principal\n",
    "fig, ax = plt.subplots(figsize=(12, 8))\n",
    "\n",
    "# Imagen filtro\n",
    "ax.imshow(np.where(DEM > 0, DEM, np.nan), cmap=\"terrain\")\n",
    "\n",
    "# Texto\n",
    "ax.set_title(\"Modelo digital de elevación\", fontsize=18)\n",
    "\n",
    "# Esconder los ejes\n",
    "fig.set_facecolor(\"white\")\n",
    "ax.set_xticks([])\n",
    "ax.set_xticklabels([])\n",
    "ax.set_yticks([])\n",
    "ax.set_yticklabels([])\n",
    "\n",
    "plt.show()"
   ]
  },
  {
   "cell_type": "markdown",
   "id": "1db6e23c-bccf-4d80-8807-d5b8c29c1ad7",
   "metadata": {},
   "source": [
    "***"
   ]
  },
  {
   "cell_type": "markdown",
   "id": "5aa94219-6572-4bda-9da7-63fe07b38b1d",
   "metadata": {},
   "source": [
    "<a id=\"parte-4\"></a>"
   ]
  },
  {
   "cell_type": "markdown",
   "id": "f8792ab5-13b4-46e4-8463-e54dcec1c80b",
   "metadata": {},
   "source": [
    "### <span style=\"color:lightgreen\">**Convirtiendo una imagen raster a DataFrame**</span>\n",
    "***\n",
    "\n",
    "¿Es posible transformar una imagen raster en filas y columnas dentro de un DataFrame de Pandas?, la respuesta es Sí.\n",
    "\n",
    "Para lograr esto, empezaremos realizando lo siguiente:\n",
    "- Usaremos los métodos `squeeze` y `drop` para eliminar algunos detalles que no serán necesarios incluir en el DataFrame.\n",
    "- Almacenaremos el resultado en la variable `data_array`.\n",
    "- También debemos colocarle un nombre a nuestro DataArray, por ejemplo, usaremos la letra `Z`."
   ]
  },
  {
   "cell_type": "code",
   "execution_count": null,
   "id": "cc45453a-7232-44ea-bff2-bf36d0d1d0a3",
   "metadata": {},
   "outputs": [],
   "source": [
    "data_array = raster.squeeze().drop([\"band\", \"spatial_ref\"])\n",
    "data_array.name = \"Z\"\n",
    "data_array"
   ]
  },
  {
   "cell_type": "markdown",
   "id": "dc00c1be-99e4-4b44-852e-6b2e17397333",
   "metadata": {},
   "source": [
    "Y ahora, convertimos el DataArray en un DataFrame usando el método `to_dataframe`, y resetearemos el índice con `reset_index`, almacenando el resultado en la variable `df`:"
   ]
  },
  {
   "cell_type": "code",
   "execution_count": null,
   "id": "bbd3f2e7-0f98-4e7e-9858-89561bd98381",
   "metadata": {},
   "outputs": [],
   "source": [
    "df = data_array.to_dataframe().reset_index()\n",
    "df.head()"
   ]
  },
  {
   "cell_type": "markdown",
   "id": "0d152dcf-ebe1-4205-853b-d138cabe33b9",
   "metadata": {},
   "source": [
    "Notamos que el DataFrame tiene 3 columnas:\n",
    "- `x` e `y`: corresponden a la longitud y latitud en grados sexagesimales.\n",
    "- `Z`: es la elevación del raster, en metros.\n",
    "\n",
    "Renombraremos las columnas usando el método `rename`:"
   ]
  },
  {
   "cell_type": "code",
   "execution_count": null,
   "id": "7da67f58-36ec-4a1d-b79c-eb0b078a811b",
   "metadata": {
    "tags": []
   },
   "outputs": [],
   "source": [
    "df.rename(columns={\"x\": \"LON\", \"y\": \"LAT\", \"Z\": \"ELEV\"}, inplace=True)\n",
    "df.head()"
   ]
  },
  {
   "cell_type": "markdown",
   "id": "4550d367-8662-46ee-b8d3-9206c9a49d44",
   "metadata": {},
   "source": [
    "Ahora, ya tenemos un DataFrame con la información de la imagen raster, listo para ser utilizado en diferentes actividades.\n",
    "\n",
    "Algunas de las principales ventajas de usar una imagen raster convertida en DataFrame son:\n",
    "- Facilita la manipulación y procesamiento de datos geoespaciales, como la selección e indexación\n",
    "- Permite tratar los valores erróneos o faltantes en el raster\n",
    "- Permite integrar el raster a un flujo de trabajo más grande y complejo, relacionado al análisis geoespacial\n",
    "\n",
    "Sin embargo, es importante tener en cuenta que al pasar una imagen raster a un DataFrame de Pandas, la estructura de datos resultante puede requerir más memoria y potencialmente afectar el rendimiento, especialmente si la imagen es muy grande.\n",
    "\n",
    "Además, algunas operaciones que son eficientes en formato raster, como el cálculo de estadísticas zonales, pueden volverse más complejas y menos eficientes en un DataFrame de Pandas.\n",
    "\n",
    "***"
   ]
  }
 ],
 "metadata": {
  "kernelspec": {
   "display_name": "Python 3 (ipykernel)",
   "language": "python",
   "name": "python3"
  },
  "language_info": {
   "codemirror_mode": {
    "name": "ipython",
    "version": 3
   },
   "file_extension": ".py",
   "mimetype": "text/x-python",
   "name": "python",
   "nbconvert_exporter": "python",
   "pygments_lexer": "ipython3",
   "version": "3.11.5"
  }
 },
 "nbformat": 4,
 "nbformat_minor": 5
}
