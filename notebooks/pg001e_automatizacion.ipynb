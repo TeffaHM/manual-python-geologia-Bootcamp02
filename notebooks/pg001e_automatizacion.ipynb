{
 "cells": [
  {
   "cell_type": "markdown",
   "id": "d768f51d-e3b2-48d2-a092-7605567fd7df",
   "metadata": {
    "tags": []
   },
   "source": [
    "<span style=\"color:lightgreen; font-size:30px\">**PG001 - Fundamentos de Python**</span>\n",
    "***\n",
    "<span style=\"color:gold; font-size:30px\">**Automatización de tareas en Geología**</span>\n",
    "***\n",
    "\n",
    "<span style=\"font-size:20px\"> **Autor: Kevin Alexander Gómez** </span>\n",
    "\n",
    "<span style=\"font-size:16px\"> **Contacto: kevinalexandr19@gmail.com | [Linkedin](https://www.linkedin.com/in/kevin-alexander-g%C3%B3mez-2b0263111/) | [Github](https://github.com/kevinalexandr19)** </span>\n",
    "***"
   ]
  },
  {
   "cell_type": "markdown",
   "id": "7bb619c1-337f-411e-9dee-db4cbbb1e7f7",
   "metadata": {
    "tags": []
   },
   "source": [
    "Bienvenido al curso PG001 - Fundamentos de Python!!!\n",
    "\n",
    "Vamos a revisar las bases de la programación en el lenguaje Python a través de <span style=\"color:gold\">ejemplos en Geología</span>.\\\n",
    "Es necesario que tengas un conocimiento previo en geología general, matemática y estadística.\n",
    "\n",
    "<span style=\"color:lightgreen\"> Este notebook es parte del proyecto [**Python para Geólogos**](https://github.com/kevinalexandr19/manual-python-geologia), y ha sido creado con la finalidad de facilitar el aprendizaje en Python para estudiantes y profesionales en el campo de la Geología. </span>\n",
    "\n",
    "En el siguiente índice, encontrarás los temas que componen este notebook:"
   ]
  },
  {
   "cell_type": "markdown",
   "id": "a4bb99d0-7948-405e-8649-692012191280",
   "metadata": {
    "tags": []
   },
   "source": [
    "<span style=\"font-size:20px\"> **Índice** </span>\n",
    "***\n",
    "- [¿Qué es la automatización?](#parte-1)\n",
    "- [Bucles](#parte-2)\n",
    "- [Comprensión de listas, tuplas y diccionarios](#parte-3)\n",
    "- [Funciones](#parte-4)\n",
    "- [En conclusión...](#parte-5)\n",
    "***"
   ]
  },
  {
   "cell_type": "markdown",
   "id": "5c9aa8f3-426b-4a81-8657-9b55a6d6f755",
   "metadata": {},
   "source": [
    "Antes de empezar tu camino en programación geológica...\\\n",
    "Recuerda que puedes ejecutar un bloque de código usando `Shift` + `Enter`:"
   ]
  },
  {
   "cell_type": "code",
   "execution_count": null,
   "id": "33152757-2d42-4be5-bed0-42404155d03f",
   "metadata": {},
   "outputs": [],
   "source": [
    "2 + 2"
   ]
  },
  {
   "cell_type": "markdown",
   "id": "096b6480-f4f3-4a29-b667-ee3e735877fb",
   "metadata": {},
   "source": [
    "Si por error haces doble clic sobre un bloque de texto (como el que estás leyendo ahora mismo), puedes arreglarlo usando también `Shift` + `Enter`.\n",
    "***"
   ]
  },
  {
   "cell_type": "markdown",
   "id": "fb7ffcfd-6a90-402f-a983-074253760377",
   "metadata": {},
   "source": [
    "<a id=\"parte-1\"></a>"
   ]
  },
  {
   "cell_type": "markdown",
   "id": "9c22cd61-277f-467c-9c2e-5a778736168a",
   "metadata": {
    "tags": []
   },
   "source": [
    "### <span style=\"color:lightgreen\">**¿Qué es la automatización?**</span>\n",
    "***\n",
    "\n",
    "La <span style=\"color:gold\">automatización</span> es una técnica que consiste en escribir programas que simplifiquen y aceleren el desarrollo de tareas automáticamente en lugar de realizarlas manualmente.\n",
    "\n",
    "<span style=\"color:#43c6ac\">En el contexto de la geología, la automatización puede ser utilizada para una variedad de tareas, como la recopilación y el análisis de datos, la visualización de resultados y la generación de informes.</span>\n",
    "\n",
    "Entre algunas de las principales tareas de automatización, tenemos:\n",
    "\n",
    "1. **Recopilación de datos:** \\\n",
    "Podemos recopilar y procesar datos automáticamente de diferentes fuentes, como archivos de texto, bases de datos y sitios web.\\\n",
    "Por ejemplo, se pueden escribir scripts de Python para extraer datos de una base de datos de yacimientos minerales o para descargar y procesar datos de un archivo de registro sísmico.\n",
    "\n",
    "2. **Análisis de datos:** \\\n",
    "Existe una variedad de bibliotecas y herramientas para el análisis de datos, como Pandas, Numpy y Scikit-learn.\\\n",
    "Estas bibliotecas se pueden utilizar para analizar grandes conjuntos de datos de manera eficiente y automatizada.\\\n",
    "Por ejemplo, se pueden utilizar scripts de Python para analizar los datos de un conjunto de muestras de roca y extraer información estadística sobre sus propiedades.\n",
    "\n",
    "3. **Visualización de resultados:** \\\n",
    "Existen también bibliotecas poderosas para la visualización de datos, como Matplotlib y Seaborn.\\\n",
    "Estas bibliotecas permiten crear gráficos y visualizaciones interactivas de manera fácil y rápida.\\\n",
    "Los scripts de Python se pueden utilizar para generar visualizaciones automáticas de datos, como mapas geológicos, perfiles de perforación y modelos de terreno.\n",
    "\n",
    "4. **Generación de informes:** \\\n",
    "También podemos usar Python para generar informes automáticamente.\\\n",
    "Los scripts de Python se pueden utilizar para procesar los resultados del análisis de datos y la visualización de resultados, y generar automáticamente informes en diferentes formatos, como PDF, HTML y Excel.\\\n",
    "Por ejemplo, se pueden generar informes de análisis de laboratorio de forma automática a partir de los resultados de un conjunto de muestras de roca.\n",
    "\n",
    "En resumen, la automatización en Python es una herramienta valiosa para el campo de la Geología, ya que puede ayudar a los geólogos a trabajar de manera más eficiente y precisa.\\\n",
    "<span style=\"color:#43c6ac\">La automatización permite procesar grandes cantidades de datos en menos tiempo y con mayor precisión, lo que puede llevar a resultados más completos y mejores.</span>"
   ]
  },
  {
   "cell_type": "markdown",
   "id": "d6ffb972-9a0e-45e5-9c0c-94a78f9fd905",
   "metadata": {},
   "source": [
    "<a id=\"parte-2\"></a>"
   ]
  },
  {
   "cell_type": "markdown",
   "id": "6e10ba7c-793b-4806-9d39-320301435632",
   "metadata": {
    "tags": []
   },
   "source": [
    "### <span style=\"color:lightgreen\">**Bucles**</span>\n",
    "***\n",
    "\n",
    "Un <span style=\"color:gold\">bucle</span> es una estructura de control de flujo que se utiliza para ejecutar un bloque de código varias veces, según una condición o hasta que se cumpla una condición determinada, sin tener que escribir dicho código varias veces.\n",
    "\n",
    "<span style=\"color:#43c6ac\">En el contexto de la geología, los bucles se pueden utilizar para una variedad de tareas, como procesar datos, realizar cálculos y generar visualizaciones.</span>\n",
    "\n",
    "Entre las tareas más frecuentes realizadas con bucles, tenemos:\n",
    "\n",
    "1. **Procesamiento de datos:** \\\n",
    "Los bucles se pueden utilizar para procesar grandes conjuntos de datos de forma eficiente.\\\n",
    "Por ejemplo, se pueden leer archivos de registro sísmico o bases de datos de yacimientos minerales utilizando un bucle y procesar cada registro en el archivo o en la base de datos.\n",
    "\n",
    "2. **Cálculos:** \\\n",
    "Los bucles también se pueden utilizar para realizar cálculos complejos de forma automática.\\\n",
    "Por ejemplo, se pueden utilizar bucles para calcular la densidad de una serie de muestras de roca y almacenar los resultados en una lista.\n",
    "\n",
    "3. **Generación de visualizaciones:** \\\n",
    "También podemos utilizar bucles para generar visualizaciones de datos.\\\n",
    "Por ejemplo, se pueden utilizar bucles para generar una serie de gráficos que muestran la variación de una propiedad geológica a lo largo de un perfil de perforación."
   ]
  },
  {
   "cell_type": "markdown",
   "id": "86695e92-54fd-42b2-86f8-98d076176fdd",
   "metadata": {},
   "source": [
    "En Python existen dos tipos principales de bucles: los <span style=\"color:gold\">bucles definidos</span> y los <span style=\"color:gold\">bucles indefinidos</span>.\n",
    "\n",
    "<span style=\"color:#43c6ac\">Los bucles definidos son aquellos en los que se sabe de antemano cuántas veces se debe iterar.</span>\\\n",
    "Estos bucles se utilizan para iterar sobre una secuencia de elementos, como una lista, tupla o rango de valores.\\\n",
    "Este tipo de bucles empieza con la palabra reservada `for`, se debe proporcionar una secuencia y un bloque de código que se ejecutará para cada elemento de la secuencia.\\\n",
    "Un bucle definido tiene la siguiente estructura:\n",
    "\n",
    "```python\n",
    "for variable in secuencia:\n",
    "    # Bloque de código a ejecutar\n",
    "```\n",
    "\n",
    "<span style=\"color:#43c6ac\">Es importante indentar el código perteneciente a un bucle, usando cuatro espacios o la tecla `Tab`.</span>"
   ]
  },
  {
   "cell_type": "markdown",
   "id": "3f2d66b5-30cd-4add-9ef4-6e72ece2d340",
   "metadata": {},
   "source": [
    "***\n",
    "**Ejemplo: Muestras de suelo con bucle definido** \\\n",
    "Supongamos que tenemos una lista de muestras de suelo con diferentes profundidades y queremos mostrar la profundidad de cada muestra en metros:\n"
   ]
  },
  {
   "cell_type": "code",
   "execution_count": null,
   "id": "1d1f7c49-82f4-4dde-9a75-25ce9f8f25a4",
   "metadata": {},
   "outputs": [],
   "source": [
    "muestras = [(\"A\", 0.5), (\"B\", 1.2), (\"C\", 2.7), (\"D\", 3.5)]"
   ]
  },
  {
   "cell_type": "markdown",
   "id": "f454e9cc-82d9-4f9f-ba46-bc717e9b0bea",
   "metadata": {},
   "source": [
    "Podemos utilizar un bucle definido para iterar sobre la lista y extraer la profundidad de cada muestra:"
   ]
  },
  {
   "cell_type": "code",
   "execution_count": null,
   "id": "6d154456-d16d-43e0-9487-e8aadd3a68c8",
   "metadata": {},
   "outputs": [],
   "source": [
    "for muestra in muestras:\n",
    "    profundidad = muestra[1]  # Extraer la profundidad de la muestra\n",
    "    print(f\"La muestra {muestra[0]} está a una profundidad de {profundidad} metros.\") # Mostrar el resultado"
   ]
  },
  {
   "cell_type": "markdown",
   "id": "d09ea9c7-8829-4020-80b7-3d85dd05a303",
   "metadata": {},
   "source": [
    "En este ejemplo, utilizamos una lista de tuplas para almacenar el nombre de cada muestra y su profundidad.\\\n",
    "En el bucle definido, iteramos sobre cada tupla de la lista y extraemos la profundidad de la muestra utilizando el índice `[1]` que extrae el elemento ubicado en la segunda posición.\\\n",
    "Luego, utilizamos un f-string para mostrar el nombre de la muestra y su profundidad en metros."
   ]
  },
  {
   "cell_type": "markdown",
   "id": "caa28c47-b0fd-46bf-b3c3-bb2314b6e453",
   "metadata": {},
   "source": [
    "***\n",
    "\n",
    "<span style=\"color:#43c6ac\">Los bucles indefinidos son aquellos en los que no se sabe de antemano cuántas veces se debe iterar.</span>\\\n",
    "Estos bucles se utilizan para repetir un bloque de código mientras se cumpla una condición.\\\n",
    "Este tipo de bucles empieza con la palabra reservada `while`, se debe proporcionar una condición y un bloque de código que se ejecutará mientras la condición sea verdadera.\n",
    "\n",
    "Dentro de los bucles, podemos usar las siguientes palabras reservadas:\n",
    "- `break`: se utiliza para salir inmediatamente de un bucle, sin completar el resto de las iteraciones.\\\n",
    "Es útil cuando se alcanza una condición de salida en una iteración y no se necesitan ejecutar las siguientes iteraciones.\n",
    "- `continue`: se utiliza para omitir una iteración del bucle y pasar a la siguiente iteración.\\\n",
    "Es útil cuando se desea omitir un valor o una condición específica sin salir completamente del bucle.\n",
    "- `pass`: se utiliza para ignorar una sentencia en un bloque de código, es decir, para no hacer nada.\\\n",
    "Es útil cuando se está construyendo un esqueleto de código y se desea dejar una sentencia sin definir para llenarla más adelante. \n",
    "\n",
    "Un bucle indefinido tiene la siguiente estructura general:\n",
    "\n",
    "```python\n",
    "while condicion:\n",
    "    # Bloque de código a ejecutar\n",
    "\n",
    "    # Condicionales que controlan la ejecución del bucle\n",
    "    if condicion_pass:\n",
    "        pass     # Continúa en la iteración\n",
    "    elif condicion_continue:\n",
    "        continue # Inicia la siguiente iteración\n",
    "    elif condicion_break:\n",
    "        break    # Cierra el bucle\n",
    "```\n",
    "\n",
    "<span style=\"color:#43c6ac\">Es importante indentar el código perteneciente a un bucle, usando cuatro espacios o la tecla `Tab`.</span>"
   ]
  },
  {
   "cell_type": "markdown",
   "id": "d0815af3-091d-45ec-8f7b-f5a33183bb19",
   "metadata": {},
   "source": [
    "***\n",
    "**Ejemplo: Muestras de suelo con bucle indefinido** \\\n",
    "Supongamos que estamos creando un programa para solicitar al usuario que ingrese una muestra de suelo y su profundidad, y queremos asegurarnos de que el usuario ingrese valores válidos antes de continuar.\\\n",
    "Podemos utilizar un bucle indefinido para solicitar la entrada del usuario hasta que se ingrese una profundidad válida:"
   ]
  },
  {
   "cell_type": "code",
   "execution_count": null,
   "id": "d688e521-7ca7-4087-9348-1d019d146472",
   "metadata": {},
   "outputs": [],
   "source": [
    "while True:\n",
    "    muestra = input(\"Ingrese el nombre de la muestra: \")\n",
    "    profundidad = input(\"Ingrese la profundidad de la muestra en metros: \")\n",
    "    \n",
    "    if profundidad.replace(\".\", \"\", 1).isdigit(): # Verifica que el string pueda representar números enteros o decimales\n",
    "        profundidad = float(profundidad) # Convertir el string de profundidad a float\n",
    "        break # Termina el bucle\n",
    "    else:\n",
    "        print(\"La profundidad ingresada no es válida. Intente nuevamente.\")\n",
    "        \n",
    "print(f\"La muestra {muestra} está a una profundidad de {profundidad} metros.\")"
   ]
  },
  {
   "cell_type": "markdown",
   "id": "76633846-13ce-4d5e-b21c-a76cb1367467",
   "metadata": {},
   "source": [
    "En este ejemplo, utilizamos un bucle indefinido para solicitar al usuario que ingrese el nombre de una muestra y su profundidad en metros.\\\n",
    "Luego, utilizamos una condicional para verificar que el dato ingresado de profundidad puede ser transformado a float.\\\n",
    "Si no se puede transformar, el programa muestra un mensaje de error y solicita nuevamente la entrada del usuario.\\\n",
    "Si se ingresó una profundidad válida, el bucle se termina y el programa muestra el nombre de la muestra y su profundidad en metros."
   ]
  },
  {
   "cell_type": "markdown",
   "id": "0b49241a-94d4-4275-8322-ca6728539d00",
   "metadata": {},
   "source": [
    "***\n",
    "<span style=\"color:#43c6ac\">La función `range` se utiliza para generar una secuencia de números enteros en un rango determinado.</span>\n",
    "\n",
    "En Geología resulta útil cuando se necesita iterar un bucle un número fijo de veces, como para generar una serie de valores para un modelo geológico.\n",
    "\n",
    "Por ejemplo, podemos iterar un número fijo de veces y generar valores de profundidad para un modelo de subsuelo:"
   ]
  },
  {
   "cell_type": "code",
   "execution_count": null,
   "id": "1ce1f9e9-bcc0-441c-bcf7-9d9ec1cb0794",
   "metadata": {},
   "outputs": [],
   "source": [
    "for i in range(1, 11):\n",
    "    profundidad = i * 100 # Profundidad en metros\n",
    "    print(f\"Capa {i} a una profundidad de {profundidad} metros\")"
   ]
  },
  {
   "cell_type": "markdown",
   "id": "aae62dae-96b2-475a-a9be-fc70813dcecd",
   "metadata": {},
   "source": [
    "En este ejemplo, la función `range(1, 11)` genera una secuencia de números enteros desde 1 hasta 10.\\\n",
    "Luego, el bucle definido itera sobre esta secuencia y utiliza la variable `i` para generar valores de profundidad correspondientes.\\\n",
    "Cada iteración del bucle muestra información sobre la capa y su profundidad en metros."
   ]
  },
  {
   "cell_type": "markdown",
   "id": "bc8512e0-8f35-4f9b-bcc0-4a1c6af3e452",
   "metadata": {},
   "source": [
    "***\n",
    "<span style=\"color:#43c6ac\">La función `enumerate` sirve para enumerar los elementos que componen una secuencia de datos.</span>\n",
    "    \n",
    "Esta función permite iterar sobre una secuencia y obtener tanto el índice como el valor de cada elemento en cada iteración.\\\n",
    "Es muy útil cuando necesitamos realizar operaciones teniendo en cuenta el orden de los elementos en la secuencia.\\\n",
    "La estructura de un bucle con `enumerate` es la siguiente:\n",
    "\n",
    "```python\n",
    "for indice, elemento in enumerate(secuencia):\n",
    "    # Bloque de código a ejecutar\n",
    "```\n",
    "\n",
    "En Geología, esta función resulta útil en muchas situaciones donde se necesitan índices o se desea vincular datos a una estructura indexada.\\\n",
    "Por ejemplo, podemos iterar sobre una lista de muestras de roca y obtener el número de muestra y su descripción:"
   ]
  },
  {
   "cell_type": "code",
   "execution_count": null,
   "id": "dd634a33-c247-4d90-9465-498290998462",
   "metadata": {},
   "outputs": [],
   "source": [
    "muestras = [\"R001 - Granito\", \"R002 - Esquisto\", \"R003 - Caliza\", \"R004 - Arenisca\"]\n",
    "\n",
    "for i, muestra in enumerate(muestras):\n",
    "    num_muestra = i + 1\n",
    "    print(f\"Muestra #{num_muestra}: {muestra}\")"
   ]
  },
  {
   "cell_type": "markdown",
   "id": "7e1216c1-0d92-43ea-980b-de3cbe2119d2",
   "metadata": {},
   "source": [
    "En este ejemplo, la función `enumerate(muestras)` devuelve una serie de pares `(i, muestra)`, donde `i` es el índice de la muestra en la lista y `muestra` es la descripción de la muestra.\\\n",
    "Luego, el bucle definido itera sobre estos pares y usa la variable `i` para obtener el número de muestra, que se incrementa en 1 para que coincida con la numeración convencional de las muestras."
   ]
  },
  {
   "cell_type": "markdown",
   "id": "a072a7e8-7ee0-416e-8c20-bb9727ba0d00",
   "metadata": {},
   "source": [
    "***\n",
    "<span style=\"color:#43c6ac\">La función `zip` permite iterar simultáneamente sobre dos o más secuencias y obtener los elementos correspondientes de cada una en cada iteración.</span>\n",
    "\n",
    "Esta función es útil cuando necesitamos combinar dos o más secuencias y realizar operaciones con los elementos correspondientes.\\\n",
    "Los elementos de cada secuencia se combinan en una sola secuencia de tuplas.\\\n",
    "La estructura de un bucle con `zip` es la siguiente:\n",
    "\n",
    "```python\n",
    "for (elemento1, elemento2, ...) in zip(secuencia1, secuencia2, ...):\n",
    "    # Bloque de código a ejecutar\n",
    "```"
   ]
  },
  {
   "cell_type": "markdown",
   "id": "94f0191a-354c-40bf-baad-13b7e5fce959",
   "metadata": {},
   "source": [
    "En Geología, esta función resulta útil cuando se trabaja con múltiples conjuntos de datos que deben ser procesados juntos.\\\n",
    "Por ejemplo, podemos iterar sobre dos listas de datos de muestras de roca y obtener información de cada una de ellas:"
   ]
  },
  {
   "cell_type": "code",
   "execution_count": null,
   "id": "5f2cbca6-ef5e-41e8-bf6e-6ff9f8dba04d",
   "metadata": {},
   "outputs": [],
   "source": [
    "muestras = [\"R001\", \"R002\", \"R003\", \"R004\"]\n",
    "tipos_roca = [\"Granito\", \"Esquisto\", \"Caliza\", \"Arenisca\"]\n",
    "\n",
    "for muestra, tipo_roca in zip(muestras, tipos_roca):\n",
    "    print(f\"La muestra {muestra} es de tipo {tipo_roca}\")"
   ]
  },
  {
   "cell_type": "markdown",
   "id": "77c1cca8-bab4-43c7-bb8d-8e0474754511",
   "metadata": {},
   "source": [
    "En este ejemplo, la función `zip(muestras, tipos_roca)` combina las dos listas de muestras y tipos de roca en una sola secuencia de tuplas.\\\n",
    "Luego, el bucle definido itera sobre estas tuplas y utiliza las variables `muestra` y `tipo_roca` para mostrar la información correspondiente.\n",
    "***"
   ]
  },
  {
   "cell_type": "markdown",
   "id": "d30ba0eb-0070-4aa7-b55a-062897bc081c",
   "metadata": {},
   "source": [
    "<a id=\"parte-3\"></a>"
   ]
  },
  {
   "cell_type": "markdown",
   "id": "8c29e23d-720f-4bcd-96ab-399773caaee9",
   "metadata": {},
   "source": [
    "### <span style=\"color:lightgreen\">**Comprensión de listas, tuplas y diccionarios**</span>\n",
    "***\n",
    "\n",
    "La <span style=\"color:gold\">comprensión</span> es una forma concisa y poderosa de crear y manipular estructuras de datos en Python.\\\n",
    "Estas técnicas son útiles en geología para manejar grandes conjuntos de datos y para automatizar la manipulación y análisis de datos.\n",
    "\n",
    "La comprensión de listas, tuplas y diccionarios se integra fácilmente con otras técnicas de programación, como bucles y condicionales, lo que permite crear soluciones más elegantes y eficientes.\n",
    "\n",
    "<span style=\"color:#43c6ac\">La comprensión de listas es una forma de crear una nueva lista utilizando una expresión y un bucle definido para iterar sobre una lista existente o una secuencia.</span>\n",
    "\n",
    "Por ejemplo, si tenemos una lista de valores de temperatura en Celsius y queremos convertirlos a Fahrenheit, podemos usar la comprensión de listas para crear una nueva lista con los valores convertidos:"
   ]
  },
  {
   "cell_type": "code",
   "execution_count": null,
   "id": "5c1f5198-8626-4e32-aca9-535de08238e4",
   "metadata": {},
   "outputs": [],
   "source": [
    "temperaturas_celsius = [25., 30., 15., 20., 27.]\n",
    "temperaturas_fahrenheit = [(temp * 9/5) + 32 for temp in temperaturas_celsius]\n",
    "\n",
    "print(f\"°C: {temperaturas_celsius}\")\n",
    "print(f\"°F: {temperaturas_fahrenheit}\")"
   ]
  },
  {
   "cell_type": "markdown",
   "id": "f46d7fbe-0b5d-4c45-a311-7599b15f9dc5",
   "metadata": {},
   "source": [
    "En este ejemplo, la expresión `(temp * 9/5) + 32` se utiliza para convertir cada valor de Celsius a Fahrenheit, y el bucle definido itera sobre la lista de temperaturas Celsius `temperaturas_celsius`.\\\n",
    "La nueva lista de temperaturas Fahrenheit `temperaturas_fahrenheit` se crea automáticamente mediante la comprensión de listas."
   ]
  },
  {
   "cell_type": "markdown",
   "id": "1b8b2f0f-c711-448c-89dd-9b0924a8c5c8",
   "metadata": {},
   "source": [
    "***\n",
    "**Ejemplo: Procesamiento de datos** \\\n",
    "Supongamos que tienes una lista de muestras de rocas sedimentarias y quieres crear una lista nueva que contenga solo las muestras que tienen un contenido de cuarzo mayor a 50%.\n",
    "\n",
    "Para generar el resultado, podemos utilizar un bucle definido y una condicional, de la siguiente manera:"
   ]
  },
  {
   "cell_type": "code",
   "execution_count": null,
   "id": "4423f410-b06e-4baf-a3f5-d8faef05ff09",
   "metadata": {},
   "outputs": [],
   "source": [
    "muestras = [65.2, 43.5, 78.9, 52.1, 37.8, 56.4, 89.1, 49.7]\n",
    "\n",
    "muestras_cuarzo = []\n",
    "for muestra in muestras:\n",
    "    if muestra > 50:\n",
    "        muestras_cuarzo.append(muestra)\n",
    "        \n",
    "print(muestras_cuarzo)"
   ]
  },
  {
   "cell_type": "markdown",
   "id": "f5116a22-78d6-42c4-826e-0aeb7ac8e3e9",
   "metadata": {},
   "source": [
    "Sin embargo, con la comprensión de listas, puedes lograr lo mismo en una sola línea de código:"
   ]
  },
  {
   "cell_type": "code",
   "execution_count": null,
   "id": "8e2b5ab2-f290-4435-908f-c830e2e8df78",
   "metadata": {},
   "outputs": [],
   "source": [
    "muestras_cuarzo = [muestra for muestra in muestras if muestra > 50]\n",
    "print(muestras_cuarzo)"
   ]
  },
  {
   "cell_type": "markdown",
   "id": "f79de2e0-a20e-497a-86be-e43361092de1",
   "metadata": {},
   "source": [
    "Este código crea una nueva lista llamada `muestras_cuarzo` que contiene solo las muestras de roca sedimentaria que tienen un contenido de cuarzo mayor a 50%.\n",
    "\n",
    "De esta forma, la comprensión de listas te permite simplificar el código y hacerlo más fácil de leer y entender."
   ]
  },
  {
   "cell_type": "markdown",
   "id": "397f43d5-faa5-429a-8118-453db3acdde3",
   "metadata": {},
   "source": [
    "***\n",
    "<span style=\"color:#43c6ac\">La comprensión de tuplas es similar a la comprensión de listas, pero en lugar de crear una nueva lista, se crea una nueva tupla.</span>\\\n",
    "Esto se puede utilizar para crear una nueva tupla a partir de una tupla existente, una lista o una secuencia.\n",
    "\n",
    "Por ejemplo, si tenemos una tupla de coordenadas `(x, y, z)` y queremos agregar una constante a cada valor, podemos utilizar la comprensión de tuplas para crear una nueva tupla con los valores modificados:\n",
    "> Nota: usaremos la función `tuple` para crear la tupla generada por la comprensión."
   ]
  },
  {
   "cell_type": "code",
   "execution_count": null,
   "id": "15406a63-bbcd-4620-87e0-0b3e47a3886d",
   "metadata": {},
   "outputs": [],
   "source": [
    "coordenadas = (10, 20, 30)\n",
    "constante = 5\n",
    "coordenadas_modificadas = tuple(valor + constante for valor in coordenadas)\n",
    "\n",
    "print(coordenadas)\n",
    "print(coordenadas_modificadas)"
   ]
  },
  {
   "cell_type": "markdown",
   "id": "9e260d65-75db-4ae9-8ef8-2714890cc189",
   "metadata": {},
   "source": [
    "En este ejemplo, el bucle definido itera sobre la tupla de coordenadas `coordenadas` y utiliza la expresión `valor + constante` para agregar la constante a cada valor.\\\n",
    "La nueva tupla de coordenadas modificadas `coordenadas_modificadas` se crea automáticamente mediante la comprensión de tuplas."
   ]
  },
  {
   "cell_type": "markdown",
   "id": "3b8673a6-5f49-4a8f-9053-25ae07a5a8c7",
   "metadata": {},
   "source": [
    "<span style=\"color:#43c6ac\">La comprensión de diccionarios es una forma de crear un nuevo diccionario utilizando una expresión y un bucle definido para iterar sobre un diccionario existente o una secuencia de pares clave-valor.</span>\n",
    "\n",
    "Por ejemplo, si tenemos un diccionario de muestras de suelo y queremos crear un nuevo diccionario con la profundidad de cada muestra, podemos utilizar la comprensión de diccionarios para crear el nuevo diccionario:"
   ]
  },
  {
   "cell_type": "code",
   "execution_count": null,
   "id": "b360f08d-87d7-4df2-9f8f-2261f77cb59f",
   "metadata": {},
   "outputs": [],
   "source": [
    "muestras_suelo = {'Muestra 1': 10, 'Muestra 2': 15, 'Muestra 3': 20}\n",
    "profundidades = {muestra: profundidad * 100 for muestra, profundidad in muestras_suelo.items()}\n",
    "\n",
    "print(muestras_suelo)\n",
    "print(profundidades)"
   ]
  },
  {
   "cell_type": "markdown",
   "id": "95da1774-0d14-41f5-8c9e-1992d4b974e2",
   "metadata": {},
   "source": [
    "En este ejemplo, la expresión `profundidad * 100` se utiliza para convertir cada profundidad en centímetros a profundidad en metros, y el bucle definido itera sobre los pares clave-valor del diccionario `muestras_suelo` utilizando el método `items`.\\\n",
    "El nuevo diccionario de profundidades `profundidades` se crea automáticamente mediante la comprensión de diccionarios.\n",
    "***"
   ]
  },
  {
   "cell_type": "markdown",
   "id": "510be53c-af4d-48f8-99a1-ac261f44a856",
   "metadata": {},
   "source": [
    "<a id=\"parte-4\"></a>"
   ]
  },
  {
   "cell_type": "markdown",
   "id": "8591f885-c163-4e5c-848f-80d9515ba4a9",
   "metadata": {
    "tags": []
   },
   "source": [
    "### <span style=\"color:lightgreen\">**Funciones**</span>\n",
    "***\n",
    "\n",
    "Las <span style=\"color:gold\">funciones</span> son bloques de código que se pueden definir una vez y reutilizar en múltiples ocasiones en todo el programa.\n",
    "\n",
    "<span style=\"color:#43c6ac\">En Geología, las funciones son herramientas muy útiles para procesar datos geológicos complejos y realizar cálculos repetitivos de manera más eficiente y con menos errores.</span>\n",
    "\n",
    "Al definir una función, puedes encapsular un conjunto de instrucciones en un solo lugar y darle un nombre significativo para que puedas llamarlo fácilmente en cualquier parte del programa.\\\n",
    "Además, las funciones pueden tener argumentos que les permiten recibir datos externos y realizar operaciones específicas con ellos."
   ]
  },
  {
   "cell_type": "markdown",
   "id": "be4492da-4491-403e-9b5b-14d47324fe7a",
   "metadata": {},
   "source": [
    "La sintaxis general de una función es la siguiente:\n",
    "\n",
    "```python\n",
    "def nombre_funcion(argumentos):\n",
    "    # Cuerpo de la función\n",
    "    return resultado\n",
    "```\n",
    "\n",
    "Para crear una función debemos seguir los siguientes pasos:\n",
    "\n",
    "- Una función en Python comienza con la palabra reservada `def`, seguida del nombre de la función y paréntesis que contienen los parámetros de entrada de la función, si los hay.\n",
    "- Después de los paréntesis, se coloca dos puntos para indicar el comienzo del cuerpo de la función.\n",
    "- El cuerpo de la función se encuentra indentado y puede contener cualquier número de declaraciones y expresiones, incluidas otras funciones.\n",
    "- La función puede contener una declaración de retorno que devuelve un valor usando la palabra reservada `return`.\\\n",
    "Si no hay una declaración de retorno, la función devuelve automáticamente `None`.\n",
    "- Una vez definida la función, puede ser llamada por su nombre, seguido de los parámetros de entrada de la función, si los hay, dentro de paréntesis.\n"
   ]
  },
  {
   "cell_type": "markdown",
   "id": "0b4154bc-0789-4733-9405-ff571b9c330b",
   "metadata": {},
   "source": [
    "Entre las tareas más frecuentes realizadas con funciones, tenemos:\n",
    "\n",
    "1. **Procesamiento de datos:** \\\n",
    "Las funciones pueden ayudar a procesar grandes cantidades de datos geológicos de manera eficiente.\\\n",
    "Por ejemplo, podemos escribir una función que convierta los datos de coordenadas geográficas a coordenadas cartesianas para poder realizar cálculos matemáticos en ellas.\n",
    "\n",
    "2. **Cálculo de estadísticas:** \\\n",
    "Las funciones pueden realizar cálculos estadísticos en los datos geológicos para extraer información valiosa.\\\n",
    "Por ejemplo, podemos escribir una función que calcule la media y la desviación estándar de un conjunto de datos de espesor de estratos.\n",
    "\n",
    "3. **Automatización de tareas:** \\\n",
    "Las funciones pueden automatizar tareas repetitivas para ahorrar tiempo y minimizar errores.\\\n",
    "Por ejemplo, podemos escribir una función que recopile datos de un conjunto de archivos de registro de pozo y los procese para extraer información específica.\n",
    "\n",
    "4. **Visualización de datos:** \\\n",
    "Las funciones pueden ser útiles para crear gráficos y visualizaciones de datos geológicos.\\\n",
    "Por ejemplo, podemos escribir una función que genere un perfil geológico a partir de los datos de registro de pozo."
   ]
  },
  {
   "cell_type": "markdown",
   "id": "f79002dc-437c-47da-9fcf-d8d91906d962",
   "metadata": {},
   "source": [
    "***\n",
    "**Ejemplo: Densidad de una roca** \\\n",
    "Podemos crear una función que calcule la densidad de una roca en base a su masa y volumen:"
   ]
  },
  {
   "cell_type": "code",
   "execution_count": null,
   "id": "beefc1d9-4877-4780-8ad4-f8808d0907c4",
   "metadata": {},
   "outputs": [],
   "source": [
    "def calcular_densidad(masa, volumen):\n",
    "    densidad = masa / volumen\n",
    "    return densidad"
   ]
  },
  {
   "cell_type": "markdown",
   "id": "4e85eec9-bff1-4c77-b581-c5cf87f19fed",
   "metadata": {},
   "source": [
    "En este ejemplo, la función se llama `calcular_densidad` y toma dos parámetros de entrada: la masa de la roca y su volumen.\\\n",
    "La función realiza un cálculo simple para calcular la densidad de la roca y devuelve el resultado.\n",
    "\n",
    "Para usar esta función, usaremos como argumentos una masa de 2500 g y un volumen de 1000 cm$^{3}$:"
   ]
  },
  {
   "cell_type": "code",
   "execution_count": null,
   "id": "5bb99e8c-bb83-41a8-b467-abff404692b8",
   "metadata": {},
   "outputs": [],
   "source": [
    "densidad_roca = calcular_densidad(2500, 1000)\n",
    "print(densidad_roca)"
   ]
  },
  {
   "cell_type": "markdown",
   "id": "1b53a90b-5123-44d9-bebc-0ce085192a89",
   "metadata": {},
   "source": [
    "***\n",
    "**Ejemplo: Profundidad de pozos** \\\n",
    "Vamos a crear una función que toma una lista de valores de profundidad y devuelve la profundidad máxima:"
   ]
  },
  {
   "cell_type": "code",
   "execution_count": null,
   "id": "f9f0f335-b63a-4c0f-84f6-a61baf6ee155",
   "metadata": {},
   "outputs": [],
   "source": [
    "def encontrar_profundidad_maxima(lista_profundidades):\n",
    "    profundidad_maxima = 0\n",
    "    for profundidad in lista_profundidades:\n",
    "        if profundidad > profundidad_maxima:\n",
    "            profundidad_maxima = profundidad\n",
    "    return profundidad_maxima"
   ]
  },
  {
   "cell_type": "markdown",
   "id": "ca484ac7-98c0-4b47-bcaa-d9959bb63622",
   "metadata": {},
   "source": [
    "En este ejemplo, la función se llama `encontrar_profundidad_maxima` y toma una lista de valores de profundidad como su único parámetro de entrada.\\\n",
    "La función realiza un bucle a través de cada valor en la lista y verifica si es mayor que la profundidad máxima actual.\\\n",
    "Si lo es, la profundidad máxima se actualiza con el nuevo valor. Finalmente, la función devuelve la profundidad máxima.\n",
    "\n",
    "Para usar esta función, usaremos como argumento una lista de valores de profundidad:"
   ]
  },
  {
   "cell_type": "code",
   "execution_count": null,
   "id": "744b6850-63e0-4970-8ab5-f3683bacbb01",
   "metadata": {},
   "outputs": [],
   "source": [
    "profundidades = [10, 20, 30, 25, 15]\n",
    "profundidad_maxima = encontrar_profundidad_maxima(profundidades)\n",
    "print(profundidad_maxima)"
   ]
  },
  {
   "cell_type": "markdown",
   "id": "e86916b9-ac45-4816-9579-d9d17ac141b3",
   "metadata": {},
   "source": [
    "***\n",
    "<span style=\"color:#43c6ac\">La función `lambda` es una forma de crear funciones pequeñas y anónimas.</span>\n",
    "\n",
    "Se llaman anónimas porque no se les asigna un nombre como las funciones definidas con `def`.\\\n",
    "En lugar de eso, se definen en una sola línea de código utilizando la palabra reservada `lambda`, seguida de los argumentos de la función y la expresión que se va a evaluar.\n",
    "\n",
    "La sintaxis general de una función lambda es la siguiente:\n",
    "\n",
    "`lambda argumentos : expresión`"
   ]
  },
  {
   "cell_type": "markdown",
   "id": "d4f94c62-6274-4f49-b73d-238460307f9e",
   "metadata": {},
   "source": [
    "En geología, las funciones lambda pueden ser útiles en situaciones en las que se necesita definir una función rápida para un cálculo específico, como por ejemplo, calcular la densidad de una muestra utilizando su masa y volumen."
   ]
  },
  {
   "cell_type": "code",
   "execution_count": null,
   "id": "b00e12e8-4f82-45c1-87c7-926f25d8452b",
   "metadata": {},
   "outputs": [],
   "source": [
    "densidad = lambda masa, volumen: masa / volumen"
   ]
  },
  {
   "cell_type": "code",
   "execution_count": null,
   "id": "422b9720-5eb2-4df9-acf3-a50a21413559",
   "metadata": {},
   "outputs": [],
   "source": [
    "densidad(2500, 1000)"
   ]
  },
  {
   "cell_type": "markdown",
   "id": "5767fa9f-2cd1-487f-8a29-ffe30580e342",
   "metadata": {},
   "source": [
    "La función `lambda` se utiliza aquí para definir una función que calcula la densidad dividiendo la masa por el volumen.\\\n",
    "Esta función podría ser útil en un programa de análisis de datos geológicos donde se necesita calcular la densidad de varias muestras diferentes."
   ]
  },
  {
   "cell_type": "markdown",
   "id": "1ee7fdc6-6467-4ace-9e19-704605218e62",
   "metadata": {},
   "source": [
    "***\n",
    "<span style=\"color:#43c6ac\">La función `filter` es una función que se utiliza para filtrar una secuencia (listas, tuplas, sets, etc.) de elementos utilizando una función dada.</span>\n",
    "\n",
    "`filter` toma dos argumentos: una función y una secuencia.\\\n",
    "La función toma un solo argumento y devuelve `True` o `False`, que se utiliza para decidir si incluir o excluir el elemento de la secuencia en el resultado final.\n",
    "\n",
    "El resultado final es una secuencia que solo contiene los elementos para los cuales la función devuelve `True`.\\\n",
    "La función `filter` devuelve un objeto de filtro, que se puede convertir en una lista o en otro tipo de secuencia.\n",
    "\n",
    "En Geología, la función `filter` se puede utilizar para filtrar datos geológicos.\\\n",
    "Por ejemplo, para eliminar los valores atípicos de una lista de datos de densidad de roca, se puede crear una función que calcule la media y la desviación estándar de los datos, y luego utilizar la función `filter` para excluir los valores que se encuentran a más de tres desviaciones estándar de la media:"
   ]
  },
  {
   "cell_type": "code",
   "execution_count": null,
   "id": "c98321a2-4319-4dbd-867b-aa5ddfbd358c",
   "metadata": {},
   "outputs": [],
   "source": [
    "densidades = [2.65, 2.73, 2.82, 2.57, 2.75, 3.01, 2.63, 2.95, 2.89, 2.68, 2.71, 3.20, 2.77, 2.84]\n",
    "\n",
    "def filtro_densidad(valor):\n",
    "    media = sum(densidades) / len(densidades)\n",
    "    desviacion = (sum([(i - media) ** 2 for i in densidades]) / len(densidades)) ** 0.5\n",
    "    return abs(valor - media) <= 3 * desviacion # Valores menores o iguales a 3 veces la desviación estándar\n",
    "\n",
    "densidades_filtradas = list(filter(filtro_densidad, densidades))\n",
    "\n",
    "print(densidades_filtradas)"
   ]
  },
  {
   "cell_type": "markdown",
   "id": "8c18ffb9-087c-4450-89e3-0b992cbfb6d2",
   "metadata": {},
   "source": [
    "Este código utiliza una función `filtro_densidad` que calcula la media y la desviación estándar de la lista de densidades y devuelve `True` si el valor se encuentra a menos de tres desviaciones estándar de la media.\\\n",
    "La función `filter` se utiliza para aplicar esta función a cada elemento de la lista de densidades y devolver una lista filtrada que solo contiene los valores que cumplen con el criterio."
   ]
  },
  {
   "cell_type": "markdown",
   "id": "6edf3d45-29c9-40bb-9217-9aa1c0fc0e97",
   "metadata": {},
   "source": [
    "***\n",
    "<span style=\"color:#43c6ac\">La función `map` en Python se utiliza para aplicar una función dada a cada elemento de una lista (o cualquier objeto iterable) y devuelve una lista de los resultados.</span>\n",
    "\n",
    "`map` toma dos argumentos: una función y un iterable.\\\n",
    "La función es la que se va a aplicar a cada elemento del iterable (por ejemplo, una lista, tupla, set) que se va a recorrer.\n",
    "\n",
    "El resultado final es una secuencia que contiene los valores del iterable evaluados con la función.\n",
    ">Es importante destacar que la función dada a `map` debe ser una función que tome un argumento, es decir, una función de un solo parámetro.\n",
    "\n",
    "En Geología, la función `map` se puede utilizar para aplicar una fórmula matemática a cada elemento de una lista de datos geológicos, como por ejemplo, una lista de alturas de una cadena montañosa:"
   ]
  },
  {
   "cell_type": "code",
   "execution_count": null,
   "id": "e4dcbc08-b3bb-4c3d-b7a0-cfe01e4323d4",
   "metadata": {},
   "outputs": [],
   "source": [
    "alturas = [3456, 2800, 3892, 4380, 5271]\n",
    "nuevas_alturas = list(map(lambda x: round(x * 0.3048, 2), alturas))\n",
    "print(nuevas_alturas)"
   ]
  },
  {
   "cell_type": "markdown",
   "id": "f1e59cda-0f3c-4ebc-91ab-e1a0d078ed7e",
   "metadata": {},
   "source": [
    "Este código convertirá las alturas de la lista de pies a metros utilizando la fórmula de conversión (1 pie = 0.3048 metros) y redondeará el resultado a dos decimales.\n",
    "***"
   ]
  },
  {
   "cell_type": "markdown",
   "id": "5f619b65-fc10-4f10-8fa7-f972a5ecb1ba",
   "metadata": {},
   "source": [
    "<a id=\"parte-5\"></a>"
   ]
  },
  {
   "cell_type": "markdown",
   "id": "5eec1f18-b5b6-491d-9425-3b850ebd01f4",
   "metadata": {
    "tags": []
   },
   "source": [
    "### <span style=\"color:lightgreen\">**En conclusión...**</span>\n",
    "***\n",
    "\n",
    "*Los bucles definidos se utilizan para iterar sobre una secuencia, mientras que los bucles indefinidos se utilizan para repetir un bloque de código mientras se cumpla una condición.* \\\n",
    "*`break`, `continue` y `pass` son palabras reservadas útiles en Python para controlar el flujo de ejecución de los bucles.*\n",
    "\n",
    "<span style=\"color:#43c6ac\">*Usar bucles y funciones nos permitirá automatizar tareas repetitivas, mejorando significativamente la eficiencia del código.*</span>\\\n",
    "La función `lambda` nos permite crear funciones pequeñas y anónimas.\n",
    "\n",
    "*Podemos enumerar secuencias de datos con `enumerate` y combinarlas con `zip`.* \\\n",
    "*También podemos procesar secuencias de datos usando `filter` y `map`.*\n",
    "\n",
    "*La comprensión es una herramienta poderosa y eficiente que permite crear estructuras de datos complejas con pocas líneas de código.* \\\n",
    "<span style=\"color:#43c6ac\">*El conocimiento y la aplicación de la comprensión de estructuras de datos son habilidades valiosas para cualquier geólogo que quiera mejorar su eficiencia y capacidad para procesar y analizar datos geológicos de manera efectiva.*</span>\n",
    "\n",
    "\n",
    "\n",
    "***"
   ]
  }
 ],
 "metadata": {
  "kernelspec": {
   "display_name": "Python 3 (ipykernel)",
   "language": "python",
   "name": "python3"
  },
  "language_info": {
   "codemirror_mode": {
    "name": "ipython",
    "version": 3
   },
   "file_extension": ".py",
   "mimetype": "text/x-python",
   "name": "python",
   "nbconvert_exporter": "python",
   "pygments_lexer": "ipython3",
   "version": "3.11.5"
  }
 },
 "nbformat": 4,
 "nbformat_minor": 5
}
