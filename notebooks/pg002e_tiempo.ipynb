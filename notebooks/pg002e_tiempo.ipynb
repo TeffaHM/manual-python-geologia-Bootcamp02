{
 "cells": [
  {
   "cell_type": "markdown",
   "id": "c439906b-e48a-4722-bbd9-aad955c46e73",
   "metadata": {
    "tags": []
   },
   "source": [
    "<span style=\"color:lightgreen; font-size:30px\">**PG002 - Librerías fundamentales de Python**</span>\n",
    "***\n",
    "<span style=\"color:gold; font-size:30px\">**Midiendo el tiempo en Python**</span>\n",
    "***\n",
    "\n",
    "<span style=\"font-size:20px\"> **Autor: Kevin Alexander Gómez** </span>\n",
    "\n",
    "<span style=\"font-size:16px\"> **Contacto: kevinalexandr19@gmail.com | [Linkedin](https://www.linkedin.com/in/kevin-alexander-g%C3%B3mez-2b0263111/) | [Github](https://github.com/kevinalexandr19)** </span>\n",
    "***"
   ]
  },
  {
   "cell_type": "markdown",
   "id": "2808daa9-962d-4dd8-b140-91fbaf0bcb8f",
   "metadata": {
    "tags": []
   },
   "source": [
    "Bienvenido al curso PG002 - Librerías fundamentales de Python!!!\n",
    "\n",
    "Vamos a revisar las librerías fundamentales usadas en el lenguaje Python a través de <span style=\"color:gold\">ejemplos en Geología</span>.\\\n",
    "Es necesario que tengas un conocimiento previo en la sintáxis de Python, geología general, matemática y estadística.\n",
    "\n",
    "<span style=\"color:lightgreen\"> Este notebook es parte del proyecto [**Python para Geólogos**](https://github.com/kevinalexandr19/manual-python-geologia), y ha sido creado con la finalidad de facilitar el aprendizaje en Python para estudiantes y profesionales en el campo de la Geología. </span>\n",
    "\n",
    "En el siguiente índice, encontrarás los temas que componen este notebook:"
   ]
  },
  {
   "cell_type": "markdown",
   "id": "6975e1db-0780-4bbf-b640-6fabd46af342",
   "metadata": {
    "tags": []
   },
   "source": [
    "<span style=\"font-size:20px\"> **Índice** </span>\n",
    "***\n",
    "- [¿Qué es `time` y `datetime`?](#parte-1)\n",
    "- [Ejemplos de `time`](#parte-2)\n",
    "- [Ejemplos de `datetime`](#parte-3)\n",
    "- [Ejemplos de `tqdm`](#parte-4)\n",
    "\n",
    "***"
   ]
  },
  {
   "cell_type": "markdown",
   "id": "6a611a23-e21e-473c-b29f-c530080c7365",
   "metadata": {},
   "source": [
    "Antes de empezar tu camino en programación geológica...\\\n",
    "Recuerda que puedes ejecutar un bloque de código usando `Shift` + `Enter`:"
   ]
  },
  {
   "cell_type": "code",
   "execution_count": null,
   "id": "6734b708-9c09-4c4c-a40d-ef5eff32d63d",
   "metadata": {},
   "outputs": [],
   "source": [
    "2 + 2"
   ]
  },
  {
   "cell_type": "markdown",
   "id": "230ecc6a-ec36-4e67-bef2-c175a8aa6e51",
   "metadata": {},
   "source": [
    "Si por error haces doble clic sobre un bloque de texto (como el que estás leyendo ahora mismo), puedes arreglarlo usando también `Shift` + `Enter`.\n",
    "***"
   ]
  },
  {
   "cell_type": "markdown",
   "id": "3cdd2eeb-827c-4f66-93eb-d19c96c935b2",
   "metadata": {},
   "source": [
    "<a id=\"parte-1\"></a>"
   ]
  },
  {
   "cell_type": "markdown",
   "id": "09e6b71b-3a60-4f0a-a4f7-a21e81b108e3",
   "metadata": {
    "tags": []
   },
   "source": [
    "### <span style=\"color:lightgreen\">**¿Qué es `time`, `datetime` y `tqdm`?**</span>\n",
    "\n",
    "Las librerías <span style=\"color:gold\">time</span> y <span style=\"color:gold\">datetime</span> son módulos estándar que proporcionan\n",
    "funcionalidades relacionadas con la manipulación y medición del tiempo, así como con el manejo de fechas y horas.\n",
    "\n",
    "La librería `time` se centra principalmente en operaciones relacionadas con la medición del tiempo y la manipulación de representaciones de tiempo en segundos desde la época (Unix timestamp).\\\n",
    "Proporciona funciones para obtener la hora actual, establecer retrasos en la ejecución de un programa, calcular el tiempo transcurrido, entre otros. Esta librería utiliza principalmente valores de tiempo en formato de punto flotante para representar segundos.\n",
    "\n",
    "La librería `datetime`, por otro lado, está diseñada para trabajar con fechas y horas específicas, y proporciona una amplia gama de funcionalidades más avanzadas.\\\n",
    "Permite crear objetos de fecha y hora, realizar cálculos con ellos, formatear y analizar fechas en diferentes formatos, y manipular componentes individuales como año, mes, día, hora, minuto y segundo.\\\n",
    "Además, también ofrece soporte para zonas horarias, diferencias de tiempo y manejo de duraciones.\n",
    "\n",
    "Por otra parte, la librería `tqdm` es una herramienta muy útil para agregar barras de progreso a los bucles y procesos iterativos.\\\n",
    "El nombre \"tqdm\" es una abreviatura de \"taqaddum\" en árabe, que significa \"progreso\" en inglés.\\\n",
    "Esta librería proporciona una forma sencilla de mostrar una barra de progreso y mensajes informativos en tiempo real mientras se ejecuta un bucle.\n",
    "\n",
    "<span style=\"color:#43c6ac\">En este notebook, revisaremos algunos de los usos principales de estas herramientas con ejemplos.</span>\n"
   ]
  },
  {
   "cell_type": "markdown",
   "id": "7cab3bdb-062c-4efc-8bf3-7c149766e65a",
   "metadata": {},
   "source": [
    "<a id=\"parte-2\"></a>"
   ]
  },
  {
   "cell_type": "markdown",
   "id": "c2e916eb-20be-43d4-bb81-5adfba5f7aae",
   "metadata": {},
   "source": [
    "### <span style=\"color:lightgreen\">**Ejemplos de `time`**</span>\n",
    "***\n",
    "\n",
    "Empezaremos importando la librería:"
   ]
  },
  {
   "cell_type": "code",
   "execution_count": null,
   "id": "b2f9501c-c97d-4382-85da-bf2a60fb0240",
   "metadata": {},
   "outputs": [],
   "source": [
    "import time"
   ]
  },
  {
   "cell_type": "markdown",
   "id": "9b45bd1f-2ce2-47b4-90b5-dc8ee8db3e3f",
   "metadata": {},
   "source": [
    "Para obtener la hora actual en segundos desde la época (1 de enero de 1970), usaremos la función `time`:"
   ]
  },
  {
   "cell_type": "code",
   "execution_count": null,
   "id": "5317174e-7fcd-40b3-8f93-cfb7290abae5",
   "metadata": {},
   "outputs": [],
   "source": [
    "t = time.time()\n",
    "t"
   ]
  },
  {
   "cell_type": "markdown",
   "id": "05ac5137-c172-4dc1-851d-6d06108c47fd",
   "metadata": {},
   "source": [
    "Para obtener el **tiempo local** en string, usaremos `ctime`:"
   ]
  },
  {
   "cell_type": "code",
   "execution_count": null,
   "id": "f441cee6-95ca-417e-8052-73aa9a5e4c04",
   "metadata": {},
   "outputs": [],
   "source": [
    "time.ctime()"
   ]
  },
  {
   "cell_type": "markdown",
   "id": "98b76161-ee1e-4c74-a1e5-fcf50a978389",
   "metadata": {},
   "source": [
    "Podemos obtener el tiempo en GMT+0, devolviendo una tupla de 9 elementos:\n",
    "> Para obtener el tiempo actual debemos volver a usar `time.time`."
   ]
  },
  {
   "cell_type": "code",
   "execution_count": null,
   "id": "a0f0f199-fdd4-4aa6-8f75-2c8db10dde92",
   "metadata": {},
   "outputs": [],
   "source": [
    "time.gmtime(time.time())"
   ]
  },
  {
   "cell_type": "markdown",
   "id": "f9ed7827-7021-44f2-a4db-fc667c1b16bc",
   "metadata": {},
   "source": [
    "Y usar un f-string para mostrarlo en un mejor formato:"
   ]
  },
  {
   "cell_type": "code",
   "execution_count": null,
   "id": "e79053d9-7616-4e43-8b04-f58055838c5e",
   "metadata": {
    "tags": []
   },
   "outputs": [],
   "source": [
    "t = time.gmtime(time.time())\n",
    "print(f\"La hora en GMT+0 es {t.tm_hour} horas, {t.tm_min} minutos y {t.tm_sec} segundos.\")"
   ]
  },
  {
   "cell_type": "markdown",
   "id": "ad98252f-65f1-4480-8837-765825a80e14",
   "metadata": {},
   "source": [
    "Otra opción es también usar la función `strftime`:"
   ]
  },
  {
   "cell_type": "code",
   "execution_count": null,
   "id": "eefcd95b-145e-44c3-a90b-ec551ae275ff",
   "metadata": {
    "tags": []
   },
   "outputs": [],
   "source": [
    "t = time.strftime(\"%d-%m-%Y, %H:%M:%S\", time.localtime())\n",
    "print(t)"
   ]
  },
  {
   "cell_type": "markdown",
   "id": "94d8bc47-b5f9-46ef-85f9-f49977d63738",
   "metadata": {},
   "source": [
    "Podemos **medir el tiempo de duración** del código en Python, colocando un `t_start` y un `t_end`, restando ambos para obtener el lapso de tiempo:"
   ]
  },
  {
   "cell_type": "code",
   "execution_count": null,
   "id": "ad365aa4-2ee5-4d6a-babc-d460cbcff1b2",
   "metadata": {
    "tags": []
   },
   "outputs": [],
   "source": [
    "# Inicio\n",
    "t_start = time.time()\n",
    "\n",
    "# Código\n",
    "for i in range(10_000_000):\n",
    "    pass\n",
    "\n",
    "# Final\n",
    "t_end = time.time()\n",
    "\n",
    "# Lapso de tiempo\n",
    "print(f\"El bucle duró {t_end - t_start:.3f} segundos\")"
   ]
  },
  {
   "cell_type": "markdown",
   "id": "f7b4ff1a-8fdc-4d18-9fa4-e1e85775d430",
   "metadata": {},
   "source": [
    "Otra forma de medir el tiempo de duración de un bloque de código es con `%%time`:"
   ]
  },
  {
   "cell_type": "code",
   "execution_count": null,
   "id": "2eff0909-bc45-4013-8a49-0da19c10503f",
   "metadata": {
    "tags": []
   },
   "outputs": [],
   "source": [
    "%%time\n",
    "# Código\n",
    "for i in range(10_000_000):\n",
    "    pass"
   ]
  },
  {
   "cell_type": "markdown",
   "id": "b4f7e78b-370d-410c-870b-d12be3680805",
   "metadata": {},
   "source": [
    "Para **medir el tiempo promedio de ejecución** de algun bloque de código, podemos usar `%%timeit`:"
   ]
  },
  {
   "cell_type": "code",
   "execution_count": null,
   "id": "2a9d854a-584d-4c8e-b600-16f7f1b5d59e",
   "metadata": {
    "tags": []
   },
   "outputs": [],
   "source": [
    "%%timeit\n",
    "# Código\n",
    "for i in range(10_000_000):\n",
    "    pass"
   ]
  },
  {
   "cell_type": "markdown",
   "id": "7c7fb6fe-4de9-430d-ba3e-c1321d12aede",
   "metadata": {},
   "source": [
    "Para **pausar la ejecución de un proceso por un determinado tiempo**, usaremos `sleep`:"
   ]
  },
  {
   "cell_type": "code",
   "execution_count": null,
   "id": "92ceeb27-983f-41f8-b577-59e4d382d536",
   "metadata": {},
   "outputs": [],
   "source": [
    "print(\"Inicio\")\n",
    "print(\"Espera 3 segundos...\")\n",
    "time.sleep(1)\n",
    "print(\"Espera 2 segundos...\")\n",
    "time.sleep(1)\n",
    "print(\"Espera 1 segundo...\")\n",
    "time.sleep(1)\n",
    "print(\"Final\")"
   ]
  },
  {
   "cell_type": "markdown",
   "id": "22b66743-0a98-40f0-9518-a77ce777a337",
   "metadata": {},
   "source": [
    "***"
   ]
  },
  {
   "cell_type": "markdown",
   "id": "12418c44-1cbd-4576-814d-63de93fda852",
   "metadata": {},
   "source": [
    "<a id=\"parte-3\"></a>"
   ]
  },
  {
   "cell_type": "markdown",
   "id": "8353a4ba-5cb2-40e1-aceb-ee712086c1fc",
   "metadata": {
    "tags": []
   },
   "source": [
    "### <span style=\"color:lightgreen\">**Ejemplos de `datetime`**</span>\n",
    "***\n",
    "\n",
    "Empezaremos importando la librería:"
   ]
  },
  {
   "cell_type": "code",
   "execution_count": null,
   "id": "3d0036d5-154c-4c22-a067-6d6f8276a0e0",
   "metadata": {
    "tags": []
   },
   "outputs": [],
   "source": [
    "import datetime as dt"
   ]
  },
  {
   "cell_type": "markdown",
   "id": "4e4b49d4-d0d7-4780-b195-dac465ce8b45",
   "metadata": {},
   "source": [
    "Podemos mostrar la **fecha actual** usando la función `date.today`:\n",
    "> El objeto principal usado para referenciar el tiempo con Python se llama `datetime`."
   ]
  },
  {
   "cell_type": "code",
   "execution_count": null,
   "id": "bb7719e5-d3f3-4336-bd5e-0a0ff623c8e1",
   "metadata": {
    "tags": []
   },
   "outputs": [],
   "source": [
    "dt.date.today()"
   ]
  },
  {
   "cell_type": "markdown",
   "id": "be73b92a-cb0e-4395-8ead-57a0309b1fba",
   "metadata": {},
   "source": [
    "También podemos usar un f-string para mostrar la fecha:"
   ]
  },
  {
   "cell_type": "code",
   "execution_count": null,
   "id": "9a1a6e25-daf1-4f5b-bfe1-ba85a69b346a",
   "metadata": {},
   "outputs": [],
   "source": [
    "print(f\"Hoy es {dt.date.today():%Y-%m-%d}\")"
   ]
  },
  {
   "cell_type": "markdown",
   "id": "498b93ee-6b9c-4698-94ff-7136f3f73523",
   "metadata": {},
   "source": [
    "El tiempo actual se puede obtener usando `datetime.now`:"
   ]
  },
  {
   "cell_type": "code",
   "execution_count": null,
   "id": "8cbd8315-c36a-4706-8070-5f11c900b518",
   "metadata": {},
   "outputs": [],
   "source": [
    "dt.datetime.now()"
   ]
  },
  {
   "cell_type": "markdown",
   "id": "eefc08ed-6598-4220-9fad-adf1e43479a3",
   "metadata": {},
   "source": [
    "Y también mostrarlo en formato de fecha:"
   ]
  },
  {
   "cell_type": "code",
   "execution_count": null,
   "id": "4e16532f-ea7e-4211-8cad-82d1e7424f5e",
   "metadata": {
    "tags": []
   },
   "outputs": [],
   "source": [
    "print(dt.datetime.now())"
   ]
  },
  {
   "cell_type": "markdown",
   "id": "5822342e-32c9-4cd8-b17e-d4edc3131b88",
   "metadata": {},
   "source": [
    "Podemos también **mostrar fechas específicas** usando la función `datetime`:"
   ]
  },
  {
   "cell_type": "code",
   "execution_count": null,
   "id": "686eea90-5b52-44f9-bd4f-2130cb1eb129",
   "metadata": {},
   "outputs": [],
   "source": [
    "# 17 de Julio de 2023, 12:00 horas\n",
    "# datetime(year, month, day, hour, minute, second)\n",
    "fecha = dt.datetime(2023, 7, 17, 12, 0, 0)\n",
    "print(fecha)"
   ]
  },
  {
   "cell_type": "markdown",
   "id": "6e72d4f4-52df-410d-a304-4a4eaa473f4f",
   "metadata": {},
   "source": [
    "Podemos obtener un formato en `datetime` a partir de `time` usando la función `datetime.fromtimestamp`:"
   ]
  },
  {
   "cell_type": "code",
   "execution_count": null,
   "id": "002d6022-d26a-4294-9991-4fa56aaf0d08",
   "metadata": {},
   "outputs": [],
   "source": [
    "fecha = dt.datetime.fromtimestamp(time.time())\n",
    "fecha"
   ]
  },
  {
   "cell_type": "markdown",
   "id": "2141a62a-c1a8-4d18-a988-d2fbf3469fe2",
   "metadata": {},
   "source": [
    "También podemos generar segmentos de tiempo usando `timedelta`:\n",
    "> `timedelta` puede ser usado para agregarse o restarse de fechas específicas."
   ]
  },
  {
   "cell_type": "code",
   "execution_count": null,
   "id": "7ac5ba93-1fd7-4fa6-9311-c7d853752cbb",
   "metadata": {},
   "outputs": [],
   "source": [
    "# La fecha 100 días atrás\n",
    "delta = dt.timedelta(days=100)\n",
    "hoy = dt.date.today()\n",
    "\n",
    "hoy - delta"
   ]
  },
  {
   "cell_type": "markdown",
   "id": "7570858f-a99e-4500-9d4d-9323045bf4ab",
   "metadata": {},
   "source": [
    "Por último, es también posible comparar fechas:"
   ]
  },
  {
   "cell_type": "code",
   "execution_count": null,
   "id": "d02b3a2c-c8fe-4974-a203-a6f6f458cc79",
   "metadata": {},
   "outputs": [],
   "source": [
    "# Comparamos el primer dia del año con el dia de hoy\n",
    "dt.datetime(2023, 1, 1) > dt.datetime.now()"
   ]
  },
  {
   "cell_type": "markdown",
   "id": "42bc737c-f589-4d44-99bf-4fc750891458",
   "metadata": {},
   "source": [
    "***"
   ]
  },
  {
   "cell_type": "markdown",
   "id": "3f0f1bc1-cbb8-442c-b920-506008d9d2cc",
   "metadata": {},
   "source": [
    "<a id=\"parte-4\"></a>"
   ]
  },
  {
   "cell_type": "markdown",
   "id": "ebf33bc8-be3b-4e5b-9a3f-5ffc10d003f6",
   "metadata": {
    "tags": []
   },
   "source": [
    "### <span style=\"color:lightgreen\">**Ejemplos de `tqdm`**</span>\n",
    "***\n",
    "\n",
    "Empezaremos importando la librería:"
   ]
  },
  {
   "cell_type": "code",
   "execution_count": null,
   "id": "59eab005-8203-446c-bb5e-4d3f091ff8eb",
   "metadata": {
    "tags": []
   },
   "outputs": [],
   "source": [
    "from tqdm import tqdm"
   ]
  },
  {
   "cell_type": "markdown",
   "id": "7f5fcb94-6c3a-4c16-a169-188441a2ce80",
   "metadata": {},
   "source": [
    "El funcionamiento de esta librería es sencillo, solo debe agregarse la función `tqdm` dentro del bucle, de la siguiente forma:\n",
    "\n",
    "`````` python\n",
    "for elemento in tqdm(conjunto):\n",
    "    codigo\n",
    "    \n",
    "``````"
   ]
  },
  {
   "cell_type": "markdown",
   "id": "245d80d5-200a-494e-9707-edb0202c3f51",
   "metadata": {},
   "source": [
    "La barra de progreso contiene los siguientes elementos:\n",
    "- El porcentaje de progreso\n",
    "- La cantidad de iteraciones ejecutadas\n",
    "- La cantidad de iteraciones totales\n",
    "- El tiempo de ejecución realizado\n",
    "- El tiempo estimado de ejecución restante\n",
    "- La cantidad de iteraciones realizadas por segundo (it/s)"
   ]
  },
  {
   "cell_type": "markdown",
   "id": "b58a4177-4369-45d6-9a2b-5723f197b774",
   "metadata": {},
   "source": [
    "Por ejemplo, usaremos un bucle que realice 100 millones de iteraciones para la suma de los primeros numeros naturales:"
   ]
  },
  {
   "cell_type": "code",
   "execution_count": null,
   "id": "4e0f9afe-8421-4da4-a1fa-3ae318c126b8",
   "metadata": {
    "tags": []
   },
   "outputs": [],
   "source": [
    "suma = 0\n",
    "for i in tqdm(range(100_000_000)):\n",
    "    suma = suma + i"
   ]
  },
  {
   "cell_type": "markdown",
   "id": "2e97efc8-cf54-4cb9-8d1e-81d5c841ff9e",
   "metadata": {},
   "source": [
    "De esta manera, podemos usar la función `tqdm` en cualquier bucle para poder obtener una medida del progreso a través del tiempo.\n",
    "***"
   ]
  }
 ],
 "metadata": {
  "kernelspec": {
   "display_name": "Python 3 (ipykernel)",
   "language": "python",
   "name": "python3"
  },
  "language_info": {
   "codemirror_mode": {
    "name": "ipython",
    "version": 3
   },
   "file_extension": ".py",
   "mimetype": "text/x-python",
   "name": "python",
   "nbconvert_exporter": "python",
   "pygments_lexer": "ipython3",
   "version": "3.11.5"
  }
 },
 "nbformat": 4,
 "nbformat_minor": 5
}
