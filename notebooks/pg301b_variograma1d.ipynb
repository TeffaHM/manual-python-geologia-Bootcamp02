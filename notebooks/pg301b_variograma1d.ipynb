{
 "cells": [
  {
   "cell_type": "markdown",
   "id": "c81db0fa-bf0d-4f56-a999-7af4ff7a6aef",
   "metadata": {
    "tags": []
   },
   "source": [
    "<span style=\"color:lightgreen; font-size:30px\">**PG301 - Geoestadística**</span>\n",
    "***\n",
    "<span style=\"color:gold; font-size:30px\">**Variograma 1D**</span>\n",
    "***\n",
    "\n",
    "<span style=\"font-size:20px\"> **Autor: Kevin Alexander Gómez** </span>\n",
    "\n",
    "<span style=\"font-size:16px\"> **Contacto: kevinalexandr19@gmail.com | [Linkedin](https://www.linkedin.com/in/kevin-alexander-g%C3%B3mez-2b0263111/) | [Github](https://github.com/kevinalexandr19)** </span>\n",
    "\n",
    "***"
   ]
  },
  {
   "cell_type": "markdown",
   "id": "7ba40e28-0bc6-4a35-a916-6e5fe2187814",
   "metadata": {
    "tags": []
   },
   "source": [
    "Bienvenido al curso PG301 - Geoestadística!!!\n",
    "\n",
    "Vamos a revisar las bases de la <span style=\"color:gold\">geoestadística</span> usando ejemplos en Python.\\\n",
    "Es necesario que tengas un conocimiento previo en programación con Python, estadística y geología general.\n",
    "\n",
    "<span style=\"color:lightgreen\"> Este notebook es parte del proyecto [**Python para Geólogos**](https://github.com/kevinalexandr19/manual-python-geologia), y ha sido creado con la finalidad de facilitar el aprendizaje en Python para estudiantes y profesionales en el campo de la Geología. </span>\n",
    "\n",
    "En el siguiente índice, encontrarás los temas que componen este notebook:"
   ]
  },
  {
   "cell_type": "markdown",
   "id": "2ab072c5-ac56-483c-ba77-c9f1669fce2e",
   "metadata": {
    "tags": []
   },
   "source": [
    "## **Índice**\n",
    "***\n",
    "- [¿Qué es `gamma`?](#parte-1)\n",
    "- [Procesamiento de datos](#parte-2)\n",
    "- [Creación del variograma experimental](#parte-3)\n",
    "- [Intervalos de espaciamiento (Binning)](#parte-4)\n",
    "- [Ajuste del modelo de variograma (Fitting)](#parte-5)\n",
    "***"
   ]
  },
  {
   "cell_type": "markdown",
   "id": "feea0894-cec0-4092-bc67-278c09d52e1b",
   "metadata": {},
   "source": [
    "Antes de empezar tu camino en programación geológica...\\\n",
    "Recuerda que puedes ejecutar un bloque de código usando `Shift` + `Enter`:"
   ]
  },
  {
   "cell_type": "code",
   "execution_count": null,
   "id": "60545d49-8db4-4245-b0fb-16d62d18c434",
   "metadata": {},
   "outputs": [],
   "source": [
    "2 + 2"
   ]
  },
  {
   "cell_type": "markdown",
   "id": "52341473-f782-466d-ae8b-00e0488d2c4e",
   "metadata": {},
   "source": [
    "Si por error haces doble clic sobre un bloque de texto (como el que estás leyendo ahora mismo), puedes arreglarlo usando también `Shift` + `Enter`."
   ]
  },
  {
   "cell_type": "markdown",
   "id": "e03f35e0-30ee-40c1-9a3e-86fcb054db67",
   "metadata": {},
   "source": [
    "***"
   ]
  },
  {
   "cell_type": "markdown",
   "id": "eb0999b4-409b-4fdb-ac14-6b0516cae4d3",
   "metadata": {},
   "source": [
    "<a id=\"parte-1\"></a>"
   ]
  },
  {
   "cell_type": "markdown",
   "id": "22862a30-49e7-437c-84ae-9ebb30e90c8b",
   "metadata": {},
   "source": [
    "### <span style=\"color:lightgreen\">**¿Qué es `gamma`?**</span>\n",
    "***    \n",
    "\n",
    "El módulo de geoestadística <span style=\"color:gold\">gamma</span> ha sido implementado con la finalidad de usar herramientas geoestadísticas (como la función variograma) para la visualización interactiva y el aprendizaje dentro de un notebook de Jupyter.\n",
    "\n",
    "Por el momento, `gamma` solo cuenta con el variograma 1D, llamado a través de la función `Variogram`.\\\n",
    "También existen modelos de variogramas que podemos usar como `linear`, `exponential`, `spherical` o `gaussian`.\n",
    "\n",
    "La funcionalidad básica de `Variogram` se describe con los siguientes pasos:\n",
    "- Empezamos cargando los datos correspondientes a la variable de interés `values` y las distancias de separación `coords`.\n",
    "- Luego, usamos `Variogram` para calcular los intervalos de separación o también llamados bins del variograma experimental. La distancia de separación usada para el variograma experimental se puede ajustar con el método `selectLagDist`.\n",
    "- Una vez que se ha determinado la distancia de separación, se proceden a ajustar los modelos de variograma mencionados anteriormente a través del método `fitting`.\n",
    "- Este método provee de una interfaz para ajustar manualmente los valores de c0 (pepita), c (sill parcial) y a (alcance).\n",
    "- Una vez ajustado y seleccionado el modelo de variograma, podemos exportar sus parámetros en un diccionario usando el atributo `model`.\n",
    "\n",
    "***"
   ]
  },
  {
   "cell_type": "markdown",
   "id": "746826b3-63c9-4663-ade4-b546cc5ef20f",
   "metadata": {},
   "source": [
    "<a id=\"parte-2\"></a>"
   ]
  },
  {
   "cell_type": "markdown",
   "id": "f4b29df6-77de-4a9e-bd99-0199b9a9e616",
   "metadata": {},
   "source": [
    "### <span style=\"color:lightgreen\">**Procesamiento de datos**</span>\n",
    "***    \n",
    "\n",
    "Empezamos importando `pandas` para cargar el archivo `assay.csv`.\\\n",
    "Seleccionamos las leyes y coordenadas de uno de los taladros para modelar el variograma 1D.\n",
    "> Nota: el módulo `gamma` se encuentra ubicado dentro de la carpeta `files`."
   ]
  },
  {
   "cell_type": "code",
   "execution_count": null,
   "id": "fc5b26cc-c79d-46f5-95db-40325c9ab9bf",
   "metadata": {},
   "outputs": [],
   "source": [
    "import pandas as pd\n",
    "import numpy as np\n",
    "from files.gamma import Variogram"
   ]
  },
  {
   "cell_type": "code",
   "execution_count": null,
   "id": "036e6290-6015-45ae-ac31-01094ae79202",
   "metadata": {},
   "outputs": [],
   "source": [
    "# Seleccionamos el taladro DH010 de la tabla assay y analizaremos los valores de CU_pct\n",
    "data = pd.read_csv(\"files/assay.csv\")[[\"ID\", \"FROM\", \"TO\", \"CU_pct\"]]\n",
    "data = data[data[\"ID\"] == \"DH010\"].drop(columns=[\"ID\"]).reset_index(drop=True)\n",
    "data.head()"
   ]
  },
  {
   "cell_type": "markdown",
   "id": "fd8503c6-fdbd-4bb0-846b-859275c16a15",
   "metadata": {},
   "source": [
    "Para crear la columna de coordenadas, calcularemos el centroide para cada tramo del sondaje:"
   ]
  },
  {
   "cell_type": "code",
   "execution_count": null,
   "id": "959e6b3c-0668-413a-9327-94954dbbc961",
   "metadata": {},
   "outputs": [],
   "source": [
    "data[\"coords\"] = (data[\"FROM\"] + data[\"TO\"]) / 2"
   ]
  },
  {
   "cell_type": "markdown",
   "id": "8f2ddd44-b7d9-48a3-bb23-8a114c3988dc",
   "metadata": {},
   "source": [
    "Miramos la tabla un momento usado `head`:"
   ]
  },
  {
   "cell_type": "code",
   "execution_count": null,
   "id": "b78ae648-862c-43a8-8760-4613f2294b13",
   "metadata": {
    "tags": []
   },
   "outputs": [],
   "source": [
    "data.head()"
   ]
  },
  {
   "cell_type": "markdown",
   "id": "3fe89f24-4bf1-42b8-939e-ff70deb831f6",
   "metadata": {},
   "source": [
    "Ya tenemos una columna con los centroides de cada tramo del sondaje.\\\n",
    "Ahora, seleccionaremos los valores y coordenadas para almacenarlos en las variables `values` y `coords`:"
   ]
  },
  {
   "cell_type": "code",
   "execution_count": null,
   "id": "3aa5bcc4-4acb-44cb-ace4-a40f9fa910bb",
   "metadata": {},
   "outputs": [],
   "source": [
    "values = data[\"CU_pct\"].copy().values\n",
    "coords = data[\"coords\"].copy().values"
   ]
  },
  {
   "cell_type": "markdown",
   "id": "0395bf91-f55f-408c-b698-ebc1d3523282",
   "metadata": {},
   "source": [
    "¿Cuántos datos tenemos en total?"
   ]
  },
  {
   "cell_type": "code",
   "execution_count": null,
   "id": "2db6d435-4524-4742-9dce-28e8b2afc678",
   "metadata": {
    "tags": []
   },
   "outputs": [],
   "source": [
    "print(f\"Cantidad total de datos: {len(values)}.\")"
   ]
  },
  {
   "cell_type": "markdown",
   "id": "32fe8c79-66c1-4fa4-b9ca-1845e7fe2d98",
   "metadata": {},
   "source": [
    "Podemos observar que tenemos 305 tramos en el sondaje DH010.\\\n",
    "A continuación, usaremos `values` y `coords` para inicializar `Variogram` y calcular el variograma experimental."
   ]
  },
  {
   "cell_type": "markdown",
   "id": "3f6c8c60-4553-452f-b4cc-f1642e3ed4d1",
   "metadata": {},
   "source": [
    "***"
   ]
  },
  {
   "cell_type": "markdown",
   "id": "477cf812-5b40-4353-904c-97fb64df579a",
   "metadata": {},
   "source": [
    "<a id=\"parte-3\"></a>"
   ]
  },
  {
   "cell_type": "markdown",
   "id": "2b108805-7051-4c99-bcf1-bf739ce7475e",
   "metadata": {
    "tags": []
   },
   "source": [
    "### <span style=\"color:lightgreen\">**Creación del variograma experimental**</span>\n",
    "***\n",
    "\n",
    "Usaremos la función `Variogram` para crear el objeto que representará el variograma dentro de Python.\\\n",
    "Asignaremos el variograma a la variable `var1d`:"
   ]
  },
  {
   "cell_type": "code",
   "execution_count": null,
   "id": "44130717-fb7f-4193-b8e5-86e273f928f0",
   "metadata": {},
   "outputs": [],
   "source": [
    "var1d = Variogram(values=values, coords=coords)"
   ]
  },
  {
   "cell_type": "markdown",
   "id": "b7c79513-28a5-420b-9838-89194ae32e74",
   "metadata": {},
   "source": [
    "Si llamamos la variable `var1d`, obtendremos una descripción del contenido actual: "
   ]
  },
  {
   "cell_type": "code",
   "execution_count": null,
   "id": "efc5ecc5-1153-4a63-8ca8-3d26dda04070",
   "metadata": {
    "tags": []
   },
   "outputs": [],
   "source": [
    "print(var1d)"
   ]
  },
  {
   "cell_type": "markdown",
   "id": "5b634613-e708-45f9-9e15-ae33cf895129",
   "metadata": {},
   "source": [
    "***"
   ]
  },
  {
   "cell_type": "markdown",
   "id": "b0be4880-7367-4095-9ab9-4e2ffdd91f72",
   "metadata": {},
   "source": [
    "<a id=\"parte-4\"></a>"
   ]
  },
  {
   "cell_type": "markdown",
   "id": "56b69a90-3e9a-41d1-818f-b42bc9f4d44c",
   "metadata": {
    "tags": []
   },
   "source": [
    "### <span style=\"color:lightgreen\">**Intervalos de espaciamiento (Binning)**</span>\n",
    "***\n",
    "\n",
    "Las posiciones de las muestras no siempre son exactas, o están distribuidas a distancias exactas.\\\n",
    "Por lo tanto, existe una necesidad de agrupar los pares calculados (de distancia y diferencia cuadrática) de acuerdo al espaciamiento que tienen entre sí (**lag classes**).\n",
    "\n",
    "El objetivo de esta parte es el de ajustar el intervalo de espaciamiento entre muestras, con la finalidad de facilitar y asegurar que el modelamiento del variograma sea correcto.\n",
    "\n",
    "Si usamos el atributo `lagDist`, observaremos la distancia de espaciamiento seleccionada automáticamente por el programa:"
   ]
  },
  {
   "cell_type": "code",
   "execution_count": null,
   "id": "938d2981-68db-4cfa-bb99-7ab349352bee",
   "metadata": {
    "tags": []
   },
   "outputs": [],
   "source": [
    "var1d.lagDist"
   ]
  },
  {
   "cell_type": "markdown",
   "id": "0eca0f0c-9b10-4555-a378-5d3130dddb71",
   "metadata": {},
   "source": [
    "Podemos modificar manualmente esta distancia de espaciamiento usando el método `selectLagDist`, el programa recalculará los intervalos asociados a esta distancia.\n",
    "> Debemos seleccionar en el widget la distancia de 4.00 metros.\\\n",
    "> El gráfico muestra las primeras distancias de separación entre muestras a lo largo de una recta numérica.\\\n",
    "> Es posible distinguir agrupamientos (clusters) a lo largo de dicha recta.\\\n",
    "> Puedes deslizar el valor `h0` para cambiar el intervalo de espaciamiento entre muestras.\\\n",
    "> El botón verde `Asignar lagDist` guarda el intervalo seleccionado para el variograma.\n",
    "\n",
    "#### <span style=\"color:gold\">Dentro del siguiente widget, selecciona una distancia de espaciamiento de 4.00 metros:</span>"
   ]
  },
  {
   "cell_type": "code",
   "execution_count": null,
   "id": "b55f85e6-d74f-46b2-8baf-ab63099c3791",
   "metadata": {
    "tags": []
   },
   "outputs": [],
   "source": [
    "# Widget de selección de intervalo de espaciamiento\n",
    "var1d.selectLagDist()"
   ]
  },
  {
   "cell_type": "markdown",
   "id": "5e3a7452-75ed-476f-9d3d-27455e7ef1f4",
   "metadata": {},
   "source": [
    "Verificamos que la distancia haya sido modificada:"
   ]
  },
  {
   "cell_type": "code",
   "execution_count": null,
   "id": "8639905e-3f66-4842-83f0-a7f9f13e0256",
   "metadata": {
    "tags": []
   },
   "outputs": [],
   "source": [
    "print(var1d)"
   ]
  },
  {
   "cell_type": "markdown",
   "id": "3e29960e-c837-40de-834b-abd9fc24e807",
   "metadata": {},
   "source": [
    "Notamos que el intervalo de espaciamiento mínimo entre muestras ahora es de **4 metros**.\\\n",
    "Una vez seleccionada esta distancia, podemos pasar al ajuste de un modelo de variograma.\n",
    "***"
   ]
  },
  {
   "cell_type": "markdown",
   "id": "7740f3b6-d021-4f5f-8a9f-3ab0099ec428",
   "metadata": {},
   "source": [
    "<a id=\"parte-5\"></a>"
   ]
  },
  {
   "cell_type": "markdown",
   "id": "5f747b8f-adab-4438-8679-cec94b1c2be6",
   "metadata": {},
   "source": [
    "### <span style=\"color:lightgreen\">**Ajuste del modelo de variograma (Fitting)**</span>\n",
    "***\n",
    "\n",
    "Una vez hemos seleccionado un intervalo de espaciamiento adecuado, podemos graficar el **variograma experimental** y usarlo para ajustar un modelo de variograma que puede ser lineal, exponencial, esférico o gaussiano.\n",
    "\n",
    "Usaremos el método `fitting` para generar los datos de ajuste de cada tipo de modelo y, a través de una visualización interactiva, podemos elegir aquel modelo que se ajuste mejor al variograma experimental:\n",
    "> Desliza el valor `n_points` para cambiar el número de puntos de ajuste, y `model` para elegir el modelo.\\\n",
    "> El parámetro `Autoajuste` activa y desactiva los parámetros de ajuste manual del variograma.\\\n",
    "> Los parámetros `Pepita (C0)`, `Sill Parcial (C)` y `Alcance (a)` son usados para ajustar manualmente el modelo.\\\n",
    "> El botón `Guardar parámetros` asigna los parámetros de ajuste del modelo en el atributo `model`."
   ]
  },
  {
   "cell_type": "code",
   "execution_count": null,
   "id": "57ca16a1-5831-4189-8c01-5e23aabc56f1",
   "metadata": {},
   "outputs": [],
   "source": [
    "var1d.fitting()"
   ]
  },
  {
   "cell_type": "markdown",
   "id": "57f192b7-99fa-491c-b8e7-aa18925f4f6d",
   "metadata": {},
   "source": [
    "Notamos que el variograma empieza a tener un comportamiento diferente a partir de los 200 metros, por lo que seleccionaremos un modelo que se ajuste hasta esa distancia.\n",
    "\n",
    "Notamos también que el alcance de nuestro modelo será de aprox. 100 metros.\n",
    "\n",
    "El modelo seleccionado cumplirá con las siguientes características:\n",
    "- Modelo: `spherical`\n",
    "- Puntos: `52`\n",
    "- Pepita (C0): `0.111`\n",
    "- Sill Parcial (C): `0.149`\n",
    "- Alcance (a): `100`\n",
    "\n",
    "Guardamos los parámetros y mostramos la descripción del variograma:"
   ]
  },
  {
   "cell_type": "code",
   "execution_count": null,
   "id": "9b3fa4e8-f4e6-4205-b745-ab31c8a5380c",
   "metadata": {
    "tags": []
   },
   "outputs": [],
   "source": [
    "print(var1d)"
   ]
  },
  {
   "cell_type": "markdown",
   "id": "1f6d8a35-17b2-4083-b00c-dc5d859cfe7b",
   "metadata": {},
   "source": [
    "El atributo `model` contiene los parámetros seleccionados para el modelo de variograma."
   ]
  },
  {
   "cell_type": "code",
   "execution_count": null,
   "id": "f43e2e1c-d0f8-4a9f-9596-61f18564a414",
   "metadata": {
    "tags": []
   },
   "outputs": [],
   "source": [
    "var1d.model"
   ]
  },
  {
   "cell_type": "markdown",
   "id": "d2295e99-4d08-4771-a660-1f5c9540ca3b",
   "metadata": {},
   "source": [
    "Estos resultados pueden ser exportados como diccionario y ser usados en otros flujos de trabajo."
   ]
  },
  {
   "cell_type": "markdown",
   "id": "54cf8799-1fcf-4d42-886c-e2bf8679ab1e",
   "metadata": {},
   "source": [
    "***"
   ]
  }
 ],
 "metadata": {
  "kernelspec": {
   "display_name": "Python 3 (ipykernel)",
   "language": "python",
   "name": "python3"
  },
  "language_info": {
   "codemirror_mode": {
    "name": "ipython",
    "version": 3
   },
   "file_extension": ".py",
   "mimetype": "text/x-python",
   "name": "python",
   "nbconvert_exporter": "python",
   "pygments_lexer": "ipython3",
   "version": "3.11.5"
  }
 },
 "nbformat": 4,
 "nbformat_minor": 5
}
