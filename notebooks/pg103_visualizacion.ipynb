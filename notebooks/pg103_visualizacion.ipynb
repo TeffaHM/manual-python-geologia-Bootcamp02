{
 "cells": [
  {
   "cell_type": "markdown",
   "id": "2e7e2547-9f91-4864-b240-0eb99516488a",
   "metadata": {
    "jp-MarkdownHeadingCollapsed": true,
    "tags": []
   },
   "source": [
    "<span style=\"color:gold; font-size:30px\">**PG103 - Visualización de datos en Geología**</span>\n",
    "***\n",
    "\n",
    "<span style=\"font-size:20px\"> **Autor: Kevin Alexander Gómez** </span>\n",
    "\n",
    "<span style=\"font-size:16px\"> **Contacto: kevinalexandr19@gmail.com | [Linkedin](https://www.linkedin.com/in/kevin-alexander-g%C3%B3mez-2b0263111/) | [Github](https://github.com/kevinalexandr19)** </span>\n",
    "***"
   ]
  },
  {
   "cell_type": "markdown",
   "id": "749c691b-c72e-4396-9284-7946cfe6f4fd",
   "metadata": {
    "tags": []
   },
   "source": [
    "Bienvenido al curso PG103 - Visualización de datos en Geología!!!\n",
    "\n",
    "Vamos a revisar ejemplos de <span style=\"color:gold\">visualización de datos</span> en Geología usando código en Python.\\\n",
    "Es necesario que tengas un conocimiento previo en programación con Python, estadística y geología general.\n",
    "\n",
    "<span style=\"color:lightgreen\"> Este notebook es parte del proyecto [**Python para Geólogos**](https://github.com/kevinalexandr19/manual-python-geologia), y ha sido creado con la finalidad de facilitar el aprendizaje en Python para estudiantes y profesionales en el campo de la Geología. </span>\n",
    "\n",
    "En la siguiente lista verás todos los notebooks que necesitarás completar para aprender a programar en Python:"
   ]
  },
  {
   "cell_type": "markdown",
   "id": "042a0b1e-24b3-477b-bdb8-fc1c97ee28d4",
   "metadata": {
    "tags": []
   },
   "source": [
    "## **Índice**\n",
    "***\n",
    "1. [Seaborn](pg103a_seaborn.ipynb)\n",
    "2. [Plotly](pg103b_plotly.ipynb)\n",
    "3. [Visualización de datos](pg103c_visualizacion_datos.ipynb)\n",
    "4. [Visualización de sondajes en 3D](pg103d_sondajes3d.ipynb)\n",
    "5. [Visualización de un modelo de bloques en 3D](pg103e_bloques3d.ipynb)\n",
    "\n",
    "***"
   ]
  },
  {
   "cell_type": "markdown",
   "id": "5ac2b822-63ad-4200-9775-6f2b04ae9dbd",
   "metadata": {},
   "source": [
    "<a id=\"parte1\"></a>"
   ]
  },
  {
   "cell_type": "markdown",
   "id": "30ff2af4-78cc-444e-85e2-2d201399494f",
   "metadata": {},
   "source": [
    "Antes de empezar tu camino en programación geológica...\\\n",
    "Recuerda que puedes ejecutar un bloque de código usando `Shift` + `Enter`:"
   ]
  },
  {
   "cell_type": "code",
   "execution_count": null,
   "id": "e8b8ac29-9998-43f2-9855-6e10b6d4f628",
   "metadata": {},
   "outputs": [],
   "source": [
    "2 + 2"
   ]
  },
  {
   "cell_type": "markdown",
   "id": "d134d1d5-2c8e-451d-bbcc-3135a42a1b09",
   "metadata": {},
   "source": [
    "Si por error haces doble clic sobre un bloque de texto (como el que estás leyendo ahora mismo), puedes arreglarlo usando también `Shift` + `Enter`."
   ]
  },
  {
   "cell_type": "markdown",
   "id": "7529fc89-18e2-43d1-b812-6521bc43cdb2",
   "metadata": {},
   "source": [
    "***\n",
    "**Pregunta: ¿Puedo escribir comentarios dentro de un bloque de código?**\n",
    "\n",
    "Respuesta: Sí, para escribir un comentario y anotar algún detalle que busquemos documentar acerca del código, debemos colocar un hash `#` seguido del comentario que queremos hacer."
   ]
  },
  {
   "cell_type": "code",
   "execution_count": null,
   "id": "9015b7eb-6c42-4d4e-b86d-7f45657a86ff",
   "metadata": {},
   "outputs": [],
   "source": [
    "# Esto es una anotación"
   ]
  },
  {
   "cell_type": "code",
   "execution_count": null,
   "id": "e14ee79f-51ad-4fe6-83d1-93d7a4d648eb",
   "metadata": {},
   "outputs": [],
   "source": [
    "# Esto es una anotación\n",
    "2 + 2"
   ]
  },
  {
   "cell_type": "code",
   "execution_count": null,
   "id": "a6a4ad71-ddb6-472e-a84b-d5f66f9df52b",
   "metadata": {},
   "outputs": [],
   "source": [
    "2 + 2 # Esto es una anotación"
   ]
  },
  {
   "cell_type": "code",
   "execution_count": null,
   "id": "75723d26-c459-4c09-ab26-a6b1e6de97de",
   "metadata": {},
   "outputs": [],
   "source": [
    "# Esto es una anotación\n",
    "# Esto es otra anotación\n",
    "2 + 2"
   ]
  },
  {
   "cell_type": "markdown",
   "id": "0a43d9f5-299c-4b5e-a740-bb88af47efcc",
   "metadata": {},
   "source": [
    "***"
   ]
  }
 ],
 "metadata": {
  "kernelspec": {
   "display_name": "Python 3 (ipykernel)",
   "language": "python",
   "name": "python3"
  },
  "language_info": {
   "codemirror_mode": {
    "name": "ipython",
    "version": 3
   },
   "file_extension": ".py",
   "mimetype": "text/x-python",
   "name": "python",
   "nbconvert_exporter": "python",
   "pygments_lexer": "ipython3",
   "version": "3.11.5"
  }
 },
 "nbformat": 4,
 "nbformat_minor": 5
}
