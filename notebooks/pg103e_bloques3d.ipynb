{
 "cells": [
  {
   "cell_type": "markdown",
   "id": "fca4654a-45c3-4860-bd91-2b3c56de5f43",
   "metadata": {
    "tags": []
   },
   "source": [
    "<span style=\"color:lightgreen; font-size:30px\">**PG103 - Visualización de datos en Geología**</span>\n",
    "***\n",
    "<span style=\"color:gold; font-size:30px\">**Visualización de un modelo de bloques en 3D**</span>\n",
    "***\n",
    "\n",
    "<span style=\"font-size:20px\"> **Autor: Kevin Alexander Gómez** </span>\n",
    "\n",
    "<span style=\"font-size:16px\"> **Contacto: kevinalexandr19@gmail.com | [Linkedin](https://www.linkedin.com/in/kevin-alexander-g%C3%B3mez-2b0263111/) | [Github](https://github.com/kevinalexandr19)** </span>\n",
    "***"
   ]
  },
  {
   "cell_type": "markdown",
   "id": "bbad25f3-9c64-4c1b-9f9b-58b62c1049c7",
   "metadata": {
    "tags": []
   },
   "source": [
    "Bienvenido al curso PG103 - Visualización de datos en Geología!!!\n",
    "\n",
    "Vamos a revisar ejemplos de <span style=\"color:gold\">visualización de datos</span> en Geología usando código en Python.\\\n",
    "Es necesario que tengas un conocimiento previo en programación con Python, estadística y geología general.\n",
    "\n",
    "<span style=\"color:lightgreen\"> Este notebook es parte del proyecto [**Python para Geólogos**](https://github.com/kevinalexandr19/manual-python-geologia), y ha sido creado con la finalidad de facilitar el aprendizaje en Python para estudiantes y profesionales en el campo de la Geología. </span>\n",
    "***"
   ]
  },
  {
   "cell_type": "markdown",
   "id": "84aa23ac-b9e6-462b-b81d-f9e80fd138e2",
   "metadata": {},
   "source": [
    "Antes de empezar tu camino en programación geológica...\\\n",
    "Recuerda que puedes ejecutar un bloque de código usando `Shift` + `Enter`:"
   ]
  },
  {
   "cell_type": "code",
   "execution_count": null,
   "id": "da475a9f-db32-4036-b40b-ffd9fdac9812",
   "metadata": {},
   "outputs": [],
   "source": [
    "2 + 2"
   ]
  },
  {
   "cell_type": "markdown",
   "id": "4712119f-8366-4e4c-9358-1be87fdcbc18",
   "metadata": {},
   "source": [
    "Si por error haces doble clic sobre un bloque de texto (como el que estás leyendo ahora mismo), puedes arreglarlo usando también `Shift` + `Enter`.\n",
    "***"
   ]
  },
  {
   "cell_type": "markdown",
   "id": "da43adac-3fa9-4d48-bcaf-8b624031f1eb",
   "metadata": {},
   "source": [
    "<a id=\"parte-1\"></a>"
   ]
  },
  {
   "cell_type": "markdown",
   "id": "35bdf17d-9f8c-4948-bff4-6da0a3e3e208",
   "metadata": {},
   "source": [
    "### <span style=\"color:lightgreen\">**Modelo de bloques en 3D**</span>\n",
    "***\n",
    "En geología, un <span style=\"color:gold\">modelo de bloques</span> es una representación tridimensional de un yacimiento mineral en la que se divide el área en bloques cúbicos o rectangulares.\n",
    "\n",
    "Cada bloque representa un volumen homogéneo dentro del yacimiento y tiene asignado un valor o conjunto de valores que indican la presencia y cantidad de minerales en ese bloque.\n",
    "\n",
    "Los modelos de bloques se utilizan en la industria minera para estimar las reservas minerales y planificar la extracción del mineral.\\\n",
    "El proceso de creación de un modelo de bloques comienza con la recopilación de datos geológicos y de exploración del yacimiento, como datos de perforación, análisis geoquímicos y muestreo de superficie.\n",
    "\n",
    "A partir de estos datos, se utiliza un software especializado para crear un modelo tridimensional del yacimiento dividido en bloques.\\\n",
    "A cada bloque se asigna un valor o conjunto de valores que indican las diferentes variables de interés (ley, porosidad, densidad, etc.).\\\n",
    "Estos valores se pueden determinar a través de diferentes métodos, como la estimación por kriging, la simulación estocástica, entre otros.\n",
    "\n",
    "Una vez que se ha creado el modelo de bloques, se realizar la estimación de reservas minerales y se planifica la extracción del mineral.\n",
    "\n",
    "<span style=\"color:#43c6ac\">La precisión y confiabilidad del modelo de bloques depende en gran medida de la calidad de los datos geológicos y de exploración utilizados en su creación, así como de los métodos y supuestos utilizados para asignar valores a los bloques.</span>\n",
    "***"
   ]
  },
  {
   "cell_type": "markdown",
   "id": "9acb21e0-ef21-42c2-a984-44db46df0041",
   "metadata": {},
   "source": [
    "Empezaremos importando `pandas` para cargar el archivo `blocks.csv` ubicado en la carpeta `files`:\n",
    "> Nota: debido al límite de tamaño de archivos en GitHub, el archivo `blocks.csv` solo contiene los bloques superficiales del modelo."
   ]
  },
  {
   "cell_type": "code",
   "execution_count": null,
   "id": "6074a542-396e-4397-b7f4-f7be790084ab",
   "metadata": {},
   "outputs": [],
   "source": [
    "import pandas as pd\n",
    "\n",
    "modelo = pd.read_csv(\"files/blocks.csv\")"
   ]
  },
  {
   "cell_type": "markdown",
   "id": "b68356f4-3a77-4161-be6c-19cecdb5225b",
   "metadata": {},
   "source": [
    "Observamos la información contenida en el modelo de bloques:"
   ]
  },
  {
   "cell_type": "code",
   "execution_count": null,
   "id": "8be1231c-c598-4eb8-b9eb-1785e1b158a7",
   "metadata": {},
   "outputs": [],
   "source": [
    "modelo"
   ]
  },
  {
   "cell_type": "markdown",
   "id": "1e22b706-cfab-4b46-ae01-cd0bacabdba3",
   "metadata": {},
   "source": [
    "El modelo contiene 142,960 bloques con las siguientes columnas:\n",
    "- `X`, `Y`, `Z`: las coordenadas del centroide de cada bloque.\n",
    "- `LITO`: la litología asociada a cada bloque.\n",
    "- `Color_LITO`: el color asociado a cada litología.\n",
    "\n",
    "Usaremos el método `unique` para observar las diferentes litologías presentes en el modelo:"
   ]
  },
  {
   "cell_type": "code",
   "execution_count": null,
   "id": "cf4b873f-cc3c-484d-880c-8489191ef682",
   "metadata": {},
   "outputs": [],
   "source": [
    "print(modelo[\"LITO\"].unique())"
   ]
  },
  {
   "cell_type": "markdown",
   "id": "9d5364a6-e8af-46f4-9448-723ac227dc91",
   "metadata": {},
   "source": [
    "Y los colores asociados a cada litología:"
   ]
  },
  {
   "cell_type": "code",
   "execution_count": null,
   "id": "4ccb0f9c-a229-4ee9-803c-58dc642249b6",
   "metadata": {},
   "outputs": [],
   "source": [
    "print(modelo.groupby(\"LITO\")[\"Color_LITO\"].unique())"
   ]
  },
  {
   "cell_type": "markdown",
   "id": "defa8558-fd45-4608-9df8-a6d5eb2e80b1",
   "metadata": {},
   "source": [
    "Vamos a visualizar el modelo de bloques en 3D usando `PyVista`:"
   ]
  },
  {
   "cell_type": "code",
   "execution_count": null,
   "id": "be671584-d90b-4a3e-a806-5463a6b28a44",
   "metadata": {},
   "outputs": [],
   "source": [
    "import pyvista as pv"
   ]
  },
  {
   "cell_type": "markdown",
   "id": "e668219a-4aab-426c-818c-e45b65629a17",
   "metadata": {},
   "source": [
    "Primero, crearemos un diccionario asociando los nombres de cada litología con su color respectivo:"
   ]
  },
  {
   "cell_type": "code",
   "execution_count": null,
   "id": "6be02ce3-fe32-44fd-8abf-49e43cf211e1",
   "metadata": {},
   "outputs": [],
   "source": [
    "color_lito = modelo.groupby(\"LITO\")[\"Color_LITO\"].unique().to_dict()\n",
    "color_lito = {k: v[0] for k, v in color_lito.items()}\n",
    "print(color_lito)"
   ]
  },
  {
   "cell_type": "markdown",
   "id": "9557d512-4fff-466b-9c97-83d3bb918dc1",
   "metadata": {},
   "source": [
    "Ahora, visualizaremos el modelo de bloques en 3D usando la función `Plotter` y `PolyData`:"
   ]
  },
  {
   "cell_type": "code",
   "execution_count": null,
   "id": "a3fc1be9-94e6-4413-821e-60813b390070",
   "metadata": {},
   "outputs": [],
   "source": [
    "# Inicializar el plotter\n",
    "plotter = pv.Plotter()\n",
    "\n",
    "# Establecer el color de fondo de la visualización\n",
    "plotter.set_background(\"black\")\n",
    "\n",
    "# Iterar por litología\n",
    "for lito, color in color_lito.items():\n",
    "    # Filtrar puntos por litología\n",
    "    df = modelo[modelo[\"LITO\"] == lito]\n",
    "\n",
    "    # Crear PolyData\n",
    "    puntos = pv.PolyData(df[[\"X\", \"Y\", \"Z\"]].values)\n",
    "\n",
    "    # Crear un cubo que servirá como el glyph para cada punto\n",
    "    cubo = pv.Cube(x_length=10.0, y_length=10.0, z_length=10.0)\n",
    "\n",
    "    # Aplicar glyphs para visualizar cada punto como un cubo\n",
    "    glyphs = puntos.glyph(orient=False, scale=1, geom=cubo)\n",
    "\n",
    "    # Añadir los glyphs al plotter con el color correspondiente\n",
    "    plotter.add_mesh(glyphs, color=color, label=lito)\n",
    "\n",
    "# Personalizar la leyenda\n",
    "legend_params = {\n",
    "    \"labels\": None,         # Usar las etiquetas especificadas en add_mesh\n",
    "    \"bcolor\": \"black\",      # Color de fondo blanco\n",
    "    \"border\": True,         # Habilitar borde\n",
    "    \"size\": (0.2, 0.2),     # Tamaño de la leyenda\n",
    "    \"loc\": \"upper right\",   # Ubicación de la leyenda\n",
    "    \"face\": \"rectangle\",    # Forma de los íconos de la leyenda\n",
    "}\n",
    "\n",
    "# Añadir leyenda para identificar cada litología por color\n",
    "plotter.add_legend(**legend_params)\n",
    "\n",
    "# Mostrar la cuadrícula (grid) con líneas de color blanco\n",
    "plotter.show_grid(color=\"white\", font_size=10)\n",
    "\n",
    "# Esto coloca la cámara a cierta distancia, mirando hacia una posición específica, con (0, 0, 1) como el vector de vista vertical\n",
    "camera_distance = (4800, -3200, 4500) # x, y, z\n",
    "camera_view = (0, 1600, 0) # x, y, z\n",
    "camera_position = [camera_distance, camera_view, (0, 0, 1)]\n",
    "\n",
    "# Mostrar la visualización\n",
    "plotter.camera_position = camera_position\n",
    "plotter.show()"
   ]
  },
  {
   "cell_type": "markdown",
   "id": "27b5bcd6-9779-4631-a8af-23be6b08ec84",
   "metadata": {},
   "source": [
    "***"
   ]
  }
 ],
 "metadata": {
  "kernelspec": {
   "display_name": "Python 3 (ipykernel)",
   "language": "python",
   "name": "python3"
  },
  "language_info": {
   "codemirror_mode": {
    "name": "ipython",
    "version": 3
   },
   "file_extension": ".py",
   "mimetype": "text/x-python",
   "name": "python",
   "nbconvert_exporter": "python",
   "pygments_lexer": "ipython3",
   "version": "3.11.5"
  }
 },
 "nbformat": 4,
 "nbformat_minor": 5
}
