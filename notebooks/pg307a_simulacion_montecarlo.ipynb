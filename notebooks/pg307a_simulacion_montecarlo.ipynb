{
 "cells": [
  {
   "cell_type": "markdown",
   "id": "3326651e-dc34-41c6-96ba-c751212f266d",
   "metadata": {
    "tags": []
   },
   "source": [
    "<span style=\"color:lightgreen; font-size:30px\">**PG307 - Geotecnia**</span>\n",
    "***\n",
    "<span style=\"color:gold; font-size:30px\">**Estimación de la probabilidad de fallo en un talud**</span>\n",
    "***\n",
    "\n",
    "<span style=\"font-size:20px\"> **Autor: Kevin Alexander Gómez** </span>\n",
    "\n",
    "<span style=\"font-size:16px\"> **Contacto: kevinalexandr19@gmail.com | [Linkedin](https://www.linkedin.com/in/kevin-alexander-g%C3%B3mez-2b0263111/) | [Github](https://github.com/kevinalexandr19)** </span>\n",
    "\n",
    "***"
   ]
  },
  {
   "cell_type": "markdown",
   "id": "c58038a8-b25c-4cab-bb7c-1cd411dcb64e",
   "metadata": {
    "tags": []
   },
   "source": [
    "Bienvenido al curso PG307 - Geotecnia!!!\n",
    "\n",
    "Vamos a revisar aplicaciones de <span style=\"color:gold\">geotecnia</span> usando código en Python.\\\n",
    "Es necesario que tengas un conocimiento previo en programación con Python, geología general y geomecánica.\n",
    "\n",
    "<span style=\"color:lightgreen\"> Este notebook es parte del proyecto [**Python para Geólogos**](https://github.com/kevinalexandr19/manual-python-geologia), y ha sido creado con la finalidad de facilitar el aprendizaje en Python para estudiantes y profesionales en el campo de la Geología. </span>\n",
    "\n",
    "En el siguiente índice, encontrarás los temas que componen este notebook:"
   ]
  },
  {
   "cell_type": "markdown",
   "id": "1540e3d6-dfee-417b-97fd-f16d3cb9a76c",
   "metadata": {
    "tags": []
   },
   "source": [
    "## **Índice**\n",
    "***\n",
    "- [Predicción de la probabilidad de deslizamiento](#parte1)\n",
    "- [Modelo de estabilidad de talud infinito](#parte2)\n",
    "- [¿Qué es una simulación de Montecarlo?](#parte3)\n",
    "- [Simulación de Montecarlo para el análisis de incertidumbre](#parte4)\n",
    "***"
   ]
  },
  {
   "cell_type": "markdown",
   "id": "e0a37c71-1aa9-4e6a-8d12-266d4aa9a5df",
   "metadata": {},
   "source": [
    "Antes de empezar tu camino en programación geológica...\\\n",
    "Recuerda que puedes ejecutar un bloque de código usando `Shift` + `Enter`:"
   ]
  },
  {
   "cell_type": "code",
   "execution_count": null,
   "id": "647e3583-d41a-4988-8c21-2aa0e03154b2",
   "metadata": {},
   "outputs": [],
   "source": [
    "2 + 2"
   ]
  },
  {
   "cell_type": "markdown",
   "id": "de867663-b9e7-462b-9074-1d2171cd3db6",
   "metadata": {},
   "source": [
    "Si por error haces doble clic sobre un bloque de texto (como el que estás leyendo ahora mismo), puedes arreglarlo usando también `Shift` + `Enter`."
   ]
  },
  {
   "cell_type": "markdown",
   "id": "48613074-68fa-4afa-ac84-05f92eef5859",
   "metadata": {},
   "source": [
    "***"
   ]
  },
  {
   "cell_type": "markdown",
   "id": "820892fb-6e08-442d-8549-70a3adcd1ae9",
   "metadata": {},
   "source": [
    "<a id=\"parte1\"></a>"
   ]
  },
  {
   "cell_type": "markdown",
   "id": "435d123b-34da-4411-8c7c-d9bf79dc31e1",
   "metadata": {},
   "source": [
    "### <span style=\"color:lightgreen\">**Predicción de la probabilidad de deslizamiento**</span>\n",
    "***\n",
    "\n",
    "Uno de los peligros geológicos más frecuentes en zonas montañosas o accidentadas es el <span style=\"color:gold\">deslizamiento de taludes naturales</span>.\n",
    "\n",
    "Estos deslizamientos pueden conducir al colapso de terraplenes arrastrando viviendas y vehículos, también pueden provocar la ruptura de diques y generar inundaciones.\n",
    "\n",
    "Para taludes naturales con un suelo delgado y superficial, el factor de estabilidad del talud es (según [Skempton y DeLory, 1957](https://www.issmge.org/uploads/publications/1/41/1957_02_0074.pdf)):\n",
    "\n",
    "$\\Large F = \\frac{c}{\\gamma z \\sin(\\alpha) \\cos(\\alpha)} + \\frac{\\tan(\\phi)}{\\tan(\\alpha)} - m \\frac{\\gamma_w \\tan(\\phi)}{\\gamma \\tan(\\alpha)}$\n",
    "\n",
    "Donde:\n",
    "- $c$ es la cohesión del suelo\n",
    "- $\\phi$ es el ángulo de fricción interna del suelo\n",
    "- $\\gamma$ es el peso específico del suelo\n",
    "- $\\gamma_w$ es el peso específico del agua\n",
    "- $\\alpha$ es la inclinación del talud con respecto a la horizontal, mayor a 0\n",
    "- $z$ es la profundidad de la superficie de deslizamiento\n",
    "- $z_w$ es la altura del nivel freático por encima de la superficie de deslizamiento\n",
    "- $m$ es el grado de saturación del suelo, donde\\\n",
    "$\\Large m = \\frac{z_w}{z}$\\\n",
    "  Cuando $m = 1$, la profundidad del nivel freático ha alcanzado la superficie."
   ]
  },
  {
   "cell_type": "markdown",
   "id": "65dc40b8-0244-44e6-92ac-a04aa3433d32",
   "metadata": {},
   "source": [
    "Esta ecuación es conocida como el <span style=\"color:gold\">modelo de estabilidad de talud infinito</span>.\\\n",
    "En este modelo, se analiza un bloque superficial con un determinado espesor y una altura de nivel freático, y se supone una falla paralela a la superficie del terreno.\n",
    "\n",
    "<img src=\"resources/infinite_slope_model.png\" alt=\"Modelo de talud infinito\" width=\"600\"/>\n",
    "\n",
    "\n",
    "El criterio de falla ocurre cuando <span style=\"color:lightgreen\">$F < 1$</span>.\\\n",
    "Para <span style=\"color:lightgreen\">$1 < F < 1.25$</span> el talud es moderadamente susceptible.\\\n",
    "Para <span style=\"color:lightgreen\">$1.25 < F < 1.5$</span> el talud es ligeramente susceptible.\\\n",
    "Por último, para <span style=\"color:lightgreen\">$F > 1.5$</span> el talud se considera no susceptible o estable."
   ]
  },
  {
   "cell_type": "markdown",
   "id": "fc07a291-76de-401f-a019-61d6b2afb8c0",
   "metadata": {},
   "source": [
    "***"
   ]
  },
  {
   "cell_type": "markdown",
   "id": "b9f85e72-a01a-46c2-88a2-42700081cc24",
   "metadata": {},
   "source": [
    "<a id=\"parte2\"></a>"
   ]
  },
  {
   "cell_type": "markdown",
   "id": "649f81e4-ac81-4c68-9428-45833f4642bf",
   "metadata": {},
   "source": [
    "### <span style=\"color:lightgreen\">**Modelo de estabilidad de talud infinito**</span>\n",
    "***"
   ]
  },
  {
   "cell_type": "code",
   "execution_count": null,
   "id": "fce9a18c-2b76-409c-a599-c35017effabe",
   "metadata": {},
   "outputs": [],
   "source": [
    "from typing import NamedTuple\n",
    "\n",
    "import numpy as np\n",
    "import matplotlib.pyplot as plt\n",
    "plt.style.use(\"bmh\")\n",
    "\n",
    "import scipy.stats as stats"
   ]
  },
  {
   "cell_type": "markdown",
   "id": "190d9bf0-86e0-4ae5-bc98-caa186cce39c",
   "metadata": {},
   "source": [
    "Ahora, crearemos una tupla nombrada (`NamedTuple`) que contenga unos parámetros iniciales del modelo de estabilidad:"
   ]
  },
  {
   "cell_type": "code",
   "execution_count": null,
   "id": "2b5e6476-b2b3-4210-95ed-545bbcb31da7",
   "metadata": {},
   "outputs": [],
   "source": [
    "class Params(NamedTuple):\n",
    "    z: float = 5\n",
    "    z_w: float = 2.5\n",
    "    m: float = 0.5\n",
    "    c: float = 25\n",
    "    phi: float = np.radians(30)\n",
    "    alpha: float = np.radians(35)\n",
    "    gamma: float = 20\n",
    "    gamma_w: float = 9.81"
   ]
  },
  {
   "cell_type": "code",
   "execution_count": null,
   "id": "ccfeb141-07ce-4726-b4e9-ebfa7502dce2",
   "metadata": {},
   "outputs": [],
   "source": [
    "def slope_stability(p: Params):\n",
    "    c1 = p.c / (p.gamma * p.z * np.sin(p.alpha) * np.cos(p.alpha))\n",
    "    c2 = np.tan(p.phi) / np.tan(p.alpha)\n",
    "    c3 = p.m * p.gamma_w * np.tan(p.phi) / (p.gamma * np.tan(p.alpha))\n",
    "    return c1 + c2 - c3"
   ]
  },
  {
   "cell_type": "code",
   "execution_count": null,
   "id": "eed4c945-cd6b-4b36-9aad-8a0b30b2af1e",
   "metadata": {},
   "outputs": [],
   "source": [
    "slope_stability(Params())"
   ]
  },
  {
   "cell_type": "markdown",
   "id": "57033644-cdd7-448a-a7e0-0ca82ac01b8a",
   "metadata": {},
   "source": [
    "Usando los parámetros iniciales, obtenemos un valor de <span style=\"color:lightgreen\">$F = 1.15$</span>.\\\n",
    "Esto significa que el talud es moderadamente susceptible."
   ]
  },
  {
   "cell_type": "markdown",
   "id": "4e7e6cb7-1123-4636-946a-aa77c4819b19",
   "metadata": {},
   "source": [
    "Ahora, analizaremos este modelo de estabilidad de una manera intuitiva.\\\n",
    "Para esto, usaremos los parámetros de inclinación ($\\alpha$) y grado de saturación del suelo ($m$).\\\n",
    "Vamos a verificar que la probabilidad de fallo aumenta ($F$ disminuye) cuando alguno de estos dos parámetros aumenta su valor. Los demás valores iniciales permanecerán igual."
   ]
  },
  {
   "cell_type": "markdown",
   "id": "06a42f7e-12f9-46fd-9a7c-ad15e0e0d9b6",
   "metadata": {},
   "source": [
    "***\n",
    "<span style=\"color:gold\">**Ángulo de inclinación ($\\alpha$)**</span>\n",
    "\n",
    "Crearemos una función que remplace el valor de inclinación dentro del conjunto de parámetros iniciales:"
   ]
  },
  {
   "cell_type": "code",
   "execution_count": null,
   "id": "ea4ff3dd-461f-409c-bd48-c77ccf21b220",
   "metadata": {},
   "outputs": [],
   "source": [
    "def slope_stability_alpha(alpha):\n",
    "    params = Params(alpha=np.radians(alpha))\n",
    "    return slope_stability(params)"
   ]
  },
  {
   "cell_type": "markdown",
   "id": "82afd8e3-5f94-48e8-ab53-a24f4155c0e8",
   "metadata": {},
   "source": [
    "Estableceremos el rango de valores a evaluar y lo asignaremos a `support`, el resultado de la evaluación será asignado a `output`:"
   ]
  },
  {
   "cell_type": "code",
   "execution_count": null,
   "id": "67147352-76aa-4b79-a929-c21d758be725",
   "metadata": {},
   "outputs": [],
   "source": [
    "support = np.linspace(1, 45, 100)\n",
    "output = np.array([slope_stability_alpha(a) for a in support])"
   ]
  },
  {
   "cell_type": "markdown",
   "id": "6d99f699-ae91-4279-b3a0-94b642616274",
   "metadata": {},
   "source": [
    "Graficamos los resultados:"
   ]
  },
  {
   "cell_type": "code",
   "execution_count": null,
   "id": "ad846071-0947-4df5-ba3c-ea7fb9cbac6c",
   "metadata": {},
   "outputs": [],
   "source": [
    "fig, ax = plt.subplots(figsize=(7, 5))\n",
    "\n",
    "ax.plot(support, output, label=\"$F$\")\n",
    "ax.axhline(y=1, color=\"r\", label=r\"$F=1$\")\n",
    "\n",
    "ax.set_xlabel(r\"Inclinación del talud ($\\alpha$)\", fontsize=12)\n",
    "ax.set_ylabel(r\"Factor de estabilidad del talud ($F$)\", fontsize=12)\n",
    "\n",
    "ax.legend(prop={\"size\": 16})\n",
    "\n",
    "plt.show()"
   ]
  },
  {
   "cell_type": "markdown",
   "id": "37b4e26b-df05-4775-8865-58f02b0d5d89",
   "metadata": {},
   "source": [
    "***\n",
    "<span style=\"color:gold\">**Grado de saturación del suelo ($m$)**</span>\n",
    "\n",
    "Crearemos una función que remplace el valor de inclinación dentro del conjunto de parámetros iniciales:"
   ]
  },
  {
   "cell_type": "code",
   "execution_count": null,
   "id": "fb14daea-fdf5-48c1-9259-b2578dcd5111",
   "metadata": {},
   "outputs": [],
   "source": [
    "def slope_stability_m(m):\n",
    "    params = Params(m=m)\n",
    "    return slope_stability(params)"
   ]
  },
  {
   "cell_type": "markdown",
   "id": "ab5c4c80-cf09-401e-a20b-c44e5b3b41b9",
   "metadata": {},
   "source": [
    "Estableceremos el rango de valores a evaluar y lo asignaremos a `support`, el resultado de la evaluación será asignado a `output`:"
   ]
  },
  {
   "cell_type": "code",
   "execution_count": null,
   "id": "2aadcfbb-1966-4bc7-8629-1734fcfd240c",
   "metadata": {},
   "outputs": [],
   "source": [
    "support = np.linspace(0.05, 0.95, 100)\n",
    "outputs = np.array([slope_stability_m(m) for m in support])"
   ]
  },
  {
   "cell_type": "markdown",
   "id": "4d75b225-9fd8-4a16-bd36-d7b9f12e4563",
   "metadata": {},
   "source": [
    "Graficamos los resultados:"
   ]
  },
  {
   "cell_type": "code",
   "execution_count": null,
   "id": "94ebc72d-20e3-4c4c-8075-003d893a0a67",
   "metadata": {},
   "outputs": [],
   "source": [
    "fig, ax = plt.subplots(figsize=(7, 5))\n",
    "\n",
    "ax.plot(support, outputs, label=\"$F$\")\n",
    "ax.axhline(y=1, color=\"r\", label=\"$F=1$\")\n",
    "\n",
    "ax.set_xlabel(r\"Grado de saturación del suelo ($m$)\", fontsize=12)\n",
    "ax.set_ylabel(r\"Factor de estabilidad del talud ($F$)\", fontsize=12)\n",
    "\n",
    "ax.legend(prop={\"size\": 16})\n",
    "\n",
    "plt.show()"
   ]
  },
  {
   "cell_type": "markdown",
   "id": "3b03d513-0ad2-47f9-b5a6-cd3d8a7bfa9b",
   "metadata": {},
   "source": [
    "***"
   ]
  },
  {
   "cell_type": "markdown",
   "id": "42d4775e-676c-4f17-af74-9ef6ca9166e1",
   "metadata": {},
   "source": [
    "<a id=\"parte3\"></a>"
   ]
  },
  {
   "cell_type": "markdown",
   "id": "64759079-7dc2-4455-8d0b-353e59a366f6",
   "metadata": {},
   "source": [
    "### <span style=\"color:lightgreen\">**¿Qué es una simulación de Montecarlo?**</span>\n",
    "***\n",
    "\n",
    "Realizar una <span style=\"color:gold\">simulación</span> consiste en repetir o duplicar las características y comportamientos de un sistema real (e.g. un proceso geológico).\n",
    "\n",
    "La <span style=\"color:gold\">simulación de Montecarlo</span> es un método estadístico que se utiliza para resolver problemas matemáticos complejos a través de la <span style=\"color:lightgreen\">generación de variables aleatorias</span>.\\\n",
    "Su objetivo principal es intentar imitar el comportamiento de variables reales para, en la medida de lo posible, analizar o predecir cómo van a evolucionar.\n",
    "\n",
    "Realizar una simulación de Montecarlo nos permite <span style=\"color:lightgreen\">analizar la incertidumbre</span> presente en un modelo numérico con la finalidad de obtener intervalos de confianza para sus resultados.\n",
    "***"
   ]
  },
  {
   "cell_type": "markdown",
   "id": "26178b80-cb66-400c-8764-e6450ff376cd",
   "metadata": {},
   "source": [
    "<a id=\"parte4\"></a>"
   ]
  },
  {
   "cell_type": "markdown",
   "id": "eab82dc8-5584-4f9a-b621-217951328532",
   "metadata": {},
   "source": [
    "### <span style=\"color:lightgreen\">**Simulación de Montecarlo para el análisis de incertidumbre**</span>\n",
    "***\n",
    "\n",
    "Los parámetros principales a analizar son la <span style=\"color:lightgreen\">cohesión</span> ($c$) y el <span style=\"color:lightgreen\">ángulo de fricción interna</span> ($\\phi$) del suelo, con coeficientes de variación de 0.20 y 0.25 respectivamente.\\\n",
    "Asumiremos que estas variables $c$ y $\\phi$ tienen una distribución normal.\\\n",
    "Para esto, utilizaremos la función `stats.norm` que genera una distribución normal y el método `rvs` que selecciona una muestra a partir de dicha distribución."
   ]
  },
  {
   "cell_type": "code",
   "execution_count": null,
   "id": "3dfdf2b0-f127-478b-be30-a0d23f052634",
   "metadata": {},
   "outputs": [],
   "source": [
    "# Selección de un valor aleatorio en una distribución normal N[0, 1]\n",
    "stats.norm(0, 1).rvs()"
   ]
  },
  {
   "cell_type": "markdown",
   "id": "4450e021-cbde-4a00-a877-fa05bb58abc0",
   "metadata": {},
   "source": [
    "Para ejecutar una simulación estocástica, desarrollaremos una función que genere un <span style=\"color:lightgreen\">conjunto aleatorio de valores iniciales</span> para el cálculo de la estabilidad."
   ]
  },
  {
   "cell_type": "code",
   "execution_count": null,
   "id": "bf0eabfd-05ae-41fe-9852-dbd80c6901d2",
   "metadata": {},
   "outputs": [],
   "source": [
    "def random_params(params: Params):\n",
    "    return Params(c=stats.norm(25, 0.2*25).rvs(),\n",
    "                  phi=stats.norm(np.radians(30), 0.25*np.radians(30)).rvs())"
   ]
  },
  {
   "cell_type": "markdown",
   "id": "1b2382ac-ba3f-41ce-a82e-50e510ef552e",
   "metadata": {},
   "source": [
    "Al ejecutar la función `random_params`, obtendremos un conjunto aleatorio de valores iniciales:"
   ]
  },
  {
   "cell_type": "code",
   "execution_count": null,
   "id": "08ebcb04-4b36-47b7-8670-ceae5538213b",
   "metadata": {},
   "outputs": [],
   "source": [
    "random_params(Params())"
   ]
  },
  {
   "cell_type": "markdown",
   "id": "7128dc17-346b-4cc1-a102-665d8f63e273",
   "metadata": {},
   "source": [
    "De igual manera, si evaluamos el conjunto aleatorio usando la función `slope_stability`:"
   ]
  },
  {
   "cell_type": "code",
   "execution_count": null,
   "id": "adf0da13-2ef7-4885-9e62-ea73a611658b",
   "metadata": {},
   "outputs": [],
   "source": [
    "slope_stability(random_params(Params()))"
   ]
  },
  {
   "cell_type": "markdown",
   "id": "cfe7d1eb-3728-461e-8285-f10802233dce",
   "metadata": {},
   "source": [
    "Ahora, ejecutaremos una simulación de Montecarlo para estimar la distribución del factor de seguridad $F$:"
   ]
  },
  {
   "cell_type": "code",
   "execution_count": null,
   "id": "90a71612-bbff-435e-be21-6c2143221a2e",
   "metadata": {},
   "outputs": [],
   "source": [
    "%%time\n",
    "N = 10000\n",
    "sim = np.zeros(N)\n",
    "\n",
    "failed = 0\n",
    "for i in range(N):\n",
    "    sim[i] = slope_stability(random_params(Params()))\n",
    "    if sim[i] < 1:\n",
    "        failed += 1\n",
    "        \n",
    "print(f\"Probabilidad estimada de fallo: {failed/N:.3f}\")"
   ]
  },
  {
   "cell_type": "markdown",
   "id": "aefca53e-c83c-4af9-b5fd-b5a23287b1d0",
   "metadata": {},
   "source": [
    "Recuerda que las simulaciones con un factor de establidad menor a 1 (a la izquierda de la línea roja en el histograma) representan deslizamientos de talud."
   ]
  },
  {
   "cell_type": "code",
   "execution_count": null,
   "id": "637b53c3-5480-4eac-8aec-2e811fc52e42",
   "metadata": {},
   "outputs": [],
   "source": [
    "fig, ax = plt.subplots(figsize=(10, 6))\n",
    "ax.hist(sim, bins=40, density=True, alpha=0.5)\n",
    "ax.axvline(x=1, color=\"r\")\n",
    "ax.set_xlabel(\"Factor de estabilidad del talud ($F$)\")\n",
    "plt.show()"
   ]
  },
  {
   "cell_type": "markdown",
   "id": "2a41a1e9-b19b-46f0-9fc0-03f52e53d403",
   "metadata": {},
   "source": [
    "Podemos estimar la probabilidad de fallo del talud en función del ángulo de inclinación del talud ($\\alpha$):"
   ]
  },
  {
   "cell_type": "code",
   "execution_count": null,
   "id": "64068ba0-6afe-4bd6-94e7-2d4d28f98e69",
   "metadata": {},
   "outputs": [],
   "source": [
    "def failure_probability_alpha(alpha):\n",
    "    N = 1000\n",
    "    failed = 0\n",
    "    for i in range(N):\n",
    "        params = random_params(Params())\n",
    "        if slope_stability(params._replace(alpha=np.radians(alpha))) < 1:\n",
    "            failed += 1\n",
    "    return failed / N"
   ]
  },
  {
   "cell_type": "markdown",
   "id": "237ac8b6-b13e-4f88-a96b-72dfa1367dd2",
   "metadata": {},
   "source": [
    "Estableceremos el rango de valores a evaluar y lo asignaremos a `support`, el resultado de la evaluación será asignado a `output`:"
   ]
  },
  {
   "cell_type": "code",
   "execution_count": null,
   "id": "dd8407fc-7d9d-47ea-a39b-378bd81ef870",
   "metadata": {},
   "outputs": [],
   "source": [
    "support = np.linspace(1, 55, 20)\n",
    "output = np.array([failure_probability_alpha(a) for a in support])"
   ]
  },
  {
   "cell_type": "markdown",
   "id": "d45a966b-f52f-4216-9f4d-2644385d0be6",
   "metadata": {},
   "source": [
    "Graficamos los resultados:"
   ]
  },
  {
   "cell_type": "code",
   "execution_count": null,
   "id": "9ddfd9d2-6f56-4761-abc4-5e7e6faf765b",
   "metadata": {},
   "outputs": [],
   "source": [
    "fig, ax = plt.subplots(figsize=(10, 7))\n",
    "ax.plot(support, output)\n",
    "ax.set_xlabel(r\"Ángulo de inclinación del talud ($\\alpha$)\")\n",
    "ax.set_ylabel(\"Probabilidad de fallo\")\n",
    "plt.show()"
   ]
  },
  {
   "cell_type": "markdown",
   "id": "a0f90fe0-c665-4828-b1dc-4e4b3a48f1bc",
   "metadata": {},
   "source": [
    "De manera similar, podemos graficar la probabilidad de fallo del talud en función del grado de saturación del suelo ($m$):"
   ]
  },
  {
   "cell_type": "code",
   "execution_count": null,
   "id": "fdc4039d-457a-4af2-b969-58ba7892c752",
   "metadata": {},
   "outputs": [],
   "source": [
    "def failure_probability_m(m):\n",
    "    N = 1000\n",
    "    failed = 0\n",
    "    for i in range(N):\n",
    "        params = random_params(Params())\n",
    "        if slope_stability(params._replace(m=m)) < 1:\n",
    "            failed += 1\n",
    "    return failed / N"
   ]
  },
  {
   "cell_type": "markdown",
   "id": "a8067bc9-0aed-4cb5-a859-5cf6c0dfe64d",
   "metadata": {},
   "source": [
    "Estableceremos el rango de valores a evaluar y lo asignaremos a `support`, el resultado de la evaluación será asignado a `output`:"
   ]
  },
  {
   "cell_type": "code",
   "execution_count": null,
   "id": "54813f7d-5be3-4d94-9ead-2514f0f09145",
   "metadata": {},
   "outputs": [],
   "source": [
    "support = np.linspace(0.05, 0.95, 20)\n",
    "outputs = np.array([failure_probability_m(m) for m in support])"
   ]
  },
  {
   "cell_type": "markdown",
   "id": "d14b745a-49fe-481f-b01a-138f378bac24",
   "metadata": {},
   "source": [
    "Graficamos los resultados:"
   ]
  },
  {
   "cell_type": "code",
   "execution_count": null,
   "id": "3cc2adda-c6f8-4df8-9e61-32029551bd29",
   "metadata": {
    "tags": []
   },
   "outputs": [],
   "source": [
    "fig, ax = plt.subplots(figsize=(10, 7))\n",
    "ax.plot(support, output)\n",
    "ax.set_xlabel(\"Grado de saturación del suelo ($m$)\")\n",
    "ax.set_ylabel(\"Probabilidad de fallo\")\n",
    "plt.show()"
   ]
  },
  {
   "cell_type": "markdown",
   "id": "2d718330-ee35-4327-b04d-9b07ea5249f5",
   "metadata": {},
   "source": [
    "***"
   ]
  }
 ],
 "metadata": {
  "kernelspec": {
   "display_name": "Python 3 (ipykernel)",
   "language": "python",
   "name": "python3"
  },
  "language_info": {
   "codemirror_mode": {
    "name": "ipython",
    "version": 3
   },
   "file_extension": ".py",
   "mimetype": "text/x-python",
   "name": "python",
   "nbconvert_exporter": "python",
   "pygments_lexer": "ipython3",
   "version": "3.11.5"
  }
 },
 "nbformat": 4,
 "nbformat_minor": 5
}
