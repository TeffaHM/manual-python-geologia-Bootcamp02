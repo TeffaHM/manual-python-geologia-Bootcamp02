{
 "cells": [
  {
   "cell_type": "markdown",
   "id": "2e7e2547-9f91-4864-b240-0eb99516488a",
   "metadata": {
    "jp-MarkdownHeadingCollapsed": true,
    "tags": []
   },
   "source": [
    "<span style=\"color:gold; font-size:30px\">**PG202 - Aprendizaje no supervisado**</span>\n",
    "***\n",
    "\n",
    "<span style=\"font-size:20px\"> **Autor: Kevin Alexander Gómez** </span>\n",
    "\n",
    "<span style=\"font-size:16px\"> **Contacto: kevinalexandr19@gmail.com | [Linkedin](https://www.linkedin.com/in/kevin-alexander-g%C3%B3mez-2b0263111/) | [Github](https://github.com/kevinalexandr19)** </span>\n",
    "***"
   ]
  },
  {
   "cell_type": "markdown",
   "id": "749c691b-c72e-4396-9284-7946cfe6f4fd",
   "metadata": {
    "tags": []
   },
   "source": [
    "Bienvenido al curso PG202 - Aprendizaje no supervisado!!!\n",
    "\n",
    "Vamos a revisar las bases del <span style=\"color:gold\">aprendizaje no supervisado</span> y su aplicación en Geología usando código en Python.\\\n",
    "Es necesario que tengas un conocimiento previo en programación con Python, álgebra lineal, estadística y geología.\n",
    "\n",
    "<span style=\"color:lightgreen\"> Este notebook es parte del proyecto [**Python para Geólogos**](https://github.com/kevinalexandr19/manual-python-geologia), y ha sido creado con la finalidad de facilitar el aprendizaje en Python para estudiantes y profesionales en el campo de la Geología. </span>\n",
    "\n",
    "En la siguiente lista verás todos los notebooks que necesitarás completar para aprender a programar en Python:"
   ]
  },
  {
   "cell_type": "markdown",
   "id": "042a0b1e-24b3-477b-bdb8-fc1c97ee28d4",
   "metadata": {
    "tags": []
   },
   "source": [
    "## **Índice**\n",
    "***\n",
    "1. [¿Qué es el aprendizaje no supervisado?](#parte-1)\n",
    "2. [Análisis de componentes principales (PCA) (en desarrollo)](pg202a_pca.ipynb)\n",
    "3. [Clustering con K-means (en desarrollo)](pg202b_kmeans.ipynb)\n",
    "\n",
    "***"
   ]
  },
  {
   "cell_type": "markdown",
   "id": "5ac2b822-63ad-4200-9775-6f2b04ae9dbd",
   "metadata": {},
   "source": [
    "<a id=\"parte1\"></a>"
   ]
  },
  {
   "cell_type": "markdown",
   "id": "30ff2af4-78cc-444e-85e2-2d201399494f",
   "metadata": {},
   "source": [
    "Antes de empezar tu camino en programación geológica...\\\n",
    "Recuerda que puedes ejecutar un bloque de código usando `Shift` + `Enter`:"
   ]
  },
  {
   "cell_type": "code",
   "execution_count": null,
   "id": "e8b8ac29-9998-43f2-9855-6e10b6d4f628",
   "metadata": {},
   "outputs": [],
   "source": [
    "2 + 2"
   ]
  },
  {
   "cell_type": "markdown",
   "id": "d134d1d5-2c8e-451d-bbcc-3135a42a1b09",
   "metadata": {},
   "source": [
    "Si por error haces doble clic sobre un bloque de texto (como el que estás leyendo ahora mismo), puedes arreglarlo usando también `Shift` + `Enter`."
   ]
  },
  {
   "cell_type": "markdown",
   "id": "7529fc89-18e2-43d1-b812-6521bc43cdb2",
   "metadata": {},
   "source": [
    "***\n",
    "**Pregunta: ¿Puedo escribir comentarios dentro de un bloque de código?**\n",
    "\n",
    "Respuesta: Sí, para escribir un comentario y anotar algún detalle que busquemos documentar acerca del código, debemos colocar un hash `#` seguido del comentario que queremos hacer."
   ]
  },
  {
   "cell_type": "code",
   "execution_count": null,
   "id": "9015b7eb-6c42-4d4e-b86d-7f45657a86ff",
   "metadata": {},
   "outputs": [],
   "source": [
    "# Esto es una anotación"
   ]
  },
  {
   "cell_type": "code",
   "execution_count": null,
   "id": "e14ee79f-51ad-4fe6-83d1-93d7a4d648eb",
   "metadata": {},
   "outputs": [],
   "source": [
    "# Esto es una anotación\n",
    "2 + 2"
   ]
  },
  {
   "cell_type": "code",
   "execution_count": null,
   "id": "a6a4ad71-ddb6-472e-a84b-d5f66f9df52b",
   "metadata": {},
   "outputs": [],
   "source": [
    "2 + 2 # Esto es una anotación"
   ]
  },
  {
   "cell_type": "code",
   "execution_count": null,
   "id": "75723d26-c459-4c09-ab26-a6b1e6de97de",
   "metadata": {},
   "outputs": [],
   "source": [
    "# Esto es una anotación\n",
    "# Esto es otra anotación\n",
    "2 + 2"
   ]
  },
  {
   "cell_type": "markdown",
   "id": "0a43d9f5-299c-4b5e-a740-bb88af47efcc",
   "metadata": {},
   "source": [
    "***"
   ]
  },
  {
   "cell_type": "markdown",
   "id": "5ec3eeef-7400-4b8d-8bb3-a42c24578471",
   "metadata": {},
   "source": [
    "<a id=\"parte-1\"></a>"
   ]
  },
  {
   "cell_type": "markdown",
   "id": "15427430-7685-4a70-b001-10bf12a8c017",
   "metadata": {
    "tags": []
   },
   "source": [
    "### <span style=\"color:lightgreen\">**¿Qué es el aprendizaje no supervisado?**</span>\n",
    "***\n",
    "\n",
    "El <span style=\"color:gold\">aprendizaje no supervisado</span> es un tipo de aprendizaje automático en el que el modelo se entrena con datos no etiquetados, es decir, no se proporciona ninguna información sobre las etiquetas de los datos de entrada.\n",
    "\n",
    "<span style=\"color:#43c6ac\">El objetivo del aprendizaje no supervisado es encontrar patrones, estructuras o relaciones ocultas en los datos sin la ayuda de información previa.</span>\n",
    "\n",
    "El modelo se ajusta a los datos y aprende a identificar similitudes y diferencias entre ellos.\n",
    "\n",
    "Debido a que estos modelos no tienen ninguna información previa sobre la naturaleza de los datos, son herramientas ideales para descubrir patrones complejos y estructuras desconocidas en grandes conjuntos de datos.\n",
    "\n",
    "Existen diferentes tipos de algoritmos de aprendizaje no supervisado, como el <span style=\"color:gold\">clustering o agrupamiento</span> y la <span style=\"color:gold\">reducción de la dimensionalidad</span>.\n",
    "\n",
    "- En el **clustering**, el objetivo es agrupar los datos en diferentes grupos o clústeres en función de su similitud o distancia entre ellos.\n",
    "- En la **reducción de la dimensionalidad**, el objetivo es reducir la complejidad del conjunto de datos mediante la eliminación de características redundantes o irrelevantes."
   ]
  },
  {
   "cell_type": "markdown",
   "id": "465946f2-1d01-4d24-bd2f-a7c54de929cf",
   "metadata": {},
   "source": [
    "El aprendizaje no supervisado se puede aplicar en geología para diversas tareas, como por ejemplo:\n",
    "\n",
    "- **Segmentación de datos geofísicos:** \\\n",
    "El aprendizaje no supervisado se puede utilizar para segmentar datos geofísicos en diferentes zonas o estructuras en función de su similitud o patrones de comportamiento.\\\n",
    "Por ejemplo, se puede utilizar clustering para segmentar datos sísmicos y identificar diferentes capas o estructuras del subsuelo.\n",
    "\n",
    "- **Exploración de datos geológicos:** \\\n",
    "El aprendizaje no supervisado se puede utilizar para explorar grandes conjuntos de datos geológicos y descubrir patrones o relaciones ocultas entre ellos.\\\n",
    "Por ejemplo, se puede utilizar reducción de la dimensionalidad para reducir la complejidad de los datos y facilitar su análisis y visualización.\n",
    "\n",
    "- **Detección de anomalías en datos de sensores remotos:** \\\n",
    "El aprendizaje no supervisado se puede utilizar para detectar anomalías en datos de sensoramiento remoto, como imágenes satelitales o LiDAR.\\\n",
    "Por ejemplo, se puede utilizar detección de anomalías para identificar áreas con características inusuales en imágenes de alta resolución.\n",
    "\n",
    "- **Clasificación de materiales geológicos:** \\\n",
    "El aprendizaje no supervisado se puede utilizar para clasificar diferentes tipos de materiales geológicos en función de sus características espectrales.\\\n",
    "Por ejemplo, se puede utilizar clustering espectral para segmentar imágenes hiperespectrales y identificar diferentes tipos de materiales geológicos en función de su espectro de reflectancia.\n",
    "\n",
    "***"
   ]
  }
 ],
 "metadata": {
  "kernelspec": {
   "display_name": "Python 3 (ipykernel)",
   "language": "python",
   "name": "python3"
  },
  "language_info": {
   "codemirror_mode": {
    "name": "ipython",
    "version": 3
   },
   "file_extension": ".py",
   "mimetype": "text/x-python",
   "name": "python",
   "nbconvert_exporter": "python",
   "pygments_lexer": "ipython3",
   "version": "3.11.5"
  }
 },
 "nbformat": 4,
 "nbformat_minor": 5
}
