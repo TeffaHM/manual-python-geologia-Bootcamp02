{
 "cells": [
  {
   "cell_type": "markdown",
   "id": "86e0ed5b-824e-41ae-b539-c51b9ca758ce",
   "metadata": {
    "jp-MarkdownHeadingCollapsed": true,
    "tags": []
   },
   "source": [
    "<span style=\"color:gold; font-size:30px\">**PG099 - Ejercicios de Python para Geología (Solucionario)**</span>\n",
    "***\n",
    "\n",
    "<span style=\"font-size:20px\"> **Autor: Kevin Alexander Gómez** </span>\n",
    "\n",
    "<span style=\"font-size:16px\"> **Contacto: kevinalexandr19@gmail.com | [Linkedin](https://www.linkedin.com/in/kevin-alexander-g%C3%B3mez-2b0263111/) | [Github](https://github.com/kevinalexandr19)** </span>\n",
    "***"
   ]
  },
  {
   "cell_type": "markdown",
   "id": "d90dcab3-f0c6-493b-9681-d8a39e14c456",
   "metadata": {
    "tags": []
   },
   "source": [
    "Bienvenido al Solucionario de PG099 - Ejercicios de Python para Geología!!!\n",
    "\n",
    "En este documento encontrarás <span style=\"color:gold\">problemas de Geología</span> cuya solución ha sido desarrollada a través del uso de Python.\n",
    "\n",
    "Es necesario que tengas un conocimiento previo en Python, geología general, matemática y estadística.\n",
    "\n",
    "<span style=\"color:lightgreen\"> Este notebook es parte del proyecto [**Python para Geólogos**](https://github.com/kevinalexandr19/manual-python-geologia), y ha sido creado con la finalidad de facilitar el aprendizaje en Python para estudiantes y profesionales en el campo de la Geología. </span>"
   ]
  },
  {
   "cell_type": "markdown",
   "id": "e1c25fe9-f00e-4a4a-8cec-be8a7d20f2d0",
   "metadata": {
    "tags": []
   },
   "source": [
    "***\n",
    "### <span style=\"color:lightgreen\">**1. Reporte de resultados en una mina**</span>\n",
    "\n",
    "Una mina de Au obtuvo los siguientes resultados de producción para un determinado semestre:\n",
    "\n",
    "| Mes | Au (onzas) |\n",
    "| --- | --- |\n",
    "| Enero | 80 |\n",
    "| Febrero | 105 |\n",
    "| Marzo | 45 |\n",
    "| Abril | 80 |\n",
    "| Mayo | 75 |\n",
    "| Junio | 125 |\n",
    "\n",
    "Para obtener un reporte general de los resultados, se pide:\n",
    " - El total de onzas Au producidas en el semestre. Asignarlo a la variable `total`.\n",
    " - El costo de operación mensual de la mina fue de 40000 dólares. Asignarlo a la variable `costo_operacion`.\n",
    " - El precio de una onza de Au es de 1000 dólares. Asignarlo a la variable `precio`.\n",
    " - Usando estas tres variables, calcular la ganancia semestral de la mina asignándola a la variable `ganancia`.\n",
    " - Mostrar el resultado general usando la función `print`, usando el siguiente formato:\\\n",
    " `\"Durante el semestre, la mina produjo ___ onzas de Au con una ganancia total de ___ dólares\"`"
   ]
  },
  {
   "cell_type": "code",
   "execution_count": null,
   "id": "6ea317e4-7dc1-4eeb-8eea-f4eb43907da7",
   "metadata": {},
   "outputs": [],
   "source": [
    "total = 80 + 105 + 45 + 80 + 75 + 125\n",
    "costo_operacion = 40000\n",
    "precio = 1000"
   ]
  },
  {
   "cell_type": "code",
   "execution_count": null,
   "id": "8c67f2a9-843b-4d3c-8639-961e2240dd30",
   "metadata": {},
   "outputs": [],
   "source": [
    "ganancia = total*precio - costo_operacion*6"
   ]
  },
  {
   "cell_type": "code",
   "execution_count": null,
   "id": "abc801e3-1d71-4e32-ae91-87d1254ae379",
   "metadata": {},
   "outputs": [],
   "source": [
    "print(f\"Durante el semestre, la mina produjo {total} onzas de Au con una ganancia total de {ganancia} dólares\")"
   ]
  },
  {
   "cell_type": "markdown",
   "id": "bd1713d5-6145-477c-a162-a2d2b756413d",
   "metadata": {},
   "source": [
    "***\n",
    "### <span style=\"color:lightgreen\">**2. Riesgo geológico en una edificación**</span>\n",
    "¿Cuál es la probabilidad de que un edificio sufra un terremoto de magnitud 7 teniendo en cuenta que su vida útil es de 100 años, y el período de retorno del terremoto es de 500 años?.\\\n",
    "Usar la siguiente fórmula para el cálculo de la probabilidad de excedencia:\n",
    "\n",
    "<center> $\\Large p = 1 - (1 - \\frac{1}{T})^{t}$ </center>\n",
    "\n",
    "Donde:\n",
    "\n",
    "- $p$ : probabilidad de excedencia\n",
    "- $t$ : vida útil de la estructura\n",
    "- $T$ : período de retorno"
   ]
  },
  {
   "cell_type": "code",
   "execution_count": null,
   "id": "c6b3ccac-a7be-4481-9d93-20e040a835a2",
   "metadata": {},
   "outputs": [],
   "source": [
    "t = 100\n",
    "T = 500\n",
    "p = 1 - (1 - (1/T))**t"
   ]
  },
  {
   "cell_type": "code",
   "execution_count": null,
   "id": "2f504959-903d-4beb-a0e5-3e2f987104e3",
   "metadata": {},
   "outputs": [],
   "source": [
    "print(p)"
   ]
  },
  {
   "cell_type": "markdown",
   "id": "d8dd93e7-f775-4542-916a-a68c190e8688",
   "metadata": {},
   "source": [
    "Respuesta: la probabilidad de que la edificación sufra un terremoto de magnitud 7 es de $18\\%$."
   ]
  },
  {
   "cell_type": "markdown",
   "id": "7099b717-6b43-44e0-8b0f-9d4e4dfcb8ba",
   "metadata": {
    "tags": []
   },
   "source": [
    "***\n",
    "### <span style=\"color:lightgreen\">**3. Propagación de ondas sísmicas**</span>\n",
    "\n",
    "Un sismo fue detectado dentro de una estación de observación.\\\n",
    "La llegada de las ondas P se produjo a las 10h 23m 37s, mientras que a las 10h 24m 22s, se registraron las ondas S.\\\n",
    "Las velocidades estimadas de las ondas sísmisca fueron: $V_{P}=7.2 \\space km/s$ y $V_{S}=4.15 \\space km/s$.\n",
    "\n",
    "Utilizando el siguiente modelo de propagación de ondas sísmicas, calcular la distancia al epicentro del sismo:\n",
    "<center> $ \\Large d = \\frac{T_{S} - T_{P}}{\\frac{1}{V_{S}} - \\frac{1}{V_{P}}} $ </center>\n",
    "\n",
    "Donde:\n",
    "- $d$: distancia al epicentro del sismo\n",
    "- $V_{P}$, $V_{S}$: velocidad de las ondas sísmicas P y S\n",
    "- $T_{P}$, $T_{S}$: tiempo de llegada de las ondas sísmicas P y S"
   ]
  },
  {
   "cell_type": "markdown",
   "id": "e1180711-aedb-4eee-899f-e8b42c5183c7",
   "metadata": {},
   "source": [
    "Asignando los valores de velocidad y tiempo a las variables `vp` y `vs`:"
   ]
  },
  {
   "cell_type": "code",
   "execution_count": null,
   "id": "78a05cf9-9760-42c1-8055-4c631e5844d1",
   "metadata": {},
   "outputs": [],
   "source": [
    "vp, vs = 7.2, 4.15"
   ]
  },
  {
   "cell_type": "markdown",
   "id": "19528613-c4b5-4998-8f6e-98fba2471b2a",
   "metadata": {},
   "source": [
    "Calculando los tiempos de llegada de las ondas `tp` y `ts` en segundos:"
   ]
  },
  {
   "cell_type": "code",
   "execution_count": null,
   "id": "3d01ca98-9cbd-4bec-a69f-282fc95c6589",
   "metadata": {},
   "outputs": [],
   "source": [
    "tp = 10*3600 + 23*60 + 37\n",
    "ts = 10*3600 + 24*60 + 22"
   ]
  },
  {
   "cell_type": "markdown",
   "id": "86ffb331-1b7b-4d70-8733-b11caa425941",
   "metadata": {},
   "source": [
    "Aplicando la primera fórmula, obtenemos la distancia al epicentro:"
   ]
  },
  {
   "cell_type": "code",
   "execution_count": null,
   "id": "1017e4c7-8eec-4e04-9e89-d86f9673a61a",
   "metadata": {},
   "outputs": [],
   "source": [
    "d = (ts - tp) / ((1/vs) - (1/vp))"
   ]
  },
  {
   "cell_type": "code",
   "execution_count": null,
   "id": "6c00dbc6-0c9f-4129-a890-390cef076c99",
   "metadata": {},
   "outputs": [],
   "source": [
    "print(d)"
   ]
  },
  {
   "cell_type": "markdown",
   "id": "e03c760b-b54d-412b-ad11-47ed69ecd8f2",
   "metadata": {},
   "source": [
    "La distancia de la estación al epicentro del sismo fue de 440.85 km."
   ]
  },
  {
   "cell_type": "markdown",
   "id": "55642993-54bd-41ba-9685-7ad858f68095",
   "metadata": {
    "tags": []
   },
   "source": [
    "***\n",
    "### <span style=\"color:lightgreen\">**4. Clasificación de rocas ígneas**</span>\n",
    "\n",
    "Para clasificar una roca ígnea de acuerdo a su contenido de sílice (SiO$_{2}$), se recomienda el siguiente criterio:\n",
    "\n",
    "- Rocas ígneas ultramáficas: contienen menos del 45% de SiO2. Ejemplos de estas rocas son la peridotita y la dunita.\n",
    "- Rocas ígneas máficas: contienen entre el 45% y el 52% de SiO2. Ejemplos de estas rocas son el basalto y la gabro.\n",
    "- Rocas ígneas intermedias: contienen entre el 52% y el 66% de SiO2. Ejemplos de estas rocas son la andesita y la diorita.\n",
    "- Rocas ígneas félsicas: contienen más del 66% de SiO2. Ejemplos de estas rocas son el granito y la riolita.\n",
    "\n",
    "Usando condicionales, crear un programa que pida al usuario ingresar un valor numérico de sílice y determine la clasificación de una roca ígnea en base a dicho contenido."
   ]
  },
  {
   "cell_type": "code",
   "execution_count": null,
   "id": "5ed140f1-96a0-425f-a78b-a005a080cdb0",
   "metadata": {},
   "outputs": [],
   "source": [
    "silice = float(input(\"Ingrese el contenido de sílice (%):\"))\n",
    "\n",
    "if silice < 45:\n",
    "    print(\"La roca ígnea es ultramáfica.\")\n",
    "elif 45 <= silice < 52:\n",
    "    print(\"La roca ígnea es máfica.\")\n",
    "elif 52 <= silice < 66:\n",
    "    print(\"La roca ígnea es intermedia.\")\n",
    "elif silice >= 66:\n",
    "    print(\"La roca ígnea es félsica.\")"
   ]
  },
  {
   "cell_type": "markdown",
   "id": "ef8cc0f4-d7ab-46cf-8bff-2615662149a7",
   "metadata": {
    "tags": []
   },
   "source": [
    "***\n",
    "### <span style=\"color:lightgreen\">**5. Mineralogía de una muestra de roca (Parte 1)**</span>\n",
    "\n",
    "Una muestra de granodiorita tiene la siguiente composición mineralógica: cuarzo $(48\\%)$, plagioclasas $(27\\%)$, feldespato $(11\\%)$, biotita $(8\\%)$, pirita $(6\\%)$.\\\n",
    "Crear un diccionario en Python que guarde la mineralogía de la muestra, el porcentaje debe ser representado en fracción (ejemplo: 25% es igual a 0.25)."
   ]
  },
  {
   "cell_type": "code",
   "execution_count": null,
   "id": "635d9045-1ce0-413e-99ef-1c9203a15c43",
   "metadata": {},
   "outputs": [],
   "source": [
    "muestra = {\"cuarzo\": 0.48, \"plagioclasas\": 0.27, \"feldespato\": 0.11, \"biotita\": 0.08, \"pirita\": 0.06}"
   ]
  },
  {
   "cell_type": "code",
   "execution_count": null,
   "id": "84c8ee13-78b7-49b5-b235-7678c91f7b72",
   "metadata": {},
   "outputs": [],
   "source": [
    "muestra"
   ]
  },
  {
   "cell_type": "markdown",
   "id": "307ebd99-9696-48bc-ab49-f67f16f460dd",
   "metadata": {},
   "source": [
    "### <span style=\"color:lightgreen\">**6. Mineralogía de una muestra de roca (Parte 2)**</span>\n",
    "\n",
    "Usando el diccionario obtenido en el ejercicio **3**, crear un bucle definido que muestre el nombre y el porcentaje de cada mineral.\\\n",
    "Usar el siguiente formato: `Abundancia de ____ en la muestra: _____ %`\n",
    "> Nota: usar la función `print` para mostrar los resultados de cada mineral."
   ]
  },
  {
   "cell_type": "code",
   "execution_count": null,
   "id": "c8a333d2-575d-449e-953a-27c5434034ec",
   "metadata": {},
   "outputs": [],
   "source": [
    "for mineral, porcentaje in muestra.items():\n",
    "    print(f\"Abundancia de {mineral} en la muestra: {porcentaje:.0%}\")"
   ]
  },
  {
   "cell_type": "markdown",
   "id": "62422aec-03a5-4905-9cfc-177ef81ceb71",
   "metadata": {},
   "source": [
    "***\n",
    "### <span style=\"color:lightgreen\">**7. Normalización de porcentajes para clasificación petrográfica (Parte 1)**</span>\n",
    "\n",
    "Crear una función de nombre `streckeisen` con las siguientes características:\n",
    "- La función usará como parámetro de entrada a un **diccionario**.\n",
    "- La función tomará los porcentajes de `cuarzo`, `feldespato` y `plagioclasas` del diccionario y los normalizará.\n",
    "- La función debe devolver como resultado un diccionario conteniendo solamente los 3 minerales y sus respectivos porcentajes normalizados.\n",
    "\n",
    "Usar el diccionario del ejercicio **3** en la función y mostrar el resultado final."
   ]
  },
  {
   "cell_type": "code",
   "execution_count": null,
   "id": "2ca12420-e3ef-4753-bc60-d3d0d39764f4",
   "metadata": {},
   "outputs": [],
   "source": [
    "def streckeisen(diccionario):\n",
    "    cz = diccionario.get(\"cuarzo\", 0)\n",
    "    plg = diccionario.get(\"plagioclasas\", 0)\n",
    "    fp = diccionario.get(\"feldespato\", 0)\n",
    "    \n",
    "    suma = cz + plg + fp\n",
    "    \n",
    "    cz /= suma\n",
    "    plg /= suma\n",
    "    fp /= suma\n",
    "    \n",
    "    resultado = dict([(\"cuarzo\", cz), (\"plagioclasas\", plg), (\"feldespato\", fp)])\n",
    "    return resultado    "
   ]
  },
  {
   "cell_type": "code",
   "execution_count": null,
   "id": "0fc92ff8-828e-40c1-ab13-5401a07c98be",
   "metadata": {},
   "outputs": [],
   "source": [
    "streckeisen(muestra)"
   ]
  },
  {
   "cell_type": "markdown",
   "id": "03f2caa8-20b3-49f7-a88e-8f8f7b1e98c4",
   "metadata": {},
   "source": [
    "### <span style=\"color:lightgreen\">**8. Normalización de porcentajes para clasificación petrográfica (Parte 2)**</span>\n",
    "\n",
    "Usar la función `streckeisen` creada en el ejercicio **5** para normalizar una muestra con la siguiente mineralogía:\\\n",
    "Cuarzo $(41\\%)$, plagioclasas $(25\\%)$, anfíboles $(17\\%)$, biotita $(12\\%)$, pirita $(5\\%)$.\n",
    "> Nota:  en caso la función no evalúe la muestra de forma correcta o indique error, se deberá modificar la función hasta que pueda resolverla."
   ]
  },
  {
   "cell_type": "code",
   "execution_count": null,
   "id": "6f7ccf20-8d6f-486a-a4c5-71f010714e12",
   "metadata": {},
   "outputs": [],
   "source": [
    "muestra2 = {\"cuarzo\": 0.41, \"plagioclasas\": 0.25, \"anfíboles\": 0.17, \"biotita\": 0.12, \"pirita\": 0.05}"
   ]
  },
  {
   "cell_type": "code",
   "execution_count": null,
   "id": "e9ad8e4c-67fb-443d-acec-df38237a7f97",
   "metadata": {},
   "outputs": [],
   "source": [
    "streckeisen(muestra2)"
   ]
  },
  {
   "cell_type": "markdown",
   "id": "4c17d7dc-fe01-4765-85ba-f1b7c168f6ec",
   "metadata": {
    "tags": []
   },
   "source": [
    "***\n",
    "### <span style=\"color:lightgreen\">**9. Modelo de gradiente geotérmico terrestre (Parte 1)**</span>\n",
    "\n",
    "Bajo cierto punto de la superficie terrestre, la temperatura interna de la Tierra varía de acuerdo al siguiente modelo:\n",
    "- La temperatura promedio en la superficie es de 25°C.\n",
    "- Para los primeros 100km de profundidad, la temperatura aumenta en forma lineal con un gradiente de 15°C/km.\n",
    "- A partir de los 100 km (y hasta un máximo de 6360 km), la temperatura aumenta de acuerdo a la siguiente expresión cuadrática: $ T(z) = -6\\times10^{-5}\\space z^{2} + 1.05\\space z + 1395.6 $\n",
    "\n",
    "Desarrollar una función en Python de nombre `temperatura` que represente este modelo de gradiente geotérmico.\\\n",
    "La función debe tomar como parámetro la profundidad `z` y devolver la siguiente frase: `A una profundidad de z km, la temperatura interna de la Tierra es de T °C`.\\\n",
    "Si el valor de profundidad es negativo o mayor a 6360, la función debe devolver la siguiente frase: `Valor de profundidad z es incorrecto`.\n",
    "\n",
    "Por último, se debe evaluar la función para los siguientes valores de profundidad: -100, 0, 50, 100, 2000 y 6400 km."
   ]
  },
  {
   "cell_type": "markdown",
   "id": "39ccf093-8d82-453e-ab43-b16c9a15b53b",
   "metadata": {},
   "source": [
    "Definimos la función con nombre `temperatura` y parámetro `z` de profundidad:"
   ]
  },
  {
   "cell_type": "code",
   "execution_count": null,
   "id": "54517936-0e02-45ce-bff3-cd94252b88e9",
   "metadata": {},
   "outputs": [],
   "source": [
    "def temperatura(z):\n",
    "    if 0 <= z < 100:\n",
    "        t = 15*z + 25\n",
    "    elif 100 <= z <= 6360:\n",
    "        t =  -6e-5*(z**2) + 1.05*z + 1395.6\n",
    "    else:\n",
    "        return print(f\"Valor de profundidad {z} es incorrecto\")\n",
    "    \n",
    "    frase = f\"A una profundidad de {z} km, la temperatura interna de la Tierra es de {t}°C\"\n",
    "    \n",
    "    return print(frase)"
   ]
  },
  {
   "cell_type": "code",
   "execution_count": null,
   "id": "44a210da-d78f-49ff-b4c6-792e55c6f588",
   "metadata": {},
   "outputs": [],
   "source": [
    "for z in [-100, 0, 50, 100, 2000, 6400]:\n",
    "    temperatura(z)"
   ]
  },
  {
   "cell_type": "markdown",
   "id": "49808e4b-bedf-4f6b-a483-93a8f04ca666",
   "metadata": {
    "tags": []
   },
   "source": [
    "### <span style=\"color:lightgreen\">**10. Modelo de gradiente geotérmico terrestre (Parte 2)**</span>\n",
    "A partir de la función `temperatura` del ejercicio **8**, desarrollar una función con el mismo nombre que devuelva el valor de temperatura en °C.\\\n",
    "Usando esta función, generar un gráfico en Matplotlib que muestre la variación de Profundidad vs. Temperatura en el rango de 0 a 6360 km.\n",
    "> **Nota:** puedes usar la librería `numpy` para generar un espacio lineal con los valores de Profundidad."
   ]
  },
  {
   "cell_type": "markdown",
   "id": "70535bbf-331d-4313-a6e6-4016482166aa",
   "metadata": {},
   "source": [
    "Importamos las librerías `matplotlib` y `numpy`:"
   ]
  },
  {
   "cell_type": "code",
   "execution_count": null,
   "id": "2700cf30-31b3-42d7-8955-ea3764d1c2cf",
   "metadata": {},
   "outputs": [],
   "source": [
    "import matplotlib.pyplot as plt\n",
    "import numpy as np"
   ]
  },
  {
   "cell_type": "markdown",
   "id": "74e799a4-3feb-4533-a85c-ee192e647ae0",
   "metadata": {},
   "source": [
    "Modificamos la función `temperatura` para que devuelva el valor de temperatura en °C:"
   ]
  },
  {
   "cell_type": "code",
   "execution_count": null,
   "id": "185b1984-a235-481c-9198-5df727b29928",
   "metadata": {},
   "outputs": [],
   "source": [
    "def temperatura(z):\n",
    "    if 0 <= z < 100:\n",
    "        t = 15*z + 25\n",
    "    elif 100 <= z <= 6360:\n",
    "        t =  -6e-5*(z**2) + 1.05*z + 1395.6\n",
    "    return t"
   ]
  },
  {
   "cell_type": "markdown",
   "id": "6ae09577-a18a-44e9-9c8b-4ae35d5ff8d7",
   "metadata": {},
   "source": [
    "Generamos los valores de profundidad y temperatura para el gráfico:"
   ]
  },
  {
   "cell_type": "code",
   "execution_count": null,
   "id": "edb162bc-73e4-47dc-b545-02989fda8c85",
   "metadata": {},
   "outputs": [],
   "source": [
    "z = np.linspace(0, 6360, 100)\n",
    "T = np.array([temperatura(z) for z in z])"
   ]
  },
  {
   "cell_type": "markdown",
   "id": "17470766-5e70-4834-9b31-3d92eaf4468b",
   "metadata": {},
   "source": [
    "Por último, graficamos los valores:"
   ]
  },
  {
   "cell_type": "code",
   "execution_count": null,
   "id": "a3cbd713-5b78-432f-8893-92fd915f895d",
   "metadata": {},
   "outputs": [],
   "source": [
    "fig, ax = plt.subplots(figsize=(7, 7))\n",
    "\n",
    "ax.plot(T, z)\n",
    "ax.set_title(\"Profundidad vs. Temperatura\", fontsize=20)\n",
    "ax.set_xlabel(\"Profundidad (km)\", fontsize=15)\n",
    "ax.set_ylabel(\"Temperatura (°C)\", fontsize=15)\n",
    "\n",
    "ax.grid()\n",
    "\n",
    "plt.show()"
   ]
  },
  {
   "cell_type": "markdown",
   "id": "d0d37a45-c976-40ec-abc6-86e4dae2acc0",
   "metadata": {
    "tags": []
   },
   "source": [
    "***\n",
    "### <span style=\"color:lightgreen\">**11. Composición geoquímica de una roca**</span>\n",
    "\n",
    "Una muestra de diorita tiene la siguiente composición mineralógica:\\\n",
    "Cuarzo $(25\\%)$, feldespatos $(10\\%)$, plagioclasas $(35\\%)$, ferromagnesianos $(30\\%)$.\n",
    "\n",
    "Se pide calcular la composición geoquímica de esta muestra realizando los siguientes pasos:\n",
    "- Crear una clase `Roca` que tome como argumento un diccionario con el siguiente formato:\n",
    "    ``````python\n",
    "    minerales = {\"cuarzo\": 0.50, \"feldespato\": 0.20, \"plagioclasas\": 0.30, \"ferromagnesianos\": 0.00}\n",
    "    ``````\n",
    "- La clase debe tener un método llamado `obtener_oxidos` que descomponga el porcentaje de minerales en porcentaje de óxidos, teniendo en cuenta la composición de cada mineral:\n",
    "    - Cuarzo: $SiO_{2}$ ($100\\%$)\n",
    "    - Feldespatos: $SiO_{2}$ ($48\\%$), $Al_{2}O_{3}$ ($27\\%$), $K_{2}O$ ($25\\%$)\n",
    "    - Plagioclasas: $SiO_{2}$ ($47\\%$), $Al_{2}O_{3}$ ($33\\%$), $CaO$ ($10\\%$), $Na_{2}O$ ($10\\%$)\n",
    "    - Ferromagnesianos: $SiO_{2}$ ($40\\%$), $Al_{2}O_{3}$ ($5\\%$), $CaO$ ($10\\%$), $FeOT$ ($20\\%$), $MgO$ ($25\\%$)\n",
    "- Almacenar el resultado de la descomposición en el atributo `oxidos`, usando un diccionario con el siguiente formato:\n",
    "    ``````python\n",
    "    oxidos = {\"SiO2\": 0.60, \"Al2O3\": 0.15, \"CaO\": 0.05, \"Na2O\": 0.05, \"K2O\": 0.05, \"FeOT\": 0.05, \"MgO\": 0.05}\n",
    "    ``````\n",
    "- Crear la clase `Roca` y usar la composición mineralógica de la muestra de diorita.\n",
    "- Mostrar el contenido del atributo `oxidos` de la instancia creada usando `print`."
   ]
  },
  {
   "cell_type": "code",
   "execution_count": null,
   "id": "2fcdd81c-8c12-436d-a4b3-6a13d48f5a0f",
   "metadata": {
    "tags": []
   },
   "outputs": [],
   "source": [
    "# Muestra de diorita\n",
    "minerales = {\"cuarzo\": 0.25, \"feldespato\": 0.1, \"plagioclasas\": 0.35, \"ferromagnesianos\": 0.3}"
   ]
  },
  {
   "cell_type": "code",
   "execution_count": null,
   "id": "90c275f1-0bc9-4f9a-b4a5-7a667f6953c6",
   "metadata": {
    "tags": []
   },
   "outputs": [],
   "source": [
    "# Clase Roca para la descomposición de minerales en óxidos\n",
    "class Roca:\n",
    "    def __init__(self, minerales):\n",
    "        self.minerales = minerales\n",
    "        self.oxidos = self.obtener_oxidos()\n",
    "        \n",
    "    def obtener_oxidos(self):\n",
    "        cz = self.minerales[\"cuarzo\"]\n",
    "        fp = self.minerales[\"feldespato\"]\n",
    "        plg = self.minerales[\"plagioclasas\"]\n",
    "        femg = self.minerales[\"ferromagnesianos\"]\n",
    "\n",
    "        sio2 = 1.00 * cz + 0.48 * fp + 0.47 * plg + 0.4 * femg\n",
    "        al2o3 = 0.00 * cz + 0.27 * fp + 0.33 * plg + 0.05 * femg\n",
    "        cao = 0.00 * cz + 0.00 * fp + 0.10 * plg + 0.10 * femg\n",
    "        na2o = 0.00 * cz + 0.00 * fp + 0.10 * plg + 0.00 * femg\n",
    "        k2o = 0.00 * cz + 0.25 * fp + 0.00 * plg + 0.00 * femg\n",
    "        feot = 0.00 * cz + 0.00 * fp + 0.00 * plg + 0.20 * femg\n",
    "        mgo = 0.00 * cz + 0.00 * fp + 0.00 * plg + 0.25 * femg\n",
    "\n",
    "        oxidos = {\"SiO2\": sio2, \"Al2O3\": al2o3, \"CaO\": cao, \"Na2O\": na2o, \"K2O\": k2o, \"FeOT\": feot, \"MgO\": mgo}\n",
    "        return oxidos\n",
    "    "
   ]
  },
  {
   "cell_type": "code",
   "execution_count": null,
   "id": "f5c081ae-7ddb-42d2-a9d4-9102d5dc6879",
   "metadata": {
    "tags": []
   },
   "outputs": [],
   "source": [
    "# Instancia de Roca con la muestra de diorita\n",
    "roca = Roca(minerales)\n",
    "\n",
    "# Mostrando los oxidos\n",
    "print(\"Composición geoquímica de la muestra\")\n",
    "for oxido, porcentaje in roca.oxidos.items():\n",
    "    print(f\"{oxido}: {porcentaje:.1%}\")"
   ]
  },
  {
   "cell_type": "markdown",
   "id": "f7b364eb-5309-46f5-ab5a-28beaa9d9f2d",
   "metadata": {
    "jp-MarkdownHeadingCollapsed": true,
    "tags": []
   },
   "source": [
    "***\n",
    "### <span style=\"color:lightgreen\">**12. Porosidad promedio**</span>\n",
    "\n",
    "Se llevaron 10 muestras de rocas sedimentarias a un laboratorio y se obtuvieron los siguientes datos:\n",
    "\n",
    "| Volumen total (cm$^{3}$) | Volumen de poros (cm$^{3}$) | \n",
    "| --- | --- |\n",
    "| 103 | 395 |\n",
    "| 121 | 451 |\n",
    "| 109 | 402 |\n",
    "|  94 | 377 |\n",
    "|  86 | 358 |\n",
    "| 106 | 398 |\n",
    "| 112 | 411 |\n",
    "| 151 | 586 |\n",
    "| 143 | 529 |\n",
    "| 188 | 713 |\n",
    "\n",
    "La fórmula de la porosidad para una roca sedimentaria es la siguiente:\n",
    "\n",
    "<center> $ \\Large porosidad = \\frac{V_{poros}}{V_{total}} \\times 100\\% $ </center>\n",
    "\n",
    "Usando esta información, escribir un script que calcule la porosidad promedio (en %) de las 10 muestras.\n",
    "> Nota: usar arreglos de Numpy."
   ]
  },
  {
   "cell_type": "code",
   "execution_count": null,
   "id": "075e576a-0229-48a3-83b4-09223dc8bd20",
   "metadata": {},
   "outputs": [],
   "source": [
    "import numpy as np\n",
    "\n",
    "volumen_poros = np.array([103, 121, 109, 94, 86, 106, 112, 151, 143, 188])\n",
    "volumen_total = np.array([395, 451, 402, 377, 358, 398, 411, 586, 529, 713])\n",
    "\n",
    "porosidad = volumen_poros / volumen_total\n",
    "\n",
    "porosidad_promedio = np.mean(porosidad)\n",
    "\n",
    "print(f\"La porosidad promedio para las 10 muestras es de {porosidad_promedio:.1%}\")"
   ]
  },
  {
   "cell_type": "markdown",
   "id": "c3550e66-2161-480f-80ab-3ae79217783e",
   "metadata": {},
   "source": [
    "***\n",
    "### <span style=\"color:lightgreen\">**13. Buzamiento aparente en un talud**</span>\n",
    "Un estrato rocoso que aflora en el talud de una carretera tiene un azimut de 150° y un buzamiento aparente de 33°. Calcular el buzamiento real del estrato teniendo en cuenta que el azimut del talud de carretera es de 180°. Usar la siguiente fórmula:\n",
    "<center> $ \\Large \\phi_{real} = arctan(\\frac{tan(\\phi_{aparente})}{cos(\\beta)})$ </center>\n",
    "Donde:\n",
    "\n",
    "- $\\phi_{real}$ : buzamiento real\n",
    "- $\\phi_{aparente}$ : buzamiento aparente\n",
    "- $\\beta$ : ángulo entre el azimut del estrato y el azimut del talud\n",
    "\n",
    "> **Nota:** puedes usar la librería `numpy` para realizar el cálculo trigonométrico."
   ]
  },
  {
   "cell_type": "markdown",
   "id": "61e3cfa3-e0ed-4a15-b543-e19ff6ff09cf",
   "metadata": {},
   "source": [
    "Asignando los valores de buzamiento aparente a `dip_aparente` y el ángulo $\\beta$ a `beta`:"
   ]
  },
  {
   "cell_type": "code",
   "execution_count": null,
   "id": "62fc09df-c7c7-484b-aac8-5fd0db8d5faf",
   "metadata": {},
   "outputs": [],
   "source": [
    "dip_aparente = 33\n",
    "beta = abs(180 - 150)"
   ]
  },
  {
   "cell_type": "markdown",
   "id": "b56d619b-e92e-451a-901a-b863dcf82687",
   "metadata": {},
   "source": [
    "Ahora, de la librería `numpy` importaremos las funciones `radians` y `degrees` para transformar los ángulos y las funciones `tan`, `cos` y `arctan` para realizar los cálculos."
   ]
  },
  {
   "cell_type": "code",
   "execution_count": null,
   "id": "a21713b5-76ec-4d60-91fd-776c06567143",
   "metadata": {},
   "outputs": [],
   "source": [
    "from numpy import radians, degrees, arctan, tan, cos"
   ]
  },
  {
   "cell_type": "markdown",
   "id": "f8deeccb-548a-42af-9527-6b430245ae64",
   "metadata": {},
   "source": [
    "Empezaremos usando la función `radians` para transformar los ángulos de grados sexagesimales a radianes."
   ]
  },
  {
   "cell_type": "code",
   "execution_count": null,
   "id": "06d0f187-1cf5-4c60-86cd-1e326bff38ab",
   "metadata": {},
   "outputs": [],
   "source": [
    "dip_aparente = radians(dip_aparente)\n",
    "beta = radians(beta)"
   ]
  },
  {
   "cell_type": "markdown",
   "id": "b1043efc-fcf8-4cdb-ab4e-ce505da995b5",
   "metadata": {},
   "source": [
    "Ahora, usaremos las funciones `arctan`, `tan` y `cos` para calcular el buzamiento real en radianes:"
   ]
  },
  {
   "cell_type": "code",
   "execution_count": null,
   "id": "6de4d781-00f5-4569-840a-339e8e150288",
   "metadata": {},
   "outputs": [],
   "source": [
    "dip_real = arctan((tan(dip_aparente) / cos(beta)))"
   ]
  },
  {
   "cell_type": "code",
   "execution_count": null,
   "id": "ceefa413-d896-4be6-8120-1fad5131391f",
   "metadata": {},
   "outputs": [],
   "source": [
    "dip_real"
   ]
  },
  {
   "cell_type": "markdown",
   "id": "10866ead-b495-4c06-9f5a-5113efc1a1f9",
   "metadata": {},
   "source": [
    "Por último, transformamos el buzamiento real a grados sexagesimales:"
   ]
  },
  {
   "cell_type": "code",
   "execution_count": null,
   "id": "99c7aa15-800e-4cab-b840-70d996b183e3",
   "metadata": {},
   "outputs": [],
   "source": [
    "degrees(dip_real)"
   ]
  },
  {
   "cell_type": "markdown",
   "id": "c30b9049-4bf5-412f-bf5d-de63b7e6ffd9",
   "metadata": {},
   "source": [
    "Respuesta: el buzamiento real del estrato rocoso es de aprox. 37°."
   ]
  },
  {
   "cell_type": "markdown",
   "id": "6d303a2b-8024-4bab-868e-f4ce8eed165f",
   "metadata": {},
   "source": [
    "***"
   ]
  },
  {
   "cell_type": "markdown",
   "id": "8244dbf3-aba3-44b4-a629-558cbd37d675",
   "metadata": {},
   "source": [
    "### <span style=\"color:lightgreen\">**14. Abrir información con `pandas`**</span>\n",
    "Usando la librería `pandas`, cargar el archivo `rocas.csv` ubicado en la carpeta `files` y mostrar las primeras 5 filas del DataFrame."
   ]
  },
  {
   "cell_type": "code",
   "execution_count": null,
   "id": "47270f99-6dbf-4b9b-a739-0fc94094a36b",
   "metadata": {},
   "outputs": [],
   "source": [
    "import pandas as pd\n",
    "data = pd.read_csv(\"files/rocas.csv\")"
   ]
  },
  {
   "cell_type": "code",
   "execution_count": null,
   "id": "51954ef8-8b4a-4fb0-89a2-f348765b655e",
   "metadata": {},
   "outputs": [],
   "source": [
    "data.head()"
   ]
  },
  {
   "cell_type": "markdown",
   "id": "261165b2-f43e-4dcf-a8af-e5e4efbf21a7",
   "metadata": {},
   "source": [
    "### <span style=\"color:lightgreen\">**15. Creación de columnas en `pandas`**</span>\n",
    "Usando el DataFrame del ejercicio **11**, crear una columna llamada `FeOT + MgO`, que sume los valores de las columnas `FeOT` y `Mg`."
   ]
  },
  {
   "cell_type": "code",
   "execution_count": null,
   "id": "a6d5acea-f99b-480a-8c7c-8b388bb10af5",
   "metadata": {},
   "outputs": [],
   "source": [
    "data[\"FeOT + MgO\"] = data[\"FeOT\"] + data[\"MgO\"]"
   ]
  },
  {
   "cell_type": "code",
   "execution_count": null,
   "id": "fea7366f-acbf-49b9-99e1-e23a9d494608",
   "metadata": {},
   "outputs": [],
   "source": [
    "data.head()"
   ]
  },
  {
   "cell_type": "markdown",
   "id": "ba04be79-66f9-46fc-ac17-45cc166cfe62",
   "metadata": {},
   "source": [
    "***"
   ]
  }
 ],
 "metadata": {
  "kernelspec": {
   "display_name": "Python 3 (ipykernel)",
   "language": "python",
   "name": "python3"
  },
  "language_info": {
   "codemirror_mode": {
    "name": "ipython",
    "version": 3
   },
   "file_extension": ".py",
   "mimetype": "text/x-python",
   "name": "python",
   "nbconvert_exporter": "python",
   "pygments_lexer": "ipython3",
   "version": "3.11.5"
  }
 },
 "nbformat": 4,
 "nbformat_minor": 5
}
