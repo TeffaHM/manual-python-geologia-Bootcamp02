{
 "cells": [
  {
   "cell_type": "markdown",
   "id": "3b0bde0b-4465-43ba-aa45-1eea0d2e2a57",
   "metadata": {
    "tags": []
   },
   "source": [
    "<span style=\"color:lightgreen; font-size:30px\">**PG103 - Visualización de datos en Geología**</span>\n",
    "***\n",
    "<span style=\"color:gold; font-size:30px\">**Visualización de sondajes en 3D**</span>\n",
    "***\n",
    "\n",
    "<span style=\"font-size:20px\"> **Autor: Kevin Alexander Gómez** </span>\n",
    "\n",
    "<span style=\"font-size:16px\"> **Contacto: kevinalexandr19@gmail.com | [Linkedin](https://www.linkedin.com/in/kevin-alexander-g%C3%B3mez-2b0263111/) | [Github](https://github.com/kevinalexandr19)** </span>\n",
    "***"
   ]
  },
  {
   "cell_type": "markdown",
   "id": "69bfff78-cbef-4151-a3d6-db11e14e60af",
   "metadata": {
    "tags": []
   },
   "source": [
    "Bienvenido al curso PG103 - Visualización de datos en Geología!!!\n",
    "\n",
    "Vamos a revisar ejemplos de <span style=\"color:gold\">visualización de datos</span> en Geología usando código en Python.\\\n",
    "Es necesario que tengas un conocimiento previo en programación con Python, estadística y geología general.\n",
    "\n",
    "<span style=\"color:lightgreen\"> Este notebook es parte del proyecto [**Python para Geólogos**](https://github.com/kevinalexandr19/manual-python-geologia), y ha sido creado con la finalidad de facilitar el aprendizaje en Python para estudiantes y profesionales en el campo de la Geología. </span>\n",
    "\n",
    "En el siguiente índice, encontrarás los temas que componen este notebook:"
   ]
  },
  {
   "cell_type": "markdown",
   "id": "ebb3f30d-740f-40f2-ae7f-99b521c3a5c3",
   "metadata": {
    "tags": []
   },
   "source": [
    "<span style=\"font-size:20px\"> **Índice** </span>\n",
    "***\n",
    "- [Sondajes de perforación diamantina](#parte-1)\n",
    "- [Visualización de variables categóricas](#parte-2)\n",
    "- [Visualización de variables numéricas](#parte-3)\n",
    "\n",
    "***"
   ]
  },
  {
   "cell_type": "markdown",
   "id": "9dcb9161-9df6-480d-8e00-b948cec11199",
   "metadata": {},
   "source": [
    "Antes de empezar tu camino en programación geológica...\\\n",
    "Recuerda que puedes ejecutar un bloque de código usando `Shift` + `Enter`:"
   ]
  },
  {
   "cell_type": "code",
   "execution_count": null,
   "id": "29f43858-f259-4e59-a838-8348f7615b3a",
   "metadata": {},
   "outputs": [],
   "source": [
    "2 + 2"
   ]
  },
  {
   "cell_type": "markdown",
   "id": "a04c1eb4-9a6a-408f-ab12-98492b30daa6",
   "metadata": {},
   "source": [
    "Si por error haces doble clic sobre un bloque de texto (como el que estás leyendo ahora mismo), puedes arreglarlo usando también `Shift` + `Enter`.\n",
    "***"
   ]
  },
  {
   "cell_type": "markdown",
   "id": "6361d0b0-1da9-4c10-a47b-c9e359e83cc9",
   "metadata": {},
   "source": [
    "<a id=\"parte-1\"></a>"
   ]
  },
  {
   "cell_type": "markdown",
   "id": "c27004eb-100d-4d59-a155-50bc198dc88f",
   "metadata": {},
   "source": [
    "### <span style=\"color:lightgreen\">**Sondajes de perforación diamantina**</span>\n",
    "***\n",
    "\n",
    "Los sondajes de perforación diamantina se utilizan en la exploración geológica y minera para obtener muestras de roca y suelo del subsuelo.\\\n",
    "Estas muestras se extraen de agujeros en la tierra con un diámetro pequeño y con una precisión muy alta.\n",
    "\n",
    "La perforación diamantina utiliza un equipo de perforación especializado que está diseñado para cortar y extraer núcleos de roca cilíndricos del subsuelo. Una broca de diamante se coloca en el extremo de un tubo hueco y se hace girar a alta velocidad para cortar el material de la roca. Los núcleos de roca se extraen a medida que se perfora y se recuperan en la superficie.\n",
    "\n",
    "<span style=\"color:#43c6ac\">La perforación diamantina es muy precisa y permite obtener muestras de alta calidad de la roca y el suelo del subsuelo.</span>\n",
    "\n",
    "Esto es importante ya que proporciona información valiosa sobre la estructura geológica y las características del yacimiento que se está explorando.\n",
    "\n",
    "Además, los núcleos de roca recuperados se pueden analizar en el laboratorio para obtener información detallada sobre la mineralogía, la geología y las propiedades físicas de la roca.\n",
    "***"
   ]
  },
  {
   "cell_type": "markdown",
   "id": "735dffd8-f533-446d-9a74-330f74d04eff",
   "metadata": {},
   "source": [
    "<a id=\"parte-2\"></a>"
   ]
  },
  {
   "cell_type": "markdown",
   "id": "71e63ff9-7c7d-4e68-b5cf-9939ab57ae1a",
   "metadata": {},
   "source": [
    "### <span style=\"color:lightgreen\">**Visualización de variables categóricas**</span>\n",
    "***\n",
    "\n",
    "Empezaremos importando `pandas` para cargar los archivos `collar.csv`, `survey.csv` y `lith.csv`, que contienen la información necesaria para graficar los sondajes.\\\n",
    "También importaremos la función `DrillData` del módulo `corelab`:"
   ]
  },
  {
   "cell_type": "code",
   "execution_count": null,
   "id": "1eaa91d1-492e-4e56-b335-4b2c98e6bc88",
   "metadata": {},
   "outputs": [],
   "source": [
    "### INSTALAR CORELAB\n",
    "!pip install corelab"
   ]
  },
  {
   "cell_type": "code",
   "execution_count": null,
   "id": "a656861c-a6c5-44d3-a7d9-5c7f2b3da0e6",
   "metadata": {},
   "outputs": [],
   "source": [
    "import pandas as pd\n",
    "from corelab import DrillData"
   ]
  },
  {
   "cell_type": "markdown",
   "id": "8706e1c8-5373-445c-8a1e-9187bae2de55",
   "metadata": {},
   "source": [
    "Cargamos los archivos usando la función `read_csv`:"
   ]
  },
  {
   "cell_type": "code",
   "execution_count": null,
   "id": "600e2542-9ddf-4d69-bd23-252b7ae94c8d",
   "metadata": {},
   "outputs": [],
   "source": [
    "collar = pd.read_csv(\"files/collar.csv\") # Collar\n",
    "survey = pd.read_csv(\"files/survey.csv\") # Survey\n",
    "lith = pd.read_csv(\"files/lith.csv\") # Litología (valores categóricos)\n",
    "assay = pd.read_csv(\"files/assay.csv\") # Assay (valores numéricos)"
   ]
  },
  {
   "cell_type": "markdown",
   "id": "c313d5d6-73ee-4146-ac8d-2b7c898f77aa",
   "metadata": {},
   "source": [
    "La función `DrillData` crea un objeto que almacena la información necesaria para realizar la visualización en 3D de los sondajes:\n",
    "- `collar` es el parámetro que referencia al archivo `collar` de los sondajes.\n",
    "- `survey` es el parámetro que referencia al archivo `survey` de los sondajes.\n",
    "- `table` es el parámetro que referencia la información geológica de los sondajes.\n",
    "\n",
    "Asignamos la información a la variable `data` y seleccionamos las columnas necesarias en collar, survey y table:\n",
    "- Para `collar`, debemos seleccionar las columnas que correspondan a: `ID`, `X`, `Y`, `Z`.\n",
    "    - La columna `ID` referencia el nombre del sondaje, las columnas `X`, `Y` y `Z` referencian su ubicación en superficie.\n",
    "- Para `survey`, debemos seleccionar las columnas que correspondan a: `ID`, `AT`, `AZ`, `DIP`.\n",
    "    - La columna `AT` referencia la profundidad del tramo, `AZ` y `DIP` referencian al rumbo y buzamiento registrado en dicho tramo.\n",
    "- Para `table`, debemos seleccionar las columnas que correspondan a: `ID`, `FROM`, `TO`.\n",
    "    - Las columnas `FROM` y `TO` referencian los intervalos de inicio y fin en cada tramo del sondaje.\n",
    "    \n",
    "En este caso, usaremos la variable `lith` que contiene información litológica de sondajes (variable categórica):"
   ]
  },
  {
   "cell_type": "code",
   "execution_count": null,
   "id": "c95dc8ad-b134-430e-a97c-12929d42e93f",
   "metadata": {},
   "outputs": [],
   "source": [
    "data = DrillData(collar=collar,\n",
    "                 survey=survey,\n",
    "                 table=lith)"
   ]
  },
  {
   "cell_type": "markdown",
   "id": "ed96561c-bf0e-45c9-94cd-8afb154f0e54",
   "metadata": {},
   "source": [
    "Una vez seleccionamos las columnas correspondientes, la información es procesada de manera automática.\n",
    "\n",
    "Durante el procesamiento, debemos tener en cuenta lo siguiente:\n",
    "- Las columnas de `ID` son transformadas a datos de tipo string.\n",
    "- Las columnas de `X`, `Y`, `Z`, `AT`, `AZ`, `DIP`, `FROM` y `TO` son transformadas a datos de tipo float, cualquier valor que no pueda ser transformado a número es automáticamente transformado a valor vacío o `NaN`.\n",
    "- Para las columnas `AT`, `FROM` y `TO`, los valores deben ser siempre positivos.\\\n",
    "Por tanto, los valores negativos son automáticamente transformados a valores vacíos o `NaN`.\n",
    "- Para la columna `AZ`, los valores deben variar entre 0 y 360.\\\n",
    "Cualquier otro valor que no cumpla con esta condición es transformado automáticamente a `NaN`.\n",
    "- Para la columna `DIP`, los valores deben ser mayores o iguales a 0 y menores a 90.\\\n",
    "Cualquier otro valor que no cumpla con esta condición es transformado automáticamente a `NaN`."
   ]
  },
  {
   "cell_type": "markdown",
   "id": "cfca102c-e982-4a59-82cf-70a287476723",
   "metadata": {},
   "source": [
    "El atributo `dtypes` devuelve un diccionario describiendo el tipo de dato asignado a cada columna de `table`:\n",
    "- No tiene en cuenta las columnas `ID`, `FROM` y `TO`.\n",
    "- Si la columna contiene valores numéricos, aparecerá en `dtypes` de la siguiente forma: `<columna>: \"numeric\"`.\n",
    "- Si la columna contiene valores categóricos, aparecerá en `dtypes` de la siguiente forma: `<columna>: \"categoric\"`."
   ]
  },
  {
   "cell_type": "code",
   "execution_count": null,
   "id": "d0231116-5268-457e-9dbe-f8f0c59a6c18",
   "metadata": {},
   "outputs": [],
   "source": [
    "data.dtypes"
   ]
  },
  {
   "cell_type": "markdown",
   "id": "4c6494f0-46e8-4733-b09c-a7cc53edf700",
   "metadata": {},
   "source": [
    "Luego de generar el input, usaremos el método `interactive_plot3d` para visualizar los sondajes en 3D:\n",
    "> Clic izquierdo para girar la vista en 3D.\\\n",
    "> Shift + click derecho para mover la posición de la vista en 3D."
   ]
  },
  {
   "cell_type": "code",
   "execution_count": null,
   "id": "40f6475c-071b-4ca3-a63b-3aa20afc3ddc",
   "metadata": {},
   "outputs": [],
   "source": [
    "data.interactive_plot3d()"
   ]
  },
  {
   "cell_type": "markdown",
   "id": "bf844770-ee7c-4186-b415-31c3857d53bc",
   "metadata": {},
   "source": [
    "También podemos pasar una paleta de colores usando un diccionario con la siguiente estructura:"
   ]
  },
  {
   "cell_type": "code",
   "execution_count": null,
   "id": "f0d67096-fdc1-4f37-81d6-44e4d30787e8",
   "metadata": {
    "tags": []
   },
   "outputs": [],
   "source": [
    "data.feature_palette = {\"ROCK\": {\"SAPR\": \"gray\",\n",
    "                                 \"SGNCRLSS\": \"gray\",\n",
    "                                 \"E1\": \"green\",\n",
    "                                 \"DA\": \"red\",\n",
    "                                 \"E3\": \"green\",\n",
    "                                 \"E2\": \"green\",\n",
    "                                 \"EBX2\": \"orange\",\n",
    "                                 \"COLLV\": \"gray\",\n",
    "                                 \"I1\": \"blue\",\n",
    "                                 \"I2\": \"blue\",\n",
    "                                 \"IBX\": \"orange\",\n",
    "                                 \"SBX\": \"orange\",\n",
    "                                 \"ASH\": \"purple\",\n",
    "                                 \"H\": \"lightblue\",\n",
    "                                 \"EBX1\": \"orange\"\n",
    "                                }\n",
    "                       }"
   ]
  },
  {
   "cell_type": "code",
   "execution_count": null,
   "id": "a06f4add-9822-4c15-93ef-2d94e5d2a1ef",
   "metadata": {
    "tags": []
   },
   "outputs": [],
   "source": [
    "data.interactive_plot3d()"
   ]
  },
  {
   "cell_type": "markdown",
   "id": "63058cc9-9d75-4b34-a775-6e00be3950e8",
   "metadata": {},
   "source": [
    "<a id=\"parte-3\"></a>"
   ]
  },
  {
   "cell_type": "markdown",
   "id": "71e9b17b-904d-496f-9e73-30617f6160e1",
   "metadata": {},
   "source": [
    "### <span style=\"color:lightgreen\">**Visualización de variables numéricas**</span>\n",
    "***\n",
    "\n",
    "Asignamos la información a la variable `data` y esta vez usaremos la variable `assay` que contiene información numérica de sondajes.\n",
    "\n",
    "También podemos usar un diccionario `columns` con los nombres de cada columna del collar, survey y table para no tener que seleccionar manualmente al inicializar `DrillData`:"
   ]
  },
  {
   "cell_type": "code",
   "execution_count": null,
   "id": "5c43166a-a6ac-46ca-8ada-799854d981c4",
   "metadata": {
    "tags": []
   },
   "outputs": [],
   "source": [
    "# Nombres de las columnas a usar en collar, survey y table\n",
    "# El orden de la lista debe coincidir con el formato de las columnas establecidas (e.g. \"hole_id\" con \"ID\")\n",
    "columns = {\"collar\": [\"ID\", \"X\", \"Y\", \"Z\"],\n",
    "           \"survey\": [\"ID\", \"AT\", \"AZ\", \"DIP\"],\n",
    "           \"table\": [\"ID\", \"FROM\", \"TO\"]}"
   ]
  },
  {
   "cell_type": "code",
   "execution_count": null,
   "id": "818149f7-3e4d-4287-b0ff-686850a15f52",
   "metadata": {},
   "outputs": [],
   "source": [
    "# Inicializamos DrillData\n",
    "data = DrillData(collar=collar,\n",
    "                 survey=survey,\n",
    "                 table=assay,\n",
    "                 columns=columns)"
   ]
  },
  {
   "cell_type": "code",
   "execution_count": null,
   "id": "4c3e4c50-9cea-4dbe-8569-67437d373da4",
   "metadata": {
    "tags": []
   },
   "outputs": [],
   "source": [
    "data.dtypes"
   ]
  },
  {
   "cell_type": "markdown",
   "id": "ff275bb4-96ba-45c2-b775-a99054fb2fa0",
   "metadata": {},
   "source": [
    "Una vez procesada la información, la visualizamos con el método `interactive_plot3d`:\n",
    "> Nota: algunas de las variables tienen una distribución log-normal, por lo que su visualización será deficiente.\\\n",
    "> En tales casos, es mejor transformar la información numérica a categórica (intervalos)."
   ]
  },
  {
   "cell_type": "code",
   "execution_count": null,
   "id": "518b6164-a938-4dad-a889-639b1399304b",
   "metadata": {},
   "outputs": [],
   "source": [
    "data.interactive_plot3d()"
   ]
  },
  {
   "cell_type": "markdown",
   "id": "9c1dafeb-dbb9-4903-bb58-396da6883f23",
   "metadata": {},
   "source": [
    "***"
   ]
  }
 ],
 "metadata": {
  "kernelspec": {
   "display_name": "Python 3 (ipykernel)",
   "language": "python",
   "name": "python3"
  },
  "language_info": {
   "codemirror_mode": {
    "name": "ipython",
    "version": 3
   },
   "file_extension": ".py",
   "mimetype": "text/x-python",
   "name": "python",
   "nbconvert_exporter": "python",
   "pygments_lexer": "ipython3",
   "version": "3.11.5"
  }
 },
 "nbformat": 4,
 "nbformat_minor": 5
}
