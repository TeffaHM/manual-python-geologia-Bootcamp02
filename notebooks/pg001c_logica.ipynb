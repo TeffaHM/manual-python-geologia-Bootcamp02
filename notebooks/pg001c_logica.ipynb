{
 "cells": [
  {
   "cell_type": "markdown",
   "id": "d768f51d-e3b2-48d2-a092-7605567fd7df",
   "metadata": {
    "tags": []
   },
   "source": [
    "<span style=\"color:lightgreen; font-size:30px\">**PG001 - Fundamentos de Python**</span>\n",
    "***\n",
    "<span style=\"color:gold; font-size:30px\">**Lógica computacional**</span>\n",
    "***\n",
    "\n",
    "<span style=\"font-size:20px\"> **Autor: Kevin Alexander Gómez** </span>\n",
    "\n",
    "<span style=\"font-size:16px\"> **Contacto: kevinalexandr19@gmail.com | [Linkedin](https://www.linkedin.com/in/kevin-alexander-g%C3%B3mez-2b0263111/) | [Github](https://github.com/kevinalexandr19)** </span>\n",
    "***"
   ]
  },
  {
   "cell_type": "markdown",
   "id": "7bb619c1-337f-411e-9dee-db4cbbb1e7f7",
   "metadata": {
    "tags": []
   },
   "source": [
    "Bienvenido al curso PG001 - Fundamentos de Python!!!\n",
    "\n",
    "Vamos a revisar las bases de la programación en el lenguaje Python a través de <span style=\"color:gold\">ejemplos en Geología</span>.\\\n",
    "Es necesario que tengas un conocimiento previo en geología general, matemática y estadística.\n",
    "\n",
    "<span style=\"color:lightgreen\"> Este notebook es parte del proyecto [**Python para Geólogos**](https://github.com/kevinalexandr19/manual-python-geologia), y ha sido creado con la finalidad de facilitar el aprendizaje en Python para estudiantes y profesionales en el campo de la Geología. </span>\n",
    "\n",
    "En el siguiente índice, encontrarás los temas que componen este notebook:"
   ]
  },
  {
   "cell_type": "markdown",
   "id": "a4bb99d0-7948-405e-8649-692012191280",
   "metadata": {
    "tags": []
   },
   "source": [
    "<span style=\"font-size:20px\"> **Índice** </span>\n",
    "***\n",
    "- [¿Qué es la lógica computacional?](#parte-1)\n",
    "- [Comparaciones entre valores](#parte-2)\n",
    "- [Operadores lógicos](#parte-3)\n",
    "- [Condicionales](#parte-4)\n",
    "- [En conclusión...](#parte-5)\n",
    "***"
   ]
  },
  {
   "cell_type": "markdown",
   "id": "f66b13ee-4773-4310-ac90-19ec2c2df7d9",
   "metadata": {},
   "source": [
    "Antes de empezar tu camino en programación geológica...\\\n",
    "Recuerda que puedes ejecutar un bloque de código usando `Shift` + `Enter`:"
   ]
  },
  {
   "cell_type": "code",
   "execution_count": null,
   "id": "f2b6ab71-4c0b-4d2d-8a58-b3c96a474f6b",
   "metadata": {},
   "outputs": [],
   "source": [
    "2 + 2"
   ]
  },
  {
   "cell_type": "markdown",
   "id": "9223b7d9-9e27-4c80-adf7-3ea12aa73703",
   "metadata": {},
   "source": [
    "Si por error haces doble clic sobre un bloque de texto (como el que estás leyendo ahora mismo), puedes arreglarlo usando también `Shift` + `Enter`.\n",
    "***"
   ]
  },
  {
   "cell_type": "markdown",
   "id": "fb7ffcfd-6a90-402f-a983-074253760377",
   "metadata": {},
   "source": [
    "<a id=\"parte-1\"></a>"
   ]
  },
  {
   "cell_type": "markdown",
   "id": "9c22cd61-277f-467c-9c2e-5a778736168a",
   "metadata": {
    "tags": []
   },
   "source": [
    "### <span style=\"color:lightgreen\">**¿Qué es la lógica computacional?**</span>\n",
    "***\n",
    "\n",
    "La lógica computacional representa un conjunto de técnicas para resolver problemas mediante la creación de **algoritmos**.\\\n",
    "En Python, podemos utilizar estructuras de control de flujo para crear algoritmos y tomar decisiones lógicas en nuestro código.\n",
    "\n",
    "Un <span style=\"color:gold\">algoritmo</span>, es un conjunto de pasos finitos y precisos que se utilizan para resolver un problema o realizar una tarea específica.\n",
    "\n",
    "<span style=\"color:#43c6ac\">En términos generales, los algoritmos son una serie de instrucciones que se deben seguir en un orden determinado para lograr un objetivo.</span>\n",
    "\n",
    "Los algoritmos pueden ser expresados en diferentes formas, como en pseudocódigo, diagramas de flujo, lenguajes de programación y en otros formatos. Es importante tener en cuenta que los algoritmos deben ser precisos, eficientes y capaces de resolver el problema para el cual fueron diseñados.\n",
    "\n",
    "A continuación, revisaremos los valores de tipo lógico (booleanos), operadores lógicos y condicionales en Python."
   ]
  },
  {
   "cell_type": "markdown",
   "id": "d6ffb972-9a0e-45e5-9c0c-94a78f9fd905",
   "metadata": {},
   "source": [
    "<a id=\"parte-2\"></a>"
   ]
  },
  {
   "cell_type": "markdown",
   "id": "6e10ba7c-793b-4806-9d39-320301435632",
   "metadata": {
    "tags": []
   },
   "source": [
    "### <span style=\"color:lightgreen\">**Comparaciones entre valores**</span>\n",
    "***\n",
    "\n",
    "¿Es posible comparar objetos en Python? La respuesta es sí.\n",
    "\n",
    "En Python, los comparadores se utilizan para comparar dos valores y determinar si son iguales o si uno es mayor o menor que el otro.\\\n",
    "Los comparadores se utilizan comúnmente en las declaraciones de control de flujo, como los condicionales y los bucles.\n",
    "\n",
    "Si tomamos por ejemplo dos números, podemos realizar las siguientes comparaciones:\n",
    "> <span style=\"color:#43c6ac\">Podemos colocar comentarios dentro de Python usando el símbolo hash `#` dentro de un bloque de código.</span>"
   ]
  },
  {
   "cell_type": "markdown",
   "id": "f305a824-0310-4e05-a912-63767a4c22c5",
   "metadata": {},
   "source": [
    "Los comparadores \"mayor a\" `>` y \"menor a\" `<`:"
   ]
  },
  {
   "cell_type": "code",
   "execution_count": null,
   "id": "8091a08c-b323-4392-a4d3-21bc82d3eecd",
   "metadata": {},
   "outputs": [],
   "source": [
    "# ¿2 más 2 es mayor a 5?\n",
    "2 + 2 > 5"
   ]
  },
  {
   "cell_type": "code",
   "execution_count": null,
   "id": "4eee9ef0-c718-46b9-bb1a-21a56401a7e8",
   "metadata": {},
   "outputs": [],
   "source": [
    "# ¿3 al cuadrado es menor a 10?\n",
    "3 ** 2 < 10"
   ]
  },
  {
   "cell_type": "markdown",
   "id": "343e3683-229e-46d2-8e20-9ba309c157e8",
   "metadata": {},
   "source": [
    "Los comparadores \"mayor o igual a\" `>=` y \"menor o igual a\" `<=`:"
   ]
  },
  {
   "cell_type": "code",
   "execution_count": null,
   "id": "3894ce7e-b771-4d99-a425-add379539d0e",
   "metadata": {},
   "outputs": [],
   "source": [
    "# ¿3 por 5 es mayor o igual a 15?\n",
    "3 * 5 >= 15"
   ]
  },
  {
   "cell_type": "code",
   "execution_count": null,
   "id": "3e2271dc-dd82-427c-bb78-402cbb3577cf",
   "metadata": {},
   "outputs": [],
   "source": [
    "# ¿20 entre 2 es menor o igual a 5?\n",
    "20 / 2 <= 5"
   ]
  },
  {
   "cell_type": "markdown",
   "id": "38e78581-061a-4270-90e2-f37208a9be49",
   "metadata": {},
   "source": [
    "Y por último, tenemos los comparadores \"igual a\" `==` y \"diferente a\" `!=`:"
   ]
  },
  {
   "cell_type": "code",
   "execution_count": null,
   "id": "45c25155-d13d-43c5-b21b-fe5d53d912b9",
   "metadata": {},
   "outputs": [],
   "source": [
    "# ¿4 por 4 es igual a 16?\n",
    "4 * 4 == 16"
   ]
  },
  {
   "cell_type": "code",
   "execution_count": null,
   "id": "7c811146-e9ce-4c2c-b982-de4c68e23161",
   "metadata": {},
   "outputs": [],
   "source": [
    "# ¿5 por 5 es diferente a 25?\n",
    "5 * 5 != 25"
   ]
  },
  {
   "cell_type": "markdown",
   "id": "b6080488-c246-4770-bde5-2e3e3902fd07",
   "metadata": {},
   "source": [
    "Como podrás notar, las comparaciones devuelven <span style=\"color:gold\"> datos de tipo lógico o booleanos</span> y solo pueden ser verdaderos `True` o falsos `False`."
   ]
  },
  {
   "cell_type": "markdown",
   "id": "f82e454d-7f91-4fe9-9c01-02c935fab2af",
   "metadata": {},
   "source": [
    "***\n",
    "**Las muestras recogidas cada día durante una semana de prospección geológica fueron: 25, 31, 22, 40, 17, 24 y 19.\\\n",
    "Evaluar si el total de muestras es menor o igual a 120.** \\\n",
    "Respuesta: usaremos la variable `total` y lo compararemos con el valor de 120:"
   ]
  },
  {
   "cell_type": "code",
   "execution_count": null,
   "id": "d915e727-69e8-4910-abdc-2f2cbc5e3cd8",
   "metadata": {},
   "outputs": [],
   "source": [
    "total = 25 + 31 + 22 + 40 + 17 + 24 + 19\n",
    "print(total <= 120)"
   ]
  },
  {
   "cell_type": "markdown",
   "id": "20511a5e-0d01-48be-8e85-4185fcd63e4b",
   "metadata": {},
   "source": [
    "***"
   ]
  },
  {
   "cell_type": "markdown",
   "id": "d30ba0eb-0070-4aa7-b55a-062897bc081c",
   "metadata": {},
   "source": [
    "<a id=\"parte-3\"></a>"
   ]
  },
  {
   "cell_type": "markdown",
   "id": "fdcd38b4-a701-41f8-bfbd-d3cff8c12361",
   "metadata": {},
   "source": [
    "### <span style=\"color:lightgreen\">**Operadores lógicos**</span>\n",
    "***\n",
    "\n",
    "En Python, los operadores lógicos `or`, `and` y `not` se utilizan para realizar operaciones lógicas en expresiones booleanas.\n",
    "\n",
    "- `or` devuelve `True` si al menos una de las expresiones booleanas es `True`.\\\n",
    "Si todas las expresiones son `False`, devuelve `False`.\n",
    "- `and` devuelve `True` solo si todas las expresiones booleanas son `True`.\\\n",
    "Si al menos una de las expresiones es `False`, devuelve `False`.\n",
    "- `not` devuelve el valor opuesto de una expresión booleana.\\\n",
    "Si la expresión es `True`, devuelve `False`; si la expresión es `False`, devuelve `True`."
   ]
  },
  {
   "cell_type": "code",
   "execution_count": null,
   "id": "82ccc3ce-88fb-4257-90c2-a5b151da3177",
   "metadata": {},
   "outputs": [],
   "source": [
    "# Verdadero o Falso\n",
    "True or False"
   ]
  },
  {
   "cell_type": "code",
   "execution_count": null,
   "id": "77798c79-4733-44be-bfb2-308db37f7d0b",
   "metadata": {},
   "outputs": [],
   "source": [
    "# Verdadero y Verdadero\n",
    "True and True"
   ]
  },
  {
   "cell_type": "code",
   "execution_count": null,
   "id": "68c20952-914f-4619-bba0-23a9e6b5c083",
   "metadata": {},
   "outputs": [],
   "source": [
    "# Negación de Falso\n",
    "not False"
   ]
  },
  {
   "cell_type": "markdown",
   "id": "0d3755d7-dfa8-4eb1-9666-c14d8e363cdc",
   "metadata": {},
   "source": [
    "<span style=\"color:#43c6ac\">Podemos concatenar comparaciones a través de operadores lógicos, obteniendo como resultado un valor lógico.</span>\n",
    "\n",
    "***\n",
    "**Ejemplo: Comparaciones entre números** \\\n",
    "Evaluar las siguientes expresiones lógicas:\\\n",
    "*\"2 es mayor a 5, y 3 es menor a 10\"*"
   ]
  },
  {
   "cell_type": "code",
   "execution_count": null,
   "id": "7aec7a11-6517-44e0-b3ab-9e5b99859526",
   "metadata": {},
   "outputs": [],
   "source": [
    "(2 > 5) and (3 < 10)"
   ]
  },
  {
   "cell_type": "markdown",
   "id": "fa119caa-977e-4bc4-a827-0b92d07a4909",
   "metadata": {},
   "source": [
    "*\"15 al cuadrado es igual a 225, o 2 elevado a la octava potencia es 250\"*"
   ]
  },
  {
   "cell_type": "code",
   "execution_count": null,
   "id": "10372593-ac14-4c94-b0ec-98926f9186c8",
   "metadata": {},
   "outputs": [],
   "source": [
    "(15 ** 2 == 225) or (2 ** 8 == 250)"
   ]
  },
  {
   "cell_type": "markdown",
   "id": "cc63b5b1-c7c2-43eb-8804-df31166ca136",
   "metadata": {},
   "source": [
    "*\"El residuo de dividir un número par (como por ejemplo, 4) entre 2 es cero, y la raiz cuadrada de 1000 es menor a 30\"*"
   ]
  },
  {
   "cell_type": "code",
   "execution_count": null,
   "id": "12fd80e4-0b8d-4d7f-bfdd-a5b6d307e8bf",
   "metadata": {},
   "outputs": [],
   "source": [
    "(4 % 2 == 0) and (1000 ** 0.5 < 30)"
   ]
  },
  {
   "cell_type": "markdown",
   "id": "c3e840ed-c34b-48eb-bf73-ad60f958c7de",
   "metadata": {},
   "source": [
    "Evaluar en una sola expresión que el número 20 sea par, mayor a 10 y que su cuadrado sea mayor a 100."
   ]
  },
  {
   "cell_type": "code",
   "execution_count": null,
   "id": "f136accf-d080-4e92-9de6-e214a2ca693f",
   "metadata": {},
   "outputs": [],
   "source": [
    "(20 % 2 == 0) and (20 > 10) and (20 ** 2 > 100)"
   ]
  },
  {
   "cell_type": "markdown",
   "id": "77b99135-41ae-4777-add0-bf8f0abc1dfa",
   "metadata": {},
   "source": [
    "***"
   ]
  },
  {
   "cell_type": "markdown",
   "id": "510be53c-af4d-48f8-99a1-ac261f44a856",
   "metadata": {},
   "source": [
    "<a id=\"parte-4\"></a>"
   ]
  },
  {
   "cell_type": "markdown",
   "id": "8591f885-c163-4e5c-848f-80d9515ba4a9",
   "metadata": {},
   "source": [
    "### <span style=\"color:lightgreen\">**Condicionales**</span>\n",
    "***\n",
    "\n",
    "Las condicionales son estructuras de control que permiten que un programa tome diferentes caminos basados en ciertas condiciones.\\\n",
    "En Python, se usan las palabras reservadas `if`, `else` y `elif` para construir estas estructuras.\n",
    "\n",
    "<span style=\"color:#43c6ac\">En Geología, podemos utilizar condicionales para modelar diferentes escenarios y realizar diferentes análisis.</span>\n",
    "\n",
    "La sintaxis general de las condicionales es la siguiente:\n",
    "\n",
    "```python\n",
    "if condición:\n",
    "    # Código a ejecutar si la condición es verdadera\n",
    "elif condición:\n",
    "    # Código a ejecutar si la anterior condición es falsa\n",
    "else:\n",
    "    # Código a ejecutar si todas las condiciones anteriores son falsas\n",
    "```\n",
    "\n",
    "<span style=\"color:#43c6ac\">Es importante indentar el código perteneciente a una condicional, usando cuatro espacios o la tecla `Tab`.</span>"
   ]
  },
  {
   "cell_type": "markdown",
   "id": "7e08a4c2-88a8-4850-ab94-df4ec98d58d4",
   "metadata": {},
   "source": [
    "***\n",
    "**Ejemplo: Identificación de un mineral** \\\n",
    "Supongamos que tenemos los datos de un mineral y queremos identificarlo a partir de sus propiedades físicas.\\\n",
    "En este ejemplo, utilizaremos la dureza y el color para identificar el mineral:"
   ]
  },
  {
   "cell_type": "code",
   "execution_count": null,
   "id": "003b3bd5-49ab-4034-8253-6a05d58c0a29",
   "metadata": {},
   "outputs": [],
   "source": [
    "# Datos del mineral\n",
    "dureza = 4\n",
    "color = \"verde\""
   ]
  },
  {
   "cell_type": "markdown",
   "id": "b8264594-7c1a-4734-8476-7b9bdcbd8fcd",
   "metadata": {},
   "source": [
    "Puedes usar condicionales en Python para realizar esta tarea:\n",
    "> En este caso, establecemos criterios para identificar 3 minerales: cuarzo, malaquita y calcita."
   ]
  },
  {
   "cell_type": "code",
   "execution_count": null,
   "id": "c2ddcef8-d85e-4373-b4f8-c9225f3f3c02",
   "metadata": {},
   "outputs": [],
   "source": [
    "# Identificamos el mineral basado en sus características\n",
    "if (dureza == 7) and (color == \"transparente\"):\n",
    "    print(\"El mineral es cuarzo.\")\n",
    "elif (dureza == 4) and (color == \"verde\"):\n",
    "    print(\"El mineral es malaquita.\")\n",
    "elif (dureza == 3) and (color == \"blanco\"):\n",
    "    print(\"El mineral es calcita.\")\n",
    "else:\n",
    "    print(\"El mineral no se pudo identificar.\")"
   ]
  },
  {
   "cell_type": "markdown",
   "id": "948d7e83-ceb9-448c-8d3d-3bc4ce9db149",
   "metadata": {},
   "source": [
    "Si la dureza del mineral es igual a 7 y su color es transparente, entonces el mineral es cuarzo.\\\n",
    "Si la dureza del mineral es igual a 4 y su color es verde, entonces el mineral es malaquita.\\\n",
    "Si la dureza del mineral es igual a 3 y su color es blanco, entonces el mineral es calcita.\\\n",
    "Por último, si el mineral no cumple con los criterios de identificación, obtenemos la frase \"El mineral no se pudo identificar\""
   ]
  },
  {
   "cell_type": "markdown",
   "id": "905f5d28-d0e7-473c-838e-00dc5b4f1450",
   "metadata": {},
   "source": [
    "***\n",
    "**Ejemplo: Clasificación de rocas** \\\n",
    "Supongamos que tenemos los datos de una muestra de roca y queremos clasificarla en una de las tres categorías posibles: ígnea, sedimentaria o metamórfica. Para hacer esto, podemos utilizar un condicional en Python para evaluar los valores de ciertos elementos químicos que son característicos de cada tipo de roca.\\\n",
    "En este ejemplo, utilizaremos los valores de SiO2 y MgO para clasificar la muestra:"
   ]
  },
  {
   "cell_type": "code",
   "execution_count": null,
   "id": "810ae188-77f0-4826-a13a-8a3774ec1073",
   "metadata": {},
   "outputs": [],
   "source": [
    "# Datos de la muestra de roca\n",
    "SiO2 = 60\n",
    "MgO = 2.5\n",
    "\n",
    "# Establecemos los umbrales de clasificación\n",
    "umbral_igneas = 65\n",
    "umbral_sedimentarias = 5\n",
    "umbral_metamorficas = 5\n",
    "\n",
    "# Evaluamos los valores de SiO2 y MgO para clasificar la roca\n",
    "if SiO2 >= umbral_igneas and MgO < umbral_sedimentarias:\n",
    "    print(\"La muestra de roca es ígnea.\")\n",
    "elif SiO2 < umbral_metamorficas and MgO >= umbral_sedimentarias:\n",
    "    print(\"La muestra de roca es sedimentaria.\")\n",
    "else:\n",
    "    print(\"La muestra de roca es metamórfica.\")"
   ]
  },
  {
   "cell_type": "markdown",
   "id": "b4da44d4-2515-4715-a092-07a6f72e0d44",
   "metadata": {},
   "source": [
    "En este ejemplo, establecemos umbrales de clasificación basados en los valores típicos de SiO2 y MgO para cada tipo de roca.\n",
    "\n",
    "Luego, utilizamos un condicional para evaluar los valores de SiO2 y MgO de la muestra y determinar su tipo.\\\n",
    "Si los valores de SiO2 son altos y los valores de MgO son bajos, la roca se clasifica como ígnea.\\\n",
    "Si los valores de SiO2 son bajos y los valores de MgO son altos, la roca se clasifica como sedimentaria.\\\n",
    "Si los valores de ambos elementos están dentro del umbral correspondiente a la clasificación metamórfica, entonces se clasifica como metamórfica."
   ]
  },
  {
   "cell_type": "markdown",
   "id": "c015996a-f92b-4a89-9c1a-dd14f7bea966",
   "metadata": {},
   "source": [
    "***\n",
    "**Ejemplo: comparación geoquímica** \\\n",
    "Supongamos que tenemos dos conjuntos de datos geoquímicos que queremos comparar para determinar si tienen una composición química similar. Para hacer esto, podemos usar un condicional en Python para establecer un umbral de comparación.\\\n",
    "En este ejemplo, compararemos las concentraciones de hierro (Fe) en dos muestras de roca:"
   ]
  },
  {
   "cell_type": "code",
   "execution_count": null,
   "id": "9f5b0201-b460-47bc-8a58-18454911aa68",
   "metadata": {},
   "outputs": [],
   "source": [
    "# Datos de la primera muestra\n",
    "muestra1_Fe = 3.7\n",
    "\n",
    "# Datos de la segunda muestra\n",
    "muestra2_Fe = 4.2\n",
    "\n",
    "# Establecemos un umbral de comparación\n",
    "umbral = 0.5\n",
    "\n",
    "# Comparamos las concentraciones de hierro en las dos muestras\n",
    "if abs(muestra1_Fe - muestra2_Fe) <= umbral:\n",
    "    print(\"Las concentraciones de Fe en las dos muestras son similares.\")\n",
    "else:\n",
    "    print(\"Las concentraciones de Fe en las dos muestras son diferentes.\")\n"
   ]
  },
  {
   "cell_type": "markdown",
   "id": "4a477f4d-e0e2-4885-82a2-8748598ab0bc",
   "metadata": {},
   "source": [
    "En este ejemplo, establecimos un umbral de comparación de 0.5 unidades y usamos la función `abs` para obtener el valor absoluto de la diferencia entre las concentraciones de hierro en las dos muestras.\n",
    "\n",
    "Luego, utilizamos un condicional para comparar la diferencia con el umbral.\\\n",
    "Si la diferencia es menor o igual al umbral, el programa imprimirá un mensaje indicando que las concentraciones de hierro son similares.\\\n",
    "Si la diferencia es mayor que el umbral, el programa imprimirá un mensaje indicando que las concentraciones son diferentes.\n",
    "\n",
    "Este es solo un ejemplo sencillo de cómo podrías utilizar condicionales en Python para la comparación de datos geoquímicos. Dependiendo de la naturaleza de los datos que estás analizando, es posible que necesites ajustar los valores y las condiciones del umbral para obtener resultados más precisos.\n",
    "***"
   ]
  },
  {
   "cell_type": "markdown",
   "id": "5f619b65-fc10-4f10-8fa7-f972a5ecb1ba",
   "metadata": {},
   "source": [
    "<a id=\"parte-5\"></a>"
   ]
  },
  {
   "cell_type": "markdown",
   "id": "5eec1f18-b5b6-491d-9425-3b850ebd01f4",
   "metadata": {
    "tags": []
   },
   "source": [
    "### <span style=\"color:lightgreen\">**En conclusión...**</span>\n",
    "***\n",
    "\n",
    "*La lógica computacional en Python es esencial para la programación en geología, ya que se utiliza para construir algoritmos que procesan y analizan datos geológicos.*\n",
    "\n",
    "*Los operadores lógicos en Python, como `and`, `or` y `not`, son fundamentales para la creación de condicionales.*\n",
    "\n",
    "<span style=\"color:#43c6ac\">*La lógica computacional también se utiliza en la minería de datos y en el aprendizaje automático aplicados a la geología.\\\n",
    "    Esto permite la identificación y análisis de patrones complejos en grandes conjuntos de datos geológicos.* </span>\n",
    "\n",
    "***"
   ]
  }
 ],
 "metadata": {
  "kernelspec": {
   "display_name": "Python 3 (ipykernel)",
   "language": "python",
   "name": "python3"
  },
  "language_info": {
   "codemirror_mode": {
    "name": "ipython",
    "version": 3
   },
   "file_extension": ".py",
   "mimetype": "text/x-python",
   "name": "python",
   "nbconvert_exporter": "python",
   "pygments_lexer": "ipython3",
   "version": "3.11.5"
  }
 },
 "nbformat": 4,
 "nbformat_minor": 5
}
