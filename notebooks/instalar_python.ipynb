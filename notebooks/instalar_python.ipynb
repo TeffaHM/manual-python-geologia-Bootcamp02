{
 "cells": [
  {
   "cell_type": "markdown",
   "id": "c7c92258-b1ea-4114-80e9-7aafcf78d925",
   "metadata": {},
   "source": [
    "# **Notas adicionales acerca de Python**"
   ]
  },
  {
   "cell_type": "markdown",
   "id": "db057a06-6a64-4319-8f66-5ecaddf785b7",
   "metadata": {},
   "source": [
    "<a id=\"anexo1\"></a>"
   ]
  },
  {
   "cell_type": "markdown",
   "id": "802c5ed6-e0b7-450a-8c37-6c12c9b5b687",
   "metadata": {},
   "source": [
    "## **1. ¿Cómo instalar Python, Jupyter Lab y otras librerías?**\n",
    "***\n",
    "\n",
    "> Sistema operativo usado: **Windows 10**\\\n",
    "> Versión de Python: **3.11.5**\\\n",
    "> Instalador de Python usado: **pip**"
   ]
  },
  {
   "cell_type": "markdown",
   "id": "98ad3782-b07e-45ca-88bb-dcf4f3257916",
   "metadata": {},
   "source": [
    "### **1.1. Instalar Python**\n",
    "- Crear una nueva carpeta dentro del disco duro (en **C:**), llamada `Python`.\n",
    "\n",
    "- Descargar el ejecutable de Python 3.11.5 (versión estable) desde [aquí](https://www.python.org/ftp/python/3.8.10/python-3.8.10-amd64.exe).\n",
    "\n",
    "- Ejecutar el archivo.\n",
    "\n",
    "\n",
    "- Dentro de la primera ventana:\n",
    "    - <span style=\"color:gold\">**Importante**: señalar la opción de añadir Python a PATH.</span>\n",
    "    - Desmarcar la opción de instalar para todos los usuarios.\n",
    "    - Continuar la instalación siguiendo la opción `Customize installation`.\n",
    "\n",
    "\n",
    "- Dentro de la segunda ventana:\n",
    "    - Verificar que todas las opciones estén marcadas excepto la que pide instalar `py launcher` en todos los usuarios.\n",
    "    - Continuar con la siguiente ventana.\n",
    "\n",
    "\n",
    "- Dentro de la tercera ventana:\n",
    "    - La primera opción de instalar para todos los usuarios debe estar desmarcada.\n",
    "    - Verificar que solo la segunda, tercera y cuarta opción se encuentren marcadas.\n",
    "    - Elegir como destino de instalación la carpeta creada al inicio: `C:\\Python`.\n",
    "    - Continuar con la instalación.\n",
    "\n",
    "Una vez terminado ya tendrías Python 3.11.5 instalado en tu computadora.\n",
    "\n",
    "> **Opcional**: Para verificar que tienes Python instalado:\n",
    "> - Abrir la línea de comando (buscarlo como `cmd` o `Símbolo del sistema`).\n",
    "> - Dentro de la línea de comando, escribir `python` y presionar Enter.\n",
    "> - Como resultado deberías obtener lo siguiente:\\\n",
    "> `Python 3.11.5 (tags/v3.11.5:cce6ba9, Aug 24 2023, 14:38:34) [MSC v.1936 64 bit (AMD64)] on win32` \\\r",
    "> `Type \"help\", \"copyright\", \"credits\" or \"license\" for more information`.\n",
    "> - Dentro de la línea de comando, escribir `quit()` para salir de la ejecución de Python.\n",
    "> - Cerrar la línea de comando."
   ]
  },
  {
   "cell_type": "markdown",
   "id": "2443108b-298f-4e1a-83b1-e0d37d4eb064",
   "metadata": {},
   "source": [
    "### **1.2. Instalar Jupyter Lab**\n",
    "\n",
    "- Abrir la línea de comando (buscarlo como `cmd` o `Símbolo del sistema`).\n",
    "\n",
    "\n",
    "- Dentro de la línea de comando:\n",
    "    - Escribir `pip install wheel`, presionar Enter y esperar a que termine la instalación.    \n",
    "    - Escribir `pip install jupyter`, presionar Enter y esperar a que termine la instalación.    \n",
    "    - Escribir `python -m ipykernel install --user` y presionar Enter.\n",
    "    - Escribir `pip install jupyterlab`, presionar Enter y esperar a que termine la instalación.\n",
    "    - Cerrar la línea de comando.\n",
    "\n",
    "- Dentro del escritorio:\n",
    "    - Crear un acceso directo: `Clic derecho >>> Nuevo >>> Acceso directo`.    \n",
    "    - En la `ubicación del elemento`, escribir `cmd /k \"jupyter-lab\"`.    \n",
    "    - Presionar `Siguiente` y luego `Finalizar`.    \n",
    "    - Cambiar el nombre del acceso directo por `Jupyter Lab`. **(Opcional)**    \n",
    "    - Crear una carpeta de trabajo para tus proyectos de Python (ejemplo: `D:\\Escritorio\\Proyectos Python`)    \n",
    "    - Hacer clic derecho en el acceso directo:\\\n",
    "    `Clic derecho >>> Propiedades >>> Acceso directo >>> Iniciar en` y reemplazar por la ruta completa a tu carpeta de trabajo.\n",
    "\n",
    "\n",
    "- Ejecutar el acceso directo (esto abrirá Jupyter Lab dentro de tu navegador web).\n",
    "\n",
    "Una vez hecho ya tendrías acceso a Jupyter Lab dentro de tu computadora."
   ]
  },
  {
   "cell_type": "markdown",
   "id": "d56a95b2-81cf-4009-97f0-3bf99c20566d",
   "metadata": {},
   "source": [
    "### **1.3. Instalar otras librerías**\n",
    "\n",
    "Como ejemplo, instalaremos las librerías `pandas` y `matplotlib`:\n",
    "\n",
    "- Abrir la línea de comando (buscarlo como `cmd` o `Símbolo del sistema`).\n",
    "\n",
    "\n",
    "- Dentro de la línea de comando:\n",
    "    - Escribir `pip install pandas`, presionar Enter y esperar a que termine la instalación.\n",
    "    - Escribir `pip install matplotlib`, presionar Enter y esperar a que termine la instalación.\n",
    "    - Cerrar la línea de comando.\n",
    "\n",
    "Una vez hecho esto ya tendrías las librerías instaladas en tu computadora.\n",
    "  \n",
    "> **Opcional**: Para verificar que tienes las librerías instaladas adecuadamente:\n",
    "> - Abrir Jupyter Lab, y dentro de un notebook (i.e. archivo con formato `.ipynb`):\n",
    ">     - Escribir `import pandas as pd`. Si la librería está instalada no debería haber error.\n",
    ">     - Escribir `import matplotlib.pyplot as plt`. Si la librería está instalada no debería error."
   ]
  },
  {
   "cell_type": "markdown",
   "id": "2c4f66c3-b90d-405b-b874-bb241775f71a",
   "metadata": {},
   "source": [
    "<a id=\"anexo2\"></a>"
   ]
  },
  {
   "cell_type": "markdown",
   "id": "b8110561-4ef4-4c2c-a2d2-0364b52952cc",
   "metadata": {},
   "source": [
    "## **2. ¿Cómo importar una librería dentro de Python?**\n",
    "***\n",
    "\n",
    "Una **librería** es una colección de funciones que realizan diferentes tareas. Elimina la necesidad de crear código desde cero.\n",
    "\n",
    "Para importar una librería usaremos las siguientes palabras reservadas:\n",
    "- `import`: carga la librería dentro del archivo.\n",
    "- `as`: opcional, permite asignar una referencia abreviada de la librería.\\\n",
    "En este caso, se escribe así: `import [librería] as [abreviatura]`\n",
    "- `from`: para extraer un módulo o una función específica de la librería.\\\n",
    "En este caso, empieza así: `from [librería] import [función]`.\n",
    "\n",
    "Por ejemplo, importaremos la librería `math`:"
   ]
  },
  {
   "cell_type": "code",
   "execution_count": null,
   "id": "8dc8357e-1224-4620-9ab6-7808b96b200b",
   "metadata": {},
   "outputs": [],
   "source": [
    "import math"
   ]
  },
  {
   "cell_type": "markdown",
   "id": "aa762f11-6e2e-4bd5-bf9d-e8d4a7d7a157",
   "metadata": {},
   "source": [
    "Mostraremos el valor de $\\Large\\mathrm{\\pi}$:"
   ]
  },
  {
   "cell_type": "code",
   "execution_count": null,
   "id": "040211b0-7f5e-405d-ac4f-69b67591f232",
   "metadata": {},
   "outputs": [],
   "source": [
    "math.pi"
   ]
  },
  {
   "cell_type": "markdown",
   "id": "f99bf71c-0c0b-4710-9a2a-2358381b282e",
   "metadata": {},
   "source": [
    "Y calcularemos el seno de 45°:"
   ]
  },
  {
   "cell_type": "code",
   "execution_count": null,
   "id": "cd47d1f8-d0fd-4a8e-8187-57c7d37219e6",
   "metadata": {},
   "outputs": [],
   "source": [
    "math.sin(math.pi/4)"
   ]
  },
  {
   "cell_type": "markdown",
   "id": "d34e8e91-9158-4aae-816f-159b7b1e994b",
   "metadata": {},
   "source": [
    "Ahora importaremos el módulo `pyplot` de `matplotlib` y la librería `numpy`:"
   ]
  },
  {
   "cell_type": "code",
   "execution_count": null,
   "id": "0f72772a-1472-49bf-8175-421f0aa53468",
   "metadata": {},
   "outputs": [],
   "source": [
    "import matplotlib.pyplot as plt\n",
    "import numpy as np"
   ]
  },
  {
   "cell_type": "markdown",
   "id": "39439111-98d3-4bf1-a82f-0e3fb4ead666",
   "metadata": {},
   "source": [
    "Y crearemos una figura simple:"
   ]
  },
  {
   "cell_type": "code",
   "execution_count": null,
   "id": "0a95c0e5-dc61-4a8e-aa4c-6676ab90f6f0",
   "metadata": {},
   "outputs": [],
   "source": [
    "x = np.arange(1, 10, 1)\n",
    "\n",
    "fig, ax = plt.subplots(figsize=(6, 6))\n",
    "ax.plot(x, x**2)\n",
    "plt.show()"
   ]
  },
  {
   "cell_type": "markdown",
   "id": "8781e00e-3485-40f9-b578-cfe755df24b7",
   "metadata": {},
   "source": [
    "Por último, importaremos la función `DataFrame` de la librería `pandas`: "
   ]
  },
  {
   "cell_type": "code",
   "execution_count": null,
   "id": "a2343614-0ee8-464b-a55c-c67a33c51e4c",
   "metadata": {},
   "outputs": [],
   "source": [
    "from pandas import DataFrame"
   ]
  },
  {
   "cell_type": "markdown",
   "id": "e90c9fa1-847d-4aea-be3d-8a4616dc20a5",
   "metadata": {},
   "source": [
    "Y crearemos un dataframe:"
   ]
  },
  {
   "cell_type": "code",
   "execution_count": null,
   "id": "272cfda0-70f6-4d03-946f-91e83dd66dba",
   "metadata": {},
   "outputs": [],
   "source": [
    "DataFrame({\"Color\": [\"Gris\", \"Verde\", \"Azul\"], \"Tamaño\": [12, 9, 10], \"Tiempo\": [3, 4, 5]})"
   ]
  },
  {
   "cell_type": "markdown",
   "id": "d175d918-e22f-4d77-a6c9-2ed466623b7c",
   "metadata": {},
   "source": [
    "***"
   ]
  }
 ],
 "metadata": {
  "kernelspec": {
   "display_name": "Python 3 (ipykernel)",
   "language": "python",
   "name": "python3"
  },
  "language_info": {
   "codemirror_mode": {
    "name": "ipython",
    "version": 3
   },
   "file_extension": ".py",
   "mimetype": "text/x-python",
   "name": "python",
   "nbconvert_exporter": "python",
   "pygments_lexer": "ipython3",
   "version": "3.11.5"
  }
 },
 "nbformat": 4,
 "nbformat_minor": 5
}
