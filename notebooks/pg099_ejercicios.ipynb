{
 "cells": [
  {
   "cell_type": "markdown",
   "id": "7a6e8c3b-ac57-4bba-b602-3ae0f6648ae8",
   "metadata": {
    "jp-MarkdownHeadingCollapsed": true,
    "tags": []
   },
   "source": [
    "<span style=\"color:gold; font-size:30px\">**PG099 - Ejercicios de Python para Geología**</span>\n",
    "***\n",
    "\n",
    "<span style=\"font-size:20px\"> **Autor: Kevin Alexander Gómez** </span>\n",
    "\n",
    "<span style=\"font-size:16px\"> **Contacto: kevinalexandr19@gmail.com | [Linkedin](https://www.linkedin.com/in/kevin-alexander-g%C3%B3mez-2b0263111/) | [Github](https://github.com/kevinalexandr19)** </span>\n",
    "***"
   ]
  },
  {
   "cell_type": "markdown",
   "id": "2c75edb9-10ee-48b0-8a52-e2645cabd8b8",
   "metadata": {
    "tags": []
   },
   "source": [
    "Bienvenido a PG099 - Ejercicios de Python para Geología!!!\n",
    "\n",
    "En este documento encontrarás <span style=\"color:gold\">problemas de Geología</span> cuya solución deberá ser desarrollada a través del uso de Python.\n",
    "\n",
    "Es necesario que tengas un conocimiento previo en Python, geología general, matemática y estadística.\n",
    "\n",
    "<span style=\"color:lightgreen\"> Este notebook es parte del proyecto [**Python para Geólogos**](https://github.com/kevinalexandr19/manual-python-geologia), y ha sido creado con la finalidad de facilitar el aprendizaje en Python para estudiantes y profesionales en el campo de la Geología. </span>"
   ]
  },
  {
   "cell_type": "markdown",
   "id": "00fb9d85-6203-4cda-b798-9993907b0fdc",
   "metadata": {
    "tags": []
   },
   "source": [
    "## **Índice**\n",
    "***\n",
    "1. [Variables geológicas](#parte-1)\n",
    "2. [Mostrando resultados en Python](#parte-2)\n",
    "3. [Lógica computacional](#parte-3)\n",
    "4. [Estructuras de datos](#parte-4)\n",
    "5. [Automatización de tareas](#parte-5)\n",
    "6. [Programación orientada a objetos](#parte-6)\n",
    "7. [Librerías fundamentales de Python](#parte-7)\n",
    "\n",
    "***"
   ]
  },
  {
   "cell_type": "markdown",
   "id": "5ebfab97-f895-417a-92b1-e62100bce8b4",
   "metadata": {},
   "source": [
    "<a id=\"parte-1\"></a>"
   ]
  },
  {
   "cell_type": "markdown",
   "id": "228a759d-48c9-411e-9259-32c194201f53",
   "metadata": {},
   "source": [
    "### <span style=\"color:lightgreen\">**Variables geólogicas**</span>\n",
    "***"
   ]
  },
  {
   "cell_type": "markdown",
   "id": "b3021259-d244-4783-9233-67df33d06e2e",
   "metadata": {},
   "source": [
    "- **Nombres de variables y funciones** \\\n",
    "Deben empezar con una letra o un guion bajo y pueden contener letras, números y guiones bajos.\\\n",
    "Por convención, se usan `nombres_en_minusculas_con_guiones_bajos` para variables y funciones, y `NombresEnCamelCase` para clases.\n",
    "\n",
    "- **Strings** \\\n",
    "Puedes usar comillas simples `''` o dobles `\"\"`, pero es importante ser consistente en todo el proyecto.\\\n",
    "Para strings de varias líneas, usa triple comillas: `'''` o `\"\"\"`.\n",
    "\n",
    "- **Comentarios** \\\n",
    "Los comentarios en Python comienzan con el símbolo `#`.\\\n",
    "Es una buena práctica comentar el código, pero evita comentarios obvios o redundantes."
   ]
  },
  {
   "cell_type": "markdown",
   "id": "537b3719-8475-4afd-a24b-a61e8b2c3ac9",
   "metadata": {},
   "source": [
    "<a id=\"parte-2\"></a>"
   ]
  },
  {
   "cell_type": "markdown",
   "id": "a7b03a45-ceba-490b-994c-5fdd243fb84b",
   "metadata": {},
   "source": [
    "### <span style=\"color:lightgreen\">**Mostrando resultados en Python**</span>\n",
    "***"
   ]
  },
  {
   "cell_type": "markdown",
   "id": "5c998729-7052-4d94-a43d-5041dd982b62",
   "metadata": {},
   "source": [
    "- **Paréntesis para claridad** \\\n",
    "Aunque no siempre son necesarios, usar paréntesis puede hacer que las expresiones complejas sean más fáciles de leer.\n",
    "\n",
    "- **f-strings** \\\n",
    "Los f-strings permiten insertar variables dentro de un string, agregando mayor eficiencia, flexibilidad y legibilidad al código desarrollado.\n",
    "\n",
    "- **Saltos de línea** \\\n",
    "Puede usar `\\n` dentro de un string para indicar un salto de línea.\n",
    "\n",
    "<br>"
   ]
  },
  {
   "cell_type": "markdown",
   "id": "919d7a3d-7048-4895-8614-5413cddf352c",
   "metadata": {},
   "source": [
    "#### **1. Datos de un mineral**\n",
    "Crea dos variables: una para el nombre de un mineral y otra para su dureza en la escala de Mohs. Usa f-strings para imprimir una frase que diga: \"El mineral [nombre del mineral] tiene una dureza de [dureza] en la escala de Mohs.\""
   ]
  },
  {
   "cell_type": "code",
   "execution_count": null,
   "id": "13c23d12-8081-47c3-8dab-636d0318ae45",
   "metadata": {},
   "outputs": [],
   "source": []
  },
  {
   "cell_type": "code",
   "execution_count": null,
   "id": "e15c1f9a-ffbc-4b6b-a13c-5962e6ee9caa",
   "metadata": {},
   "outputs": [],
   "source": []
  },
  {
   "cell_type": "markdown",
   "id": "2cf0196c-cbaf-41aa-aad3-b9e12b47597d",
   "metadata": {},
   "source": [
    "#### **2. Edad de una roca**\n",
    "Define una variable para el nombre de una roca y otra para su edad en millones de años. Utiliza f-strings para imprimir un mensaje que diga: \"La roca [nombre de la roca] tiene una edad de [edad] millones de años.\""
   ]
  },
  {
   "cell_type": "code",
   "execution_count": null,
   "id": "a624c77a-04c2-492b-a381-5eeb0d64ee65",
   "metadata": {},
   "outputs": [],
   "source": []
  },
  {
   "cell_type": "code",
   "execution_count": null,
   "id": "8bcf2f45-f281-4126-84d3-637bfe5c3461",
   "metadata": {},
   "outputs": [],
   "source": []
  },
  {
   "cell_type": "markdown",
   "id": "2a6b9b7a-40e0-4ff5-8a2d-a8ea6c82b39e",
   "metadata": {},
   "source": [
    "#### **3. Registro de Muestras**\n",
    "Se pide registrar la siguiente información de una muestra de roca usando variables:\n",
    "- Código de identificación,\n",
    "- Tipo de roca (sedimentaria, ígnea, metamórfica)\n",
    "- Peso de la muestra en Kg\n",
    "\n",
    "Utiliza f-strings para imprimir una ficha de la muestra con estos datos."
   ]
  },
  {
   "cell_type": "code",
   "execution_count": null,
   "id": "706ffd21-58ed-4395-a959-463f5f7ee364",
   "metadata": {},
   "outputs": [],
   "source": []
  },
  {
   "cell_type": "code",
   "execution_count": null,
   "id": "f97dc6b5-0b3b-4a95-858f-a71031908fe3",
   "metadata": {},
   "outputs": [],
   "source": []
  },
  {
   "cell_type": "markdown",
   "id": "f0bbb5cd-54de-4afc-ba79-8d82f2c0c022",
   "metadata": {},
   "source": [
    "#### **4. Conversión de Unidades**\n",
    "Dado un valor en toneladas, crea una variable que convierta ese valor a kilogramos (considerando que 1 tonelada = 1,000 kg). Luego, utiliza f-strings para imprimir ambos valores en una sola frase, por ejemplo: \"500 toneladas equivalen a 500,000 kilogramos.\""
   ]
  },
  {
   "cell_type": "code",
   "execution_count": null,
   "id": "d297547f-d92d-4921-b6fc-31a6a91e9989",
   "metadata": {},
   "outputs": [],
   "source": []
  },
  {
   "cell_type": "code",
   "execution_count": null,
   "id": "f0bd0528-5053-401e-99af-e230151cf98d",
   "metadata": {},
   "outputs": [],
   "source": []
  },
  {
   "cell_type": "markdown",
   "id": "575141a8-fdd5-457f-9e53-dd51df74e22a",
   "metadata": {},
   "source": [
    "#### **5. Ubicación de un Volcán**\n",
    "Define variables para el nombre de un volcán, su altura en metros y las coordenadas geográficas donde se encuentra. Luego, utiliza f-strings para imprimir una descripción detallada de la ubicación del volcán."
   ]
  },
  {
   "cell_type": "code",
   "execution_count": null,
   "id": "1c575a9e-a2c6-4cbc-8efe-b09f31b23f1c",
   "metadata": {},
   "outputs": [],
   "source": []
  },
  {
   "cell_type": "code",
   "execution_count": null,
   "id": "f562296c-aef3-44ae-a7e4-6667b814437e",
   "metadata": {},
   "outputs": [],
   "source": []
  },
  {
   "cell_type": "markdown",
   "id": "d3a89755-2a3b-403d-b86f-94220e1ade79",
   "metadata": {},
   "source": [
    "#### **6. Información de un Yacimiento**\n",
    "Define tres variables: una para el nombre de un yacimiento, otra para el tipo de mineral predominante y una tercera para la cantidad estimada de reservas en toneladas. Usa f-strings para imprimir una descripción completa del yacimiento."
   ]
  },
  {
   "cell_type": "code",
   "execution_count": null,
   "id": "f4445fb4-de06-4e5e-98aa-26efafd81106",
   "metadata": {},
   "outputs": [],
   "source": []
  },
  {
   "cell_type": "code",
   "execution_count": null,
   "id": "aff3c977-32e2-4891-99fc-c402bab4dd2f",
   "metadata": {},
   "outputs": [],
   "source": []
  },
  {
   "cell_type": "markdown",
   "id": "82cc66ae-b5ca-41df-8995-4c0d375ba188",
   "metadata": {},
   "source": [
    "#### **7. Cálculo de Profundidad**\n",
    "Dado un pozo de exploración, registra su punto de inicio y su punto final en metros. Calcula la profundidad total del pozo y utiliza f-strings para imprimir un resumen con todos estos datos."
   ]
  },
  {
   "cell_type": "code",
   "execution_count": null,
   "id": "c04f061b-1cf4-498a-a469-b3f2c60f33ab",
   "metadata": {},
   "outputs": [],
   "source": []
  },
  {
   "cell_type": "code",
   "execution_count": null,
   "id": "37bfa5dc-8e5c-48b3-8dd3-60130cacbbeb",
   "metadata": {},
   "outputs": [],
   "source": []
  },
  {
   "cell_type": "markdown",
   "id": "e1c25fe9-f00e-4a4a-8cec-be8a7d20f2d0",
   "metadata": {
    "tags": []
   },
   "source": [
    "#### **8. Reporte de resultados en una mina**\n",
    "\n",
    "Una mina de Au obtuvo los siguientes resultados de producción para un determinado semestre:\n",
    "\n",
    "| Mes | Au (onzas) |\n",
    "| --- | --- |\n",
    "| Enero | 80 |\n",
    "| Febrero | 105 |\n",
    "| Marzo | 45 |\n",
    "| Abril | 80 |\n",
    "| Mayo | 75 |\n",
    "| Junio | 125 |\n",
    "\n",
    "Para obtener un reporte general de los resultados, se pide:\n",
    " - El total de onzas Au producidas en el semestre. Asignarlo a la variable `total`.\n",
    " - El costo de operación mensual de la mina fue de 40000 dólares. Asignarlo a la variable `costo_operacion`.\n",
    " - El precio de una onza de Au es de 1000 dólares. Asignarlo a la variable `precio`.\n",
    " - Usando estas tres variables, calcular la ganancia semestral de la mina asignándola a la variable `ganancia`.\n",
    " - Mostrar el resultado general usando la función `print`, usando el siguiente formato:\\\n",
    " `\"Durante el semestre, la mina produjo ___ onzas de Au con una ganancia total de ___ dólares\"`"
   ]
  },
  {
   "cell_type": "code",
   "execution_count": null,
   "id": "2ff2c257-3292-41b6-a55f-a9ac208fbc12",
   "metadata": {},
   "outputs": [],
   "source": []
  },
  {
   "cell_type": "code",
   "execution_count": null,
   "id": "5de409a2-3455-4afd-866c-a2d2edbaff7e",
   "metadata": {},
   "outputs": [],
   "source": []
  },
  {
   "cell_type": "markdown",
   "id": "1152feef-4d0d-4ecb-9c69-8f25ef0affe8",
   "metadata": {},
   "source": [
    "#### **9. Información de Minerales**\n",
    "Define tres variables: una para el nombre de un mineral, otra para su principal uso industrial y una tercera para el país líder en su producción. Usa f-strings para generar un informe sobre este mineral."
   ]
  },
  {
   "cell_type": "code",
   "execution_count": null,
   "id": "8c355931-9335-4b2f-893c-8dffda27d1e9",
   "metadata": {},
   "outputs": [],
   "source": []
  },
  {
   "cell_type": "code",
   "execution_count": null,
   "id": "60591504-2b8e-4c18-8cfb-411e356e0fa0",
   "metadata": {},
   "outputs": [],
   "source": []
  },
  {
   "cell_type": "markdown",
   "id": "bd1713d5-6145-477c-a162-a2d2b756413d",
   "metadata": {},
   "source": [
    "#### **10. Riesgo geológico en una edificación**\n",
    "¿Cuál es la probabilidad de que un edificio sufra un terremoto de magnitud 7 teniendo en cuenta que su vida útil es de 100 años, y el período de retorno del terremoto es de 500 años?.\\\n",
    "Usar la siguiente fórmula para el cálculo de la probabilidad de excedencia:\n",
    "\n",
    "<center> $\\Large p = 1 - (1 - \\frac{1}{T})^{t}$ </center>\n",
    "\n",
    "Donde:\n",
    "\n",
    "- $p$ : probabilidad de excedencia\n",
    "- $t$ : vida útil de la estructura\n",
    "- $T$ : período de retorno"
   ]
  },
  {
   "cell_type": "code",
   "execution_count": null,
   "id": "ce694512-f046-4240-abf1-41cf10d26232",
   "metadata": {},
   "outputs": [],
   "source": []
  },
  {
   "cell_type": "code",
   "execution_count": null,
   "id": "19082c9a-b3ca-41c2-92c9-b366bf45dd5e",
   "metadata": {},
   "outputs": [],
   "source": []
  },
  {
   "cell_type": "markdown",
   "id": "5ce81ed8-22d2-4879-a2db-086f3bb9ba43",
   "metadata": {},
   "source": [
    "#### **11. Reporte de Terremotos**\n",
    "Define variables para registrar la fecha, hora, magnitud, profundidad y ubicación de un terremoto. Luego, utilizando f-strings, crea una función que, al ser invocada, genere un reporte detallado del evento sísmico"
   ]
  },
  {
   "cell_type": "code",
   "execution_count": null,
   "id": "35bee680-8077-407b-9a72-7f7e4593c5e6",
   "metadata": {},
   "outputs": [],
   "source": []
  },
  {
   "cell_type": "code",
   "execution_count": null,
   "id": "6dde66ee-6adf-498b-9064-c44e50a429d4",
   "metadata": {},
   "outputs": [],
   "source": []
  },
  {
   "cell_type": "markdown",
   "id": "7099b717-6b43-44e0-8b0f-9d4e4dfcb8ba",
   "metadata": {
    "tags": []
   },
   "source": [
    "#### **12. Propagación de ondas sísmicas**\n",
    "\n",
    "Un sismo fue detectado dentro de una estación de observación.\\\n",
    "La llegada de las ondas P se produjo a las 10h 23m 37s, mientras que a las 10h 24m 22s, se registraron las ondas S.\\\n",
    "Las velocidades estimadas de las ondas sísmisca fueron: $V_{P}=7.2 \\space km/s$ y $V_{S}=4.15 \\space km/s$.\n",
    "\n",
    "Utilizando el siguiente modelo de propagación de ondas sísmicas, calcular la distancia al epicentro del sismo:\n",
    "<center> $ \\Large d = \\frac{T_{S} - T_{P}}{\\frac{1}{V_{S}} - \\frac{1}{V_{P}}} $ </center>\n",
    "\n",
    "Donde:\n",
    "- $d$: distancia al epicentro del sismo\n",
    "- $V_{P}$, $V_{S}$: velocidad de las ondas sísmicas P y S\n",
    "- $T_{P}$, $T_{S}$: tiempo de llegada de las ondas sísmicas P y S"
   ]
  },
  {
   "cell_type": "code",
   "execution_count": null,
   "id": "f3dbc03d-d9ac-4535-8ecf-6176656b4dec",
   "metadata": {},
   "outputs": [],
   "source": []
  },
  {
   "cell_type": "code",
   "execution_count": null,
   "id": "25b17b05-9d41-4061-ab9c-b64369ba3716",
   "metadata": {},
   "outputs": [],
   "source": []
  },
  {
   "cell_type": "markdown",
   "id": "569cf72b-3aca-4e8d-807f-c0f4d96d4b76",
   "metadata": {},
   "source": [
    "<a id=\"parte-3\"></a>"
   ]
  },
  {
   "cell_type": "markdown",
   "id": "4c3657e7-e58b-4a87-a7ca-22e466f9703a",
   "metadata": {},
   "source": [
    "### <span style=\"color:lightgreen\">**Lógica computacional**</span>\n",
    "***"
   ]
  },
  {
   "cell_type": "markdown",
   "id": "a93bdb41-3f2b-4b77-82ad-88cb941c6864",
   "metadata": {},
   "source": [
    "- **Estructuras de control** \\\n",
    "Siempre se usa dos puntos `:` al final de la línea que introduce una nueva estructura de control (por ejemplo, `if`, `for`, `while`, `def`, `class`).\\\n",
    "Si la estructura no tiene contenido, puedes usar la palabra reservada `pass` para indicar un bloque vacío.\n",
    "\n",
    "- **Indentación** \\\n",
    "Python utiliza la indentación para definir bloques de código (a diferencia de otros lenguajes que utilizan llaves `{}`).\\\n",
    "La indentación incorrecta puede causar errores.\\\n",
    "Se recomienda usar 4 espacios para cada nivel de indentación, aunque también es posible usar tabulación.\\\n",
    "Es importante ser consistente en todo el código.\n",
    "\n",
    "<br>"
   ]
  },
  {
   "cell_type": "markdown",
   "id": "b59920c9-36a4-4539-b5d7-d298dddbdf30",
   "metadata": {},
   "source": [
    "#### **13. Riesgo Volcánico**\n",
    "Escribe un programa que, basándose en la actividad reciente de un volcán (número de erupciones en el último año) y la proximidad a zonas pobladas (en kilómetros), determine el nivel de riesgo. Usar el siguiente criterio:\n",
    "- Riesgo Alto: más de 10 erupciones en el año y hasta 10 Km de proximidad.\n",
    "- Riesgo Intermedio: más de 5 erupciones en el año y hasta 20 Km de proximidad.\n",
    "- Riesgo Bajo: menos de 5 erupciones en el año o más de 20 Km de proximidad."
   ]
  },
  {
   "cell_type": "code",
   "execution_count": null,
   "id": "65b785c8-c740-412e-9845-3d7304d1c008",
   "metadata": {},
   "outputs": [],
   "source": []
  },
  {
   "cell_type": "code",
   "execution_count": null,
   "id": "5a1fa08b-0189-4322-aa40-c1cd21b873f1",
   "metadata": {},
   "outputs": [],
   "source": []
  },
  {
   "cell_type": "markdown",
   "id": "55642993-54bd-41ba-9685-7ad858f68095",
   "metadata": {
    "tags": []
   },
   "source": [
    "#### **14. Clasificación de rocas ígneas**\n",
    "\n",
    "Para clasificar una roca ígnea de acuerdo a su contenido de sílice (SiO$_{2}$), se recomienda el siguiente criterio:\n",
    "\n",
    "- Rocas ígneas ultramáficas: contienen menos del 45% de SiO2. Ejemplos de estas rocas son la peridotita y la dunita.\n",
    "- Rocas ígneas máficas: contienen entre el 45% y el 52% de SiO2. Ejemplos de estas rocas son el basalto y la gabro.\n",
    "- Rocas ígneas intermedias: contienen entre el 52% y el 66% de SiO2. Ejemplos de estas rocas son la andesita y la diorita.\n",
    "- Rocas ígneas félsicas: contienen más del 66% de SiO2. Ejemplos de estas rocas son el granito y la riolita.\n",
    "\n",
    "Usando condicionales, crear un programa que pida al usuario ingresar un valor numérico de sílice y determine la clasificación de una roca ígnea en base a dicho contenido."
   ]
  },
  {
   "cell_type": "code",
   "execution_count": null,
   "id": "fa05d58f-71b9-4322-9daf-9a3c95c53b51",
   "metadata": {},
   "outputs": [],
   "source": []
  },
  {
   "cell_type": "code",
   "execution_count": null,
   "id": "c2f8d7f6-d313-449a-bac4-9b4441b6c97c",
   "metadata": {},
   "outputs": [],
   "source": []
  },
  {
   "cell_type": "markdown",
   "id": "1dd217ae-cea2-4517-b472-b9d8fcd87d01",
   "metadata": {},
   "source": [
    "#### **15. Exploración de Petróleo**\n",
    "Un yacimiento de petróleo es considerado viable si su presión es superior a 20 MPa y su temperatura es inferior a 150°C. Crea un programa que, dadas estas dos variables, determine si la exploración del yacimiento es viable."
   ]
  },
  {
   "cell_type": "code",
   "execution_count": null,
   "id": "b4fc685e-7c46-4c9e-bfc7-049555739598",
   "metadata": {},
   "outputs": [],
   "source": []
  },
  {
   "cell_type": "code",
   "execution_count": null,
   "id": "86ed4e12-e07a-4565-af51-18aa2a1ca290",
   "metadata": {},
   "outputs": [],
   "source": []
  },
  {
   "cell_type": "markdown",
   "id": "3c27dd5a-d8cc-48f5-9d3f-b8673f286cc2",
   "metadata": {},
   "source": [
    "#### **16. Erosión de Suelos**\n",
    "Basándose en la cantidad de precipitaciones anuales y la cantidad de vegetación presente, determina si una zona es propensa a la erosión. Por ejemplo, si las precipitaciones son superiores a 1000 mm anuales y la vegetación es \"escasa\", la zona es \"propensa\" a la erosión."
   ]
  },
  {
   "cell_type": "code",
   "execution_count": null,
   "id": "7a15d369-7666-49d4-b340-b93650638170",
   "metadata": {},
   "outputs": [],
   "source": []
  },
  {
   "cell_type": "code",
   "execution_count": null,
   "id": "123979d1-dfc3-46da-8026-fb190cf371e7",
   "metadata": {},
   "outputs": [],
   "source": []
  },
  {
   "cell_type": "markdown",
   "id": "742f6147-fb86-4b33-a67b-6b5ad1bf3e94",
   "metadata": {},
   "source": [
    "#### **17. Evaluación de Acuíferos**\n",
    "Un acuífero es considerado apto para consumo humano si su concentración de sales es inferior al 5% y no presenta contaminantes tóxicos. Escribe un programa que, dada la concentración de sales y la presencia (o no) de contaminantes, determine si el agua del acuífero es apta para consumo."
   ]
  },
  {
   "cell_type": "code",
   "execution_count": null,
   "id": "64d615db-c122-4a0f-ba94-c4d154bd514e",
   "metadata": {},
   "outputs": [],
   "source": []
  },
  {
   "cell_type": "code",
   "execution_count": null,
   "id": "2e5b403d-f75d-4f06-bf1e-2d83716e0bd5",
   "metadata": {},
   "outputs": [],
   "source": []
  },
  {
   "cell_type": "markdown",
   "id": "da0459f5-2ea3-4251-9d89-0954869067db",
   "metadata": {},
   "source": [
    "#### **18. Clasificación de reservas**\n",
    "Dada una cantidad de mineral en toneladas y la ley del mineral (porcentaje de metal puro), determina si es una reserva de \"alta calidad\" (ley superior al 10% y más de 1,000 toneladas) o \"baja calidad\" (ley inferior al 10% o menos de 1,000 toneladas)."
   ]
  },
  {
   "cell_type": "code",
   "execution_count": null,
   "id": "e2bc9944-6f48-41b6-9c1d-54c92796a23d",
   "metadata": {},
   "outputs": [],
   "source": []
  },
  {
   "cell_type": "code",
   "execution_count": null,
   "id": "7359deff-e813-4640-9f48-c373eb035065",
   "metadata": {},
   "outputs": [],
   "source": []
  },
  {
   "cell_type": "markdown",
   "id": "2c57d1ce-20b8-4e52-87c2-b9b27ffd232d",
   "metadata": {},
   "source": [
    "#### **19. Determinar si es rentable explotar un yacimiento**\n",
    "Un yacimiento es rentable si tiene más de 5,000 toneladas de mineral y la ley del mineral es superior al 5%. Escribe un programa que, dadas estas dos variables, determine si es rentable explotar el yacimiento."
   ]
  },
  {
   "cell_type": "code",
   "execution_count": null,
   "id": "1499dbe7-3752-451e-8175-f655ac06ede3",
   "metadata": {},
   "outputs": [],
   "source": []
  },
  {
   "cell_type": "code",
   "execution_count": null,
   "id": "94787f6a-839a-4b23-b443-e2cb3b6a584e",
   "metadata": {},
   "outputs": [],
   "source": []
  },
  {
   "cell_type": "markdown",
   "id": "f3212ad0-4af5-4a83-8e72-33b3e169c284",
   "metadata": {},
   "source": [
    "#### **20. Análisis detallado de un yacimiento**\n",
    "Un yacimiento tiene varias propiedades: toneladas de mineral, ley del mineral, profundidad (en metros) y distancia al mercado (en kilómetros). Escribe un programa que determine:\n",
    "- Si es rentable explotar el yacimiento (más de 5,000 toneladas y ley superior al 5%).\n",
    "- Si es fácilmente accesible (profundidad menor a 200 metros).\n",
    "- Si está cerca del mercado (distancia menor a 50 kilómetros).\n",
    "- Con base en estas condiciones, el programa debe determinar si el yacimiento es \"ideal\" (cumple las tres condiciones), \"promedio\" (cumple dos condiciones) o \"no recomendable\" (cumple una o ninguna condición)."
   ]
  },
  {
   "cell_type": "code",
   "execution_count": null,
   "id": "cb729965-c2c0-4e85-9637-f56da376e62c",
   "metadata": {},
   "outputs": [],
   "source": []
  },
  {
   "cell_type": "code",
   "execution_count": null,
   "id": "245a5046-554d-4859-9700-661e7f14b2b8",
   "metadata": {},
   "outputs": [],
   "source": []
  },
  {
   "cell_type": "markdown",
   "id": "b0758fa0-e09b-4fd8-ae8b-5f306dfdc3fc",
   "metadata": {},
   "source": [
    "<a id=\"parte-4\"></a>"
   ]
  },
  {
   "cell_type": "markdown",
   "id": "070774df-aadd-41e8-a120-060cb56df3f0",
   "metadata": {},
   "source": [
    "### <span style=\"color:lightgreen\">**Estructuras de datos**</span>\n",
    "***\n",
    "\n",
    "- **Espaciado** \\\n",
    "Usa espacios alrededor de operadores y después de las comas para mejorar la legibilidad.\\\n",
    "Evita usar espacios extra al principio o al final de las listas/tuplas: `[a, b, c]` en lugar de `[ a, b, c ]`.\n"
   ]
  },
  {
   "cell_type": "markdown",
   "id": "22a1e89f-40cb-42ec-b000-3ae396259c31",
   "metadata": {},
   "source": [
    "#### **21. Tipos de Roca**\n",
    "Crea una lista con cinco nombres comunes de roca (granito, gneiss, arenisca, etc.). Luego, muestra el segundo y cuarto elemento en la lista utilizando print."
   ]
  },
  {
   "cell_type": "code",
   "execution_count": null,
   "id": "0afbaaaa-e753-46c1-b413-4254be0afaee",
   "metadata": {},
   "outputs": [],
   "source": []
  },
  {
   "cell_type": "code",
   "execution_count": null,
   "id": "f7a92da0-deeb-4d88-8c46-459cabfff977",
   "metadata": {},
   "outputs": [],
   "source": []
  },
  {
   "cell_type": "markdown",
   "id": "14fef8ec-136d-4367-a0f5-880d32fe806e",
   "metadata": {},
   "source": [
    "#### **22. ¿Es mineral metálico?**\n",
    "Define una lista de minerales metálicos (como oro, plata, cobre). Escribe un programa que le pida al usuario ingresar un mineral y, utilizando condicionales, determine si el mineral ingresado es metálico o no."
   ]
  },
  {
   "cell_type": "code",
   "execution_count": null,
   "id": "5fcb1dc3-d979-4a20-b53e-27c71ede3f2c",
   "metadata": {},
   "outputs": [],
   "source": []
  },
  {
   "cell_type": "code",
   "execution_count": null,
   "id": "f6e68782-18b6-4dd5-ad64-f37885379469",
   "metadata": {},
   "outputs": [],
   "source": []
  },
  {
   "cell_type": "markdown",
   "id": "6490d7f5-b8d8-4c1a-b5a5-cb08106a41fd",
   "metadata": {},
   "source": [
    "#### **23. Identificación de Minerales**\n",
    "Dado un mineral, determina si es precioso o no. Para ello, crea una lista con nombres de minerales preciosos (como diamante, esmeralda, rubí). El programa deberá pedir al usuario ingresar un mineral y, utilizando condicionales, informar si el mineral ingresado es precioso o no."
   ]
  },
  {
   "cell_type": "code",
   "execution_count": null,
   "id": "5d2d4f61-51ca-443c-9da7-2053abeede40",
   "metadata": {},
   "outputs": [],
   "source": []
  },
  {
   "cell_type": "code",
   "execution_count": null,
   "id": "4b1f09aa-2811-4be5-bdf4-8eea07fd03b3",
   "metadata": {},
   "outputs": [],
   "source": []
  },
  {
   "cell_type": "markdown",
   "id": "8a70d613-ce19-4fc2-8458-6880d74df768",
   "metadata": {},
   "source": [
    "#### **24. Registro de Minerales**\n",
    "Crea una lista que contenga los nombres de tres minerales comunes. Luego, muestra el primer y último mineral de la lista utilizando print."
   ]
  },
  {
   "cell_type": "code",
   "execution_count": null,
   "id": "d3339a34-cfc3-4a47-9544-636af55d029f",
   "metadata": {},
   "outputs": [],
   "source": []
  },
  {
   "cell_type": "code",
   "execution_count": null,
   "id": "29c37003-1eb3-46ec-bfa2-7fc7c56262ff",
   "metadata": {},
   "outputs": [],
   "source": []
  },
  {
   "cell_type": "markdown",
   "id": "ff508fd9-64f4-46b3-98c2-4c6eaf94ab08",
   "metadata": {},
   "source": [
    "#### **25. Datos Geográficos Básicos**\n",
    "Define una tupla que contenga la latitud y longitud de un yacimiento importante. Luego, muestra ambos datos usando print."
   ]
  },
  {
   "cell_type": "code",
   "execution_count": null,
   "id": "54902c9f-00f2-4be0-bd62-3df2f966dd53",
   "metadata": {},
   "outputs": [],
   "source": []
  },
  {
   "cell_type": "code",
   "execution_count": null,
   "id": "651663bf-05bc-4055-b98f-2453ba869578",
   "metadata": {},
   "outputs": [],
   "source": []
  },
  {
   "cell_type": "markdown",
   "id": "edb0a8c0-6f29-4045-b97f-e0aebd67246d",
   "metadata": {},
   "source": [
    "#### **26. Escala de Mohs**\n",
    "Define un diccionario que asocie algunos minerales con su dureza en la escala de Mohs.\\\n",
    "Ejemplo: \n",
    "```python\n",
    "{\"talco\": 1, \"gipsita\": 2}\n",
    "```\n",
    "Muestra la dureza de uno de los minerales usando f-strings."
   ]
  },
  {
   "cell_type": "code",
   "execution_count": null,
   "id": "8665c549-8405-4eb4-8700-231ccd00b0bf",
   "metadata": {},
   "outputs": [],
   "source": []
  },
  {
   "cell_type": "code",
   "execution_count": null,
   "id": "2f9d92cf-a625-40af-96a3-8c6532457962",
   "metadata": {},
   "outputs": [],
   "source": []
  },
  {
   "cell_type": "markdown",
   "id": "97467f85-2690-4863-aebe-c0cd682aad5e",
   "metadata": {
    "tags": []
   },
   "source": [
    "#### **27. Mineralogía de una muestra de roca (Parte 1)**\n",
    "\n",
    "Una muestra de granodiorita tiene la siguiente composición mineralógica: cuarzo $(48\\%)$, plagioclasas $(27\\%)$, feldespato $(11\\%)$, biotita $(8\\%)$, pirita $(6\\%)$.\\\n",
    "Crear un diccionario en Python que guarde la mineralogía de la muestra, el porcentaje debe ser representado en fracción (ejemplo: 25% es igual a 0.25)."
   ]
  },
  {
   "cell_type": "code",
   "execution_count": null,
   "id": "b723512b-c002-40b2-9d4d-5d1cfec3d979",
   "metadata": {},
   "outputs": [],
   "source": []
  },
  {
   "cell_type": "code",
   "execution_count": null,
   "id": "37ad1072-f958-490b-b6ba-52a1fe953cec",
   "metadata": {},
   "outputs": [],
   "source": []
  },
  {
   "cell_type": "markdown",
   "id": "ceef6fff-956f-4456-bd4d-3da412f53998",
   "metadata": {},
   "source": [
    "#### **28. Catálogo de Rocas**\n",
    "Imagina que tienes una colección de rocas. Crea una lista que contenga varios diccionarios. Cada diccionario debe representar una roca con propiedades como \"nombre\", \"tipo\" (sedimentaria, ígnea, metamórfica) y \"localización\" (país donde se encuentra comúnmente). Una vez creada la lista, muestra las propiedades de la primera y última roca en la colección utilizando print."
   ]
  },
  {
   "cell_type": "code",
   "execution_count": null,
   "id": "b4665654-20d8-4cb0-a096-b3dd58c9d3a9",
   "metadata": {},
   "outputs": [],
   "source": []
  },
  {
   "cell_type": "code",
   "execution_count": null,
   "id": "9c890c2f-7a66-48d8-98d0-e28b3d88e328",
   "metadata": {},
   "outputs": [],
   "source": []
  },
  {
   "cell_type": "markdown",
   "id": "012e27f8-f913-4f82-b501-35349761dfd9",
   "metadata": {},
   "source": [
    "#### **29. Minerales y Propiedades**\n",
    "Imagina que tienes información sobre varios minerales. Crea una lista que contenga diccionarios. Cada diccionario debe representar un mineral con propiedades como \"nombre\", \"dureza\" (en la escala de Mohs) y \"color\". Una vez creada la lista, muestra las propiedades del mineral que tiene la mayor dureza, sin utilizar bucles (puedes suponer que tienes un número fijo de minerales, por ejemplo, 3, y acceder a ellos directamente por sus índices)."
   ]
  },
  {
   "cell_type": "code",
   "execution_count": null,
   "id": "42111ddd-5852-4217-9771-fa4d7740913b",
   "metadata": {},
   "outputs": [],
   "source": []
  },
  {
   "cell_type": "code",
   "execution_count": null,
   "id": "9c6ae379-1162-4bfc-8016-80c861453efa",
   "metadata": {},
   "outputs": [],
   "source": []
  },
  {
   "cell_type": "markdown",
   "id": "6cf92cf0-b40f-4567-92aa-53629e27e871",
   "metadata": {},
   "source": [
    "#### **30. Minerales y sus Usos**\n",
    "Define un diccionario que tenga como claves diferentes minerales y como valores sus principales usos industriales. Por ejemplo: {\"Cobre\": \"Conducción eléctrica\", \"Plomo\": \"Baterías\"}. Luego, muestra el uso industrial del plomo usando print."
   ]
  },
  {
   "cell_type": "code",
   "execution_count": null,
   "id": "57ee55b4-d586-4558-af72-aaa49da98fe6",
   "metadata": {},
   "outputs": [],
   "source": []
  },
  {
   "cell_type": "code",
   "execution_count": null,
   "id": "abd2cec2-5ed9-46b0-ba66-74f01bb9e219",
   "metadata": {},
   "outputs": [],
   "source": []
  },
  {
   "cell_type": "markdown",
   "id": "c8899bc2-d415-4e9b-af13-28006b6ce08c",
   "metadata": {},
   "source": [
    "#### **31. Yacimientos en el Mundo**\n",
    "Define una lista de tuplas, donde cada tupla represente un yacimiento mineral metálico y contenga el \"nombre del yacimiento\", \"país\" y \"principal metal extraído\". Luego, muestra el país del segundo yacimiento en la lista utilizando print."
   ]
  },
  {
   "cell_type": "code",
   "execution_count": null,
   "id": "63f5d4e7-d018-4c3e-9b29-d307e8a8d469",
   "metadata": {},
   "outputs": [],
   "source": []
  },
  {
   "cell_type": "code",
   "execution_count": null,
   "id": "f957c548-b552-4b7b-91d3-7b20713f466d",
   "metadata": {},
   "outputs": [],
   "source": []
  },
  {
   "cell_type": "markdown",
   "id": "2b663152-4728-419a-9958-c9b0eede03e4",
   "metadata": {},
   "source": [
    "#### **32. Base de Datos de Yacimientos**\n",
    "Crea una lista que contenga tuplas. Cada tupla debe representar un yacimiento con datos como \"nombre del yacimiento\", \"tipo de mineral predominante\", \"cantidad estimada de mineral\" (en toneladas) y \"país\". Luego, utilizando esta estructura, muestra los datos del yacimiento con la mayor cantidad de mineral, sin utilizar bucles o funciones (puedes suponer que tienes un número fijo de yacimientos, por ejemplo, 3, y acceder a ellos directamente por sus índices)."
   ]
  },
  {
   "cell_type": "code",
   "execution_count": null,
   "id": "ed0352e7-4a9f-4c96-9c01-f777a60ac57e",
   "metadata": {},
   "outputs": [],
   "source": []
  },
  {
   "cell_type": "code",
   "execution_count": null,
   "id": "0a9f475c-e5c2-4af9-8543-38938955cb51",
   "metadata": {},
   "outputs": [],
   "source": []
  },
  {
   "cell_type": "markdown",
   "id": "13338048-7fdb-4abd-a14c-00288b132dc1",
   "metadata": {},
   "source": [
    "<a id=\"parte-5\"></a>"
   ]
  },
  {
   "cell_type": "markdown",
   "id": "833796b7-122f-40a9-bd4d-ba5a08ffb658",
   "metadata": {},
   "source": [
    "### <span style=\"color:lightgreen\">**Automatización de tareas**</span>\n",
    "***"
   ]
  },
  {
   "cell_type": "markdown",
   "id": "dda3355f-284b-4387-acd3-f08e355f105b",
   "metadata": {},
   "source": [
    "#### **33. Determinar tipo de roca**\n",
    "Escribe un programa que le pida al usuario la composición de una roca (si contiene cuarzo, feldespato, mica, etc.). Si contiene cuarzo y feldespato pero no mica, el programa debe imprimir que es un tipo de granito. Si contiene mica pero no cuarzo, debe imprimir que es una mica esquistosa."
   ]
  },
  {
   "cell_type": "code",
   "execution_count": null,
   "id": "5a741eab-8959-4f55-9df1-cc60af9b4d83",
   "metadata": {},
   "outputs": [],
   "source": []
  },
  {
   "cell_type": "code",
   "execution_count": null,
   "id": "36cb3332-edc4-484f-bf66-270e53182a1c",
   "metadata": {},
   "outputs": [],
   "source": []
  },
  {
   "cell_type": "markdown",
   "id": "5d9224fd-714d-4a09-8ea2-51c4ce74065d",
   "metadata": {},
   "source": [
    "#### **34. Mineralogía de una muestra de roca (Parte 2)**\n",
    "\n",
    "Usando el diccionario obtenido en el ejercicio **27**, crear un bucle definido que muestre el nombre y el porcentaje de cada mineral.\\\n",
    "Usar el siguiente formato: `Abundancia de ____ en la muestra: _____ %`\n",
    "> Nota: se recomienda usar la función `print` para mostrar los resultados de cada mineral."
   ]
  },
  {
   "cell_type": "code",
   "execution_count": null,
   "id": "dfa1dd12-b1b0-46dc-9dae-69ebb6e4df99",
   "metadata": {},
   "outputs": [],
   "source": []
  },
  {
   "cell_type": "code",
   "execution_count": null,
   "id": "4292bea6-c7ed-4858-b40a-d90048737c96",
   "metadata": {},
   "outputs": [],
   "source": []
  },
  {
   "cell_type": "markdown",
   "id": "0eeb95ad-5a30-447e-8c24-6c347b69581f",
   "metadata": {},
   "source": [
    "#### **35. Reservas Mineras**\n",
    "Crea un diccionario donde las claves sean nombres de países y los valores sean listas. Cada lista debe contener tuplas que representen reservas mineras en ese país, con \"nombre del yacimiento\", \"tipo de mineral\" y \"cantidad estimada (en toneladas)\".\\\n",
    "Ejemplo:\n",
    "\n",
    "```python\n",
    "{\"Chile\": [(\"Chuquicamata\", \"cobre\", 5000000), (\"Escondida\", \"cobre\", 6000000)]}\n",
    "```\n",
    "\n",
    "Usar los países de Perú y Chile.\\\n",
    "Luego, usando un bucle, itera en el diccionario para encontrar el nombre y el país del yacimiento con la mayor cantidad de reservas."
   ]
  },
  {
   "cell_type": "code",
   "execution_count": null,
   "id": "cef0eff8-fba7-4569-ae1b-bc6e64f41d89",
   "metadata": {},
   "outputs": [],
   "source": []
  },
  {
   "cell_type": "code",
   "execution_count": null,
   "id": "8304a71b-3e06-4492-b755-e529f33da109",
   "metadata": {},
   "outputs": [],
   "source": []
  },
  {
   "cell_type": "markdown",
   "id": "c1832be1-65c1-4a80-a441-eaed2ca201d4",
   "metadata": {},
   "source": [
    "#### **36. Lista de Minerales**\n",
    "Escribe una función llamada `mostrar_minerales` que tome como argumento una lista de minerales y, usando un bucle, imprima cada mineral de la lista."
   ]
  },
  {
   "cell_type": "code",
   "execution_count": null,
   "id": "2fa923e1-6efa-4ba3-bed3-9b5065461cee",
   "metadata": {},
   "outputs": [],
   "source": []
  },
  {
   "cell_type": "code",
   "execution_count": null,
   "id": "947aa626-a370-4a27-b58e-1d27ed04181b",
   "metadata": {},
   "outputs": [],
   "source": []
  },
  {
   "cell_type": "markdown",
   "id": "80f9d9a9-60a8-4bc3-a527-5ff6a88e0987",
   "metadata": {},
   "source": [
    "#### **37. Listado de Minerales**\n",
    "Crea una función llamada `mostrar_minerales` que reciba una lista de minerales y, usando un bucle, imprima cada mineral en la lista, ordenado alfabéticamente."
   ]
  },
  {
   "cell_type": "code",
   "execution_count": null,
   "id": "ec830a1e-f2fc-4566-b095-848a16a53db0",
   "metadata": {},
   "outputs": [],
   "source": []
  },
  {
   "cell_type": "code",
   "execution_count": null,
   "id": "b89852c2-9086-47a0-92a6-c35ba9b1e9c4",
   "metadata": {},
   "outputs": [],
   "source": []
  },
  {
   "cell_type": "markdown",
   "id": "33187f1c-facd-4c98-afd3-888f82cfa6db",
   "metadata": {},
   "source": [
    "#### **38. Mineral Más Duro**\n",
    "Diseña una función llamada `mineral_mas_duro` que, dada una lista de tuplas donde cada tupla contiene el nombre de un mineral y su dureza en la escala de Mohs, retorne el nombre del mineral con la mayor dureza. Finalmente, usando print, muestra el resultado."
   ]
  },
  {
   "cell_type": "code",
   "execution_count": null,
   "id": "ce163f62-2954-43a0-b7d0-85c737c8a6c9",
   "metadata": {},
   "outputs": [],
   "source": []
  },
  {
   "cell_type": "code",
   "execution_count": null,
   "id": "7669d66a-8f3f-4a07-9f98-c3cd449eb998",
   "metadata": {},
   "outputs": [],
   "source": []
  },
  {
   "cell_type": "markdown",
   "id": "f6a88fe7-195d-4521-bc4e-7c2f6e955375",
   "metadata": {},
   "source": [
    "#### **39. Suma de Profundidades**\n",
    "Escribe una función llamada `sumar_profundidades` que reciba una lista de profundidades de diferentes pozos y retorne la suma total de todas las profundidades."
   ]
  },
  {
   "cell_type": "code",
   "execution_count": null,
   "id": "3a7c3742-545d-4058-84ad-cb217c224990",
   "metadata": {},
   "outputs": [],
   "source": []
  },
  {
   "cell_type": "code",
   "execution_count": null,
   "id": "595c9b66-586c-437a-a64d-ceed26ebb9aa",
   "metadata": {},
   "outputs": [],
   "source": []
  },
  {
   "cell_type": "markdown",
   "id": "42e21ef4-b87e-4170-b3d4-50dcbb3f2f2e",
   "metadata": {},
   "source": [
    "#### **40. Conteo de Rocas**\n",
    "Crea una función lllamada `conteo` que reciba una lista de rocas y retorne cuántas veces aparece una roca específica (por ejemplo, \"granito\") en la lista."
   ]
  },
  {
   "cell_type": "code",
   "execution_count": null,
   "id": "430d7fe9-f584-4d98-bbac-fcbf1dd35cfa",
   "metadata": {},
   "outputs": [],
   "source": []
  },
  {
   "cell_type": "code",
   "execution_count": null,
   "id": "8a6e0c68-4dc6-4a91-a1d1-282ae527da3b",
   "metadata": {},
   "outputs": [],
   "source": []
  },
  {
   "cell_type": "markdown",
   "id": "4a1ba545-8e5d-4a96-807f-5d2f09ef1ac3",
   "metadata": {},
   "source": [
    "#### **41. Rocas por Tipo**\n",
    "Escribe una función llamada `contar_rocas` que reciba una lista de rocas y, usando una función llamada `clasificar_roca` que clasifique el nombre de una roca por tipo (\"sedimentaria\", \"ígnea\" o \"metamórfica\"), devuelva como resultado un diccionario con la cantidad de rocas de cada tipo.\n",
    "> Para la función de clasificación puedes usar 2 o 3 nombres de rocas para cada tipo."
   ]
  },
  {
   "cell_type": "code",
   "execution_count": null,
   "id": "121baa19-22af-4ee4-944b-2b3504fca09d",
   "metadata": {},
   "outputs": [],
   "source": []
  },
  {
   "cell_type": "code",
   "execution_count": null,
   "id": "afeaec92-c4ec-4dc5-8d8f-d53db097c4cb",
   "metadata": {},
   "outputs": [],
   "source": []
  },
  {
   "cell_type": "markdown",
   "id": "38c95d3f-0039-4838-89a4-9f84c96fcd9f",
   "metadata": {},
   "source": [
    "#### **42. Máxima Dureza**\n",
    "Diseña una función llamada `obtener_maxima_dureza` que, dada una lista de durezas de minerales (representadas como números), retorne la máxima dureza encontrada."
   ]
  },
  {
   "cell_type": "code",
   "execution_count": null,
   "id": "d5e96130-a2dd-4a05-9b39-f44888bb72ce",
   "metadata": {},
   "outputs": [],
   "source": []
  },
  {
   "cell_type": "code",
   "execution_count": null,
   "id": "137a0f1c-4725-4e92-b16b-0b4fc8f7839b",
   "metadata": {},
   "outputs": [],
   "source": []
  },
  {
   "cell_type": "markdown",
   "id": "65eddd31-b7f0-43b1-8bf6-903dd5b0f2bb",
   "metadata": {},
   "source": [
    "#### **43. Promedio de Leyes**\n",
    "Crea una función llamada `promedio` que reciba una lista con las leyes de diferentes muestras minerales y retorne el promedio de estas leyes."
   ]
  },
  {
   "cell_type": "code",
   "execution_count": null,
   "id": "f145ea42-56ed-4dfa-bacf-6fca6bc27a0c",
   "metadata": {},
   "outputs": [],
   "source": []
  },
  {
   "cell_type": "code",
   "execution_count": null,
   "id": "bd5f2501-8c50-42c7-834e-f2b3183c17fe",
   "metadata": {},
   "outputs": [],
   "source": []
  },
  {
   "cell_type": "markdown",
   "id": "4a637cb5-ec84-4d09-9edb-0209515520b6",
   "metadata": {},
   "source": [
    "#### **44. Minerales en Área**\n",
    "Escribe una función llamada `encontrar_minerales_deseados` que reciba una lista de minerales encontrados en un área y una lista de minerales deseados. La función debe retornar una nueva lista con los minerales del área que estén en la lista de minerales deseados."
   ]
  },
  {
   "cell_type": "code",
   "execution_count": null,
   "id": "7c7315a7-da80-49cb-a4a4-0c2336a9e4c7",
   "metadata": {},
   "outputs": [],
   "source": []
  },
  {
   "cell_type": "code",
   "execution_count": null,
   "id": "7abf4ee5-a799-4063-8731-35733cd6fdac",
   "metadata": {},
   "outputs": [],
   "source": []
  },
  {
   "cell_type": "markdown",
   "id": "19bcb641-c0fe-4e40-a3e9-048dcffa2c2f",
   "metadata": {},
   "source": [
    "#### **45. Profundidad Promedio**\n",
    "Diseña una función llamada `profundidad_promedio` que, dada una lista de profundidades de varios yacimientos, retorne la profundidad promedio."
   ]
  },
  {
   "cell_type": "code",
   "execution_count": null,
   "id": "fd6a20c2-027a-464b-aef9-d1de0c8ddca6",
   "metadata": {},
   "outputs": [],
   "source": []
  },
  {
   "cell_type": "code",
   "execution_count": null,
   "id": "ae72ebef-08d1-44dc-9beb-73d54fbccb5e",
   "metadata": {},
   "outputs": [],
   "source": []
  },
  {
   "cell_type": "markdown",
   "id": "1b40f683-48a5-4dd6-9e21-26232a316515",
   "metadata": {},
   "source": [
    "#### **46. Yacimientos Rentables**\n",
    "Crea una función llamada `evaluar_yacimientos` que, dada una lista de yacimientos (representados como diccionarios con propiedades como \"toneladas\" y \"ley\"), retorne una lista solo con los yacimientos que tienen más de 5,000 toneladas y una ley superior al 5%."
   ]
  },
  {
   "cell_type": "code",
   "execution_count": null,
   "id": "d5eeccac-90a1-4c5f-ae5b-997c3d7cf60c",
   "metadata": {},
   "outputs": [],
   "source": []
  },
  {
   "cell_type": "code",
   "execution_count": null,
   "id": "30321fb0-3f8a-48c1-bac1-6dbed827c101",
   "metadata": {},
   "outputs": [],
   "source": []
  },
  {
   "cell_type": "markdown",
   "id": "d964ef39-e1bf-4074-b243-f7b34baf3d24",
   "metadata": {},
   "source": [
    "#### **47. Comparativa entre Minerales**\n",
    "Define variables para dos minerales diferentes, su dureza en la escala de Mohs y su punto de fusión en grados Celsius. Luego, utilizando f-strings, crea una función que al ser invocada imprima una comparativa entre ambos minerales, resaltando cuál es más duro y cuál tiene un punto de fusión más alto."
   ]
  },
  {
   "cell_type": "code",
   "execution_count": null,
   "id": "804385e9-4936-4b6a-8d1a-0cc3d5dea40d",
   "metadata": {},
   "outputs": [],
   "source": []
  },
  {
   "cell_type": "code",
   "execution_count": null,
   "id": "64b2683a-cc30-497c-b05c-b9ad9eb8d565",
   "metadata": {},
   "outputs": [],
   "source": []
  },
  {
   "cell_type": "markdown",
   "id": "62422aec-03a5-4905-9cfc-177ef81ceb71",
   "metadata": {},
   "source": [
    "#### **48. Normalización de porcentajes para clasificación petrográfica (Parte 1)**\n",
    "\n",
    "Crear una función de nombre `streckeisen` con las siguientes características:\n",
    "- La función usará como parámetro de entrada a un **diccionario**.\n",
    "- La función tomará los porcentajes de `cuarzo`, `feldespato` y `plagioclasas` del diccionario y los normalizará.\n",
    "- La función debe devolver como resultado un diccionario conteniendo solamente los 3 minerales y sus respectivos porcentajes normalizados.\n",
    "\n",
    "Usar el diccionario del ejercicio **15** en la función y mostrar el resultado final."
   ]
  },
  {
   "cell_type": "code",
   "execution_count": null,
   "id": "dceb8e0a-7373-4be2-bf9e-2745662eef63",
   "metadata": {},
   "outputs": [],
   "source": []
  },
  {
   "cell_type": "code",
   "execution_count": null,
   "id": "4f9922ad-b41b-431f-8305-12f1187a238f",
   "metadata": {},
   "outputs": [],
   "source": []
  },
  {
   "cell_type": "markdown",
   "id": "03f2caa8-20b3-49f7-a88e-8f8f7b1e98c4",
   "metadata": {},
   "source": [
    "#### **49. Normalización de porcentajes para clasificación petrográfica (Parte 2)**\n",
    "\n",
    "Usar la función `streckeisen` creada en el ejercicio **48** para normalizar una muestra con la siguiente mineralogía:\\\n",
    "Cuarzo $(41\\%)$, plagioclasas $(25\\%)$, anfíboles $(17\\%)$, biotita $(12\\%)$, pirita $(5\\%)$.\n",
    "> Nota:  en caso la función no evalúe la muestra de forma correcta o indique error, se deberá modificar la función hasta que pueda resolverla."
   ]
  },
  {
   "cell_type": "code",
   "execution_count": null,
   "id": "e01cbd8a-0efb-44f1-8f93-7d90f77fb3ca",
   "metadata": {},
   "outputs": [],
   "source": []
  },
  {
   "cell_type": "code",
   "execution_count": null,
   "id": "9a039e6e-5dbe-4d03-b687-28692adab785",
   "metadata": {},
   "outputs": [],
   "source": []
  },
  {
   "cell_type": "markdown",
   "id": "8f2c33ce-1aea-46ac-ab6a-af7e9d4e0c2d",
   "metadata": {},
   "source": [
    "#### **50. Clasificación de Rocas por Periodo**\n",
    "Escribe una función que reciba una lista de rocas (representadas como diccionarios con propiedades como \"nombre\", \"edad\" y \"periodo geológico\"). La función debe clasificar y retornar estas rocas en listas separadas según su periodo geológico (por ejemplo, Cretácico, Jurásico, etc.)."
   ]
  },
  {
   "cell_type": "code",
   "execution_count": null,
   "id": "80c20710-ff96-4d38-ac21-6521f21282e5",
   "metadata": {},
   "outputs": [],
   "source": []
  },
  {
   "cell_type": "code",
   "execution_count": null,
   "id": "6efd0e8f-73fe-4714-a803-0f7862531f93",
   "metadata": {},
   "outputs": [],
   "source": []
  },
  {
   "cell_type": "markdown",
   "id": "b20d4f15-f45e-4493-b054-cced0493a1db",
   "metadata": {
    "tags": []
   },
   "source": [
    "#### **51. Modelo de gradiente geotérmico terrestre (Parte 1)**\n",
    "\n",
    "Bajo cierto punto de la superficie terrestre, la temperatura interna de la Tierra varía de acuerdo al siguiente modelo:\n",
    "- La temperatura promedio en la superficie es de 25°C.\n",
    "- Para los primeros 100km de profundidad, la temperatura aumenta en forma lineal con un gradiente de 15°C/km.\n",
    "- A partir de los 100 km (y hasta un máximo de 6360 km), la temperatura aumenta de acuerdo a la siguiente expresión cuadrática: $ T(z) = -6\\times10^{-5}\\space z^{2} + 1.05\\space z + 1395.6 $\n",
    "\n",
    "Desarrollar una función en Python de nombre `temperatura` que represente este modelo de gradiente geotérmico.\\\n",
    "La función debe tomar como parámetro la profundidad `z` y devolver la siguiente frase: `A una profundidad de z km, la temperatura interna de la Tierra es de T °C`.\\\n",
    "Si el valor de profundidad es negativo o mayor a 6360, la función debe devolver la siguiente frase: `Valor de profundidad z es incorrecto`.\n",
    "\n",
    "Por último, se debe evaluar la función para los siguientes valores de profundidad: -100, 0, 50, 100, 2000 y 6400 km."
   ]
  },
  {
   "cell_type": "code",
   "execution_count": null,
   "id": "4cf051d6-d268-47bc-a0c2-f5f6c7c46afb",
   "metadata": {},
   "outputs": [],
   "source": []
  },
  {
   "cell_type": "code",
   "execution_count": null,
   "id": "8d5771f0-5fd3-454b-9b63-a16cb8935f63",
   "metadata": {},
   "outputs": [],
   "source": []
  },
  {
   "cell_type": "markdown",
   "id": "97c464b2-9d46-4c72-8230-ee3c0663cb34",
   "metadata": {},
   "source": [
    "Definimos la función con nombre `temperatura` y parámetro `z` de profundidad:"
   ]
  },
  {
   "cell_type": "markdown",
   "id": "c71bfda4-df7a-4da6-ad23-0962edd375a0",
   "metadata": {},
   "source": [
    "#### **52. Optimización de Extracción**\n",
    "Se tiene\n",
    "un modelo simplificado de un yacimiento mineral en forma de matriz 2D, donde cada celda representa un bloque con una cantidad específica de mineral. Diseña una función que, dada esta matriz y un número de bloques que se pueden extraer, determine qué bloques extraer para maximizar la cantidad total de mineral."
   ]
  },
  {
   "cell_type": "code",
   "execution_count": null,
   "id": "8d7722ca-7ba2-4b45-8017-aeaeeddca60b",
   "metadata": {},
   "outputs": [],
   "source": [
    "# Matriz 2D de 4x4 celdas\n",
    "yacimiento = [[100, 50, 60, 80],\n",
    "              [110, 70, 80, 100],\n",
    "              [70, 50, 30, 5],\n",
    "              [100, 80, 40, 10]]"
   ]
  },
  {
   "cell_type": "code",
   "execution_count": null,
   "id": "5e0c9d56-b4ca-4b4a-b601-db2dc3015f9c",
   "metadata": {},
   "outputs": [],
   "source": []
  },
  {
   "cell_type": "code",
   "execution_count": null,
   "id": "b98aa1d4-ba30-47ad-878a-9ea43e917ed3",
   "metadata": {},
   "outputs": [],
   "source": []
  },
  {
   "cell_type": "markdown",
   "id": "6c69239e-9c11-468d-aa45-45df497462c3",
   "metadata": {},
   "source": [
    "<a id=\"parte-6\"></a>"
   ]
  },
  {
   "cell_type": "markdown",
   "id": "40018278-4754-4816-9d7c-1a70ba04ff61",
   "metadata": {},
   "source": [
    "### <span style=\"color:lightgreen\">**Programación orientada a objetos**</span>\n",
    "***"
   ]
  },
  {
   "cell_type": "markdown",
   "id": "8b20d621-5c1c-4859-a547-74fb38d7fb82",
   "metadata": {},
   "source": [
    "- **Errores y excepciones** \\\n",
    "Es importante saber leer y comprender los mensajes de error.\\\n",
    "Esto nos ayudará a solucionar problemas de manera efectiva.\n",
    "\n",
    "- **Consistencia** \\\n",
    "Lo más importante al escribir código es ser consistente.\\\n",
    "Si eliges seguir una convención o estilo particular, úsalo de manera uniforme en todo el proyecto.\n",
    "\n",
    "<br>"
   ]
  },
  {
   "cell_type": "markdown",
   "id": "32e29898-6061-43f4-9aab-76b7dd35db80",
   "metadata": {},
   "source": [
    "#### **53. Clase Fósil**\n",
    "Crea una clase llamada `Fosil` con atributos para \"nombre\", \"era\" (como Mesozoica, Paleozoica, etc.) y \"antiguedad\" (en millones de años). Instancia un objeto de esta clase y muestra sus atributos usando print."
   ]
  },
  {
   "cell_type": "code",
   "execution_count": null,
   "id": "f354ac36-7c9d-4f26-814a-40baac2dcf5c",
   "metadata": {},
   "outputs": [],
   "source": []
  },
  {
   "cell_type": "code",
   "execution_count": null,
   "id": "38688d03-7daa-448c-be20-136978c72b6e",
   "metadata": {},
   "outputs": [],
   "source": []
  },
  {
   "cell_type": "markdown",
   "id": "5177a4a4-c471-43b6-9305-c68bf6c6ba13",
   "metadata": {},
   "source": [
    "#### **54. Clase Terremoto**\n",
    "Crea una clase llamada `Terremoto` con atributos para \"magnitud\", \"epicentro\" y \"fecha\". Esta clase debe tener un método llamado `evaluar_magnitud` que determine si el terremoto fue \"mayor\" (magnitud superior a 7) o \"menor\"."
   ]
  },
  {
   "cell_type": "code",
   "execution_count": null,
   "id": "297b6e58-c04d-4635-8a46-f52c080269bc",
   "metadata": {},
   "outputs": [],
   "source": []
  },
  {
   "cell_type": "code",
   "execution_count": null,
   "id": "ba44d47e-4eed-4643-9832-949eaf8be336",
   "metadata": {},
   "outputs": [],
   "source": []
  },
  {
   "cell_type": "markdown",
   "id": "3ea93730-9fdd-4cd1-ba3c-36554603608f",
   "metadata": {
    "tags": []
   },
   "source": [
    "#### **55. Composición geoquímica de una roca**\n",
    "\n",
    "Una muestra de diorita tiene la siguiente composición mineralógica:\\\n",
    "Cuarzo $(25\\%)$, feldespatos $(10\\%)$, plagioclasas $(35\\%)$, ferromagnesianos $(30\\%)$.\n",
    "\n",
    "Se pide calcular la composición geoquímica de esta muestra realizando los siguientes pasos:\n",
    "- Crear una clase `Roca` que tome como argumento un diccionario con el siguiente formato:\n",
    "    ``````python\n",
    "    minerales = {\"cuarzo\": 0.50, \"feldespato\": 0.20, \"plagioclasas\": 0.30, \"ferromagnesianos\": 0.00}\n",
    "    ``````\n",
    "- La clase debe tener un método llamado `obtener_oxidos` que descomponga el porcentaje de minerales en porcentaje de óxidos, teniendo en cuenta la composición de cada mineral:\n",
    "    - Cuarzo: $SiO_{2}$ ($100\\%$)\n",
    "    - Feldespatos: $SiO_{2}$ ($48\\%$), $Al_{2}O_{3}$ ($27\\%$), $K_{2}O$ ($25\\%$)\n",
    "    - Plagioclasas: $SiO_{2}$ ($47\\%$), $Al_{2}O_{3}$ ($33\\%$), $CaO$ ($10\\%$), $Na_{2}O$ ($10\\%$)\n",
    "    - Ferromagnesianos: $SiO_{2}$ ($40\\%$), $Al_{2}O_{3}$ ($5\\%$), $CaO$ ($10\\%$), $FeOT$ ($20\\%$), $MgO$ ($25\\%$)\n",
    "- Almacenar el resultado de la descomposición en el atributo `oxidos`, usando un diccionario con el siguiente formato:\n",
    "    ``````python\n",
    "    oxidos = {\"SiO2\": 0.60, \"Al2O3\": 0.15, \"CaO\": 0.05, \"Na2O\": 0.05, \"K2O\": 0.05, \"FeOT\": 0.05, \"MgO\": 0.05}\n",
    "    ``````\n",
    "- Crear la clase `Roca` y usar la composición mineralógica de la muestra de diorita.\n",
    "- Mostrar el contenido del atributo `oxidos` de la instancia creada usando `print`."
   ]
  },
  {
   "cell_type": "code",
   "execution_count": null,
   "id": "a654d8bb-73b7-4ccd-9d6e-ffa3fae176d2",
   "metadata": {},
   "outputs": [],
   "source": []
  },
  {
   "cell_type": "code",
   "execution_count": null,
   "id": "9dfe8aa1-d535-43d8-b0cb-2ed149011be9",
   "metadata": {},
   "outputs": [],
   "source": []
  },
  {
   "cell_type": "markdown",
   "id": "1de6858c-5c72-4ad6-8c14-8ab0f7db579d",
   "metadata": {},
   "source": [
    "#### **56. Clase Yacimiento**\n",
    "Crea una clase llamada Yacimiento con atributos para \"nombre\", \"ubicación\" y \"cantidad\" (en toneladas). Esta clase debe tener un método que determine si el yacimiento es \"grande\" (más de 10,000 toneladas) o \"pequeño\"."
   ]
  },
  {
   "cell_type": "code",
   "execution_count": null,
   "id": "de738dbc-881b-4bdd-ae61-efc6e92352c5",
   "metadata": {},
   "outputs": [],
   "source": []
  },
  {
   "cell_type": "code",
   "execution_count": null,
   "id": "c7dd3874-0b6f-4fcd-adba-d4432e8d0d7e",
   "metadata": {},
   "outputs": [],
   "source": []
  },
  {
   "cell_type": "markdown",
   "id": "55344bcf-5bda-46ed-b361-5532c6ffbb29",
   "metadata": {},
   "source": [
    "#### **57. Volcanes**\n",
    "Diseña una clase llamada `Volcan` que tenga atributos para \"nombre\", \"altura\" (en metros) y \"estatus\" (activo, inactivo o extinto). La clase debe tener un método llamado `evaluar_altura` que muestre si el volcán es \"alto\" si supera los 4000 metros, o \"bajo\" en caso contrario. Por último, agrega un método llamado `resumen` que resuma los atributos usando print y además despliegue el resultado de `evaluar_altura`."
   ]
  },
  {
   "cell_type": "code",
   "execution_count": null,
   "id": "cbfde2da-08a2-4442-a25f-379a43c49ae1",
   "metadata": {},
   "outputs": [],
   "source": []
  },
  {
   "cell_type": "code",
   "execution_count": null,
   "id": "0f2743d6-625c-444e-9779-514718690f2a",
   "metadata": {},
   "outputs": [],
   "source": []
  },
  {
   "cell_type": "markdown",
   "id": "79e43b3f-e062-4785-a381-dee74cc31e7e",
   "metadata": {},
   "source": [
    "#### **58. Clase Roca**\n",
    "Crea una clase llamada Roca con atributos para \"nombre\" y \"tipo\" (como sedimentaria, ígnea o metamórfica). Instancia un objeto de esta clase y muestra sus atributos utilizando print."
   ]
  },
  {
   "cell_type": "code",
   "execution_count": null,
   "id": "e4e586ab-99fb-40b6-8fde-ab1b69ea2ba3",
   "metadata": {},
   "outputs": [],
   "source": []
  },
  {
   "cell_type": "code",
   "execution_count": null,
   "id": "b034764e-aa5e-4f60-8c3f-db1a3ad33ed1",
   "metadata": {},
   "outputs": [],
   "source": []
  },
  {
   "cell_type": "markdown",
   "id": "9cccdfd3-ff0d-4d5d-b4ce-ee0881a5ed80",
   "metadata": {},
   "source": [
    "#### **59. Herencia en Rocas**\n",
    "Basándote en la clase Roca creada en el ejercicio **53**, genera clases hijas para diferentes tipos de rocas como Ignea, Sedimentaria y Metamorfica. Cada clase hija debe tener al menos un atributo adicional que la distinga. Por último, crea un método llamado `evaluar_roca` que describa los atributos de la roca y evalúa instancias de los 3 tipos de rocas usando este método."
   ]
  },
  {
   "cell_type": "code",
   "execution_count": null,
   "id": "e85327e5-3bb3-4756-b5d8-525211f20ae4",
   "metadata": {},
   "outputs": [],
   "source": []
  },
  {
   "cell_type": "code",
   "execution_count": null,
   "id": "a2065405-8136-400c-9cd5-7df95f6fedcf",
   "metadata": {},
   "outputs": [],
   "source": []
  },
  {
   "cell_type": "markdown",
   "id": "4a03b742-2484-4bfa-99d1-beabfceba86a",
   "metadata": {},
   "source": [
    "#### **60. Mineral Simple**\n",
    "Diseña una clase llamada Mineral que tenga atributos para \"nombre\" y \"dureza\" (según la escala de Mohs). Crea un método que devuelva si el mineral es \"duro\" si su dureza es mayor a 5, o \"blando\" en caso contrario."
   ]
  },
  {
   "cell_type": "code",
   "execution_count": null,
   "id": "7c0f6ed6-40a6-4b80-9428-5fc12d8ad99d",
   "metadata": {},
   "outputs": [],
   "source": []
  },
  {
   "cell_type": "code",
   "execution_count": null,
   "id": "12b39bd2-a524-4c16-a4d9-020a5c73a466",
   "metadata": {},
   "outputs": [],
   "source": []
  },
  {
   "cell_type": "markdown",
   "id": "5f1d9856-00fc-415e-9bc4-e27f501a3b74",
   "metadata": {},
   "source": [
    "#### **61. Roca compuesta por Minerales**\n",
    "Basándote en la clase `Mineral` mencionada en el ejercicio **60**, genera una clase llamada `Roca` que contenga una lista de instancias de la clase `Mineral` y además, tenga un atributo de porcentaje asociado a cada instancia. Crea un método llamado `evaluar_roca` que muestre con print el nombre y el contenido en porcentaje de cada mineral.\n",
    "> Puedes usar una lista de tuplas para ingresar el nombre, dureza y porcentaje de cada mineral al instanciar la clase `Roca`."
   ]
  },
  {
   "cell_type": "code",
   "execution_count": null,
   "id": "72e43ca6-aee3-4596-b78f-5e7697d23e87",
   "metadata": {},
   "outputs": [],
   "source": []
  },
  {
   "cell_type": "code",
   "execution_count": null,
   "id": "0ab55d0a-b3d9-4730-8003-25ce4d649d24",
   "metadata": {},
   "outputs": [],
   "source": []
  },
  {
   "cell_type": "markdown",
   "id": "092528fc-d369-41dd-ae53-52f903f9bba8",
   "metadata": {},
   "source": [
    "#### **62. Gestión de Minerales**\n",
    "Crea una clase llamada `GestionMineral` que tenga un atributo \"minerales\" (una lista). Esta clase debe tener métodos para \"añadir mineral\", \"remover mineral\" y \"mostrar dureza promedio\" de todos los minerales en la lista. Para ello, puedes usar la clase Mineral definida en el ejercicio **60**."
   ]
  },
  {
   "cell_type": "code",
   "execution_count": null,
   "id": "d11d3f89-fc87-4e45-99e7-05d3bda10324",
   "metadata": {},
   "outputs": [],
   "source": []
  },
  {
   "cell_type": "code",
   "execution_count": null,
   "id": "41d5d801-c8b2-4e01-b3a3-10e5a6419c7a",
   "metadata": {},
   "outputs": [],
   "source": []
  },
  {
   "cell_type": "markdown",
   "id": "2375a39a-efec-4cac-96ce-20bb1082acde",
   "metadata": {},
   "source": [
    "#### **63. Yacimiento Metálico**\n",
    "Crea una clase llamada `YacimientoMetalico` con atributos para \"nombre\", \"metal extraído\" y \"reservas\" (en toneladas). Esta clase debe tener un método llamado `evaluar_yacimiento` que determine si el yacimiento es \"grande\" (más de 100,000 toneladas) o \"pequeño\"."
   ]
  },
  {
   "cell_type": "code",
   "execution_count": null,
   "id": "ac8406af-6a81-4f82-9881-8fa1146305c5",
   "metadata": {},
   "outputs": [],
   "source": []
  },
  {
   "cell_type": "code",
   "execution_count": null,
   "id": "61354559-f85b-43fa-9e87-b211ee0382e0",
   "metadata": {},
   "outputs": [],
   "source": []
  },
  {
   "cell_type": "markdown",
   "id": "f1b98ea4-ef57-4a06-9edd-67b11c8b6dfb",
   "metadata": {},
   "source": [
    "#### **64. Sistema de Gestión de Yacimientos**\n",
    "Diseña una clase llamada `SistemaYacimientos` que contenga una lista de yacimientos. Esta clase debe tener métodos para \"añadir yacimiento\", \"eliminar yacimiento\", \"mostrar yacimientos por metal extraído\" y \"mostrar el yacimiento con mayor cantidad de reservas\". Para ello, puedes considerar la clase `YacimientoMetalico` desarrollado en el ejercicio **63**."
   ]
  },
  {
   "cell_type": "code",
   "execution_count": null,
   "id": "f45a6e91-1478-4bb0-9ed8-174bc63e90cd",
   "metadata": {},
   "outputs": [],
   "source": []
  },
  {
   "cell_type": "code",
   "execution_count": null,
   "id": "919fe592-24d8-443b-9d58-ebd4e4781e86",
   "metadata": {},
   "outputs": [],
   "source": []
  },
  {
   "cell_type": "markdown",
   "id": "cb233d57-e499-44e6-bbf1-482f6a3e4fdb",
   "metadata": {},
   "source": [
    "<a id=\"parte-7\"></a>"
   ]
  },
  {
   "cell_type": "markdown",
   "id": "732bc842-f06c-4c3b-b613-85fc87b0ce8a",
   "metadata": {},
   "source": [
    "### <span style=\"color:lightgreen\">**Librerías fundamentales de Python**</span>\n",
    "***\n",
    "\n",
    "- **Importaciones** \\\n",
    "Las importaciones generalmente se colocan en la parte superior del archivo.\\\n",
    "Es recomendable importar un módulo o función específica en lugar de importar todo el módulo usando `from module import *`.\n",
    "\n",
    "<br>"
   ]
  },
  {
   "cell_type": "markdown",
   "id": "1dc345bd-a24a-4807-8df3-b25ce4e5ec57",
   "metadata": {},
   "source": [
    "#### **65. Espacios Lineales**\n",
    "¿Cómo crearías un arreglo en Numpy que contenga 10 valores igualmente espaciados entre 0 y 100?"
   ]
  },
  {
   "cell_type": "code",
   "execution_count": null,
   "id": "4d0201fa-e2d8-4999-a215-58cf3ea94cc9",
   "metadata": {},
   "outputs": [],
   "source": []
  },
  {
   "cell_type": "code",
   "execution_count": null,
   "id": "eff839fd-399e-48f0-9970-7e9744ccab26",
   "metadata": {},
   "outputs": [],
   "source": []
  },
  {
   "cell_type": "markdown",
   "id": "f9caf32b-3810-46e1-8839-43e06384ca0a",
   "metadata": {},
   "source": [
    "#### **66. Promedio de Altitudes**\n",
    "Si tienes un arreglo que representa las altitudes de diferentes puntos en un terreno, ¿cómo calcularías la media de estas altitudes usando Numpy?"
   ]
  },
  {
   "cell_type": "code",
   "execution_count": null,
   "id": "1e9f3b0c-f7bc-4153-880d-d9e11341d28b",
   "metadata": {},
   "outputs": [],
   "source": []
  },
  {
   "cell_type": "code",
   "execution_count": null,
   "id": "ad54d8dc-897c-4392-8a61-42b83e779461",
   "metadata": {},
   "outputs": [],
   "source": []
  },
  {
   "cell_type": "markdown",
   "id": "0db93752-2370-4692-951b-67d9d54343a7",
   "metadata": {},
   "source": [
    "#### **67. Cálculo de Masa**\n",
    "Se tiene un arreglo que representa el volumen de diferentes muestras de roca y otro arreglo que representa la densidad de esas mismas muestras, calcula la masa total de todas las muestras."
   ]
  },
  {
   "cell_type": "code",
   "execution_count": null,
   "id": "2d82915b-16b0-4797-9c20-8df78ac7a06f",
   "metadata": {},
   "outputs": [],
   "source": [
    "import numpy as np\n",
    "\n",
    "# Datos de entrada\n",
    "volumen = np.array([20, 30, 40, 70, 55]) # volumen en cm3\n",
    "densidad = np.array([2.5, 2.7, 2.55, 2.8, 3.0]) # densidad en g/cm3"
   ]
  },
  {
   "cell_type": "code",
   "execution_count": null,
   "id": "f0574ecd-50c1-46b2-a184-3c5526c8a810",
   "metadata": {},
   "outputs": [],
   "source": []
  },
  {
   "cell_type": "code",
   "execution_count": null,
   "id": "d6db1112-3724-4e8d-bc21-f6d9fdf83d6c",
   "metadata": {},
   "outputs": [],
   "source": []
  },
  {
   "cell_type": "markdown",
   "id": "5fed77f8-9506-4aee-8de1-bddb87d98303",
   "metadata": {},
   "source": [
    "#### **68. Densidades de Minerales**\n",
    "Se te proporciona una lista de 5 minerales comunes y sus densidades: Cuarzo (2.65 g/cm³), Feldespato (2.60 g/cm³), Mica (2.76 g/cm³), Calcita (2.71 g/cm³) y Halita (2.16 g/cm³). Convierte esta lista en un arreglo de Numpy y calcula la densidad promedio de estos minerales. Determina cuál mineral tiene la densidad más baja y cuál la más alta."
   ]
  },
  {
   "cell_type": "code",
   "execution_count": null,
   "id": "2c3a56bb-ba53-4450-b97b-18c53699226e",
   "metadata": {},
   "outputs": [],
   "source": []
  },
  {
   "cell_type": "code",
   "execution_count": null,
   "id": "30e63d03-e3f5-4219-bd49-f489713c47e3",
   "metadata": {},
   "outputs": [],
   "source": []
  },
  {
   "cell_type": "markdown",
   "id": "6face8bc-f1e0-4857-9d76-6babe17cfb42",
   "metadata": {},
   "source": [
    "#### **69. Cálculo de densidad promedio**\n",
    "Se tiene un arreglo 2D que representa los valores de densidad en diferentes puntos de un bloque geológico. Si cada fila del arreglo representa diferentes profundidades y cada columna representa diferentes ubicaciones horizontales, ¿cómo usarías Numpy para obtener la densidad media en la tercera profundidad?"
   ]
  },
  {
   "cell_type": "code",
   "execution_count": null,
   "id": "9b7b5a42-fad7-401f-9120-c98c6a7ffc67",
   "metadata": {},
   "outputs": [],
   "source": [
    "import numpy as np\n",
    "\n",
    "# Arreglo 2D de densidades\n",
    "densidad = np.array([[2.5, 2.6, 2.55, 2.7],\n",
    "                     [2.2, 2.25, 2.55, 2.4],\n",
    "                     [2.4, 2.5, 2.75, 3.5],\n",
    "                     [2.7, 2.8, 2.75, 3.1]])"
   ]
  },
  {
   "cell_type": "code",
   "execution_count": null,
   "id": "b6c9c4a2-f8a5-4295-bd3a-be2fbbf4a3e2",
   "metadata": {},
   "outputs": [],
   "source": []
  },
  {
   "cell_type": "code",
   "execution_count": null,
   "id": "23610328-b807-4e3f-89fc-8e715d27144e",
   "metadata": {},
   "outputs": [],
   "source": []
  },
  {
   "cell_type": "markdown",
   "id": "8cda10e0-56fb-4e7c-8a26-b77a2313178c",
   "metadata": {},
   "source": [
    "#### **70. Coeficiente de correlación**\n",
    "Tienes dos arreglos que representan mediciones sísmicas en dos puntos diferentes del subsuelo. Ambos arreglos tienen la misma forma. ¿Cómo usarías Numpy para calcular la correlación punto a punto entre estos dos conjuntos de mediciones?\n"
   ]
  },
  {
   "cell_type": "code",
   "execution_count": null,
   "id": "cd0ff01f-cdea-4e63-bb2c-ba054546035d",
   "metadata": {},
   "outputs": [],
   "source": [
    "import numpy as np\n",
    "\n",
    "medicion1 = np.array([0.1, 0.2, 0.7, 0.45, 0.15, 0.4])\n",
    "medicion2 = np.array([0.15, 0.2, 0.75, 0.4, 0.2, 0.4])"
   ]
  },
  {
   "cell_type": "code",
   "execution_count": null,
   "id": "03e94df3-8af0-44fc-bcfb-f4250e399d5e",
   "metadata": {},
   "outputs": [],
   "source": []
  },
  {
   "cell_type": "code",
   "execution_count": null,
   "id": "ac588c1b-af39-4702-bb0d-93030a3ecd19",
   "metadata": {},
   "outputs": [],
   "source": []
  },
  {
   "cell_type": "markdown",
   "id": "ef4adb69-9cf6-4a1e-b2b7-2bfeb02f9b27",
   "metadata": {
    "tags": []
   },
   "source": [
    "#### **71. Porosidad promedio**\n",
    "\n",
    "Se llevaron 10 muestras de rocas sedimentarias a un laboratorio y se obtuvieron los siguientes datos:\n",
    "\n",
    "| Volumen total (cm$^{3}$) | Volumen de poros (cm$^{3}$) | \n",
    "| --- | --- |\n",
    "| 103 | 395 |\n",
    "| 121 | 451 |\n",
    "| 109 | 402 |\n",
    "|  94 | 377 |\n",
    "|  86 | 358 |\n",
    "| 106 | 398 |\n",
    "| 112 | 411 |\n",
    "| 151 | 586 |\n",
    "| 143 | 529 |\n",
    "| 188 | 713 |\n",
    "\n",
    "La fórmula de la porosidad para una roca sedimentaria es la siguiente:\n",
    "\n",
    "<center> $ \\Large porosidad = \\frac{V_{poros}}{V_{total}} \\times 100\\% $ </center>\n",
    "\n",
    "Usando esta información, escribir un script que calcule la porosidad promedio (en %) de las 10 muestras."
   ]
  },
  {
   "cell_type": "code",
   "execution_count": null,
   "id": "10d3dab3-c40f-4f6f-bc2e-1c03deb61e6e",
   "metadata": {},
   "outputs": [],
   "source": []
  },
  {
   "cell_type": "code",
   "execution_count": null,
   "id": "c8a07d46-d4c4-4b3c-b0a9-f72cfd0b3025",
   "metadata": {},
   "outputs": [],
   "source": []
  },
  {
   "cell_type": "markdown",
   "id": "f0324dc0-c69a-48c4-8b00-0a056700b0d5",
   "metadata": {},
   "source": [
    "#### **72. Análisis de sedimentos**\n",
    "Crea un arreglo 1D que contenga 1000 mediciones de granulometría (diámetros de partículas) de un sedimento, con valores que oscilen entre 0.0625 mm (arenas finas) y 2 mm (arenas gruesas). Calcula el diámetro promedio de las partículas. Determina qué porcentaje de las mediciones pertenecen a arenas finas (<0.5 mm)."
   ]
  },
  {
   "cell_type": "code",
   "execution_count": null,
   "id": "f0e82c96-9933-46f8-a9ca-a12205512290",
   "metadata": {},
   "outputs": [],
   "source": []
  },
  {
   "cell_type": "code",
   "execution_count": null,
   "id": "ed2401f6-3d13-4f5d-a7a7-6e21be9160a0",
   "metadata": {},
   "outputs": [],
   "source": []
  },
  {
   "cell_type": "markdown",
   "id": "6213690c-3f1c-4d37-b4e6-6a1a7ff93c4a",
   "metadata": {},
   "source": [
    "#### **73. Mapeo Sísmico**\n",
    "Se te ha entregado un arreglo 3D que representa velocidades sísmicas en un volumen subterráneo. Calcula y devuelve un arreglo 2D que represente la velocidad media en cada profundidad.\n",
    "> La estructura del arreglo 3D debe ser el siguiente: `(z, y, x)` donde `x` e `y` son las dimensiones horizontales y `z` es la dimensión vertical."
   ]
  },
  {
   "cell_type": "code",
   "execution_count": null,
   "id": "bbba0cbd-4892-4e12-ab32-d7fab4ad9a15",
   "metadata": {},
   "outputs": [],
   "source": [
    "import numpy as np\n",
    "\n",
    "# Crearemos un arreglo de 3 x 3 x 3\n",
    "velocidades = np.array([\n",
    "    # Primera capa de velocidad baja\n",
    "    [[4.5, 4.7, 4.6],\n",
    "     [4.3, 4.5, 4.6],\n",
    "     [4.5, 4.4, 4.8]\n",
    "    ],\n",
    "    # Segunda capa de velocidad intermedia\n",
    "    [[5.2, 5.3, 5.1],\n",
    "     [5.4, 5.2, 5.0],\n",
    "     [5.3, 5.1, 5.4]\n",
    "    ],\n",
    "    # Tercera capa de velocidad alta\n",
    "    [[5.8, 5.9, 5.8],\n",
    "     [5.8, 6.0, 6.1],\n",
    "     [5.9, 5.9, 6.0]\n",
    "    ]\n",
    "])"
   ]
  },
  {
   "cell_type": "code",
   "execution_count": null,
   "id": "66bc5d57-70e6-4b69-91d1-242be94d5f77",
   "metadata": {},
   "outputs": [],
   "source": []
  },
  {
   "cell_type": "code",
   "execution_count": null,
   "id": "715a9fe1-3a9a-484e-b472-c8d3af3bb1ef",
   "metadata": {},
   "outputs": [],
   "source": []
  },
  {
   "cell_type": "markdown",
   "id": "908b895e-035a-44d5-a363-7a99202438a8",
   "metadata": {},
   "source": [
    "#### **74. Distribución de Minerales**\n",
    "Se tienen arreglos 3D que representan las concentraciones de tres minerales en un volumen de roca, encuentra el mineral con la mayor concentración promedio en el volumen."
   ]
  },
  {
   "cell_type": "code",
   "execution_count": null,
   "id": "77415a34-0c46-464b-b27e-7148e8f475e7",
   "metadata": {},
   "outputs": [],
   "source": [
    "import numpy as np\n",
    "\n",
    "# Volumen 3D de concentración de calcopirita (%)\n",
    "calcopirita = np.array([\n",
    "    # Primera capa\n",
    "    [[8.1, 8.0, 6.6],\n",
    "     [5.3, 8.5, 5.2],\n",
    "     [7.1, 6.5, 7.2]\n",
    "    ],\n",
    "    # Segunda capa\n",
    "    [[6.2, 8.3, 5.1],\n",
    "     [7.4, 7.2, 6.0],\n",
    "     [6.3, 8.1, 7.4]\n",
    "    ],\n",
    "    # Tercera capa\n",
    "    [[7.8, 4.9, 8.8],\n",
    "     [5.8, 6.0, 4.1],\n",
    "     [8.9, 5.9, 7.0]\n",
    "    ]\n",
    "])\n",
    "\n",
    "# Volumen 3D de concentración de calcosita (%)\n",
    "calcosita = np.array([\n",
    "    # Primera capa\n",
    "    [[4.1, 5.0, 5.6],\n",
    "     [3.3, 5.5, 6.2],\n",
    "     [5.1, 6.5, 5.2]\n",
    "    ],\n",
    "    # Segunda capa\n",
    "    [[4.2, 5.3, 4.1],\n",
    "     [3.4, 5.2, 4.0],\n",
    "     [6.3, 4.1, 6.4]\n",
    "    ],\n",
    "    # Tercera capa\n",
    "    [[4.8, 5.9, 6.8],\n",
    "     [5.8, 4.0, 3.1],\n",
    "     [5.9, 4.9, 4.0]\n",
    "    ]\n",
    "])\n",
    "\n",
    "# Volumen 3D de concentración de bornita (%)\n",
    "bornita = np.array([\n",
    "    # Primera capa\n",
    "    [[4.1, 4.0, 7.6],\n",
    "     [3.3, 6.5, 6.2],\n",
    "     [3.1, 5.5, 4.2]\n",
    "    ],\n",
    "    # Segunda capa\n",
    "    [[4.2, 6.3, 5.1],\n",
    "     [4.4, 6.2, 8.0],\n",
    "     [5.3, 6.1, 7.4]\n",
    "    ],\n",
    "    # Tercera capa\n",
    "    [[3.8, 4.9, 5.8],\n",
    "     [4.8, 5.0, 5.1],\n",
    "     [3.9, 3.9, 6.0]\n",
    "    ]\n",
    "])\n",
    "\n",
    "# Diccionario con los volúmenes 3D\n",
    "minerales = {\"Calcopirita\": calcopirita,\n",
    "             \"Calcosita\": calcosita,\n",
    "             \"Bornita\": bornita\n",
    "            }"
   ]
  },
  {
   "cell_type": "code",
   "execution_count": null,
   "id": "270c62ea-fe5d-40b3-8b4e-02afdd92c300",
   "metadata": {},
   "outputs": [],
   "source": []
  },
  {
   "cell_type": "code",
   "execution_count": null,
   "id": "14853422-7d64-49ed-b7a7-862ac694e0bb",
   "metadata": {},
   "outputs": [],
   "source": []
  },
  {
   "cell_type": "markdown",
   "id": "0250e2d7-ab58-4490-aa01-2b04d1fdd2b4",
   "metadata": {},
   "source": [
    "#### **75. Flujos de Agua Subterránea**\n",
    "Utilizando el siguiente arreglo 3D que representa la permeabilidad de un acuífero, determina el volumen total del acuífero (en términos de celdas del arreglo) que tiene una permeabilidad por encima del valor umbral de 6, lo cual es crucial para estimar el volumen de agua que podría extraerse."
   ]
  },
  {
   "cell_type": "code",
   "execution_count": null,
   "id": "e472ce68-7c3d-4a31-9e93-566db69b0b9d",
   "metadata": {},
   "outputs": [],
   "source": [
    "import numpy as np\n",
    "\n",
    "# Generador de números aleatorios\n",
    "rng = np.random.default_rng()\n",
    "\n",
    "# Generar un volumen 3D con valores aleatorios de permeabilidad\n",
    "permeabilidad = rng.uniform(low=1, high=10, size=(3, 3, 3))"
   ]
  },
  {
   "cell_type": "code",
   "execution_count": null,
   "id": "38a81f5b-87e8-4818-8e9e-7f3f4ce0b818",
   "metadata": {},
   "outputs": [],
   "source": []
  },
  {
   "cell_type": "code",
   "execution_count": null,
   "id": "f2b34cba-0a82-45fc-a9ee-1db1939c264d",
   "metadata": {},
   "outputs": [],
   "source": []
  },
  {
   "cell_type": "markdown",
   "id": "bd5c73e9-2812-4b12-83f6-7e15937f64e0",
   "metadata": {},
   "source": [
    "#### **76. Análisis de Anomalías Gravimétricas (Parte 1)**\n",
    "Se te da el siguiente arreglo 2D que representa mediciones gravimétricas en un área geológica de estudio (unidades de gravimetría en Gal, donde la gravedad media de la Tierra es de 981 Gal). Las mediciones varían con la densidad de las rocas subyacentes.\\\n",
    "Utilizando Numpy, procesa este arreglo para identificar áreas donde las anomalías gravimétricas excedan dos desviaciones estándar del valor medio de todo el conjunto de datos. Una vez identificadas, calcula el área total (en términos de celdas del arreglo) que estas zonas anómalas representan."
   ]
  },
  {
   "cell_type": "code",
   "execution_count": null,
   "id": "ed0a876c-f6bf-4c10-b114-c28b21f4fe73",
   "metadata": {},
   "outputs": [],
   "source": [
    "import numpy as np\n",
    "\n",
    "# Generador de números aleatorios\n",
    "rng = np.random.default_rng()\n",
    "\n",
    "# Arreglo 2D con valores aleatorios de gravimetría (Gal)\n",
    "valor_medio = 981  # Valor medio de la población\n",
    "variacion = 5      # Desviación estándar de la población\n",
    "gravimetria = valor_medio + (variacion * rng.normal(size=(100, 100)) * np.linspace(0, 1, 100))"
   ]
  },
  {
   "cell_type": "code",
   "execution_count": null,
   "id": "ceed00bb-239d-41df-a828-8beefdf56b58",
   "metadata": {},
   "outputs": [],
   "source": []
  },
  {
   "cell_type": "code",
   "execution_count": null,
   "id": "94861c4b-9a4d-4b07-b24d-6bc24898a4c7",
   "metadata": {},
   "outputs": [],
   "source": []
  },
  {
   "cell_type": "markdown",
   "id": "a8ab0fbd-e29a-427f-8a62-e512d1437dd5",
   "metadata": {},
   "source": [
    "#### **77. Concentración máxima**\n",
    "Genera un arreglo 3D con las siguientes características:\n",
    "- Tiene una dimensión de 3 x 3 x 3 celdas, cada dimensión del arreglo corresponde a la longitud, la anchura y la profundidad.\n",
    "- Representa las concentraciones de Au (g/t) en un volumen de roca, dichos valores varían entre 0.1 y 5.0.\n",
    "\n",
    "Usando este arreglo, ¿cómo determinarías la ubicación (índices) del punto con la máxima concentración de este mineral en el volumen?"
   ]
  },
  {
   "cell_type": "code",
   "execution_count": null,
   "id": "d8cd931d-4621-4c0a-9e76-affe05335f56",
   "metadata": {},
   "outputs": [],
   "source": []
  },
  {
   "cell_type": "code",
   "execution_count": null,
   "id": "577995c9-ea1d-4173-891a-e7f5c3c80e5c",
   "metadata": {},
   "outputs": [],
   "source": []
  },
  {
   "cell_type": "markdown",
   "id": "2f1f672b-4016-4bb5-874a-d4f1f21117c8",
   "metadata": {},
   "source": [
    "#### **78. Buzamiento aparente en un talud**\n",
    "Un estrato rocoso que aflora en el talud de una carretera tiene un azimut de 150° y un buzamiento aparente de 33°. Calcular el buzamiento real del estrato teniendo en cuenta que el azimut del talud de carretera es de 180°. Usar la siguiente fórmula:\n",
    "<center> $ \\Large \\phi_{real} = arctan(\\frac{tan(\\phi_{aparente})}{cos(\\beta)})$ </center>\n",
    "Donde:\n",
    "\n",
    "- $\\phi_{real}$ : buzamiento real\n",
    "- $\\phi_{aparente}$ : buzamiento aparente\n",
    "- $\\beta$ : ángulo entre el azimut del estrato y el azimut del talud\n",
    "\n",
    "> **Nota:** puedes usar la librería `numpy` para realizar el cálculo trigonométrico."
   ]
  },
  {
   "cell_type": "code",
   "execution_count": null,
   "id": "d6004e10-06b1-4085-8380-83d36e2fbc12",
   "metadata": {},
   "outputs": [],
   "source": []
  },
  {
   "cell_type": "code",
   "execution_count": null,
   "id": "e0227389-b476-4f5e-b704-15fdd8dbd5bc",
   "metadata": {},
   "outputs": [],
   "source": []
  },
  {
   "cell_type": "markdown",
   "id": "3af2bd3c-28d8-49ec-8498-64ad3d14d3ad",
   "metadata": {},
   "source": [
    "#### **79. Erosión en una Playa**\n",
    "Genera un arreglo 1D que represente la elevación de una playa en 100 diferentes puntos, la elevación mínima es 0 y la máxima es 8 metros. Utiliza Numpy para identificar cuántos puntos tienen una elevación por debajo de 5 metros."
   ]
  },
  {
   "cell_type": "code",
   "execution_count": null,
   "id": "c7e28eec-f771-4837-9440-049c7b62027d",
   "metadata": {},
   "outputs": [],
   "source": []
  },
  {
   "cell_type": "code",
   "execution_count": null,
   "id": "84076182-e139-4d3e-a8cd-3afea97ffc2e",
   "metadata": {},
   "outputs": [],
   "source": []
  },
  {
   "cell_type": "markdown",
   "id": "d556694a-3f69-46df-9794-42f8990db363",
   "metadata": {},
   "source": [
    "#### **80. Temperaturas Subterráneas**\n",
    "Usando dos arreglos 1D que representan las temperaturas registradas a diferentes profundidades en un pozo geotérmico. Determina la profundidad en la que se encuentra la temperatura máxima."
   ]
  },
  {
   "cell_type": "code",
   "execution_count": null,
   "id": "824ebf6d-aab7-41ce-95dc-c76f68f4605c",
   "metadata": {},
   "outputs": [],
   "source": [
    "import numpy as np\n",
    "\n",
    "# Arreglo 1D con temperaturas (en grados Celsius) y profundidades (en metros)\n",
    "temperatura = np.array([412, 421, 400, 405, 413, 416, 424, 428, 421, 418, 419, 411, 415, 414, 426])\n",
    "profundidad = np.array([10, 21, 34, 43, 49, 55, 64, 73, 81, 94, 100, 112, 125, 134])"
   ]
  },
  {
   "cell_type": "code",
   "execution_count": null,
   "id": "036f572f-7446-41cc-8884-3f114ffa21ad",
   "metadata": {},
   "outputs": [],
   "source": []
  },
  {
   "cell_type": "code",
   "execution_count": null,
   "id": "87ecb6ef-d20d-4f17-98f9-7998bc5bd957",
   "metadata": {},
   "outputs": [],
   "source": []
  },
  {
   "cell_type": "markdown",
   "id": "d3ecf7e3-1225-49cb-ab7c-72b14132a087",
   "metadata": {},
   "source": [
    "#### **81. Profundidad de la Capa de Roca**\n",
    "Se te proporciona un arreglo 1D con mediciones de profundidad de una capa de roca específica en diferentes ubicaciones (por ejemplo, una serie de perforaciones). Interpola los valores faltantes (NaN) usando la media de los valores no vacíos. Calcula la variación (diferencia) máxima entre dos mediciones consecutivas."
   ]
  },
  {
   "cell_type": "code",
   "execution_count": null,
   "id": "038c2760-a6a7-4db3-a28c-639c5f806185",
   "metadata": {},
   "outputs": [],
   "source": [
    "import numpy as np\n",
    "\n",
    "# Arreglo 1D de profundidad de la capa de roca\n",
    "profundidad = np.array([100, 105, 110, np.nan, 112, 113, np.nan, np.nan, 120, 116, np.nan, 107]) # Metros"
   ]
  },
  {
   "cell_type": "code",
   "execution_count": null,
   "id": "13e31989-3606-468b-b119-ec8167ca5e0f",
   "metadata": {},
   "outputs": [],
   "source": []
  },
  {
   "cell_type": "code",
   "execution_count": null,
   "id": "3c6d92d2-f679-4b12-8c2b-bd583b310841",
   "metadata": {},
   "outputs": [],
   "source": []
  },
  {
   "cell_type": "markdown",
   "id": "625316bc-7488-4b08-b3bf-471b24e09459",
   "metadata": {},
   "source": [
    "#### **82. Anomalías Gravimétricas**\n",
    "Se te da un arreglo 2D que representa las mediciones gravimétricas en una cuadrícula de un área de estudio. Utilizando Numpy, identifica y lista las coordenadas de las tres mediciones más altas."
   ]
  },
  {
   "cell_type": "code",
   "execution_count": null,
   "id": "91547d40-1e89-406b-9f0c-e121b662eb96",
   "metadata": {},
   "outputs": [],
   "source": [
    "import numpy as np\n",
    "\n",
    "# Arreglo 2D de mediciones gravimétricas\n",
    "gravimetria = np.array([[970, 972, 974, 968],\n",
    "                        [969, 973, 975, 974],\n",
    "                        [971, 975, 978, 980],\n",
    "                        [975, 977, 979, 977]\n",
    "                       ])"
   ]
  },
  {
   "cell_type": "code",
   "execution_count": null,
   "id": "20f1d417-05bc-4b45-aa57-118835828372",
   "metadata": {},
   "outputs": [],
   "source": []
  },
  {
   "cell_type": "code",
   "execution_count": null,
   "id": "b208a9dd-6cf9-46e0-9ec2-c57002f16a26",
   "metadata": {},
   "outputs": [],
   "source": []
  },
  {
   "cell_type": "markdown",
   "id": "bdc19530-9174-44f5-a075-1385001d8f7e",
   "metadata": {},
   "source": [
    "#### **83. Porosidad de Roca**\n",
    "Se te da un arreglo 2D donde cada fila representa una muestra de roca y las columnas representan diferentes mediciones de porosidad. Calcula la varianza de la porosidad para cada muestra."
   ]
  },
  {
   "cell_type": "code",
   "execution_count": null,
   "id": "3cabf7b9-e495-4530-9a7c-8a160d201895",
   "metadata": {},
   "outputs": [],
   "source": [
    "import numpy as np\n",
    "\n",
    "# Arreglo 2D de porosidad\n",
    "porosidad = np.array([\n",
    "    [2.15, 2.17, 2.21, 2.28, 2.24, 2.19, 2.22, 2.25, 2.21, 2.16], # Muestra 1\n",
    "    [2.05, 2.07, 2.11, 2.13, 2.09, 2.10, 2.08, 2.09, 2.11, 2.10], # Muestra 2\n",
    "    [2.71, 2.70, 2.68, 2.65, 2.75, 2.71, 2.72, 2.69, 2.66, 2.67], # Muestra 3\n",
    "    [2.56, 2.55, 2.51, 2.53, 2.58, 2.59, 2.58, 2.53, 2.55, 2.56], # Muestra 4\n",
    "    [2.14, 2.13, 2.11, 2.09, 2.14, 2.17, 2.10, 2.09, 2.13, 2.16], # Muestra 5\n",
    "    [2.66, 2.65, 2.59, 2.61, 2.62, 2.58, 2.64, 2.63, 2.59, 2.60]  # Muestra 6\n",
    "])"
   ]
  },
  {
   "cell_type": "code",
   "execution_count": null,
   "id": "4f81ccec-73a5-4852-b91c-52f8ba249c9a",
   "metadata": {},
   "outputs": [],
   "source": []
  },
  {
   "cell_type": "code",
   "execution_count": null,
   "id": "1be29815-4e39-4e47-b8b7-baf26c8eee20",
   "metadata": {},
   "outputs": [],
   "source": []
  },
  {
   "cell_type": "markdown",
   "id": "77a7345b-27f2-4baf-b1ff-4abfb871d548",
   "metadata": {},
   "source": [
    "#### **84. Interpolación de Data Sísmica**\n",
    "Se te da un arreglo 2D (10x10) que representa datos sísmicos de un área específica. Algunos valores son NaN, lo que indica que no hay datos en esa ubicación. Usa Numpy para reemplazar esos valores NaN con un promedio de los valores circundantes (considera usar una ventana 3x3 alrededor del valor faltante)."
   ]
  },
  {
   "cell_type": "code",
   "execution_count": null,
   "id": "0e9578c7-9742-41ca-acb3-d218fcd67832",
   "metadata": {},
   "outputs": [],
   "source": [
    "import numpy as np\n",
    "\n",
    "# Arreglo 2D de datos sísmicos\n",
    "sismica = np.array([\n",
    "    [0.91, 0.85, 0.83, 0.84, 0.80, 0.78, 0.82, 0.88, 0.92, 0.94],\n",
    "    [0.87, np.nan, 0.81, 0.80, 0.79, 0.81, 0.83, 0.84, 0.85, 0.90],\n",
    "    [0.86, 0.81, 0.79, np.nan, 0.78, 0.75, 0.73, np.nan, 0.82, 0.88],\n",
    "    [0.81, 0.80, 0.78, 0.82, 0.79, 0.76, 0.74, 0.78, 0.83, 0.89],\n",
    "    [0.78, 0.77, 0.75, 0.79, 0.78, np.nan, 0.78, 0.81, 0.82, 0.84],\n",
    "    [0.75, np.nan, 0.70, 0.73, 0.76, 0.79, 0.82, np.nan, 0.80, 0.81],\n",
    "    [0.77, 0.75, 0.73, np.nan, 0.80, 0.82, 0.84, 0.88, 0.81, 0.78],\n",
    "    [0.79, 0.76, 0.78, 0.80, 0.78, 0.76, 0.77, 0.82, 0.78, 0.76],\n",
    "    [0.82, 0.79, np.nan, 0.81, 0.83, 0.85, 0.88, 0.91, np.nan, 0.80],\n",
    "    [0.84, 0.81, 0.79, 0.84, 0.89, 0.93, 0.95, 0.88, 0.82, 0.84],\n",
    "])"
   ]
  },
  {
   "cell_type": "code",
   "execution_count": null,
   "id": "049e901e-92d8-4925-a0fe-b792fb791cbf",
   "metadata": {},
   "outputs": [],
   "source": []
  },
  {
   "cell_type": "code",
   "execution_count": null,
   "id": "419ea19f-2ad1-4035-b267-3a3ef9d981f5",
   "metadata": {},
   "outputs": [],
   "source": []
  },
  {
   "cell_type": "markdown",
   "id": "53e03a90-35ad-4127-a652-7cc234c69b7e",
   "metadata": {},
   "source": [
    "#### **85. Modelo Estratigráfico 2D (Parte 1)**\r",
    "Genera un modelo estratigráfico en Numpy de acuerdo al siguiente criterio:\n",
    "- El modelo posee tres capas de distintos materiales: conglomerado, arenisca y caliza.\n",
    "- Cada capa tiene una extensión de 6x6 celdas.\n",
    "- La capa de caliza tiene un espesor variable entre 8 y 18 metros.\n",
    "- La capa de arenisca tiene un espesor variable entre 10 y 16 metros.\n",
    "- La capa de conglomerado está en la parte superior del modelo y se puede calcular restando el espesor total con el espesor de las otras 2 capas.\n",
    "- Las celdas de capa de roca tiene asignado un valor variable de espesor (metros).\n",
    "- El espesor total (sumando las 3 capas) debe ser igual a 50 metros.\n",
    "> Se recomienda usar una distribución aleatoria uniforme (`np.random.uniform` o `rng.uniform`) para elegir los valores de espesor."
   ]
  },
  {
   "cell_type": "code",
   "execution_count": null,
   "id": "271bf288-fbd0-4515-b937-72841cb0da2e",
   "metadata": {},
   "outputs": [],
   "source": [
    "import numpy as np\n",
    "\n",
    "# Generador de números aleatorios\n",
    "rng = np.random.default_rng()"
   ]
  },
  {
   "cell_type": "code",
   "execution_count": null,
   "id": "67bbc14c-ca7b-45d8-b6aa-c46bbd9f156f",
   "metadata": {},
   "outputs": [],
   "source": []
  },
  {
   "cell_type": "code",
   "execution_count": null,
   "id": "3ed5239b-816f-4df9-aafc-45714d5a7e2d",
   "metadata": {},
   "outputs": [],
   "source": []
  },
  {
   "cell_type": "markdown",
   "id": "9adf3148-a4d8-47c1-9ed1-6e32ec118a0b",
   "metadata": {},
   "source": [
    "#### **86. Modelo Estratigráfico 2D (Parte 2)**\n",
    "Usando el modelo estratigráfico desarrollado en el ejercicio **85**, calcula el espesor promedio de cada capa en todo el modelo."
   ]
  },
  {
   "cell_type": "code",
   "execution_count": null,
   "id": "b41cbbe1-6aab-494e-9190-c050e278eb8f",
   "metadata": {},
   "outputs": [],
   "source": [
    "import numpy as np\n",
    "\n",
    "# Generador de números aleatorios\n",
    "rng = np.random.default_rng()"
   ]
  },
  {
   "cell_type": "code",
   "execution_count": null,
   "id": "daad0ef3-30b1-409f-bdfd-eba961aff3e0",
   "metadata": {},
   "outputs": [],
   "source": []
  },
  {
   "cell_type": "code",
   "execution_count": null,
   "id": "10658583-4a9e-4b8c-aea6-cd496d650e5a",
   "metadata": {},
   "outputs": [],
   "source": []
  },
  {
   "cell_type": "markdown",
   "id": "1fef2d81-da19-43f7-9079-3b45ab0dec56",
   "metadata": {},
   "source": [
    "#### **87. Modelo Estratigráfico 2D (Parte 3)**\n",
    "Usando el modelo estratigráfico desarrollado en el ejercicio **85**, identifica y cuenta las celdas donde el espesor del conglomerado es superior al de la caliza y la arenisca juntas."
   ]
  },
  {
   "cell_type": "code",
   "execution_count": null,
   "id": "9703f65d-b4f9-47c0-aa3f-bfffad0e7c34",
   "metadata": {},
   "outputs": [],
   "source": [
    "import numpy as np\n",
    "\n",
    "# Generador de números aleatorios\n",
    "rng = np.random.default_rng()"
   ]
  },
  {
   "cell_type": "code",
   "execution_count": null,
   "id": "3a97feee-2f0d-48b2-9b7b-9462bea54043",
   "metadata": {},
   "outputs": [],
   "source": []
  },
  {
   "cell_type": "code",
   "execution_count": null,
   "id": "f727eb86-0ff0-4add-b3a0-0894d7bacecb",
   "metadata": {},
   "outputs": [],
   "source": []
  },
  {
   "cell_type": "markdown",
   "id": "6a71108d-f84e-4ca6-b065-463b67143f36",
   "metadata": {},
   "source": [
    "#### **88. Estimación de volumen de acuíferos**\n",
    "Posees un conjunto de datos en forma de un arreglo 2D (20x20) donde cada elemento representa el espesor (en metros) de un acuífero en diferentes puntos de una cuadrícula que cubre una región de interés. Utiliza NumPy para estimar el volumen total de agua en el acuífero, asumiendo que las celdas del arreglo tienen lados de 25 metros."
   ]
  },
  {
   "cell_type": "code",
   "execution_count": null,
   "id": "94e8ccad-62fd-4dd5-83df-cf56e37ce364",
   "metadata": {},
   "outputs": [],
   "source": [
    "import numpy as np\n",
    "\n",
    "# Generador de números aleatorios\n",
    "rng = np.random.default_rng()\n",
    "\n",
    "# Arreglo 2D de espesores\n",
    "espesor = rng.uniform(low=0, high=10, size=(20, 20)) + np.abs(rng.normal(size=(20, 20)))"
   ]
  },
  {
   "cell_type": "code",
   "execution_count": null,
   "id": "d3ef1d4f-f5ff-48da-80ed-01222c6d118a",
   "metadata": {},
   "outputs": [],
   "source": []
  },
  {
   "cell_type": "code",
   "execution_count": null,
   "id": "cd76abaf-e78e-4184-9a82-ac073e65bbdf",
   "metadata": {},
   "outputs": [],
   "source": []
  },
  {
   "cell_type": "markdown",
   "id": "8244dbf3-aba3-44b4-a629-558cbd37d675",
   "metadata": {},
   "source": [
    "#### **89. Mostrar información con `pandas`**\n",
    "Usando el siguiente DataFrame, selecciona 10 filas al azar del DataFrame."
   ]
  },
  {
   "cell_type": "code",
   "execution_count": null,
   "id": "47270f99-6dbf-4b9b-a739-0fc94094a36b",
   "metadata": {},
   "outputs": [],
   "source": [
    "import pandas as pd\n",
    "\n",
    "rocas = pd.read_csv(\"files/rocas.csv\")"
   ]
  },
  {
   "cell_type": "code",
   "execution_count": null,
   "id": "75a569a6-fe11-4106-a91c-d1fe9085f90a",
   "metadata": {},
   "outputs": [],
   "source": []
  },
  {
   "cell_type": "code",
   "execution_count": null,
   "id": "235e491c-26a2-42d2-961d-bf7870a1d370",
   "metadata": {},
   "outputs": [],
   "source": []
  },
  {
   "cell_type": "markdown",
   "id": "261165b2-f43e-4dcf-a8af-e5e4efbf21a7",
   "metadata": {},
   "source": [
    "#### **90. Creación de columnas en `pandas`**\n",
    "Usando el siguiente DataFrame, crea una columna llamada `FeOT + MgO`, que sume los valores de las columnas `FeOT` y `Mg`."
   ]
  },
  {
   "cell_type": "code",
   "execution_count": null,
   "id": "7652982e-fdff-4f12-8293-c89e9afa647a",
   "metadata": {},
   "outputs": [],
   "source": [
    "import pandas as pd\n",
    "\n",
    "rocas = pd.read_csv(\"files/rocas.csv\")\n",
    "rocas.head()"
   ]
  },
  {
   "cell_type": "code",
   "execution_count": null,
   "id": "c3e19ed9-c5d3-4f7c-9447-13903b7b8fd6",
   "metadata": {},
   "outputs": [],
   "source": []
  },
  {
   "cell_type": "code",
   "execution_count": null,
   "id": "45853cc4-25bc-49f8-82e5-f2cd3ec87145",
   "metadata": {},
   "outputs": [],
   "source": []
  },
  {
   "cell_type": "markdown",
   "id": "23a11e2f-32e7-4a78-b519-4aa41d2e8ce5",
   "metadata": {},
   "source": [
    "#### **91. Estadística descriptiva**\n",
    "\n",
    "Usando el siguiente DataFrame, calcula las medidas estadísticas descriptivas (media, mediana, desviación estándar, etc.) de las columnas numéricas."
   ]
  },
  {
   "cell_type": "code",
   "execution_count": null,
   "id": "868b86ad-2e78-4eed-918f-b5b322d4f86a",
   "metadata": {},
   "outputs": [],
   "source": [
    "import pandas as pd\n",
    "\n",
    "rocas = pd.read_csv(\"files/rocas.csv\")\n",
    "rocas.head()"
   ]
  },
  {
   "cell_type": "code",
   "execution_count": null,
   "id": "57997f1c-f3a6-4fd4-9117-b24bf2d552c7",
   "metadata": {},
   "outputs": [],
   "source": []
  },
  {
   "cell_type": "code",
   "execution_count": null,
   "id": "61401722-b885-488b-9087-dbc4a2e32874",
   "metadata": {},
   "outputs": [],
   "source": []
  },
  {
   "cell_type": "markdown",
   "id": "2c432c5e-bdf1-44c6-8950-b70543e46d1e",
   "metadata": {},
   "source": [
    "#### **92. Manipulación de datos**\n",
    "¿Cómo podrías filtrar el siguiente DataFrame para que solamente muestre las rocas que tienen un contenido de sílice (columna `SiO2`) mayor o igual a 60%?"
   ]
  },
  {
   "cell_type": "code",
   "execution_count": null,
   "id": "9b5977ab-8c78-4ea0-a21f-ec29396419c1",
   "metadata": {},
   "outputs": [],
   "source": [
    "import pandas as pd\n",
    "\n",
    "rocas = pd.read_csv(\"files/rocas.csv\")\n",
    "rocas.head()"
   ]
  },
  {
   "cell_type": "code",
   "execution_count": null,
   "id": "32ff0135-c60a-4f82-a5be-aec0f39bea28",
   "metadata": {},
   "outputs": [],
   "source": []
  },
  {
   "cell_type": "code",
   "execution_count": null,
   "id": "28d2a31f-2a0d-4dee-93b6-4ae7e37ec5d3",
   "metadata": {},
   "outputs": [],
   "source": []
  },
  {
   "cell_type": "markdown",
   "id": "ef54f9d4-df64-4511-b102-e42a88b6a152",
   "metadata": {},
   "source": [
    "#### **93. Concentración relativa**\n",
    "¿Cómo podrías manipular el siguiente DataFrame para que las columnas numéricas ahora representen la concentración relativa de cada elemento con respecto al total?"
   ]
  },
  {
   "cell_type": "code",
   "execution_count": null,
   "id": "a699b22d-c284-4fef-b254-e636856c3883",
   "metadata": {},
   "outputs": [],
   "source": [
    "import pandas as pd\n",
    "\n",
    "rocas = pd.read_csv(\"files/rocas.csv\")\n",
    "rocas.head()"
   ]
  },
  {
   "cell_type": "code",
   "execution_count": null,
   "id": "6a49595e-2528-4e2a-9421-a8d30ba403f7",
   "metadata": {},
   "outputs": [],
   "source": []
  },
  {
   "cell_type": "code",
   "execution_count": null,
   "id": "b4d533ff-1eb6-4249-8af3-e649f5bc91e8",
   "metadata": {},
   "outputs": [],
   "source": []
  },
  {
   "cell_type": "markdown",
   "id": "f97e01fe-70f7-400b-8555-e31dbc59d7c8",
   "metadata": {},
   "source": [
    "#### **94. Análisis Bivariable**\n",
    "¿Cómo podrías crear un gráfico de correlación para evaluar las relaciones entre las diferentes columnas numéricas del siguiente DataFrame?"
   ]
  },
  {
   "cell_type": "code",
   "execution_count": null,
   "id": "b47a2a36-8a78-48d2-af7c-a1e7029e42e0",
   "metadata": {},
   "outputs": [],
   "source": [
    "import pandas as pd\n",
    "import matplotlib.pyplot as plt\n",
    "\n",
    "rocas = pd.read_csv(\"files/rocas.csv\")\n",
    "rocas.head()"
   ]
  },
  {
   "cell_type": "code",
   "execution_count": null,
   "id": "ab2c3e62-1479-443d-b944-49faae149d2a",
   "metadata": {},
   "outputs": [],
   "source": []
  },
  {
   "cell_type": "code",
   "execution_count": null,
   "id": "6f81872b-9f4d-45a9-abd5-b615237e96e4",
   "metadata": {},
   "outputs": [],
   "source": []
  },
  {
   "cell_type": "markdown",
   "id": "5d4d1551-e1c7-4666-ae96-aa19221491d7",
   "metadata": {},
   "source": [
    "#### **95. Visualización de datos**\n",
    "Usando el siguiente DataFrame, ¿cómo podrías visualizar la distribución de estas concentraciones para una roca específica usando histogramas?"
   ]
  },
  {
   "cell_type": "code",
   "execution_count": null,
   "id": "12f0e5b1-6a61-4813-b210-a1bd5cecbf5c",
   "metadata": {},
   "outputs": [],
   "source": [
    "import pandas as pd\n",
    "import matplotlib.pyplot as plt\n",
    "\n",
    "rocas = pd.read_csv(\"files/rocas.csv\")\n",
    "rocas.head()"
   ]
  },
  {
   "cell_type": "code",
   "execution_count": null,
   "id": "bfebd02e-2db0-427a-8baf-1a232d966624",
   "metadata": {},
   "outputs": [],
   "source": []
  },
  {
   "cell_type": "code",
   "execution_count": null,
   "id": "8b56e909-824a-421b-8577-98e7813d0d6c",
   "metadata": {},
   "outputs": [],
   "source": []
  },
  {
   "cell_type": "markdown",
   "id": "1a6eeeb7-239a-4238-b5e8-98d5a74c7008",
   "metadata": {},
   "source": [
    "#### **96. Clasificación de rocas**\n",
    "Usando el siguiente DataFrame, se pide clasificar las muestras de acuerdo al siguiente criterio:\n",
    "- Ultramáficas: menos de 45% de sílice.\n",
    "- Máficas: entre 45% y 55% de sílice.\n",
    "- Intermedias: entre 55% y 65% de sílice.\n",
    "- Félsicas: más del 65% de sílice.\n",
    "\n",
    "Almacenar el resultado de la clasificación en una nueva columna llamada `ignea`.\n",
    "> Se recomienda usar el método `apply` en el DataFrame."
   ]
  },
  {
   "cell_type": "code",
   "execution_count": null,
   "id": "32a78507-be7f-42e9-a01f-9f2cc4210ce0",
   "metadata": {},
   "outputs": [],
   "source": [
    "import pandas as pd\n",
    "\n",
    "rocas = pd.read_csv(\"files/rocas.csv\")\n",
    "rocas.head()"
   ]
  },
  {
   "cell_type": "code",
   "execution_count": null,
   "id": "352fbd79-af55-4ec5-903f-44adcf0a8e0b",
   "metadata": {},
   "outputs": [],
   "source": []
  },
  {
   "cell_type": "code",
   "execution_count": null,
   "id": "9f89b2cf-9028-41e1-b580-e48a2e093c70",
   "metadata": {},
   "outputs": [],
   "source": []
  },
  {
   "cell_type": "markdown",
   "id": "b6f44c71-6e90-45aa-9703-90d99d97a50f",
   "metadata": {},
   "source": [
    "#### **97. Reporte automatizado de datos**\n",
    "Usando el siguiente DataFrame, desarrolla una función llamada `reporte` que realice lo siguiente:\n",
    "- Extrae 100 muestras al azar del DataFrame.\n",
    "- Imprime el promedio de `SiO2` y `Al2O3` de las muestras.\n",
    "- Imprime el número de muestras por cada tipo de roca.\n",
    "- Muestra un diagrama de dispersión de `SiO2` vs `Al2O3` coloreado de acuerdo a cada tipo de roca."
   ]
  },
  {
   "cell_type": "code",
   "execution_count": null,
   "id": "7a072158-3403-4ece-9d0f-3f727dcad346",
   "metadata": {},
   "outputs": [],
   "source": [
    "import pandas as pd\n",
    "import matplotlib.pyplot as plt\n",
    "\n",
    "rocas = pd.read_csv(\"files/rocas.csv\")\n",
    "rocas.head()"
   ]
  },
  {
   "cell_type": "code",
   "execution_count": null,
   "id": "20796975-6a19-4fe0-b937-1aad3010570b",
   "metadata": {},
   "outputs": [],
   "source": []
  },
  {
   "cell_type": "code",
   "execution_count": null,
   "id": "de41e109-c271-48ea-8bc5-048e17149f7a",
   "metadata": {},
   "outputs": [],
   "source": []
  },
  {
   "cell_type": "markdown",
   "id": "eb75d4fd-3ff0-4dce-8588-e1852b3c3ff1",
   "metadata": {},
   "source": [
    "#### **98. Análisis de Anomalías Gravimétricas (Parte 2)**\n",
    "Usando Matplotlib, representa gráficamente las zonas identificadas sobre el mapa original de mediciones gravimétricas desarrollado en el ejercicio **76**."
   ]
  },
  {
   "cell_type": "code",
   "execution_count": null,
   "id": "f17c8837-bb79-4e12-aed1-16794eedc411",
   "metadata": {},
   "outputs": [],
   "source": [
    "import numpy as np\n",
    "import matplotlib.pyplot as plt\n",
    "\n",
    "# Generador de números aleatorios\n",
    "rng = np.random.default_rng()\n",
    "\n",
    "# Arreglo 2D con valores aleatorios de gravimetría (Gal)\n",
    "valor_medio = 981  # Valor medio de la población\n",
    "variacion = 5      # Desviación estándar de la población\n",
    "gravimetria = valor_medio + (variacion * rng.normal(size=(100, 100)) * np.linspace(0, 1, 100))"
   ]
  },
  {
   "cell_type": "code",
   "execution_count": null,
   "id": "7b256ce7-3212-48c7-b903-dc035e62bf88",
   "metadata": {},
   "outputs": [],
   "source": []
  },
  {
   "cell_type": "code",
   "execution_count": null,
   "id": "40c9a668-7803-44d5-8539-36f1be6ede43",
   "metadata": {},
   "outputs": [],
   "source": []
  },
  {
   "cell_type": "markdown",
   "id": "419016f4-0661-4a91-a18f-a0bfff6bcc17",
   "metadata": {},
   "source": [
    "#### **99. Modelo Estratigráfico 2D (Parte 4)**\n",
    "Usando Matplotlib y Numpy, extrae una sección estratigráfica (una fila del arreglo 2D) del modelo desarrollado en el ejercicio **85** y representa gráficamente los cambios en las capas.\n",
    "> Visualizar la figura teniendo en cuenta que el lado de cada celda en el arreglo 2D mide 20 metros.\\\n",
    "> La función `fill_between` de Matplotlib es muy útil para poder visualizar estratos en sección."
   ]
  },
  {
   "cell_type": "code",
   "execution_count": null,
   "id": "32387cf8-1785-4382-b19c-662f64f9d5ff",
   "metadata": {},
   "outputs": [],
   "source": [
    "import numpy as np\n",
    "import matplotlib.pyplot as plt\n",
    "\n",
    "# Generador de números aleatorios\n",
    "rng = np.random.default_rng()"
   ]
  },
  {
   "cell_type": "code",
   "execution_count": null,
   "id": "3f51774f-5072-4dff-90a8-c80594a78f80",
   "metadata": {},
   "outputs": [],
   "source": []
  },
  {
   "cell_type": "code",
   "execution_count": null,
   "id": "ab07f5c0-6309-43d4-a1c0-bc050a5645c6",
   "metadata": {},
   "outputs": [],
   "source": []
  },
  {
   "cell_type": "markdown",
   "id": "4949966c-ef49-4a69-857f-fe01e57ec523",
   "metadata": {
    "tags": []
   },
   "source": [
    "#### **100. Modelo de gradiente geotérmico terrestre (Parte 2)**\n",
    "A partir de la función `temperatura` del ejercicio **51**, desarrollar una función con el mismo nombre que devuelva el valor de temperatura en °C.\\\n",
    "Usando esta función, generar un gráfico en Matplotlib que muestre la variación de Profundidad vs. Temperatura en el rango de 0 a 6360 km.\n",
    "> **Nota:** puedes usar la función `linspace` de Numpy para generar un espacio lineal con los valores de Profundidad."
   ]
  },
  {
   "cell_type": "code",
   "execution_count": null,
   "id": "807ab633-f66a-4728-8810-ea734d97bcd3",
   "metadata": {},
   "outputs": [],
   "source": []
  },
  {
   "cell_type": "code",
   "execution_count": null,
   "id": "c0c74ea4-07de-4b1f-8eac-47f86241b6c6",
   "metadata": {},
   "outputs": [],
   "source": []
  },
  {
   "cell_type": "markdown",
   "id": "ba04be79-66f9-46fc-ac17-45cc166cfe62",
   "metadata": {},
   "source": [
    "***"
   ]
  }
 ],
 "metadata": {
  "kernelspec": {
   "display_name": "Python 3 (ipykernel)",
   "language": "python",
   "name": "python3"
  },
  "language_info": {
   "codemirror_mode": {
    "name": "ipython",
    "version": 3
   },
   "file_extension": ".py",
   "mimetype": "text/x-python",
   "name": "python",
   "nbconvert_exporter": "python",
   "pygments_lexer": "ipython3",
   "version": "3.11.5"
  }
 },
 "nbformat": 4,
 "nbformat_minor": 5
}
