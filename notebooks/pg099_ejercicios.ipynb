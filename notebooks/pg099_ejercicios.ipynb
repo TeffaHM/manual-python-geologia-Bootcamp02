{
 "cells": [
  {
   "cell_type": "markdown",
   "id": "86e0ed5b-824e-41ae-b539-c51b9ca758ce",
   "metadata": {
    "jp-MarkdownHeadingCollapsed": true,
    "tags": []
   },
   "source": [
    "<span style=\"color:gold; font-size:30px\">**PG099 - Ejercicios de Python para Geología**</span>\n",
    "***\n",
    "\n",
    "<span style=\"font-size:20px\"> **Autor: Kevin Alexander Gómez** </span>\n",
    "\n",
    "<span style=\"font-size:16px\"> **Contacto: kevinalexandr19@gmail.com | [Linkedin](https://www.linkedin.com/in/kevin-alexander-g%C3%B3mez-2b0263111/) | [Github](https://github.com/kevinalexandr19)** </span>\n",
    "***"
   ]
  },
  {
   "cell_type": "markdown",
   "id": "d90dcab3-f0c6-493b-9681-d8a39e14c456",
   "metadata": {
    "tags": []
   },
   "source": [
    "Bienvenido a PG099 - Ejercicios de Python para Geología!!!\n",
    "\n",
    "En este documento encontrarás <span style=\"color:gold\">problemas de Geología</span> cuya solución deberá ser desarrollada a través del uso de Python.\n",
    "\n",
    "Es necesario que tengas un conocimiento previo en Python, geología general, matemática y estadística.\n",
    "\n",
    "<span style=\"color:lightgreen\"> Este notebook es parte del proyecto [**Python para Geólogos**](https://github.com/kevinalexandr19/manual-python-geologia), y ha sido creado con la finalidad de facilitar el aprendizaje en Python para estudiantes y profesionales en el campo de la Geología. </span>"
   ]
  },
  {
   "cell_type": "markdown",
   "id": "e1c25fe9-f00e-4a4a-8cec-be8a7d20f2d0",
   "metadata": {
    "tags": []
   },
   "source": [
    "***\n",
    "### <span style=\"color:lightgreen\">**1. Reporte de resultados en una mina**</span>\n",
    "\n",
    "Una mina de Au obtuvo los siguientes resultados de producción para un determinado semestre:\n",
    "\n",
    "| Mes | Au (onzas) |\n",
    "| --- | --- |\n",
    "| Enero | 80 |\n",
    "| Febrero | 105 |\n",
    "| Marzo | 45 |\n",
    "| Abril | 80 |\n",
    "| Mayo | 75 |\n",
    "| Junio | 125 |\n",
    "\n",
    "Para obtener un reporte general de los resultados, se pide:\n",
    " - El total de onzas Au producidas en el semestre. Asignarlo a la variable `total`.\n",
    " - El costo de operación mensual de la mina fue de 40000 dólares. Asignarlo a la variable `costo_operacion`.\n",
    " - El precio de una onza de Au es de 1000 dólares. Asignarlo a la variable `precio`.\n",
    " - Usando estas tres variables, calcular la ganancia semestral de la mina asignándola a la variable `ganancia`.\n",
    " - Mostrar el resultado general usando la función `print`, usando el siguiente formato:\\\n",
    " `\"Durante el semestre, la mina produjo ___ onzas de Au con una ganancia total de ___ dólares\"`"
   ]
  },
  {
   "cell_type": "code",
   "execution_count": null,
   "id": "0df3f7df-485a-44c8-85d5-eb642341bf00",
   "metadata": {},
   "outputs": [],
   "source": []
  },
  {
   "cell_type": "code",
   "execution_count": null,
   "id": "4c5b0fc7-d654-4cc2-8be1-01d7c8e820ba",
   "metadata": {},
   "outputs": [],
   "source": []
  },
  {
   "cell_type": "code",
   "execution_count": null,
   "id": "ea2c529b-1391-4836-bbbd-4523ea71c5d3",
   "metadata": {},
   "outputs": [],
   "source": []
  },
  {
   "cell_type": "markdown",
   "id": "bd1713d5-6145-477c-a162-a2d2b756413d",
   "metadata": {},
   "source": [
    "***\n",
    "### <span style=\"color:lightgreen\">**2. Riesgo geológico en una edificación**</span>\n",
    "¿Cuál es la probabilidad de que un edificio sufra un terremoto de magnitud 7 teniendo en cuenta que su vida útil es de 100 años, y el período de retorno del terremoto es de 500 años?.\\\n",
    "Usar la siguiente fórmula para el cálculo de la probabilidad de excedencia:\n",
    "\n",
    "<center> $\\Large p = 1 - (1 - \\frac{1}{T})^{t}$ </center>\n",
    "\n",
    "Donde:\n",
    "\n",
    "- $p$ : probabilidad de excedencia\n",
    "- $t$ : vida útil de la estructura\n",
    "- $T$ : período de retorno"
   ]
  },
  {
   "cell_type": "code",
   "execution_count": null,
   "id": "96d13dd1-66aa-4e57-9fea-affb64d0fec8",
   "metadata": {},
   "outputs": [],
   "source": []
  },
  {
   "cell_type": "code",
   "execution_count": null,
   "id": "3b2b3424-f97e-4988-abeb-5a084f1e61d3",
   "metadata": {},
   "outputs": [],
   "source": []
  },
  {
   "cell_type": "markdown",
   "id": "7099b717-6b43-44e0-8b0f-9d4e4dfcb8ba",
   "metadata": {
    "tags": []
   },
   "source": [
    "***\n",
    "### <span style=\"color:lightgreen\">**3. Propagación de ondas sísmicas**</span>\n",
    "\n",
    "Un sismo fue detectado dentro de una estación de observación.\\\n",
    "La llegada de las ondas P se produjo a las 10h 23m 37s, mientras que a las 10h 24m 22s, se registraron las ondas S.\\\n",
    "Las velocidades estimadas de las ondas sísmisca fueron: $V_{P}=7.2 \\space km/s$ y $V_{S}=4.15 \\space km/s$.\n",
    "\n",
    "Utilizando el siguiente modelo de propagación de ondas sísmicas, calcular la distancia al epicentro del sismo:\n",
    "<center> $ \\Large d = \\frac{T_{S} - T_{P}}{\\frac{1}{V_{S}} - \\frac{1}{V_{P}}} $ </center>\n",
    "\n",
    "Donde:\n",
    "- $d$: distancia al epicentro del sismo\n",
    "- $V_{P}$, $V_{S}$: velocidad de las ondas sísmicas P y S\n",
    "- $T_{P}$, $T_{S}$: tiempo de llegada de las ondas sísmicas P y S"
   ]
  },
  {
   "cell_type": "code",
   "execution_count": null,
   "id": "a09aef16-5609-45c7-8867-1f4d3ecdcdea",
   "metadata": {},
   "outputs": [],
   "source": []
  },
  {
   "cell_type": "code",
   "execution_count": null,
   "id": "a8274063-e06b-455b-b553-09f5950a9544",
   "metadata": {},
   "outputs": [],
   "source": []
  },
  {
   "cell_type": "code",
   "execution_count": null,
   "id": "4a60f91f-ada9-4022-a350-f3265286eddf",
   "metadata": {},
   "outputs": [],
   "source": []
  },
  {
   "cell_type": "code",
   "execution_count": null,
   "id": "0266383f-b539-48f5-95b2-638be1b166d8",
   "metadata": {},
   "outputs": [],
   "source": []
  },
  {
   "cell_type": "markdown",
   "id": "55642993-54bd-41ba-9685-7ad858f68095",
   "metadata": {
    "tags": []
   },
   "source": [
    "***\n",
    "### <span style=\"color:lightgreen\">**4. Clasificación de rocas ígneas**</span>\n",
    "\n",
    "Para clasificar una roca ígnea de acuerdo a su contenido de sílice (SiO$_{2}$), se recomienda el siguiente criterio:\n",
    "\n",
    "- Rocas ígneas ultramáficas: contienen menos del 45% de SiO2. Ejemplos de estas rocas son la peridotita y la dunita.\n",
    "- Rocas ígneas máficas: contienen entre el 45% y el 52% de SiO2. Ejemplos de estas rocas son el basalto y la gabro.\n",
    "- Rocas ígneas intermedias: contienen entre el 52% y el 66% de SiO2. Ejemplos de estas rocas son la andesita y la diorita.\n",
    "- Rocas ígneas félsicas: contienen más del 66% de SiO2. Ejemplos de estas rocas son el granito y la riolita.\n",
    "\n",
    "Usando condicionales, crear un programa que pida al usuario ingresar un valor numérico de sílice y determine la clasificación de una roca ígnea en base a dicho contenido."
   ]
  },
  {
   "cell_type": "code",
   "execution_count": null,
   "id": "5da4e48b-e05e-4e78-850a-5d8bdcc986ba",
   "metadata": {},
   "outputs": [],
   "source": []
  },
  {
   "cell_type": "markdown",
   "id": "ef8cc0f4-d7ab-46cf-8bff-2615662149a7",
   "metadata": {
    "tags": []
   },
   "source": [
    "***\n",
    "### <span style=\"color:lightgreen\">**5. Mineralogía de una muestra de roca (Parte 1)**</span>\n",
    "\n",
    "Una muestra de granodiorita tiene la siguiente composición mineralógica: cuarzo $(48\\%)$, plagioclasas $(27\\%)$, feldespato $(11\\%)$, biotita $(8\\%)$, pirita $(6\\%)$.\\\n",
    "Crear un diccionario en Python que guarde la mineralogía de la muestra, el porcentaje debe ser representado en fracción (ejemplo: 25% es igual a 0.25)."
   ]
  },
  {
   "cell_type": "code",
   "execution_count": null,
   "id": "1f46d5fb-94d0-4a69-9604-c8a6a999bf3b",
   "metadata": {},
   "outputs": [],
   "source": []
  },
  {
   "cell_type": "code",
   "execution_count": null,
   "id": "2dc9accf-305c-44c6-b612-5e3c168429ce",
   "metadata": {},
   "outputs": [],
   "source": []
  },
  {
   "cell_type": "markdown",
   "id": "307ebd99-9696-48bc-ab49-f67f16f460dd",
   "metadata": {},
   "source": [
    "### <span style=\"color:lightgreen\">**6. Mineralogía de una muestra de roca (Parte 2)**</span>\n",
    "\n",
    "Usando el diccionario obtenido en el ejercicio **3**, crear un bucle definido que muestre el nombre y el porcentaje de cada mineral.\\\n",
    "Usar el siguiente formato: `Abundancia de ____ en la muestra: _____ %`\n",
    "> Nota: usar la función `print` para mostrar los resultados de cada mineral."
   ]
  },
  {
   "cell_type": "code",
   "execution_count": null,
   "id": "381d0ea3-f0f5-4987-aab7-7265abcc2717",
   "metadata": {},
   "outputs": [],
   "source": []
  },
  {
   "cell_type": "markdown",
   "id": "62422aec-03a5-4905-9cfc-177ef81ceb71",
   "metadata": {},
   "source": [
    "***\n",
    "### <span style=\"color:lightgreen\">**7. Normalización de porcentajes para clasificación petrográfica (Parte 1)**</span>\n",
    "\n",
    "Crear una función de nombre `streckeisen` con las siguientes características:\n",
    "- La función usará como parámetro de entrada a un **diccionario**.\n",
    "- La función tomará los porcentajes de `cuarzo`, `feldespato` y `plagioclasas` del diccionario y los normalizará.\n",
    "- La función debe devolver como resultado un diccionario conteniendo solamente los 3 minerales y sus respectivos porcentajes normalizados.\n",
    "\n",
    "Usar el diccionario del ejercicio **3** en la función y mostrar el resultado final."
   ]
  },
  {
   "cell_type": "code",
   "execution_count": null,
   "id": "0af9263d-d3be-4a27-a64f-e148795aaecb",
   "metadata": {},
   "outputs": [],
   "source": []
  },
  {
   "cell_type": "code",
   "execution_count": null,
   "id": "376de13c-e0dc-4b35-9d07-10be8df6963e",
   "metadata": {},
   "outputs": [],
   "source": []
  },
  {
   "cell_type": "markdown",
   "id": "03f2caa8-20b3-49f7-a88e-8f8f7b1e98c4",
   "metadata": {},
   "source": [
    "### <span style=\"color:lightgreen\">**8. Normalización de porcentajes para clasificación petrográfica (Parte 2)**</span>\n",
    "\n",
    "Usar la función `streckeisen` creada en el ejercicio **5** para normalizar una muestra con la siguiente mineralogía:\\\n",
    "Cuarzo $(41\\%)$, plagioclasas $(25\\%)$, anfíboles $(17\\%)$, biotita $(12\\%)$, pirita $(5\\%)$.\n",
    "> Nota:  en caso la función no evalúe la muestra de forma correcta o indique error, se deberá modificar la función hasta que pueda resolverla."
   ]
  },
  {
   "cell_type": "code",
   "execution_count": null,
   "id": "ab1f85cd-48e7-4caa-a084-2c901922a3df",
   "metadata": {},
   "outputs": [],
   "source": []
  },
  {
   "cell_type": "code",
   "execution_count": null,
   "id": "a40fd80a-b325-4565-9bd8-08ae0f223873",
   "metadata": {},
   "outputs": [],
   "source": []
  },
  {
   "cell_type": "markdown",
   "id": "4c17d7dc-fe01-4765-85ba-f1b7c168f6ec",
   "metadata": {
    "tags": []
   },
   "source": [
    "***\n",
    "### <span style=\"color:lightgreen\">**9. Modelo de gradiente geotérmico terrestre (Parte 1)**</span>\n",
    "\n",
    "Bajo cierto punto de la superficie terrestre, la temperatura interna de la Tierra varía de acuerdo al siguiente modelo:\n",
    "- La temperatura promedio en la superficie es de 25°C.\n",
    "- Para los primeros 100km de profundidad, la temperatura aumenta en forma lineal con un gradiente de 15°C/km.\n",
    "- A partir de los 100 km (y hasta un máximo de 6360 km), la temperatura aumenta de acuerdo a la siguiente expresión cuadrática: $ T(z) = -6\\times10^{-5}\\space z^{2} + 1.05\\space z + 1395.6 $\n",
    "\n",
    "Desarrollar una función en Python de nombre `temperatura` que represente este modelo de gradiente geotérmico.\\\n",
    "La función debe tomar como parámetro la profundidad `z` y devolver la siguiente frase: `A una profundidad de z km, la temperatura interna de la Tierra es de T °C`.\\\n",
    "Si el valor de profundidad es negativo o mayor a 6360, la función debe devolver la siguiente frase: `Valor de profundidad z es incorrecto`.\n",
    "\n",
    "Por último, se debe evaluar la función para los siguientes valores de profundidad: -100, 0, 50, 100, 2000 y 6400 km."
   ]
  },
  {
   "cell_type": "code",
   "execution_count": null,
   "id": "3f80794d-adfe-4cb4-b432-5f3a48f72d3a",
   "metadata": {},
   "outputs": [],
   "source": []
  },
  {
   "cell_type": "code",
   "execution_count": null,
   "id": "7be9864b-41ae-4858-b5a3-ccf6a6fb09fb",
   "metadata": {},
   "outputs": [],
   "source": []
  },
  {
   "cell_type": "markdown",
   "id": "49808e4b-bedf-4f6b-a483-93a8f04ca666",
   "metadata": {
    "tags": []
   },
   "source": [
    "### <span style=\"color:lightgreen\">**10. Modelo de gradiente geotérmico terrestre (Parte 2)**</span>\n",
    "A partir de la función `temperatura` del ejercicio **8**, desarrollar una función con el mismo nombre que devuelva el valor de temperatura en °C.\\\n",
    "Usando esta función, generar un gráfico en Matplotlib que muestre la variación de Profundidad vs. Temperatura en el rango de 0 a 6360 km.\n",
    "> **Nota:** puedes usar la librería `numpy` para generar un espacio lineal con los valores de Profundidad."
   ]
  },
  {
   "cell_type": "code",
   "execution_count": null,
   "id": "97ff1b24-f8d4-4d78-908e-fae924784ad8",
   "metadata": {},
   "outputs": [],
   "source": []
  },
  {
   "cell_type": "code",
   "execution_count": null,
   "id": "891f92ff-da63-4bf2-a23d-426f197305a4",
   "metadata": {},
   "outputs": [],
   "source": []
  },
  {
   "cell_type": "code",
   "execution_count": null,
   "id": "253c5363-fd1c-4a46-b26d-c0f2cd6d1a20",
   "metadata": {},
   "outputs": [],
   "source": []
  },
  {
   "cell_type": "code",
   "execution_count": null,
   "id": "869818ae-4994-4048-88ca-0819194d9cfe",
   "metadata": {},
   "outputs": [],
   "source": []
  },
  {
   "cell_type": "markdown",
   "id": "34d92bad-3c4e-41f3-a9dc-56dc368d0c19",
   "metadata": {
    "tags": []
   },
   "source": [
    "***\n",
    "### <span style=\"color:lightgreen\">**11. Composición geoquímica de una roca**</span>\n",
    "\n",
    "Una muestra de diorita tiene la siguiente composición mineralógica:\\\n",
    "Cuarzo $(25\\%)$, feldespatos $(10\\%)$, plagioclasas $(35\\%)$, ferromagnesianos $(30\\%)$.\n",
    "\n",
    "Se pide calcular la composición geoquímica de esta muestra realizando los siguientes pasos:\n",
    "- Crear una clase `Roca` que tome como argumento un diccionario con el siguiente formato:\n",
    "    ``````python\n",
    "    minerales = {\"cuarzo\": 0.50, \"feldespato\": 0.20, \"plagioclasas\": 0.30, \"ferromagnesianos\": 0.00}\n",
    "    ``````\n",
    "- La clase debe tener un método llamado `obtener_oxidos` que descomponga el porcentaje de minerales en porcentaje de óxidos, teniendo en cuenta la composición de cada mineral:\n",
    "    - Cuarzo: $SiO_{2}$ ($100\\%$)\n",
    "    - Feldespatos: $SiO_{2}$ ($48\\%$), $Al_{2}O_{3}$ ($27\\%$), $K_{2}O$ ($25\\%$)\n",
    "    - Plagioclasas: $SiO_{2}$ ($47\\%$), $Al_{2}O_{3}$ ($33\\%$), $CaO$ ($10\\%$), $Na_{2}O$ ($10\\%$)\n",
    "    - Ferromagnesianos: $SiO_{2}$ ($40\\%$), $Al_{2}O_{3}$ ($5\\%$), $CaO$ ($10\\%$), $FeOT$ ($20\\%$), $MgO$ ($25\\%$)\n",
    "- Almacenar el resultado de la descomposición en el atributo `oxidos`, usando un diccionario con el siguiente formato:\n",
    "    ``````python\n",
    "    oxidos = {\"SiO2\": 0.60, \"Al2O3\": 0.15, \"CaO\": 0.05, \"Na2O\": 0.05, \"K2O\": 0.05, \"FeOT\": 0.05, \"MgO\": 0.05}\n",
    "    ``````\n",
    "- Crear la clase `Roca` y usar la composición mineralógica de la muestra de diorita.\n",
    "- Mostrar el contenido del atributo `oxidos` de la instancia creada usando `print`."
   ]
  },
  {
   "cell_type": "code",
   "execution_count": null,
   "id": "d6ba6061-274b-400c-995f-228415e4be8e",
   "metadata": {},
   "outputs": [],
   "source": []
  },
  {
   "cell_type": "code",
   "execution_count": null,
   "id": "fd041e7a-8d40-44b7-b1cf-561d062714ee",
   "metadata": {},
   "outputs": [],
   "source": []
  },
  {
   "cell_type": "code",
   "execution_count": null,
   "id": "6d0880b2-5625-4c0a-8901-58812d854925",
   "metadata": {},
   "outputs": [],
   "source": []
  },
  {
   "cell_type": "markdown",
   "id": "f7b364eb-5309-46f5-ab5a-28beaa9d9f2d",
   "metadata": {},
   "source": [
    "***\n",
    "### <span style=\"color:lightgreen\">**12. Porosidad promedio**</span>\n",
    "\n",
    "Se llevaron 10 muestras de rocas sedimentarias a un laboratorio y se obtuvieron los siguientes datos:\n",
    "\n",
    "| Volumen total (cm$^{3}$) | Volumen de poros (cm$^{3}$) | \n",
    "| --- | --- |\n",
    "| 103 | 395 |\n",
    "| 121 | 451 |\n",
    "| 109 | 402 |\n",
    "|  94 | 377 |\n",
    "|  86 | 358 |\n",
    "| 106 | 398 |\n",
    "| 112 | 411 |\n",
    "| 151 | 586 |\n",
    "| 143 | 529 |\n",
    "| 188 | 713 |\n",
    "\n",
    "La fórmula de la porosidad para una roca sedimentaria es la siguiente:\n",
    "\n",
    "<center> $ \\Large porosidad = \\frac{V_{poros}}{V_{total}} \\times 100\\% $ </center>\n",
    "\n",
    "Usando esta información, escribir un script que calcule la porosidad promedio (en %) de las 10 muestras.\n",
    "> Nota: usar arreglos de Numpy."
   ]
  },
  {
   "cell_type": "code",
   "execution_count": null,
   "id": "e18f2a3b-6891-47c7-8a61-65d3554d9f10",
   "metadata": {},
   "outputs": [],
   "source": []
  },
  {
   "cell_type": "code",
   "execution_count": null,
   "id": "0b9377fe-3de5-4da4-b7b5-56e332c2ee6b",
   "metadata": {},
   "outputs": [],
   "source": []
  },
  {
   "cell_type": "markdown",
   "id": "c3550e66-2161-480f-80ab-3ae79217783e",
   "metadata": {},
   "source": [
    "***\n",
    "### <span style=\"color:lightgreen\">**13. Buzamiento aparente en un talud**</span>\n",
    "Un estrato rocoso que aflora en el talud de una carretera tiene un azimut de 150° y un buzamiento aparente de 33°. Calcular el buzamiento real del estrato teniendo en cuenta que el azimut del talud de carretera es de 180°. Usar la siguiente fórmula:\n",
    "<center> $ \\Large \\phi_{real} = arctan(\\frac{tan(\\phi_{aparente})}{cos(\\beta)})$ </center>\n",
    "Donde:\n",
    "\n",
    "- $\\phi_{real}$ : buzamiento real\n",
    "- $\\phi_{aparente}$ : buzamiento aparente\n",
    "- $\\beta$ : ángulo entre el azimut del estrato y el azimut del talud\n",
    "\n",
    "> **Nota:** puedes usar la librería `numpy` para realizar el cálculo trigonométrico."
   ]
  },
  {
   "cell_type": "code",
   "execution_count": null,
   "id": "ea8c8817-7d5f-4b38-97c3-725f2c7e795b",
   "metadata": {},
   "outputs": [],
   "source": []
  },
  {
   "cell_type": "code",
   "execution_count": null,
   "id": "6b5dd5c9-6999-4dd1-93c1-331b2a3daa37",
   "metadata": {},
   "outputs": [],
   "source": []
  },
  {
   "cell_type": "code",
   "execution_count": null,
   "id": "5a876624-ce28-41d8-b517-5db25ac69104",
   "metadata": {},
   "outputs": [],
   "source": []
  },
  {
   "cell_type": "code",
   "execution_count": null,
   "id": "49a565c7-7f8f-4814-a46a-fb760ed9ecb6",
   "metadata": {},
   "outputs": [],
   "source": []
  },
  {
   "cell_type": "code",
   "execution_count": null,
   "id": "87be6d91-f298-4659-a182-7b6cc1d719c4",
   "metadata": {},
   "outputs": [],
   "source": []
  },
  {
   "cell_type": "code",
   "execution_count": null,
   "id": "ccd8d9ad-cdb7-46d7-9ff0-f4f7408ee5ca",
   "metadata": {},
   "outputs": [],
   "source": []
  },
  {
   "cell_type": "markdown",
   "id": "6d303a2b-8024-4bab-868e-f4ce8eed165f",
   "metadata": {},
   "source": [
    "***"
   ]
  },
  {
   "cell_type": "markdown",
   "id": "8244dbf3-aba3-44b4-a629-558cbd37d675",
   "metadata": {},
   "source": [
    "### <span style=\"color:lightgreen\">**14. Abrir información con `pandas`**</span>\n",
    "Usando la librería `pandas`, cargar el archivo `rocas.csv` ubicado en la carpeta `files` y mostrar las primeras 5 filas del DataFrame."
   ]
  },
  {
   "cell_type": "code",
   "execution_count": null,
   "id": "91723f12-1d35-4396-9c7b-a7d96db84223",
   "metadata": {},
   "outputs": [],
   "source": []
  },
  {
   "cell_type": "code",
   "execution_count": null,
   "id": "9b7149da-d7a7-48db-93f8-9372f2c99731",
   "metadata": {},
   "outputs": [],
   "source": []
  },
  {
   "cell_type": "markdown",
   "id": "261165b2-f43e-4dcf-a8af-e5e4efbf21a7",
   "metadata": {},
   "source": [
    "### <span style=\"color:lightgreen\">**15. Creación de columnas en `pandas`**</span>\n",
    "Usando el DataFrame del ejercicio **11**, crear una columna llamada `FeOT + MgO`, que sume los valores de las columnas `FeOT` y `Mg`."
   ]
  },
  {
   "cell_type": "code",
   "execution_count": null,
   "id": "69eecf13-6353-4400-abf1-456f74ca94fa",
   "metadata": {},
   "outputs": [],
   "source": []
  },
  {
   "cell_type": "code",
   "execution_count": null,
   "id": "4cf02de2-4cd4-4fe0-b31c-28b703d2f34e",
   "metadata": {},
   "outputs": [],
   "source": []
  },
  {
   "cell_type": "markdown",
   "id": "ba04be79-66f9-46fc-ac17-45cc166cfe62",
   "metadata": {},
   "source": [
    "***"
   ]
  }
 ],
 "metadata": {
  "kernelspec": {
   "display_name": "Python 3 (ipykernel)",
   "language": "python",
   "name": "python3"
  },
  "language_info": {
   "codemirror_mode": {
    "name": "ipython",
    "version": 3
   },
   "file_extension": ".py",
   "mimetype": "text/x-python",
   "name": "python",
   "nbconvert_exporter": "python",
   "pygments_lexer": "ipython3",
   "version": "3.11.5"
  }
 },
 "nbformat": 4,
 "nbformat_minor": 5
}
