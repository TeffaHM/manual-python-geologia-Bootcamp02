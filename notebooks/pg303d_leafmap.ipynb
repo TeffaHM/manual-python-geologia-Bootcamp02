{
 "cells": [
  {
   "cell_type": "markdown",
   "id": "eea5bd17-44f9-4d26-9bf0-08827b35bbea",
   "metadata": {
    "tags": []
   },
   "source": [
    "<span style=\"color:lightgreen; font-size:30px\">**PG303 - Análisis geoespacial**</span>\n",
    "***\n",
    "<span style=\"color:gold; font-size:30px\">**Leafmap**</span>\n",
    "***\n",
    "\n",
    "<span style=\"font-size:20px\"> **Autor: Kevin Alexander Gómez** </span>\n",
    "\n",
    "<span style=\"font-size:16px\"> **Contacto: kevinalexandr19@gmail.com | [Linkedin](https://www.linkedin.com/in/kevin-alexander-g%C3%B3mez-2b0263111/) | [Github](https://github.com/kevinalexandr19)** </span>\n",
    "\n",
    "***"
   ]
  },
  {
   "cell_type": "markdown",
   "id": "fc537806-ab7d-499c-b5ba-616e5640e65f",
   "metadata": {
    "tags": []
   },
   "source": [
    "Bienvenido al curso PG303 - Análisis geoespacial!!!\n",
    "\n",
    "Vamos a revisar aplicaciones de <span style=\"color:gold\">análisis geoespacial</span> usando código en Python.\\\n",
    "Es necesario que tengas un conocimiento previo en programación con Python, estadística y sistemas de información geográfica.\n",
    "\n",
    "<span style=\"color:lightgreen\"> Este notebook es parte del proyecto [**Python para Geólogos**](https://github.com/kevinalexandr19/manual-python-geologia), y ha sido creado con la finalidad de facilitar el aprendizaje en Python para estudiantes y profesionales en el campo de la Geología. </span>\n",
    "\n",
    "En el siguiente índice, encontrarás los temas que componen este notebook:"
   ]
  },
  {
   "cell_type": "markdown",
   "id": "4a1b5dbb-ff90-4a1a-b92a-6bd4adbc4d8b",
   "metadata": {
    "tags": []
   },
   "source": [
    "## **Índice**\n",
    "***\n",
    "- [¿Qué es Leafmap?](#parte-1)\n",
    "- [Visualizando un raster en Leafmap](#parte-2)\n",
    "- [Visualizando un shapefile en Leafmap](#parte-3)\n",
    "- [En conclusión...](#parte-4)\n",
    "\n",
    "***"
   ]
  },
  {
   "cell_type": "markdown",
   "id": "578f7af6-a8f7-4ef9-913c-7698db3e840b",
   "metadata": {},
   "source": [
    "Antes de empezar tu camino en programación geológica...\\\n",
    "Recuerda que puedes ejecutar un bloque de código usando `Shift` + `Enter`:"
   ]
  },
  {
   "cell_type": "code",
   "execution_count": null,
   "id": "e3fe06b9-f5f0-44c1-89ee-ef859c841887",
   "metadata": {},
   "outputs": [],
   "source": [
    "2 + 2"
   ]
  },
  {
   "cell_type": "markdown",
   "id": "f447cf06-93bd-4463-a12e-df782175331a",
   "metadata": {},
   "source": [
    "Si por error haces doble clic sobre un bloque de texto (como el que estás leyendo ahora mismo), puedes arreglarlo usando también `Shift` + `Enter`."
   ]
  },
  {
   "cell_type": "markdown",
   "id": "1a11fbe2-168c-4adc-a75d-80d60a24241c",
   "metadata": {},
   "source": [
    "***"
   ]
  },
  {
   "cell_type": "markdown",
   "id": "699ecf3c-8f2b-4206-a3cb-691267c1447b",
   "metadata": {},
   "source": [
    "<a id=\"parte-1\"></a>"
   ]
  },
  {
   "cell_type": "markdown",
   "id": "63d741d7-1806-496d-a4e9-6a2fbdfe5c5f",
   "metadata": {
    "tags": []
   },
   "source": [
    "### <span style=\"color:lightgreen\">**¿Qué es Leafmap?**</span>\n",
    "***\n",
    "\n",
    "<span style=\"color:gold\">Leafmap</span> es una librería que proporciona herramientas y funciones para el análisis y visualización de datos geoespaciales en entornos de Jupyter.\n",
    "\n",
    "<span style=\"color:#43c6ac\">Fue desarrollada con el objetivo de facilitar la visualización y análisis de datos de teledetección y geoespaciales utilizando una interfaz sencilla y accesible.</span>\n",
    "\n",
    "Leafmap se basa en varias librerías populares de Python, como <span style=\"color:gold\">ipyleaflet</span>, <span style=\"color:gold\">folium</span>, <span style=\"color:gold\">geemap</span> y <span style=\"color:gold\">rasterio</span>, y proporciona una capa de abstracción sobre estas librerías para simplificar su uso y brindar una experiencia más coherente al trabajar con datos geoespaciales en notebooks de Jupyter.\n",
    "\n",
    "Algunas características importantes de Leafmap son:\n",
    "- Posee una <span style=\"color:gold\">interfaz interactiva y fácil de usar</span> que permite a los usuarios explorar y visualizar datos geoespaciales de manera interactiva en Jupyter.\n",
    "- Proporciona herramientas para <span style=\"color:gold\">crear y visualizar mapas interactivos</span> utilizando widgets de mapa basados en ipyleaflet y folium.\\\n",
    "Se pueden agregar capas de datos geoespaciales, realizar visualizaciones personalizadas y agregar elementos interactivos a los mapas.\n",
    "- Incluye funcionalidades para realizar <span style=\"color:gold\">análisis y manipulación de datos geoespaciales</span>.\\\n",
    "Se pueden realizar operaciones como la lectura y escritura de archivos raster y vectoriales, la extracción de información de píxeles, la clasificación de imágenes, la generación de perfiles, la superposición de capas y mucho más.\n",
    "- Permite acceder a <span style=\"color:gold\">servicios de mapas web</span> populares, como <span style=\"color:gold\">Google Earth Engine</span>, para acceder a conjuntos de datos de teledetección y realizar análisis en la nube.\n",
    "- Se pueden usar widgets interactivos de Jupyter para crear interfaces de usuario interactivas que permiten a los usuarios interactuar con los datos geoespaciales y personalizar su experiencia de análisis y visualización.\n",
    "***"
   ]
  },
  {
   "cell_type": "markdown",
   "id": "13c2157d-4f7e-4130-ae12-9d5a21b6dbc5",
   "metadata": {},
   "source": [
    "<a id=\"parte-2\"></a>"
   ]
  },
  {
   "cell_type": "markdown",
   "id": "efc1ac49-d110-49b3-914b-0e980f19c51a",
   "metadata": {
    "tags": []
   },
   "source": [
    "### <span style=\"color:lightgreen\">**Visualizando un raster en Leafmap**</span>\n",
    "***\n",
    "\n",
    "Empezaremos importando la librería `leafmap`:"
   ]
  },
  {
   "cell_type": "code",
   "execution_count": 1,
   "id": "3870958f-eeb2-4835-8aa9-94f6b3200e7a",
   "metadata": {
    "tags": []
   },
   "outputs": [],
   "source": [
    "import leafmap"
   ]
  },
  {
   "cell_type": "markdown",
   "id": "70a32d71-f3a6-4c70-8a3a-7b94718a1f66",
   "metadata": {},
   "source": [
    "La función `Map` genera una interfaz para visualización geoespacial de datos, usando un mapa base como por ejemplo el de Google Earth.\n",
    "\n",
    "Si usamos el parámetro `center`, podemos indicarle en que zona ubicarse del mapa, también podemos indicar el nivel de `zoom`, el ancho y el alto del mapa usando `width` y `height`, y el tipo de mapa usando `google_map`:"
   ]
  },
  {
   "cell_type": "code",
   "execution_count": null,
   "id": "f683ab34-311d-4a7b-941d-bcba5c023db9",
   "metadata": {
    "tags": []
   },
   "outputs": [],
   "source": [
    "m = leafmap.Map(center=(-9, -75), zoom=5, width=950, height=500, google_map=\"TERRAIN\")\n",
    "m"
   ]
  },
  {
   "cell_type": "markdown",
   "id": "11e6b2b2-5f07-47ba-86f0-557c5d81e69c",
   "metadata": {},
   "source": [
    "Si queremos visualizar un raster, usaremos el método `add_raster`:\n",
    "> Visualizaremos el modelo de elevación digital `peru_60.tiff` ubicado en la carpeta `files`.\\\n",
    "> Es posible agregar varias capas de rasters en la visualización de Leafmap."
   ]
  },
  {
   "cell_type": "code",
   "execution_count": null,
   "id": "0ec46271-144d-4396-b0fb-da88c22a5163",
   "metadata": {
    "tags": []
   },
   "outputs": [],
   "source": [
    "m = leafmap.Map(center=(-9, -75), zoom=5, width=950, height=500, google_map=\"TERRAIN\")\n",
    "m.add_raster(\"files/peru_60.tiff\")\n",
    "m"
   ]
  },
  {
   "cell_type": "markdown",
   "id": "57f57f32-5575-47e8-9e61-0eb22cdeda14",
   "metadata": {},
   "source": [
    "***"
   ]
  },
  {
   "cell_type": "markdown",
   "id": "a73b8f6a-a604-41ed-bd85-2bbe8532980c",
   "metadata": {},
   "source": [
    "<a id=\"parte-3\"></a>"
   ]
  },
  {
   "cell_type": "markdown",
   "id": "04a910f8-2e30-4028-b0f4-ee394ddbe838",
   "metadata": {},
   "source": [
    "### <span style=\"color:lightgreen\">**Visualizando un shapefile en Leafmap**</span>\n",
    "***\n",
    "\n",
    "Cargaremos un shapefile llamado `countries`, ubicado en la carpeta `files`:"
   ]
  },
  {
   "cell_type": "code",
   "execution_count": 4,
   "id": "cdd47cd6-bcbf-4081-b55f-87a0e17630aa",
   "metadata": {
    "tags": []
   },
   "outputs": [],
   "source": [
    "import geopandas as gpd"
   ]
  },
  {
   "cell_type": "code",
   "execution_count": 5,
   "id": "1a37d11d-a332-4438-92b3-c913055dce3b",
   "metadata": {
    "tags": []
   },
   "outputs": [
    {
     "data": {
      "text/html": [
       "<div>\n",
       "<style scoped>\n",
       "    .dataframe tbody tr th:only-of-type {\n",
       "        vertical-align: middle;\n",
       "    }\n",
       "\n",
       "    .dataframe tbody tr th {\n",
       "        vertical-align: top;\n",
       "    }\n",
       "\n",
       "    .dataframe thead th {\n",
       "        text-align: right;\n",
       "    }\n",
       "</style>\n",
       "<table border=\"1\" class=\"dataframe\">\n",
       "  <thead>\n",
       "    <tr style=\"text-align: right;\">\n",
       "      <th></th>\n",
       "      <th>pop_est</th>\n",
       "      <th>continent</th>\n",
       "      <th>name</th>\n",
       "      <th>iso_a3</th>\n",
       "      <th>gdp_md_est</th>\n",
       "      <th>geometry</th>\n",
       "    </tr>\n",
       "  </thead>\n",
       "  <tbody>\n",
       "    <tr>\n",
       "      <th>0</th>\n",
       "      <td>920938</td>\n",
       "      <td>Oceania</td>\n",
       "      <td>Fiji</td>\n",
       "      <td>FJI</td>\n",
       "      <td>8374.0</td>\n",
       "      <td>MULTIPOLYGON (((180.00000 -16.06713, 180.00000...</td>\n",
       "    </tr>\n",
       "    <tr>\n",
       "      <th>1</th>\n",
       "      <td>53950935</td>\n",
       "      <td>Africa</td>\n",
       "      <td>Tanzania</td>\n",
       "      <td>TZA</td>\n",
       "      <td>150600.0</td>\n",
       "      <td>POLYGON ((33.90371 -0.95000, 34.07262 -1.05982...</td>\n",
       "    </tr>\n",
       "    <tr>\n",
       "      <th>2</th>\n",
       "      <td>603253</td>\n",
       "      <td>Africa</td>\n",
       "      <td>W. Sahara</td>\n",
       "      <td>ESH</td>\n",
       "      <td>906.5</td>\n",
       "      <td>POLYGON ((-8.66559 27.65643, -8.66512 27.58948...</td>\n",
       "    </tr>\n",
       "    <tr>\n",
       "      <th>3</th>\n",
       "      <td>35623680</td>\n",
       "      <td>North America</td>\n",
       "      <td>Canada</td>\n",
       "      <td>CAN</td>\n",
       "      <td>1674000.0</td>\n",
       "      <td>MULTIPOLYGON (((-122.84000 49.00000, -122.9742...</td>\n",
       "    </tr>\n",
       "    <tr>\n",
       "      <th>4</th>\n",
       "      <td>326625791</td>\n",
       "      <td>North America</td>\n",
       "      <td>United States of America</td>\n",
       "      <td>USA</td>\n",
       "      <td>18560000.0</td>\n",
       "      <td>MULTIPOLYGON (((-122.84000 49.00000, -120.0000...</td>\n",
       "    </tr>\n",
       "  </tbody>\n",
       "</table>\n",
       "</div>"
      ],
      "text/plain": [
       "     pop_est      continent                      name iso_a3  gdp_md_est  \\\n",
       "0     920938        Oceania                      Fiji    FJI      8374.0   \n",
       "1   53950935         Africa                  Tanzania    TZA    150600.0   \n",
       "2     603253         Africa                 W. Sahara    ESH       906.5   \n",
       "3   35623680  North America                    Canada    CAN   1674000.0   \n",
       "4  326625791  North America  United States of America    USA  18560000.0   \n",
       "\n",
       "                                            geometry  \n",
       "0  MULTIPOLYGON (((180.00000 -16.06713, 180.00000...  \n",
       "1  POLYGON ((33.90371 -0.95000, 34.07262 -1.05982...  \n",
       "2  POLYGON ((-8.66559 27.65643, -8.66512 27.58948...  \n",
       "3  MULTIPOLYGON (((-122.84000 49.00000, -122.9742...  \n",
       "4  MULTIPOLYGON (((-122.84000 49.00000, -120.0000...  "
      ]
     },
     "execution_count": 5,
     "metadata": {},
     "output_type": "execute_result"
    }
   ],
   "source": [
    "gdf = gpd.read_file(\"files/countries\", crs=\"EPSG:4326\")\n",
    "gdf.head()"
   ]
  },
  {
   "cell_type": "markdown",
   "id": "02e4c167-6269-4029-80d3-4b0204d36c6b",
   "metadata": {},
   "source": [
    "Ahora, visualizaremos este shapefile usando la función `add_gdf` de Leafmap:"
   ]
  },
  {
   "cell_type": "code",
   "execution_count": null,
   "id": "2cdb80c5-549e-4d7b-8b93-0a1eaa09444d",
   "metadata": {
    "tags": []
   },
   "outputs": [],
   "source": [
    "m = leafmap.Map(width=900, height=500)\n",
    "m.add_gdf(gdf)\n",
    "m"
   ]
  },
  {
   "cell_type": "markdown",
   "id": "18372e9d-40ed-472e-b800-45dfa2518447",
   "metadata": {},
   "source": [
    "***"
   ]
  },
  {
   "cell_type": "markdown",
   "id": "c1cc7e86-623e-4f11-91b0-eddd75e605ef",
   "metadata": {},
   "source": [
    "<a id=\"parte-4\"></a>"
   ]
  },
  {
   "cell_type": "markdown",
   "id": "726c8b19-fe0a-44d5-b1e2-78d68a2d2682",
   "metadata": {},
   "source": [
    "### <span style=\"color:lightgreen\">**En conclusión...**</span>\n",
    "***\n",
    "\n",
    "En este notebook solo se mostraron algunas de las funcionalidades más básicas de Leafmap, como lo fue en este caso la visualización de información geoespacial (rasters y shapefiles).\n",
    "\n",
    "Se pueden agregar diferentes capas de rasters y shapefiles dentro de la interfaz de Leafmap, facilitando la visualización geoespacial de datos.\n",
    "\n",
    "Funcionalidades más avanzadas incluyen el uso de widgets adicionales (botones, deslizadores, etc.) que aceleran el análisis de datos geoespaciales a través de la automatización.\n",
    "\n",
    "Leafmap también puede ser usado en la creación de dashboards geoespaciales interactivos, facilitando la visualización y desarrollo de aplicaciones geoespaciales en Geociencias.\n",
    "\n",
    "***"
   ]
  }
 ],
 "metadata": {
  "kernelspec": {
   "display_name": "Python 3 (ipykernel)",
   "language": "python",
   "name": "python3"
  },
  "language_info": {
   "codemirror_mode": {
    "name": "ipython",
    "version": 3
   },
   "file_extension": ".py",
   "mimetype": "text/x-python",
   "name": "python",
   "nbconvert_exporter": "python",
   "pygments_lexer": "ipython3",
   "version": "3.11.5"
  }
 },
 "nbformat": 4,
 "nbformat_minor": 5
}
