{
 "cells": [
  {
   "cell_type": "markdown",
   "id": "fca4654a-45c3-4860-bd91-2b3c56de5f43",
   "metadata": {
    "tags": []
   },
   "source": [
    "<span style=\"color:lightgreen; font-size:30px\">**PG103 - Visualización de datos en Geología**</span>\n",
    "***\n",
    "<span style=\"color:gold; font-size:30px\">**Visualización de un modelo de bloques en 3D**</span>\n",
    "***\n",
    "\n",
    "<span style=\"font-size:20px\"> **Autor: Kevin Alexander Gómez** </span>\n",
    "\n",
    "<span style=\"font-size:16px\"> **Contacto: kevinalexandr19@gmail.com | [Linkedin](https://www.linkedin.com/in/kevin-alexander-g%C3%B3mez-2b0263111/) | [Github](https://github.com/kevinalexandr19)** </span>\n",
    "***"
   ]
  },
  {
   "cell_type": "markdown",
   "id": "bbad25f3-9c64-4c1b-9f9b-58b62c1049c7",
   "metadata": {
    "tags": []
   },
   "source": [
    "Bienvenido al curso PG103 - Visualización de datos en Geología!!!\n",
    "\n",
    "Vamos a revisar ejemplos de <span style=\"color:gold\">visualización de datos</span> en Geología usando código en Python.\\\n",
    "Es necesario que tengas un conocimiento previo en programación con Python, estadística y geología general.\n",
    "\n",
    "<span style=\"color:lightgreen\"> Este notebook es parte del proyecto [**Python para Geólogos**](https://github.com/kevinalexandr19/manual-python-geologia), y ha sido creado con la finalidad de facilitar el aprendizaje en Python para estudiantes y profesionales en el campo de la Geología. </span>\n",
    "***"
   ]
  },
  {
   "cell_type": "markdown",
   "id": "84aa23ac-b9e6-462b-b81d-f9e80fd138e2",
   "metadata": {},
   "source": [
    "Antes de empezar tu camino en programación geológica...\\\n",
    "Recuerda que puedes ejecutar un bloque de código usando `Shift` + `Enter`:"
   ]
  },
  {
   "cell_type": "code",
   "execution_count": null,
   "id": "da475a9f-db32-4036-b40b-ffd9fdac9812",
   "metadata": {},
   "outputs": [],
   "source": [
    "2 + 2"
   ]
  },
  {
   "cell_type": "markdown",
   "id": "4712119f-8366-4e4c-9358-1be87fdcbc18",
   "metadata": {},
   "source": [
    "Si por error haces doble clic sobre un bloque de texto (como el que estás leyendo ahora mismo), puedes arreglarlo usando también `Shift` + `Enter`.\n",
    "***"
   ]
  },
  {
   "cell_type": "markdown",
   "id": "da43adac-3fa9-4d48-bcaf-8b624031f1eb",
   "metadata": {},
   "source": [
    "<a id=\"parte-1\"></a>"
   ]
  },
  {
   "cell_type": "markdown",
   "id": "35bdf17d-9f8c-4948-bff4-6da0a3e3e208",
   "metadata": {},
   "source": [
    "### <span style=\"color:lightgreen\">**Modelo de bloques en 3D**</span>\n",
    "***\n",
    "En geología, un <span style=\"color:gold\">modelo de bloques</span> es una representación tridimensional de un yacimiento mineral en la que se divide el área en bloques cúbicos o rectangulares.\n",
    "\n",
    "Cada bloque representa un volumen homogéneo dentro del yacimiento y tiene asignado un valor o conjunto de valores que indican la presencia y cantidad de minerales en ese bloque.\n",
    "\n",
    "Los modelos de bloques se utilizan en la industria minera para estimar las reservas minerales y planificar la extracción del mineral.\\\n",
    "El proceso de creación de un modelo de bloques comienza con la recopilación de datos geológicos y de exploración del yacimiento, como datos de perforación, análisis geoquímicos y muestreo de superficie.\n",
    "\n",
    "A partir de estos datos, se utiliza un software especializado para crear un modelo tridimensional del yacimiento dividido en bloques.\\\n",
    "A cada bloque se asigna un valor o conjunto de valores que indican las diferentes variables de interés (ley, porosidad, densidad, etc.).\\\n",
    "Estos valores se pueden determinar a través de diferentes métodos, como la estimación por kriging, la simulación estocástica, entre otros.\n",
    "\n",
    "Una vez que se ha creado el modelo de bloques, se realizar la estimación de reservas minerales y se planifica la extracción del mineral.\n",
    "\n",
    "<span style=\"color:#43c6ac\">La precisión y confiabilidad del modelo de bloques depende en gran medida de la calidad de los datos geológicos y de exploración utilizados en su creación, así como de los métodos y supuestos utilizados para asignar valores a los bloques.</span>\n",
    "***"
   ]
  },
  {
   "cell_type": "markdown",
   "id": "9acb21e0-ef21-42c2-a984-44db46df0041",
   "metadata": {},
   "source": [
    "Empezaremos importando `pandas` para cargar el archivo `blocks.csv` ubicado en la carpeta `files`:\n",
    "> Nota: debido al límite de tamaño de archivos en GitHub, el archivo `blocks.csv` solo contiene los bloques superficiales del modelo."
   ]
  },
  {
   "cell_type": "code",
   "execution_count": null,
   "id": "6074a542-396e-4397-b7f4-f7be790084ab",
   "metadata": {},
   "outputs": [],
   "source": [
    "import pandas as pd\n",
    "\n",
    "modelo = pd.read_csv(\"files/blocks.csv\")"
   ]
  },
  {
   "cell_type": "markdown",
   "id": "b68356f4-3a77-4161-be6c-19cecdb5225b",
   "metadata": {},
   "source": [
    "Observamos la información contenida en el modelo de bloques:"
   ]
  },
  {
   "cell_type": "code",
   "execution_count": null,
   "id": "8be1231c-c598-4eb8-b9eb-1785e1b158a7",
   "metadata": {},
   "outputs": [],
   "source": [
    "modelo"
   ]
  },
  {
   "cell_type": "markdown",
   "id": "1e22b706-cfab-4b46-ae01-cd0bacabdba3",
   "metadata": {},
   "source": [
    "El modelo contiene 142,960 bloques con las siguientes columnas:\n",
    "- `X`, `Y`, `Z`: las coordenadas del centroide de cada bloque.\n",
    "- `LITO`: la litología asociada a cada bloque.\n",
    "- `Color_LITO`: el color asociado a cada litología.\n",
    "\n",
    "Usaremos el método `unique` para observar las diferentes litologías presentes en el modelo:"
   ]
  },
  {
   "cell_type": "code",
   "execution_count": null,
   "id": "cf4b873f-cc3c-484d-880c-8489191ef682",
   "metadata": {},
   "outputs": [],
   "source": [
    "print(modelo[\"LITO\"].unique())"
   ]
  },
  {
   "cell_type": "markdown",
   "id": "9d5364a6-e8af-46f4-9448-723ac227dc91",
   "metadata": {},
   "source": [
    "Y los colores asociados a cada litología:"
   ]
  },
  {
   "cell_type": "code",
   "execution_count": null,
   "id": "4ccb0f9c-a229-4ee9-803c-58dc642249b6",
   "metadata": {},
   "outputs": [],
   "source": [
    "print(modelo.groupby(\"LITO\")[\"Color_LITO\"].unique())"
   ]
  },
  {
   "cell_type": "markdown",
   "id": "56308d55-4912-49cf-87e8-9c03fe6ee954",
   "metadata": {},
   "source": [
    "En `vpthon`, los colores deben estar representados en RGB normalizado antes de ser visualizados:\n",
    "> RGB normalizado se representa por una tupla de 3 valores numéricos (red, green blue), cuya suma es igual a 1.\n",
    "\n",
    "Para esto, utilizaremos la función `to_rgb` del módulo `colors` de `matplotlib` para transformar una categoría de color en RGB:"
   ]
  },
  {
   "cell_type": "code",
   "execution_count": null,
   "id": "bdfb35bc-d61d-4d07-9fe2-085e6b1cc526",
   "metadata": {},
   "outputs": [],
   "source": [
    "from matplotlib import colors\n",
    "\n",
    "modelo[\"RGB_LITO\"] = modelo[\"Color_LITO\"].apply(colors.to_rgb)"
   ]
  },
  {
   "cell_type": "markdown",
   "id": "fb9aaaf0-034c-420c-8217-04cdab3b93c7",
   "metadata": {},
   "source": [
    "Observamos el modelo:"
   ]
  },
  {
   "cell_type": "code",
   "execution_count": null,
   "id": "c67a62f2-6ef1-4c1f-baac-42475df5edca",
   "metadata": {},
   "outputs": [],
   "source": [
    "modelo.head()"
   ]
  },
  {
   "cell_type": "markdown",
   "id": "ae87ba7f-fc46-4b1e-8e2a-4b98e4b626cf",
   "metadata": {},
   "source": [
    "Y ahora, usaremos esta información para visualizar el modelo de bloques en 3D:\n",
    "> Click derecho para girar la vista en 3D.\\\n",
    "> Shift + click izquierdo para mover la ubicación de la vista en 3D."
   ]
  },
  {
   "cell_type": "code",
   "execution_count": null,
   "id": "de3c4f00-1e9e-42cd-a4ff-afdc3a55e35c",
   "metadata": {},
   "outputs": [],
   "source": [
    "# Importamos vpython\n",
    "from vpython import *\n",
    "\n",
    "# El origen de la escena se ubicará en el centro del modelo\n",
    "scene = canvas(center=vector(max(modelo[\"X\"])/2,\n",
    "                             max(modelo[\"Z\"])/2,\n",
    "                             max(modelo[\"Y\"])/2))\n",
    "\n",
    "# Seleccionamos las columnas de input y convertimos en un arreglo de Numpy\n",
    "blocks = modelo[[\"X\", \"Z\", \"Y\", \"RGB_LITO\"]].to_numpy()\n",
    "\n",
    "# Usaremos un bucle para graficar cada bloque del modelo\n",
    "boxes = []\n",
    "for block in blocks:\n",
    "    b = box(color=vector(*block[3]),\n",
    "            pos=vector(*block[:3]),\n",
    "            size=vector(10, 10, 10))\n",
    "    boxes.append(b)\n",
    "\n",
    "volume = compound(boxes)\n",
    "\n",
    "# Iluminación de la escena\n",
    "distant_light(direction=vector(1, 1, 1), color=vector(0.5, 0.5, 0.5))\n",
    "distant_light(direction=vector(1, 1, -1), color=vector(0.5, 0.5, 0.5))"
   ]
  },
  {
   "cell_type": "markdown",
   "id": "27b5bcd6-9779-4631-a8af-23be6b08ec84",
   "metadata": {},
   "source": [
    "***"
   ]
  }
 ],
 "metadata": {
  "kernelspec": {
   "display_name": "Python 3 (ipykernel)",
   "language": "python",
   "name": "python3"
  },
  "language_info": {
   "codemirror_mode": {
    "name": "ipython",
    "version": 3
   },
   "file_extension": ".py",
   "mimetype": "text/x-python",
   "name": "python",
   "nbconvert_exporter": "python",
   "pygments_lexer": "ipython3",
   "version": "3.11.5"
  }
 },
 "nbformat": 4,
 "nbformat_minor": 5
}
