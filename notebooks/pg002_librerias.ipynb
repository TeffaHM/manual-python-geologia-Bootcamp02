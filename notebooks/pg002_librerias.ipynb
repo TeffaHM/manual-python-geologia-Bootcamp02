{
 "cells": [
  {
   "cell_type": "markdown",
   "id": "2e7e2547-9f91-4864-b240-0eb99516488a",
   "metadata": {
    "jp-MarkdownHeadingCollapsed": true,
    "tags": []
   },
   "source": [
    "<span style=\"color:gold; font-size:30px\">**PG002 - Librerías fundamentales de Python**</span>\n",
    "***\n",
    "\n",
    "<span style=\"font-size:20px\"> **Autor: Kevin Alexander Gómez** </span>\n",
    "\n",
    "<span style=\"font-size:16px\"> **Contacto: kevinalexandr19@gmail.com | [Linkedin](https://www.linkedin.com/in/kevin-alexander-g%C3%B3mez-2b0263111/) | [Github](https://github.com/kevinalexandr19)** </span>\n",
    "***"
   ]
  },
  {
   "cell_type": "markdown",
   "id": "749c691b-c72e-4396-9284-7946cfe6f4fd",
   "metadata": {
    "tags": []
   },
   "source": [
    "Bienvenido al curso PG002 - Librerías fundamentales de Python!!!\n",
    "\n",
    "Vamos a revisar las librerías fundamentales usadas en el lenguaje Python a través de <span style=\"color:gold\">ejemplos en Geología</span>.\\\n",
    "Es necesario que tengas un conocimiento previo en la sintáxis de Python, geología general, matemática y estadística.\n",
    "\n",
    "<span style=\"color:lightgreen\"> Este notebook es parte del proyecto [**Python para Geólogos**](https://github.com/kevinalexandr19/manual-python-geologia), y ha sido creado con la finalidad de facilitar el aprendizaje en Python para estudiantes y profesionales en el campo de la Geología. </span>\n",
    "\n",
    "En la siguiente lista verás todos los notebooks que necesitarás completar para este curso:"
   ]
  },
  {
   "cell_type": "markdown",
   "id": "042a0b1e-24b3-477b-bdb8-fc1c97ee28d4",
   "metadata": {
    "tags": []
   },
   "source": [
    "## **Índice**\n",
    "***\n",
    "1. [¿Qué son las librerías de Python?](#parte-1)\n",
    "2. [Numpy](pg002a_numpy.ipynb)\n",
    "3. [Pandas](pg002b_pandas.ipynb)\n",
    "4. [Matplotlib](pg002c_matplotlib.ipynb)\n",
    "5. [SQLite - Bases de datos](pg002d_sqlite.ipynb)\n",
    "6. [Interactividad en Python](pg002e_interactividad.ipynb)\n",
    "7. [Midiendo el tiempo con Python](pg002f_tiempo.ipynb)\n",
    "\n",
    "***"
   ]
  },
  {
   "cell_type": "markdown",
   "id": "5ac2b822-63ad-4200-9775-6f2b04ae9dbd",
   "metadata": {},
   "source": [
    "<a id=\"parte1\"></a>"
   ]
  },
  {
   "cell_type": "markdown",
   "id": "30ff2af4-78cc-444e-85e2-2d201399494f",
   "metadata": {},
   "source": [
    "Antes de empezar tu camino en programación geológica...\\\n",
    "Recuerda que puedes ejecutar un bloque de código usando `Shift` + `Enter`:"
   ]
  },
  {
   "cell_type": "code",
   "execution_count": null,
   "id": "e8b8ac29-9998-43f2-9855-6e10b6d4f628",
   "metadata": {},
   "outputs": [],
   "source": [
    "2 + 2"
   ]
  },
  {
   "cell_type": "markdown",
   "id": "d134d1d5-2c8e-451d-bbcc-3135a42a1b09",
   "metadata": {},
   "source": [
    "Si por error haces doble clic sobre un bloque de texto (como el que estás leyendo ahora mismo), puedes arreglarlo usando también `Shift` + `Enter`."
   ]
  },
  {
   "cell_type": "markdown",
   "id": "7529fc89-18e2-43d1-b812-6521bc43cdb2",
   "metadata": {},
   "source": [
    "***\n",
    "**Pregunta: ¿Puedo escribir comentarios dentro de un bloque de código?**\n",
    "\n",
    "Respuesta: Sí, para escribir un comentario y anotar algún detalle que busquemos documentar acerca del código, debemos colocar un hash `#` seguido del comentario que queremos hacer."
   ]
  },
  {
   "cell_type": "code",
   "execution_count": null,
   "id": "9015b7eb-6c42-4d4e-b86d-7f45657a86ff",
   "metadata": {},
   "outputs": [],
   "source": [
    "# Esto es una anotación"
   ]
  },
  {
   "cell_type": "code",
   "execution_count": null,
   "id": "e14ee79f-51ad-4fe6-83d1-93d7a4d648eb",
   "metadata": {},
   "outputs": [],
   "source": [
    "# Esto es una anotación\n",
    "2 + 2"
   ]
  },
  {
   "cell_type": "code",
   "execution_count": null,
   "id": "a6a4ad71-ddb6-472e-a84b-d5f66f9df52b",
   "metadata": {},
   "outputs": [],
   "source": [
    "2 + 2 # Esto es una anotación"
   ]
  },
  {
   "cell_type": "code",
   "execution_count": null,
   "id": "75723d26-c459-4c09-ab26-a6b1e6de97de",
   "metadata": {},
   "outputs": [],
   "source": [
    "# Esto es una anotación\n",
    "# Esto es otra anotación\n",
    "2 + 2"
   ]
  },
  {
   "cell_type": "markdown",
   "id": "0a43d9f5-299c-4b5e-a740-bb88af47efcc",
   "metadata": {},
   "source": [
    "***"
   ]
  },
  {
   "cell_type": "markdown",
   "id": "0281e91c-5c8e-42b5-8bea-4f2aca6da101",
   "metadata": {},
   "source": [
    "<a id=\"parte-1\"></a>"
   ]
  },
  {
   "cell_type": "markdown",
   "id": "bfa02358-3dff-41c3-a8ee-cd51cbdea6c2",
   "metadata": {
    "tags": []
   },
   "source": [
    "### <span style=\"color:lightgreen\">**¿Qué son las librerías de Python?**</span>\n",
    "***\n",
    "\n",
    "Las <span style=\"color:gold\">librerías</span> o <span style=\"color:gold\">bibliotecas</span> de Python son colecciones de módulos y funciones predefinidas que permiten a los usuarios ahorrar tiempo y esfuerzo al utilizar código ya creado y probado para realizar tareas específicas.\n",
    "\n",
    "<span style=\"color:#43c6ac\">Al utilizar librerías, los programadores pueden centrarse en la lógica específica del proyecto en lugar de tener que crear todo desde cero.</span>\n",
    "\n",
    "La sintáxis básica para importar una librería es la siguiente:\n",
    "\n",
    "```python\n",
    "# La variable en Python que referencia una libreria se puede abreviar\n",
    "# Ejemplo: Numpy se abrevia como np (por convención)\n",
    "import numpy as np\n",
    "\n",
    "# Si queremos importar una funcionalidad específica podemos usar from\n",
    "from pandas import DataFrame\n",
    "\n",
    "# Y también podemos importar módulos específicos de una librería\n",
    "import matplotlib.pyplot as plt\n",
    "\n",
    "\n",
    "```\n"
   ]
  },
  {
   "cell_type": "markdown",
   "id": "f5bac7b8-4f7a-401f-8692-8bee8e4645f0",
   "metadata": {},
   "source": [
    "En Geología, las librerías de Python son especialmente importantes debido a la gran cantidad de datos y la complejidad de los modelos geológicos.\n",
    "\n",
    "Existen librerías fundamentales, como Numpy, Pandas y Matplotlib, que permiten a los geólogos trabajar con datos de manera más eficiente y visualizar datos complejos en gráficos claros y detallados.\n",
    "\n",
    "Además, librerías como Scipy y Scikit-learn brindan herramientas para modelar y simular fenómenos geológicos complejos, realizar análisis estadístico y aprendizaje automático."
   ]
  },
  {
   "cell_type": "markdown",
   "id": "0d2c4503-6bd4-44c1-ad15-2e4203680737",
   "metadata": {},
   "source": [
    "Las principales ventajas de usar librerías son:\n",
    "\n",
    "- **Eficiencia:** \\\n",
    "Librerías como Numpy y Pandas, proporcionan herramientas para la manipulación y análisis de grandes conjuntos de datos de manera eficiente.\\\n",
    "Esto permite a los geólogos trabajar con grandes cantidades de datos en un tiempo razonable.\n",
    "\n",
    "- **Visualización de datos:** \\\n",
    "Librerías como Matplotlib permiten a los geólogos crear gráficos y visualizaciones personalizadas de los datos geológicos.\\\n",
    "Esto puede ayudar a los geólogos a comprender mejor los patrones y las relaciones entre diferentes variables.\n",
    "\n",
    "- **Simulación y modelado:** \\\n",
    "Librerías como SciPy, proporcionan herramientas para el modelado y la simulación numérica de fenómenos geológicos complejos.\\\n",
    "Esto puede ayudar a los geólogos a realizar análisis predictivos y explorar diferentes escenarios de manera más efectiva.\n",
    "\n",
    "- **Estándares y compatibilidad:** \\\n",
    "Python es un lenguaje de programación popular y bien establecido, y muchas de sus librerías se han convertido en estándares de facto en la industria geológica.\\\n",
    "Esto significa que hay una gran cantidad de recursos, tutoriales y ejemplos disponibles para aprender y aplicar estas bibliotecas.\n",
    "\n",
    "- **Personalización:** \\\n",
    "Las librerías son altamente personalizables y permiten a los geólogos ajustar y modificar las funciones y herramientas para satisfacer sus necesidades específicas."
   ]
  },
  {
   "cell_type": "markdown",
   "id": "2a77093f-d5a7-49f5-a9bc-2432ae0f2991",
   "metadata": {},
   "source": [
    "<span style=\"color:#43c6ac\">*En conclusión, las librerías de Python proporcionan una gran cantidad de herramientas especializadas que permiten a los geólogos trabajar de manera más eficiente, flexible y reproducible.*</span>"
   ]
  },
  {
   "cell_type": "markdown",
   "id": "47c738bd-a77d-483d-8db5-3a253f9a7bb4",
   "metadata": {},
   "source": [
    "***"
   ]
  }
 ],
 "metadata": {
  "kernelspec": {
   "display_name": "Python 3 (ipykernel)",
   "language": "python",
   "name": "python3"
  },
  "language_info": {
   "codemirror_mode": {
    "name": "ipython",
    "version": 3
   },
   "file_extension": ".py",
   "mimetype": "text/x-python",
   "name": "python",
   "nbconvert_exporter": "python",
   "pygments_lexer": "ipython3",
   "version": "3.11.5"
  }
 },
 "nbformat": 4,
 "nbformat_minor": 5
}
