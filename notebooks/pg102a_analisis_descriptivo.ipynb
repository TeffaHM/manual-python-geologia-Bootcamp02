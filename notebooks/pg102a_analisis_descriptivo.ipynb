{
 "cells": [
  {
   "cell_type": "markdown",
   "id": "1d866abc-dfa5-4856-9397-e4c6eb497f0c",
   "metadata": {
    "tags": []
   },
   "source": [
    "<span style=\"color:lightgreen; font-size:30px\">**PG102 - Análisis de datos en Geología**</span>\n",
    "***\n",
    "<span style=\"color:gold; font-size:30px\">**Análisis descriptivo**</span>\n",
    "***\n",
    "\n",
    "<span style=\"font-size:20px\"> **Autor: Kevin Alexander Gómez** </span>\n",
    "\n",
    "<span style=\"font-size:16px\"> **Contacto: kevinalexandr19@gmail.com | [Linkedin](https://www.linkedin.com/in/kevin-alexander-g%C3%B3mez-2b0263111/) | [Github](https://github.com/kevinalexandr19)** </span>\n",
    "***"
   ]
  },
  {
   "cell_type": "markdown",
   "id": "e9862ab3-3f72-4424-89f0-fec777f501fc",
   "metadata": {
    "tags": []
   },
   "source": [
    "Bienvenido al curso PG102 - Análisis de datos en Geología!!!\n",
    "\n",
    "Vamos a revisar ejemplos de <span style=\"color:gold\">análisis de datos</span> en Geología usando código en Python.\\\n",
    "Es necesario que tengas un conocimiento previo en programación con Python, estadística y geología general.\n",
    "\n",
    "<span style=\"color:lightgreen\"> Este notebook es parte del proyecto [**Python para Geólogos**](https://github.com/kevinalexandr19/manual-python-geologia), y ha sido creado con la finalidad de facilitar el aprendizaje en Python para estudiantes y profesionales en el campo de la Geología. </span>\n",
    "\n",
    "En el siguiente índice, encontrarás los temas que componen este notebook:"
   ]
  },
  {
   "cell_type": "markdown",
   "id": "9b8f0d83-ad68-48a2-90ea-f6b90ff8c055",
   "metadata": {
    "tags": []
   },
   "source": [
    "<span style=\"font-size:20px\"> **Índice** </span>\n",
    "***\n",
    "- [¿Qué es el análisis descriptivo?](#parte-1)\n",
    "- [Procesamiento de datos](#parte-2)\n",
    "- [Caso de estudio: ocurrencia de terremotos cercanos a Lima](#parte-3)\n",
    "- [Visualización 3D con Plotly](#parte-4)\n",
    "\n",
    "***"
   ]
  },
  {
   "cell_type": "markdown",
   "id": "1efd4150-dcee-4fe6-a90a-936427c91ca6",
   "metadata": {},
   "source": [
    "Antes de empezar tu camino en programación geológica...\\\n",
    "Recuerda que puedes ejecutar un bloque de código usando `Shift` + `Enter`:"
   ]
  },
  {
   "cell_type": "code",
   "execution_count": null,
   "id": "2b2baa43-5565-4b57-8e2d-9f6308bbd06f",
   "metadata": {},
   "outputs": [],
   "source": [
    "2 + 2"
   ]
  },
  {
   "cell_type": "markdown",
   "id": "b8ae1b74-f54b-43db-b7b4-21ca124b0c9a",
   "metadata": {},
   "source": [
    "Si por error haces doble clic sobre un bloque de texto (como el que estás leyendo ahora mismo), puedes arreglarlo usando también `Shift` + `Enter`.\n",
    "***"
   ]
  },
  {
   "cell_type": "markdown",
   "id": "5ac2b822-63ad-4200-9775-6f2b04ae9dbd",
   "metadata": {},
   "source": [
    "<a id=\"parte-1\"></a>"
   ]
  },
  {
   "cell_type": "markdown",
   "id": "dfbd9f80-2c4c-46d0-93e4-ef367637e3ba",
   "metadata": {},
   "source": [
    "### <span style=\"color:lightgreen\">**¿Qué es el análisis descriptivo?**</span>\n",
    "***\n",
    "\n",
    "De acuerdo con el [Glosario IT de Gartner](https://www.gartner.com/en/information-technology/glossary/descriptive-analytics#:~:text=Descriptive%20Analytics%20is%20the%20examination,%2C%20tables%2C%20or%20generated%20narratives.), el análisis descriptivo es la primera fase del **análisis de datos**.\\\n",
    "Consiste en **examinar** los datos con el fin de responder a la pregunta **¿qué ha sucedido?** o **¿qué está sucediendo?**.\n",
    "\n",
    "En esta fase, los datos generados en tiempo real e históricos se analizan a través de métodos estadísticos simples y técnicas de visualización.\n",
    "\n",
    "<img src=\"resources/analytic_value_escalator.jpg\" alt=\"Las 4 fases en el análisis de datos\" width=\"700\"/>\n",
    "\n",
    "> Es común reportar los resultados de esta fase a través de reportes, resúmenes o dashboards."
   ]
  },
  {
   "cell_type": "markdown",
   "id": "8d852381-771f-4eb7-9a68-965ea0cc1653",
   "metadata": {},
   "source": [
    "Antes de empezar con el código, mencionaremos algunas de las ventajas de usar Python en el análisis de datos:\n",
    "    \n",
    "- Aprender a programar te permite desarrollar tus habilidades analíticas y de resolución de problemas.\n",
    "- Puedes crear e implementar diferentes herramientas de manera independiente y usarlas en cada etapa del análisis de datos.\n",
    "- <span style=\"color:gold\">Python</span> es uno de los lenguajes más usados en <span style=\"color:lightgreen\">Ciencia de Datos</span> debido a su sintáxis sencilla y clara escritura.\n",
    "- Todos los trabajos realizados en <span style=\"color:gold\">Python</span> son flexibles y escalables.\n",
    "***"
   ]
  },
  {
   "cell_type": "markdown",
   "id": "d1fa58b0-cd5f-4560-9608-531b4762185c",
   "metadata": {},
   "source": [
    "<a id=\"parte-2\"></a>"
   ]
  },
  {
   "cell_type": "markdown",
   "id": "21d2a3a2-fd47-44a7-9467-7ecc5135f47c",
   "metadata": {},
   "source": [
    "### <span style=\"color:lightgreen\">**Procesamiento de datos**</span>\n",
    "***\n",
    "\n",
    "Usaremos un archivo Excel perteneciente a la base de datos del **IGP (Instituto Geofísico del Perú)**.\\\n",
    "Específicamente, la información que contiene describe la *ocurrencia de terremotos en Perú desde 1960 hasta 2021*."
   ]
  },
  {
   "cell_type": "code",
   "execution_count": null,
   "id": "c5512885-7078-4f7e-b783-775bb829d07f",
   "metadata": {},
   "outputs": [],
   "source": [
    "import pandas as pd\n",
    "import matplotlib.pyplot as plt\n",
    "import seaborn as sns\n",
    "\n",
    "sns.set(style=\"ticks\", context=\"talk\") # Mejor calidad visual\n",
    "plt.style.use(\"dark_background\") # Gráficos con fondo oscuro"
   ]
  },
  {
   "cell_type": "markdown",
   "id": "5a4c1e14-8612-4725-a820-028111a92854",
   "metadata": {},
   "source": [
    "Empezaremos usando la función `read_excel` para leer el archivo ubicado en la carpeta `files`.\\\n",
    "Asignaremos la información a un DataFrame de nombre `data`."
   ]
  },
  {
   "cell_type": "code",
   "execution_count": null,
   "id": "879c5604-a3a5-4d1f-ae56-b2f7623d3e23",
   "metadata": {},
   "outputs": [],
   "source": [
    "data = pd.read_excel(\"files/sismos.xlsx\")"
   ]
  },
  {
   "cell_type": "markdown",
   "id": "37f803b6-076f-451f-ad24-011ed76b36de",
   "metadata": {},
   "source": [
    "El tamaño de filas y columnas en la tabla se puede observar usando el atributo `shape`:"
   ]
  },
  {
   "cell_type": "code",
   "execution_count": null,
   "id": "f862284f-f8d0-45a9-ac7d-9361d53004e2",
   "metadata": {},
   "outputs": [],
   "source": [
    "data.shape"
   ]
  },
  {
   "cell_type": "markdown",
   "id": "14f1f575-4397-4ea9-b9f9-c9edceb2a7db",
   "metadata": {},
   "source": [
    "La tabla contiene 6 columnas y casi 19,000 filas.\n",
    "\n",
    "Observamos las primeras 5 filas de `data` usando el método `head`:"
   ]
  },
  {
   "cell_type": "code",
   "execution_count": null,
   "id": "11e9b9fd-f503-4590-9842-fc8ea6604715",
   "metadata": {},
   "outputs": [],
   "source": [
    "data.head()"
   ]
  },
  {
   "cell_type": "markdown",
   "id": "8a97649b-5c98-4d6a-99fa-e9e9f981370d",
   "metadata": {},
   "source": [
    "Mostramos el tipo de datos de cada columna usando el atributo `dtypes`:"
   ]
  },
  {
   "cell_type": "code",
   "execution_count": null,
   "id": "3769a507-6da0-4c5a-afb4-93c4c9e9638e",
   "metadata": {},
   "outputs": [],
   "source": [
    "data.dtypes"
   ]
  },
  {
   "cell_type": "markdown",
   "id": "a19bf588-819b-48db-aced-1568daf494e1",
   "metadata": {},
   "source": [
    "Notaremos que la tabla contiene los siguientes datos:\n",
    "\n",
    "- `fecha UTC` : fecha de ocurrencia del terremoto, en **string**.\n",
    "- `hora UTC` : hora de ocurrencia del terremoto, en **string**.\n",
    "- `latitud (º)` : latitud del epicentro, en **float**.\n",
    "- `longitud (º)` : longitud del epicentro, en **float**.\n",
    "- `profundidad (km)` : profundidad del epicentro, en **integer**.\n",
    "- `magnitud (M)` : magnitud del terremoto, en **float**.\n",
    "\n",
    "No usaremos la columna de hora, así que la eliminaremos usando el método `drop`.\\\n",
    "Activaremos el parámetro `inplace=True` para que los cambios se guarden en la tabla."
   ]
  },
  {
   "cell_type": "code",
   "execution_count": null,
   "id": "ef64a89b-13a4-46d2-86eb-79c58c99fd44",
   "metadata": {},
   "outputs": [],
   "source": [
    "data.drop(columns=[\"hora UTC\"], inplace=True)"
   ]
  },
  {
   "cell_type": "code",
   "execution_count": null,
   "id": "d7f15755-07f5-40a6-a8db-46b83d4f4bbb",
   "metadata": {},
   "outputs": [],
   "source": [
    "data.head()"
   ]
  },
  {
   "cell_type": "markdown",
   "id": "991989bb-f941-4b8f-884a-03860ca315c9",
   "metadata": {},
   "source": [
    "Ahora, renombraremos las columnas para facilitar su uso dentro del código.\\\n",
    "Primero, crearemos un diccionario que contenga los nombres de las columnas y los nombres que usaremos para reemplazarlos:"
   ]
  },
  {
   "cell_type": "code",
   "execution_count": null,
   "id": "3ffa4744-a333-4d05-b4e8-28b4229e5f7f",
   "metadata": {},
   "outputs": [],
   "source": [
    "cols = dict(zip(list(data.columns), [\"Fecha\", \"Latitud\", \"Longitud\", \"Profundidad\", \"Magnitud\"]))\n",
    "cols"
   ]
  },
  {
   "cell_type": "markdown",
   "id": "a5f099c0-ac6d-408e-af53-504ceb053eb1",
   "metadata": {},
   "source": [
    "Ahora, usaremos el método `rename`:"
   ]
  },
  {
   "cell_type": "code",
   "execution_count": null,
   "id": "d59b5ce8-7738-45ed-92d2-112892bc3619",
   "metadata": {},
   "outputs": [],
   "source": [
    "data.rename(columns=cols, inplace=True)"
   ]
  },
  {
   "cell_type": "code",
   "execution_count": null,
   "id": "ad2ee34f-fcd9-41ad-9b6d-7d68fb99cbb1",
   "metadata": {},
   "outputs": [],
   "source": [
    "data.head()"
   ]
  },
  {
   "cell_type": "markdown",
   "id": "b74c8017-95b7-4ff5-90ff-522f4f505190",
   "metadata": {},
   "source": [
    "Ahora, transformaremos el dato de las fechas de **string** a **datetime**:\n",
    "> **Nota: datetime** es un objeto en Python que representa una fecha.\n",
    "\n",
    "Seleccionamos la columna con las fechas:"
   ]
  },
  {
   "cell_type": "code",
   "execution_count": null,
   "id": "302c7b5b-c1b5-4ee5-bebf-88fc970fb813",
   "metadata": {},
   "outputs": [],
   "source": [
    "fecha = data[\"Fecha\"]"
   ]
  },
  {
   "cell_type": "code",
   "execution_count": null,
   "id": "91de783b-2cd8-4bea-93ff-d1a6ae4190d2",
   "metadata": {},
   "outputs": [],
   "source": [
    "fecha.head(5)"
   ]
  },
  {
   "cell_type": "markdown",
   "id": "2162db8c-576d-4ed9-975b-4d90bb521c03",
   "metadata": {},
   "source": [
    "Y usaremos la función `to_datetime` para transformarlo en **datetime**:"
   ]
  },
  {
   "cell_type": "code",
   "execution_count": null,
   "id": "092088cc-d70c-4265-a9ce-e23f51faa007",
   "metadata": {},
   "outputs": [],
   "source": [
    "data[\"Fecha\"] = pd.to_datetime(fecha, format=\"%d/%m/%Y\")"
   ]
  },
  {
   "cell_type": "markdown",
   "id": "1cf9305f-41fb-4722-b221-e37a9328f5a0",
   "metadata": {},
   "source": [
    "Verificamos:"
   ]
  },
  {
   "cell_type": "code",
   "execution_count": null,
   "id": "69055f2d-0c2c-4e7c-9aac-3fa7414bde9d",
   "metadata": {},
   "outputs": [],
   "source": [
    "data.head()"
   ]
  },
  {
   "cell_type": "code",
   "execution_count": null,
   "id": "0202980b-e500-432b-84c4-69c628a5eb9a",
   "metadata": {},
   "outputs": [],
   "source": [
    "data.dtypes"
   ]
  },
  {
   "cell_type": "markdown",
   "id": "6c42a9b3-4aa8-43dd-a1c6-ba23971913a9",
   "metadata": {},
   "source": [
    "<a id=\"parte-3\"></a>"
   ]
  },
  {
   "cell_type": "markdown",
   "id": "d40d400f-3b98-4df3-a6e9-2d52b14473e2",
   "metadata": {},
   "source": [
    "### <span style=\"color:lightgreen\">**Caso de estudio: ocurrencia de terremotos cercanos a Lima**</span>\n",
    "\n",
    "Vamos a analizar los terremotos ocurridos cerca a Lima, en un radio de 150 kilómetros.\\\n",
    "Empezaremos usando la librería `geopy` para seleccionar aquellos epicentros que se encuentren dentro del radio mencionado:"
   ]
  },
  {
   "cell_type": "code",
   "execution_count": null,
   "id": "b279be42-2a28-4a87-88c1-10fed9435a64",
   "metadata": {},
   "outputs": [],
   "source": [
    "from geopy.distance import geodesic"
   ]
  },
  {
   "cell_type": "markdown",
   "id": "3263d0dd-77fd-4f01-b2ac-9acd3530fbaa",
   "metadata": {},
   "source": [
    "Empezaremos asignando un punto de referencia para la ciudad de Lima:"
   ]
  },
  {
   "cell_type": "code",
   "execution_count": null,
   "id": "bf202755-5513-462a-be28-b81c612b34a1",
   "metadata": {},
   "outputs": [],
   "source": [
    "punto_lima = [-12.045976, -77.030555]"
   ]
  },
  {
   "cell_type": "markdown",
   "id": "db43bef3-9520-49ef-98b3-06865c72c5a5",
   "metadata": {},
   "source": [
    "Seleccionamos las columnas de latitud y longitud de cada epicentro y calcumos su distancia geodésica (en km) al punto de Lima:"
   ]
  },
  {
   "cell_type": "code",
   "execution_count": null,
   "id": "098f1386-5799-4f4a-b216-d7e6e06bc0ed",
   "metadata": {},
   "outputs": [],
   "source": [
    "# Distancia geodésica de los epicentros a Lima\n",
    "filtro = data[[\"Latitud\", \"Longitud\"]].apply(lambda punto: geodesic(punto_lima, punto).km, axis=1)\n",
    "filtro.head()"
   ]
  },
  {
   "cell_type": "markdown",
   "id": "bfc0b711-04ad-4119-9de8-c66ac5c2e48f",
   "metadata": {},
   "source": [
    "Si establecemos un valor de 150 km como radio, podemos extraer los epicentros que estamos buscando:"
   ]
  },
  {
   "cell_type": "code",
   "execution_count": null,
   "id": "d079c1f3-5269-438b-9c6f-040bdc58e399",
   "metadata": {},
   "outputs": [],
   "source": [
    "filtro <= 150"
   ]
  },
  {
   "cell_type": "markdown",
   "id": "97e6d8b7-7aac-44ce-9a03-182d4f0dc3c0",
   "metadata": {},
   "source": [
    "Vamos a guardar la tabla filtrada en una variable llamada `Lima` y crearemos una copia para no alterar el original:"
   ]
  },
  {
   "cell_type": "code",
   "execution_count": null,
   "id": "78488616-3e96-4c9f-b6d7-d14aa69b4d42",
   "metadata": {},
   "outputs": [],
   "source": [
    "lima = data[filtro <= 150].reset_index(drop=True).copy()"
   ]
  },
  {
   "cell_type": "markdown",
   "id": "f585c1c0-086d-4252-b5db-0d1d9a9c6879",
   "metadata": {},
   "source": [
    "Observamos la nueva tabla:"
   ]
  },
  {
   "cell_type": "code",
   "execution_count": null,
   "id": "91f1da7b-b388-4df6-a46d-3c373e63ce29",
   "metadata": {},
   "outputs": [],
   "source": [
    "lima.head()"
   ]
  },
  {
   "cell_type": "markdown",
   "id": "89ffcc65-050b-4927-a662-b235cc440e11",
   "metadata": {},
   "source": [
    "También podemos ver un resumen estadístico de la tabla usando el método `describe`:"
   ]
  },
  {
   "cell_type": "code",
   "execution_count": null,
   "id": "550f153a-73e2-42eb-ab97-e1a2ea8a1602",
   "metadata": {},
   "outputs": [],
   "source": [
    "lima.describe()"
   ]
  },
  {
   "cell_type": "markdown",
   "id": "1e4411df-575c-4867-999e-02d65c3147b7",
   "metadata": {},
   "source": [
    "Y mostramos el registro de sismos cercanos a Lima:"
   ]
  },
  {
   "cell_type": "code",
   "execution_count": null,
   "id": "d4cc3465-0d51-46e1-97f1-14224d702737",
   "metadata": {},
   "outputs": [],
   "source": [
    "print(f\"Se registraron {len(lima)} sismos en un radio de 150 km en torno a Lima.\")"
   ]
  },
  {
   "cell_type": "markdown",
   "id": "c50a89df-9aa7-4db4-9f15-ea161e9d2c99",
   "metadata": {},
   "source": [
    "Vamos a crear un gráfico que muestre la distribución de los epicentros en torno a la ciudad de Lima.\n",
    "> Colocaremos 3 puntos adicionales en el gráfico: Ancón, Cañete y Huacho.\\\n",
    "> Crearemos un diccionario que contenga el nombre de estas ciudades y sus respectivas coordenadas."
   ]
  },
  {
   "cell_type": "code",
   "execution_count": null,
   "id": "32197777-c955-4972-82b1-b0e3995bf0d4",
   "metadata": {},
   "outputs": [],
   "source": [
    "punto_ancon = [-11.773241, -77.176009]\n",
    "punto_cañete = [-13.077772, -76.387440]\n",
    "punto_huacho = [-11.108526, -77.610365]\n",
    "\n",
    "puntos = [punto_lima, punto_ancon, punto_cañete, punto_huacho]\n",
    "nombres = [\"Lima\", \"Ancón\", \"Cañete\", \"Huacho\"]"
   ]
  },
  {
   "cell_type": "code",
   "execution_count": null,
   "id": "0fe2706a-64a4-410b-ab31-94dff5fceebd",
   "metadata": {},
   "outputs": [],
   "source": [
    "ciudades = dict(zip(nombres, puntos))\n",
    "ciudades"
   ]
  },
  {
   "cell_type": "markdown",
   "id": "5646be4d-a3bd-4e9c-bf8f-2607e6784b89",
   "metadata": {},
   "source": [
    "Verificaremos que los sismos hayan sido seleccionados correctamente (i.e. dentro del radio de 150 km).\\\n",
    "Para esto, crearemos una figura usando la función `scatter`:"
   ]
  },
  {
   "cell_type": "code",
   "execution_count": null,
   "id": "27b1caac-4df2-4578-9700-269674863d2c",
   "metadata": {},
   "outputs": [],
   "source": [
    "fig, ax = plt.subplots(figsize=(7, 7), subplot_kw={\"aspect\": 1})\n",
    "ax.scatter(lima[\"Longitud\"], lima[\"Latitud\"], c=\"white\", s=5)\n",
    "\n",
    "for ciudad, coordenada in ciudades.items():\n",
    "    ax.scatter(coordenada[1], coordenada[0], c=\"r\", s=25)\n",
    "    ax.annotate(ciudad, coordenada[::-1], fontsize=18, c=\"gold\")\n",
    "\n",
    "ax.set_title(\"Epicentros alrededor de Lima\\n (Radio de 150 km)\", fontsize=18)\n",
    "ax.set_xlabel(\"Longitud (°)\", fontsize=15)\n",
    "ax.set_ylabel(\"Latitud (°)\", fontsize=15)\n",
    "ax.grid(linewidth=0.5, alpha=0.5)\n",
    "\n",
    "plt.show()"
   ]
  },
  {
   "cell_type": "markdown",
   "id": "a757681f-cc68-4b49-81c5-6217b0e9bfb9",
   "metadata": {},
   "source": [
    "Con la información presente, trataremos de responder las siguientes preguntas (usando un gráfico en cada pregunta):\n",
    "\n",
    "- ¿Cuántos terremotos ocurrieron por año?\n",
    "\n",
    "- ¿Con qué frecuencia ocurrieron terremotos en cada mes? ¿Qué mes tiene la mayor frecuencia de terremotos?\n",
    "\n",
    "- ¿Cuál es la distribución de profundidad de los sismos sobre el área de Lima?"
   ]
  },
  {
   "cell_type": "markdown",
   "id": "cd2b44e4-b538-4474-a82f-b83f8c2b0a9d",
   "metadata": {},
   "source": [
    "***\n",
    "<span style=\"color:gold\">**¿Cuántos terremotos ocurrieron por año?**</span>\n",
    "\n",
    "Empezaremos revisando los datos generales:"
   ]
  },
  {
   "cell_type": "code",
   "execution_count": null,
   "id": "83202c30-67fc-4dcf-a9b4-e68899ae89bc",
   "metadata": {},
   "outputs": [],
   "source": [
    "lima.head()"
   ]
  },
  {
   "cell_type": "markdown",
   "id": "532f2d75-0def-44e7-aeba-b950fa91bcee",
   "metadata": {},
   "source": [
    "Para observar la frecuencia de terremotos que ocurrieron por año, usaremos un **diagrama de barras**.\\\n",
    "Para determinar la **frecuencia de terremotos por año**, tendremos que agrupar los datos de acuerdo al año en que ocurrieron.\\\n",
    "Empezaremos extrayendo el año de ocurrencia de cada terremoto. Usaremos el atributo `year` de la columna `Fecha`:"
   ]
  },
  {
   "cell_type": "code",
   "execution_count": null,
   "id": "cebd7668-15c6-4ed8-9ca7-fc61bb92fbb0",
   "metadata": {},
   "outputs": [],
   "source": [
    "lima[\"Fecha\"].apply(lambda fecha: fecha.year)"
   ]
  },
  {
   "cell_type": "markdown",
   "id": "b751ae25-4041-4009-91d1-35c56a07a513",
   "metadata": {},
   "source": [
    "Y la asignaremos a una nueva columna llamada `Año`:"
   ]
  },
  {
   "cell_type": "code",
   "execution_count": null,
   "id": "0784e9fd-8233-4d5f-9d8f-061aab5e3257",
   "metadata": {},
   "outputs": [],
   "source": [
    "lima[\"Año\"] = lima[\"Fecha\"].apply(lambda fecha: fecha.year)"
   ]
  },
  {
   "cell_type": "markdown",
   "id": "a2076a4f-cc12-4951-8499-79be945d4ddc",
   "metadata": {},
   "source": [
    "Revisando nuevamente los datos generales:"
   ]
  },
  {
   "cell_type": "code",
   "execution_count": null,
   "id": "627b2ecf-59df-4405-8bcd-0095db67c9e7",
   "metadata": {},
   "outputs": [],
   "source": [
    "lima.head()"
   ]
  },
  {
   "cell_type": "markdown",
   "id": "61c32b08-5f9c-4330-80f3-7089ffdc0b93",
   "metadata": {},
   "source": [
    "Ahora, agruparemos los terremotos de acuerdo al año de ocurrencia.\\\n",
    "Para esto, usaremos el método `groupby` para agrupar los datos y `count` para obtener las frecuencias por año."
   ]
  },
  {
   "cell_type": "code",
   "execution_count": null,
   "id": "45fbbacd-2a0a-48b2-86b0-9ad2de476dec",
   "metadata": {},
   "outputs": [],
   "source": [
    "lima.groupby([\"Año\"])[\"Año\"].count().head(10)"
   ]
  },
  {
   "cell_type": "markdown",
   "id": "e7d8ee12-faca-445e-b21a-f31639a3084c",
   "metadata": {},
   "source": [
    "Asignaremos esta información a una variable llamada `sismos`:"
   ]
  },
  {
   "cell_type": "code",
   "execution_count": null,
   "id": "9a9b350a-6db1-4523-a243-b7973cdaca5a",
   "metadata": {},
   "outputs": [],
   "source": [
    "sismos = lima.groupby([\"Año\"])[\"Año\"].count()"
   ]
  },
  {
   "cell_type": "markdown",
   "id": "1fe46290-eefa-4313-951d-102aef265168",
   "metadata": {},
   "source": [
    "Crearemos una lista con los `años` de ocurrencia, y asignaremos la frecuencia por año en una variable llamada `frecuencia`:"
   ]
  },
  {
   "cell_type": "code",
   "execution_count": null,
   "id": "ab448c8c-7748-4e84-b19e-2cb4f456d101",
   "metadata": {},
   "outputs": [],
   "source": [
    "años = list(sismos.index)\n",
    "frecuencia = list(sismos.values)"
   ]
  },
  {
   "cell_type": "markdown",
   "id": "ef86fe09-12f6-45a2-829e-002de05910b4",
   "metadata": {},
   "source": [
    "Para terminar, usaremos la función `bar` y los datos en `frecuencia` y `años` para crear el diagrama de barras:"
   ]
  },
  {
   "cell_type": "code",
   "execution_count": null,
   "id": "c95979f8-a231-4546-ba41-3178e7e75d7e",
   "metadata": {},
   "outputs": [],
   "source": [
    "# Figura principal\n",
    "fig, ax = plt.subplots(figsize=(12, 5))\n",
    "\n",
    "# Diagrama de barras\n",
    "ax.bar(años, frecuencia, color=\"lightgreen\", alpha=0.75, edgecolor=\"black\")\n",
    "\n",
    "# Agregamos detalles\n",
    "ax.set_title(\"Frecuencia de terremotos por año\\n Fuente: IGP\", fontsize=18)\n",
    "ax.set_xlabel(\"Año\", fontsize=16)\n",
    "ax.set_ylabel(\"Frecuencia\", fontsize=16)\n",
    "\n",
    "# Cambiamos la ubicación de los ticks en el eje X\n",
    "ax.set_xticks([1965, 1975, 1985, 1995, 2005, 2015])\n",
    "\n",
    "plt.show()"
   ]
  },
  {
   "cell_type": "markdown",
   "id": "4a726cc4-7e69-4298-be79-1e5c939a5b45",
   "metadata": {},
   "source": [
    "***\n",
    "<span style=\"color:gold\">**¿Con qué frecuencia ocurrieron terremotos en cada mes? ¿Qué mes tiene la mayor frecuencia de terremotos?**</span>\n",
    "\n",
    "Para observar la frecuencia de terremotos por mes, usaremos nuevamente un **diagrama de barras**.\\\n",
    "Para determinar la **frecuencia de terremotos por mes**, tendremos que agrupar los datos de acuerdo al mes en que ocurrieron.\\\n",
    "Empezaremos extrayendo el mes de ocurrencia de cada terremoto. Usaremos el atributo `month` de la columna `Fecha`, y lo asignaremos a una nueva columna llamada `Mes`:"
   ]
  },
  {
   "cell_type": "code",
   "execution_count": null,
   "id": "0b76d885-1487-4ba4-9671-a7ef0cdc8910",
   "metadata": {},
   "outputs": [],
   "source": [
    "lima[\"Mes\"] = lima[\"Fecha\"].apply(lambda fecha: fecha.month)"
   ]
  },
  {
   "cell_type": "markdown",
   "id": "04296637-438b-4edd-924e-7e55e64e6f03",
   "metadata": {},
   "source": [
    "Revisamos los datos generales:"
   ]
  },
  {
   "cell_type": "code",
   "execution_count": null,
   "id": "88c06929-f143-40aa-a447-fc04f0019338",
   "metadata": {},
   "outputs": [],
   "source": [
    "lima.head()"
   ]
  },
  {
   "cell_type": "markdown",
   "id": "ea84b913-3c88-44f5-8d6f-0d23685026d6",
   "metadata": {},
   "source": [
    "Ahora, agruparemos los terremotos de acuerdo al mes de ocurrencia.\\\n",
    "Para esto, usaremos el método `groupby` para agrupar los datos y `count` para obtener las frecuencias por mes.\\\n",
    "Asignaremos esta información a una variable llamada `sismos`:"
   ]
  },
  {
   "cell_type": "code",
   "execution_count": null,
   "id": "149aa5c8-748c-4c9e-93ad-79f4dfb9edc2",
   "metadata": {},
   "outputs": [],
   "source": [
    "sismos = lima.groupby([\"Mes\"])[\"Mes\"].count()"
   ]
  },
  {
   "cell_type": "markdown",
   "id": "d9dd6376-18e5-4c82-ba51-19516dabfd4f",
   "metadata": {},
   "source": [
    "Crearemos una lista con los meses de ocurrencia, y otra lista con las frecuencias:"
   ]
  },
  {
   "cell_type": "code",
   "execution_count": null,
   "id": "376d1d19-0240-4a39-bc3e-d1e38bc05475",
   "metadata": {},
   "outputs": [],
   "source": [
    "mes = list(sismos.index)\n",
    "frecuencia = list(sismos.values)"
   ]
  },
  {
   "cell_type": "markdown",
   "id": "125d754d-e7b7-40cb-a42c-121706562e06",
   "metadata": {},
   "source": [
    "Ahora, crearemos el diagrama de barras usando la función `bar` y los datos `frecuencia` y `mes`:"
   ]
  },
  {
   "cell_type": "code",
   "execution_count": null,
   "id": "550885f9-719e-455c-9f0c-f94a249b889e",
   "metadata": {},
   "outputs": [],
   "source": [
    "fig, ax = plt.subplots(figsize=(12, 6))\n",
    "barra = ax.bar(mes, frecuencia, color=\"lightgreen\", alpha=0.75, edgecolor=\"black\")\n",
    "\n",
    "ax.set_title(\"Frecuencia de terremotos por mes\\n Fuente: IGP\", fontsize=22)\n",
    "\n",
    "ax.tick_params(left=False, labelleft=False, bottom=False)\n",
    "\n",
    "nombres_mes = [\"Ene\", \"Feb\", \"Mar\", \"Abr\", \"May\", \"Jun\", \"Jul\", \"Ago\", \"Sep\", \"Oct\", \"Nov\", \"Dic\"]\n",
    "plt.xticks(ticks=mes, labels=nombres_mes, fontsize=15)\n",
    "\n",
    "for spine in ax.spines.values():\n",
    "    spine.set_visible(False)\n",
    "\n",
    "for bar in barra:\n",
    "    ax.text(bar.get_x() + bar.get_width()/2,\n",
    "            bar.get_height() + 1,\n",
    "            str(int(bar.get_height())), ha=\"center\", fontsize=15)\n",
    "        \n",
    "plt.show()"
   ]
  },
  {
   "cell_type": "markdown",
   "id": "285b81b4-fb81-46dd-bc92-3f2a1e8b04ac",
   "metadata": {},
   "source": [
    "***\n",
    "<span style=\"color:gold\">**¿Cuál es la distribución de profundidad de los sismos sobre el área de Lima?**</span>\n",
    "\n",
    "Empezaremos observando la distribución de profundidad a través de un **histograma**.\\\n",
    "Usaremos la columna de `Profundidad` y la función `hist`:"
   ]
  },
  {
   "cell_type": "code",
   "execution_count": null,
   "id": "b44ca629-71d0-4d7a-a0ae-d5f639b1c2a7",
   "metadata": {},
   "outputs": [],
   "source": [
    "fig, ax = plt.subplots(figsize=(12, 5))\n",
    "ax.hist(lima[\"Profundidad\"], bins=30, color=\"lightgreen\", alpha=0.75, edgecolor=\"black\")\n",
    "ax.set_title(\"Distribución de profundidad de los sismos (en km)\", fontsize=15)\n",
    "ax.set_xticks([10*i for i in range(0, 17)])\n",
    "plt.show()"
   ]
  },
  {
   "cell_type": "markdown",
   "id": "c40824cd-948b-4bf0-9747-608a90406663",
   "metadata": {},
   "source": [
    "Podemos observar que existen dos modas de profundidad de cada sismo: el primero a 50 km y el segundo a 100 km.\\\n",
    "Vamos a separar las profundidades de acuerdo a estos límites.\\\n",
    "Usaremos una función llamada `color_profundidad` para establecer un color de acuerdo a la profundidad de ocurrencia del sismo:"
   ]
  },
  {
   "cell_type": "code",
   "execution_count": null,
   "id": "162dbce6-38a0-4144-9bb5-6c1403b2bcd0",
   "metadata": {},
   "outputs": [],
   "source": [
    "def color_profundidad(profundidad):\n",
    "    if profundidad <= 50:\n",
    "        return \"red\"\n",
    "    elif 50 < profundidad <= 100:\n",
    "        return \"gold\"\n",
    "    elif profundidad > 100:\n",
    "        return \"lightgreen\""
   ]
  },
  {
   "cell_type": "markdown",
   "id": "099f77e1-d54f-4515-b449-5280f1f5b446",
   "metadata": {},
   "source": [
    "Aplicando la función a la columna `Profundidad` y asignando el resultado a una nueva columna llamada `Color`:"
   ]
  },
  {
   "cell_type": "code",
   "execution_count": null,
   "id": "715dc247-5071-4062-8eef-1cb512ab2d7e",
   "metadata": {},
   "outputs": [],
   "source": [
    "lima[\"Color\"] = lima[\"Profundidad\"].apply(color_profundidad)"
   ]
  },
  {
   "cell_type": "markdown",
   "id": "dd7b4c05-a1bc-4b7f-8dba-4f19d5499395",
   "metadata": {},
   "source": [
    "Observamos los datos generales:"
   ]
  },
  {
   "cell_type": "code",
   "execution_count": null,
   "id": "a8a764e3-ee17-4a00-96e4-1d5fe67b6005",
   "metadata": {},
   "outputs": [],
   "source": [
    "lima.head()"
   ]
  },
  {
   "cell_type": "markdown",
   "id": "c918d79a-1095-49b1-a915-6fe8d6a3e6b3",
   "metadata": {},
   "source": [
    "Y ahora, graficaremos la distribución de profundidad usando un **diagrama de dispersión** y agregaremos los datos de color generados anteriormente:"
   ]
  },
  {
   "cell_type": "code",
   "execution_count": null,
   "id": "f33624cc-d12d-4e23-8e66-3c8c53c847ab",
   "metadata": {},
   "outputs": [],
   "source": [
    "fig, ax = plt.subplots(figsize=(8, 8), subplot_kw={\"aspect\": 1})\n",
    "ax.scatter(x=lima[\"Longitud\"], y=lima[\"Latitud\"], color=lima[\"Color\"], s=5)\n",
    "\n",
    "for ciudad, coordenada in ciudades.items():\n",
    "    ax.scatter(coordenada[1], coordenada[0], c=\"b\")\n",
    "    ax.annotate(ciudad, coordenada[::-1], fontsize=14)\n",
    "\n",
    "ax.set_title(\"Distribución de profundidad de sismos\\n alrededor de Lima (Radio de 150 km)\", fontsize=18)\n",
    "ax.set_xlabel(\"Longitud (°)\", fontsize=15)\n",
    "ax.set_ylabel(\"Latitud (°)\", fontsize=15)\n",
    "\n",
    "ax.grid(linewidth=0.5, alpha=0.5)\n",
    "\n",
    "for color, label in [(\"red\", \"Menor a 50 km\"), (\"gold\", \"Entre 50 y 100 km\"), (\"lightgreen\", \"Mayor a 100 km\")]:\n",
    "   ax.scatter([], [], color=color, label=label)\n",
    "\n",
    "ax.legend(loc=\"upper right\", fontsize=12)\n",
    "\n",
    "plt.show()"
   ]
  },
  {
   "cell_type": "markdown",
   "id": "127ad851-e02d-4430-a336-e7b90ab45859",
   "metadata": {},
   "source": [
    "***"
   ]
  },
  {
   "cell_type": "markdown",
   "id": "f49187de-0762-443d-ac1d-e2ee54197725",
   "metadata": {},
   "source": [
    "<a id=\"parte-4\"></a>"
   ]
  },
  {
   "cell_type": "markdown",
   "id": "7ad357ab-1302-428c-a2b5-fc49b330d618",
   "metadata": {},
   "source": [
    "### <span style=\"color:lightgreen\">**Visualización 3D con `Plotly`**</span>\n",
    "***\n",
    "Crearemos una función `cat_profundidad` que establezca un valor categórico de acuerdo a la profundidad de ocurrencia del sismo:"
   ]
  },
  {
   "cell_type": "code",
   "execution_count": null,
   "id": "f9e701b7-377e-4b70-a385-f793b726ad90",
   "metadata": {},
   "outputs": [],
   "source": [
    "def cat_profundidad(profundidad):\n",
    "    if profundidad <= 50:\n",
    "        return \"Menor a 50 Km\"\n",
    "    elif 50 < profundidad <= 100:\n",
    "        return \"Entre 50 y 100 Km\"\n",
    "    else:\n",
    "        return \"Mayor a 100 Km\""
   ]
  },
  {
   "cell_type": "markdown",
   "id": "ea8dbec2-7b7d-4f6e-af96-d4d3741b7d6c",
   "metadata": {},
   "source": [
    "Aplicamos la función en la columna `Profundidad` y asignamos el resultado a una nueva columna llamada `Categoría`:"
   ]
  },
  {
   "cell_type": "code",
   "execution_count": null,
   "id": "d47084f6-f54f-425a-980a-25024807fd9c",
   "metadata": {},
   "outputs": [],
   "source": [
    "lima[\"Categoría\"] = lima[\"Profundidad\"].apply(cat_profundidad)"
   ]
  },
  {
   "cell_type": "code",
   "execution_count": null,
   "id": "c9b2ce4b-692d-4930-9193-4123c086d479",
   "metadata": {},
   "outputs": [],
   "source": [
    "# Mostramos 5 filas aleatorias\n",
    "lima.sample(5)"
   ]
  },
  {
   "cell_type": "markdown",
   "id": "c9d0ba32-03d5-4885-86cf-0ab7e1b3a3cd",
   "metadata": {},
   "source": [
    "Para terminar, visualizaremos la información en 3D usando `plotly`, una librería de visualización interactiva:"
   ]
  },
  {
   "cell_type": "code",
   "execution_count": null,
   "id": "e0b3bd46-7d6f-4c8a-97f3-9210d623ca49",
   "metadata": {},
   "outputs": [],
   "source": [
    "import plotly.express as px\n",
    "\n",
    "fig = px.scatter_3d(data_frame=lima, x=\"Longitud\", y=\"Latitud\", z=lima[\"Profundidad\"]*-1, color=lima[\"Categoría\"],\n",
    "                    color_discrete_map={\"Menor a 50 Km\": \"red\", \"Entre 50 y 100 Km\": \"orange\", \"Mayor a 100 Km\": \"blue\"})\n",
    "\n",
    "fig.update_layout(\n",
    "    autosize=False,\n",
    "    legend = dict(bgcolor=\"white\", title=\"Profundidad\", itemsizing=\"constant\"),\n",
    "    width=750,\n",
    "    height=500,\n",
    "    margin=dict(l=50,\n",
    "                r=50,\n",
    "                b=50,\n",
    "                t=50,\n",
    "                pad=4\n",
    "               ),\n",
    "    paper_bgcolor=\"LightSteelBlue\",\n",
    "    scene=dict(xaxis_title=\"Longitud\",\n",
    "               yaxis_title=\"Latitud\",\n",
    "               zaxis_title=\"Profundidad\")\n",
    ")\n",
    "\n",
    "fig.update_traces(marker={\"size\": 1.5})\n",
    "\n",
    "fig.show()"
   ]
  },
  {
   "cell_type": "markdown",
   "id": "92f6f710-3530-471d-8b1b-a9cd29991634",
   "metadata": {},
   "source": [
    "***"
   ]
  }
 ],
 "metadata": {
  "kernelspec": {
   "display_name": "Python 3 (ipykernel)",
   "language": "python",
   "name": "python3"
  },
  "language_info": {
   "codemirror_mode": {
    "name": "ipython",
    "version": 3
   },
   "file_extension": ".py",
   "mimetype": "text/x-python",
   "name": "python",
   "nbconvert_exporter": "python",
   "pygments_lexer": "ipython3",
   "version": "3.11.5"
  }
 },
 "nbformat": 4,
 "nbformat_minor": 5
}
