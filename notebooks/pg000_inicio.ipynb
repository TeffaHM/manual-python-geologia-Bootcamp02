{
 "cells": [
  {
   "cell_type": "markdown",
   "id": "88d1867c-0e40-44ba-905a-ee94950f9fd2",
   "metadata": {
    "incorrectly_encoded_metadata": "deletable=true editable=true tags=[] jp-MarkdownHeadingCollapsed=true"
   },
   "source": [
    "<span style=\"color:gold; font-size:30px\">**Bienvenido a Python para Geólogos!!!**</span>\n",
    "\n",
    "<span style=\"color:#43c6ac;font-size:20px\">**Versión: 2.1 (Septiembre 2023)**</span>\n",
    "\n",
    "<span style=\"font-size:20px\"> **Autor: Kevin Alexander Gómez** </span>\n",
    "\n",
    "***\n",
    "Este proyecto académico fue creado con la finalidad de <span style=\"color:lightgreen\">facilitar el aprendizaje</span> en Python para estudiantes y profesionales en el campo de la Geología y ramas afines.\n",
    "\n",
    "Desarrollando un <span style=\"color:lightgreen\">pensamiento algorítmico</span>, aprenderás a usar código en Python para la solución de problemas en Geología.\n",
    "\n",
    "\n",
    "***\n",
    "### Para ejecutar un bloque de código, presiona las teclas `Shift + Enter`:"
   ]
  },
  {
   "cell_type": "code",
   "execution_count": null,
   "id": "61a2d059-c9ee-4e2b-92bd-e2e321dc1650",
   "metadata": {},
   "outputs": [],
   "source": [
    "2 + 2"
   ]
  },
  {
   "cell_type": "code",
   "execution_count": null,
   "id": "b8382707-542c-4485-88f0-ecbdffbf18e7",
   "metadata": {},
   "outputs": [],
   "source": [
    "5 * 5"
   ]
  },
  {
   "cell_type": "code",
   "execution_count": null,
   "id": "9a52b750-6ff4-449f-a955-5f4e81ae8549",
   "metadata": {},
   "outputs": [],
   "source": [
    "print(\"Hola Python!!!\")"
   ]
  },
  {
   "cell_type": "markdown",
   "id": "9fc6c43e-4d96-4d8f-951d-cd0d238112f4",
   "metadata": {
    "editable": true,
    "tags": []
   },
   "source": [
    "***\n",
    "## <span style=\"color:gold\">**Índice (elige un tema para aprender)**</span>\n",
    "Todos los cursos y tutoriales están disponibles dentro del repositorio como notebooks de Jupyter en formato `ipynb`.\n",
    "\n",
    "- Fundamentos de programación geológica\n",
    "  - [PG001 - Fundamentos de Python](pg001_fundamentos.ipynb)\n",
    "    - [Variables geológicas](pg001a_variables.ipynb)\n",
    "    - [¿Cómo mostrar un resultado en Python?](pg001b_print.ipynb)\n",
    "    - [Lógica computacional](pg001c_logica.ipynb)\n",
    "    - [Estructuras de datos](pg001d_estructuras.ipynb)\n",
    "    - [Automatización de tareas en Geología](pg001e_automatizacion.ipynb)\n",
    "    - [Programación orientada a objetos](pg001f_clases.ipynb)\n",
    "  - [PG002 - Librerías fundamentales de Python](pg002_librerias.ipynb)\n",
    "    - [Numpy](pg002a_numpy.ipynb)\n",
    "    - [Pandas](pg002b_pandas.ipynb)\n",
    "    - [Matplotlib](pg002c_matplotlib.ipynb)\n",
    "    - [Interactividad en Python](pg002d_interactividad.ipynb)\n",
    "    - [Midiendo el tiempo con Python](pg002e_tiempo.ipynb)\n",
    "  - [PG003 - Librerías de automatización](pg003_automatizacion.ipynb)\n",
    "    - [Procesando PDFs en Python](pg003a_pypdf.ipynb)\n",
    "  - [PG099 - Ejercicios de programación geológica](pg099_ejercicios.ipynb)\n",
    "  - [PG099 - Ejercicios de programación geológica (Solucionario)](pg099_solucionario.ipynb)\n",
    "- Estadística y Matemática\n",
    "  - [PG101 - Fundamentos de Estadística](pg101_estadistica.ipynb)\n",
    "    - [Estadística descriptiva](pg101a_estadistica_descriptiva.ipynb)\n",
    "    - [Variables aleatorias](pg101b_variables_aleatorias.ipynb)\n",
    "    - Estadística inferencial\n",
    "    - [Bootstrap](pg101d_bootstrap.ipynb)\n",
    "  - [PG102 - Análisis de datos en Geología](pg102_analisis.ipynb)\n",
    "    - [Análisis descriptivo](pg102a_analisis_descriptivo.ipynb)\n",
    "    - [Análisis exploratorio de datos](pg102b_eda.ipynb)\n",
    "    - [Análisis inferencial](pg102c_analisis_inferencial.ipynb)\n",
    "  - [PG103 - Visualización de datos en Geología](pg103_visualizacion.ipynb)\n",
    "    - [Seaborn](pg103a_seaborn.ipynb)\n",
    "    - [Visualización de datos](pg103b_visualizacion_datos.ipynb)\n",
    "    - [<span style=\"color:lightgreen\">Visualización de sondajes en 3D</span>](pg103c_sondajes3d.ipynb)\n",
    "    - [Visualización de un modelo de bloques en 3D](pg103d_bloques3d.ipynb)\n",
    "- Ciencia de datos y Machine Learning\n",
    "  - [PG200 - Fundamentos de Machine Learning](pg200_machinelearning.ipynb)\n",
    "  - [PG201 - Aprendizaje supervisado](pg201_supervised.ipynb)\n",
    "    - Regresión lineal y logística\n",
    "    - [Árboles de decisión (DT)](pg201b_decisiontree.ipynb)\n",
    "    - Random Forest (RF)\n",
    "    - Support Vector Machine (SVM)\n",
    "  - [PG202 - Aprendizaje no supervisado](pg202_unsupervised.ipynb)\n",
    "    - Análisis de componentes principales (PCA)\n",
    "    - Clustering con K-means\n",
    "- Aplicaciones en Geología\n",
    "  - [PG301 - Geoestadística](pg301_geoestadistica.ipynb)\n",
    "    - [Introducción al Variograma](pg301a_variograma.ipynb)\n",
    "    - [<span style=\"color:lightgreen\">Variograma 1D</span>](pg301b_variograma1d.ipynb)\n",
    "    - [Declustering](pg301c_declustering.ipynb)\n",
    "  - [PG302 - Geoquímica](pg302_geoquimica.ipynb)\n",
    "    - [Pyrolite](pg302a_pyrolite.ipynb)\n",
    "    - Diagrama de clasificación QAP\n",
    "  - [PG303 - Análisis geoespacial](pg303_geoespacial.ipynb)\n",
    "    - [Shapely](pg303a_shapely.ipynb)\n",
    "    - [Geopandas](pg303b_geopandas.ipynb)\n",
    "    - [Rioxarray](pg303c_rioxarray.ipynb)\n",
    "    - [Leafmap](pg303d_leafmap.ipynb)\n",
    "  - [PG304 - Geofísica](pg304_geofisica.ipynb)\n",
    "    - [Visualización de registros de pozo](pg304a_pozos.ipynb)\n",
    "  - [PG305 - Estratigrafía y Sedimentología](pg305_estratigrafia.ipynb)\n",
    "    - [StratiLib - Columnas estratigráficas](pg305a_stratilib.ipynb)\n",
    "  - [PG306 - Geología estructural](pg306_estructural.ipynb)\n",
    "    - [Mplstereonet](pg306a_mplstereonet.ipynb)\n",
    "  - [PG307 - Geotecnia](pg307_geotecnia.ipynb)\n",
    "    - [Estimación de la probabilidad de fallo en un talud](pg307a_simulacion_montecarlo.ipynb)\n",
    "\n",
    "\n",
    "\n",
    "### <span style=\"color:gold\">Plantillas de trabajo</span>\n",
    "- [<span style=\"color:lightgreen\">Plantilla para visualizar sondajes en 3D</span>](plantilla_sondaje3d.ipynb)\n",
    "\n",
    "\n",
    "***\n",
    "### <span style=\"color:gold\">Referencias</span>\n",
    "- Barbieri, R., Garelik, C. (2022). [La matemática y las geociencias](https://editorial.unrn.edu.ar/index.php/catalogo/346/view_bl/62/lecturas-de-catedra/106/la-matematica-y-las-geociencias?tab=getmybooksTab&is_show_data=1). Editorial UNRN (pp. 15 y 136).\n",
    "- GEOROC (2023). [Geochemistry of Rocks of the Oceans and Continents](https://georoc.mpch-mainz.gwdg.de/georoc/Start.asp). Geoscience Centre Göttingen, Germany.\n",
    "- Mälicke, M. (2022). [SciKit-GStat 1.0: a SciPy-flavored geostatistical variogram estimation toolbox written in Python](https://gmd.copernicus.org/articles/15/2505/2022). European Geosciences Union, Volume 15, issue 6. Institute for Water and River Basin Management, Karlsruhe Institute of Technology (KIT), Karlsruhe, Germany.\n",
    "- Marsden, Eric. (2021). [Monte Carlo simulation for estimating slope failure risk](https://risk-engineering.org/notebook/monte-carlo-slope-stability.html).\n",
    "- Merlino, Rubens (2022). [Stratilib](https://github.com/rubensdmp/stratilib).\n",
    "- Petrelli, M. (2021). [Introduction to Python in Earth Science Data Analysis](https://link.springer.com/book/10.1007/978-3-030-78055-5). Repositorio en [Github](https://github.com/petrelli-m/python_earth_science_book).\n",
    "- Pyrcz, M. (2021). [Python Numerical Demos](https://github.com/GeostatsGuy/PythonNumericalDemos).\n",
    "- Suarez-Burgoa, L. (2017). [Matematización de la geología](https://www.researchgate.net/publication/313464003_Matematizacion_de_la_geologia). Boletín de Ciencias de la Tierra 41 (pp. 30 - 38). Universidad Nacional de Colombia.\n",
    "- Trauth, M. (2022). [Python Recipes for Earth Sciences](https://link.springer.com/book/10.1007/978-3-031-07719-7). Institute of Geosciences, University of Potsdam, Potsdam, Brandenburg, Germany.\n",
    "- Wu, Qiusheng (2023). [Leafmap Geopython Tutorials](https://www.youtube.com/watch?v=-UPt7x3Gn60&list=PLAxJ4-o7ZoPeMITwB8eyynOG0-CY3CMdw)."
   ]
  },
  {
   "cell_type": "markdown",
   "id": "5b4ca469-6fbc-4e71-9741-676e56afdfdb",
   "metadata": {},
   "source": [
    "***"
   ]
  }
 ],
 "metadata": {
  "jupytext": {
   "formats": "ipynb,md"
  },
  "kernelspec": {
   "display_name": "Python 3 (ipykernel)",
   "language": "python",
   "name": "python3"
  },
  "language_info": {
   "codemirror_mode": {
    "name": "ipython",
    "version": 3
   },
   "file_extension": ".py",
   "mimetype": "text/x-python",
   "name": "python",
   "nbconvert_exporter": "python",
   "pygments_lexer": "ipython3",
   "version": "3.11.5"
  }
 },
 "nbformat": 4,
 "nbformat_minor": 5
}
